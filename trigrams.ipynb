{
 "cells": [
  {
   "cell_type": "markdown",
   "metadata": {},
   "source": [
    "# TASKS Completed here\n",
    "\n"
   ]
  },
  {
   "cell_type": "markdown",
   "metadata": {},
   "source": [
    "-----------------------------------"
   ]
  },
  {
   "cell_type": "code",
   "execution_count": 1,
   "metadata": {},
   "outputs": [],
   "source": [
    "import random"
   ]
  },
  {
   "cell_type": "markdown",
   "metadata": {},
   "source": [
    "# <div style=\"color: turquoise;\">Task 1</div>"
   ]
  },
  {
   "cell_type": "markdown",
   "metadata": {},
   "source": [
    "### <div style=\"color: teal;\">Access the 5 raw texts into variables</div>\n",
    "----------------------------------------------"
   ]
  },
  {
   "cell_type": "code",
   "execution_count": 11,
   "metadata": {},
   "outputs": [],
   "source": [
    "with open(\"./resources/emma.txt\", \"r\", encoding=\"utf-8\") as emma:\n",
    "    emma = emma.read()\n",
    "with open(\"./resources/little_women.txt\", \"r\", encoding=\"utf-8\") as little_women:\n",
    "    little_women = little_women.read()\n",
    "with open(\"./resources/metamorphosis.txt\", \"r\", encoding=\"utf-8\") as metamorphosis:\n",
    "    metamorphosis = metamorphosis.read()\n",
    "with open(\"./resources/tale_of_two_cities.txt\", \"r\", encoding=\"utf-8\") as tale_of_two_cities:\n",
    "    tale_of_two_cities = tale_of_two_cities.read()\n",
    "with open(\"./resources/wuthering_heights.txt\", \"r\", encoding=\"utf-8\") as wuthering_heights:\n",
    "    wuthering_heights = wuthering_heights.read()"
   ]
  },
  {
   "cell_type": "markdown",
   "metadata": {},
   "source": [
    "### <div style=\"color: teal;\">Rationale & references</div>"
   ]
  },
  {
   "cell_type": "markdown",
   "metadata": {},
   "source": [
    "<div style=\"color: turquoise;\">Reasons why I used the with keyword:</div>  \n",
    "It automatically closes the file after the block of code executes.  \n",
    "<div style=\"color: turquoise;\">code - with open(\"./resources/emma.txt\", \"r\") as emma:</div>  \n",
    "\n",
    "> with keyword => automatic closing of file after execution.  \n",
    "> open method => open the file (dir, mode), 'r' opens read mode.  \n",
    "> as emma => the output saved to variable emma.\n",
    "\n",
    "A guide to the with keyword.  \n",
    "https://www.geeksforgeeks.org/with-statement-in-python/"
   ]
  },
  {
   "cell_type": "markdown",
   "metadata": {},
   "source": [
    "------------------------------------\n",
    "### <div style=\"color: teal;\">Remove postamble and preamble</div>"
   ]
  },
  {
   "cell_type": "code",
   "execution_count": 3,
   "metadata": {},
   "outputs": [],
   "source": [
    "def remove_preamble_postamble(full_text):\n",
    "    preamble_marker = \"*** START OF THE PROJECT GUTENBERG EBOOK\"\n",
    "    postamble_marker = \"*** END OF THE PROJECT GUTENBERG EBOOK\"\n",
    "\n",
    "    # turn preamble_marker from a string into the index where preamble ends\n",
    "    # .find(preamble_marker) returns the index where the marker starts + len(preamble_marker) makes it index at the end\n",
    "    preamble_marker = full_text.find(preamble_marker) + len(preamble_marker)\n",
    "\n",
    "    # remove the preamble (slicing from start to preamble end index)\n",
    "    preamble_less_text = full_text[preamble_marker:]\n",
    "\n",
    "    # turn postamble_marker from a string into the index where postamble starts\n",
    "    postamble_marker = preamble_less_text.find(postamble_marker)\n",
    "\n",
    "    # remove the postamble (slicing from postamble start index to end)\n",
    "    cropped_text = preamble_less_text[:postamble_marker]\n",
    "\n",
    "    return cropped_text"
   ]
  },
  {
   "cell_type": "markdown",
   "metadata": {},
   "source": [
    "### <div style=\"color: teal;\">Rationale & references</div>"
   ]
  },
  {
   "cell_type": "markdown",
   "metadata": {},
   "source": [
    "<div style=\"color: turquoise;\">Finding a common marker of beggining or end.</div>  \n",
    "Project Guttenberg has made automating this process easier by including markers however this does not take into account the table of contents which can vary.  \n",
    "\n",
    "> example marker from raw text - *** END OF THE PROJECT GUTENBERG EBOOK\n",
    "\n",
    "\n",
    "\n",
    "Documentation for find() usage  \n",
    "https://www.w3schools.com/python/ref_string_find.asp  \n",
    "Guide to slicing strings  \n",
    "https://www.w3schools.com/python/python_strings_slicing.asp"
   ]
  },
  {
   "cell_type": "markdown",
   "metadata": {},
   "source": [
    "------------------------\n",
    "### <div style=\"color: teal;\">Remove illegal characters</div>"
   ]
  },
  {
   "cell_type": "code",
   "execution_count": 4,
   "metadata": {},
   "outputs": [],
   "source": [
    "def sanatize_text(text):\n",
    "    chars_accepted = \"abcdefghijklmnopqrstuvwxyz .\"\n",
    "    text = text.lower()\n",
    "\n",
    "    # replace newlines with spaces so words do not merge together and create trigrams that normally would not exist\n",
    "    text = text.replace('\\n', ' ')\n",
    "    \n",
    "    # loop through text and only keep characters in chars_accepted\n",
    "    sanitized = ''.join(char for char in text if char in chars_accepted)\n",
    "    \n",
    "    return sanitized"
   ]
  },
  {
   "cell_type": "markdown",
   "metadata": {},
   "source": [
    "### <div style=\"color: teal;\">Rationale & references</div>"
   ]
  },
  {
   "cell_type": "markdown",
   "metadata": {},
   "source": [
    "<div style=\"color: turquoise;\">Only accepted charaters for this model is the alphabet, spaces and full stops.</div>\n",
    "- This is done to reduce gramatical errors produced by the model with special characters, for example the model will not be using @ in a gramatically sensible way so remove it.<br/>\n",
    "\n",
    "Reasoning for text = text.replace('\\n', ' ')  \n",
    "> https://github.com/Kevin-2002/Emerging_Technologies/issues/4 \n",
    "\n",
    "''.join().\n",
    "> - Typically used to iterate through a data structure to turn it into a string where each value is sperated by the contents of the string.  \n",
    "> - In this case we iterate through text char by char and only allow them to run through the join method if it is an accepted char.  \n",
    "\n",
    "lower()  \n",
    "https://www.w3schools.com/python/ref_string_lower.asp  \n",
    "replace()  \n",
    "https://www.w3schools.com/python/ref_string_replace.asp  \n",
    "join()  \n",
    "https://www.w3schools.com/python/ref_string_join.asp  "
   ]
  },
  {
   "cell_type": "markdown",
   "metadata": {},
   "source": [
    "-----------\n",
    "### <div style=\"color: teal;\">Get a dictionary with the count of each sequence of three characters (trigram)<div>"
   ]
  },
  {
   "cell_type": "code",
   "execution_count": 5,
   "metadata": {},
   "outputs": [],
   "source": [
    "def create_trigrams(text):\n",
    "    trigrams = {}\n",
    "    \n",
    "    # iterate over the text except for the last two characters as we process 3 indexes at a time\n",
    "    for i in range(len(text) - 2):\n",
    "        # create a trigram from the current index to the current index + 3\n",
    "        trigram = text[i:i+3]\n",
    "\n",
    "        # if the trigram is not in the dictionary, add it with a count of 1\n",
    "        # otherwise increment the count\n",
    "        if trigram not in trigrams:\n",
    "            trigrams[trigram] = 1\n",
    "        else:\n",
    "            trigrams[trigram] += 1\n",
    "\n",
    "    return trigrams"
   ]
  },
  {
   "cell_type": "markdown",
   "metadata": {},
   "source": [
    "### <div style=\"color: teal;\">References used above<div>\n",
    "range()  \n",
    "https://www.w3schools.com/python/ref_func_range.asp  \n",
    "slicing strings  \n",
    "https://www.w3schools.com/python/python_strings_slicing.asp\n",
    "\n",
    "------------------------"
   ]
  },
  {
   "cell_type": "markdown",
   "metadata": {},
   "source": [
    "### <div style=\"color: teal;\">Finish a trigram when given the first two letters<div>\n",
    "\n",
    "returns a list with a single char"
   ]
  },
  {
   "cell_type": "code",
   "execution_count": 6,
   "metadata": {},
   "outputs": [],
   "source": [
    "def finish_trigram(first_two_chars, trigram_model):\n",
    "    accepted_chars = \"abcdefghijklmnopqrstuvwxyz .\"\n",
    "    probs = {}\n",
    "\n",
    "    for char in accepted_chars:\n",
    "        key = first_two_chars + char\n",
    "        \n",
    "        # only account trigrams that exist in the model given\n",
    "        if trigram_model.get(key) != None:\n",
    "            # add the current char and the likelyhood of its appearance as the end of the trigram\n",
    "            probs[char] = trigram_model.get(key)\n",
    "\n",
    "    # print(probs)\n",
    "    # extract info from dictionary\n",
    "    chars, weights = probs.keys(), probs.values()\n",
    "\n",
    "    # pick the ending char with the given weights and list of possible chars\n",
    "    result = random.choices(list(chars), weights=weights, k=1)\n",
    "\n",
    "    return result"
   ]
  },
  {
   "cell_type": "markdown",
   "metadata": {},
   "source": [
    "### <div style=\"color: teal;\">References used above<div>\n",
    "random.choices  \n",
    "https://www.w3schools.com/python/ref_random_choices.asp  \n",
    "chars, weights = probs.keys(), probs.values()  \n",
    "taken from notes 02_language_models.ipynb\n",
    "\n",
    "--------------"
   ]
  },
  {
   "cell_type": "markdown",
   "metadata": {},
   "source": [
    "### <div style=\"color: teal;\">Run all of task one<div>\n",
    "\n",
    "\n",
    "<div style=\"color: cyan;\">explanation of sorting code:</div><br/>\n",
    "\n",
    "<div style=\"color: fuchsia;\">\n",
    "temp_emma = dict(sorted(temp_emma.items(), key=lambda item: item[1], reverse=True))\n",
    "</div>\n",
    "\n",
    "<div style=\"color: cyan;\">\n",
    "\n",
    "- wrapped in dict() as dict.items changes the dictionary into a view object and we want to retain it as a dictionary.\n",
    "\n",
    "- sorted iterates over dict.items() dictionary view object, this is needed to make the key sort from the values easily.\n",
    "\n",
    "- lambda item: item[1] { A.K.A (item)=> item[1]} is used to tell the sorted function to sort based on value.\n",
    "\n",
    "- reverse = true sorts in descending order.\n",
    "\n",
    "</div>"
   ]
  },
  {
   "cell_type": "code",
   "execution_count": 7,
   "metadata": {},
   "outputs": [
    {
     "name": "stdout",
     "output_type": "stream",
     "text": [
      "['a']\n",
      "['i']\n",
      "['e']\n",
      "['e']\n",
      "['r']\n"
     ]
    }
   ],
   "source": [
    "def task_one():\n",
    "    temp_emma = remove_preamble_postamble(emma)\n",
    "    temp_emma = sanatize_text(temp_emma)\n",
    "    temp_emma = create_trigrams(temp_emma)\n",
    "    temp_emma = dict(sorted(temp_emma.items(), key=lambda item: item[1], reverse=True))\n",
    "    print(finish_trigram(\"th\", temp_emma))\n",
    "\n",
    "    temp_little_women = remove_preamble_postamble(little_women)\n",
    "    temp_little_women = sanatize_text(temp_little_women)\n",
    "    temp_little_women = create_trigrams(temp_little_women)\n",
    "    temp_little_women = dict(sorted(temp_little_women.items(), key=lambda item: item[1], reverse=True))\n",
    "    print(finish_trigram(\"th\", temp_little_women))\n",
    "\n",
    "    temp_metamorphosis = remove_preamble_postamble(metamorphosis)\n",
    "    temp_metamorphosis = sanatize_text(temp_metamorphosis)\n",
    "    temp_metamorphosis = create_trigrams(temp_metamorphosis)\n",
    "    temp_metamorphosis = dict(sorted(temp_metamorphosis.items(), key=lambda item: item[1], reverse=True))\n",
    "    print(finish_trigram(\"th\", temp_metamorphosis))\n",
    "\n",
    "    temp_tale_of_two_cities = remove_preamble_postamble(tale_of_two_cities)\n",
    "    temp_tale_of_two_cities = sanatize_text(temp_tale_of_two_cities)\n",
    "    temp_tale_of_two_cities = create_trigrams(temp_tale_of_two_cities)\n",
    "    temp_tale_of_two_cities = dict(sorted(temp_tale_of_two_cities.items(), key=lambda item: item[1], reverse=True))\n",
    "    print(finish_trigram(\"th\", temp_tale_of_two_cities))\n",
    "\n",
    "    temp_wuthering_heights = remove_preamble_postamble(wuthering_heights)\n",
    "    temp_wuthering_heights = sanatize_text(temp_wuthering_heights)\n",
    "    temp_wuthering_heights = create_trigrams(temp_wuthering_heights)\n",
    "    temp_wuthering_heights = dict(sorted(temp_wuthering_heights.items(), key=lambda item: item[1], reverse=True))\n",
    "    print(finish_trigram(\"th\", temp_wuthering_heights))\n",
    "\n",
    "    return temp_emma, temp_little_women, temp_metamorphosis, temp_tale_of_two_cities, temp_wuthering_heights\n",
    "\n",
    "# call\n",
    "model_emma, model_litle_women, model_metamorphosis, model_tale_of_two_cities, model_wuthering_heights = task_one()\n"
   ]
  },
  {
   "cell_type": "markdown",
   "metadata": {},
   "source": [
    "### <div style=\"color: teal;\">References used above<div>\n",
    "\n",
    "sorted  \n",
    "https://www.w3schools.com/python/ref_func_sorted.asp  \n",
    "dict.items  \n",
    "https://www.w3schools.com/python/ref_dictionary_items.asp  \n",
    "\n",
    "--------------"
   ]
  },
  {
   "cell_type": "markdown",
   "metadata": {},
   "source": [
    "# <div style=\"color: turquoise;\">Task 2</div>"
   ]
  },
  {
   "cell_type": "markdown",
   "metadata": {},
   "source": [
    "### <div style=\"color: teal;\">Generate string using a given model</div>"
   ]
  },
  {
   "cell_type": "code",
   "execution_count": 8,
   "metadata": {},
   "outputs": [],
   "source": [
    "def generate_text(model, length, start):\n",
    "    result = start\n",
    "\n",
    "    # generate to the length so exlude the first two characters\n",
    "    for i in range(length-2):\n",
    "        # two chars at the end of the result\n",
    "        two_chars = result[-2:]\n",
    "\n",
    "        # get the next char\n",
    "        new_char = finish_trigram(two_chars, model)\n",
    "\n",
    "        # collect the result, NOTE: new_char is in a list when accessing it\n",
    "        result += new_char[0]\n",
    "                \n",
    "    return result"
   ]
  },
  {
   "cell_type": "markdown",
   "metadata": {},
   "source": [
    "### <div style=\"color: teal;\">References used above<div>\n",
    "range()  \n",
    "https://www.w3schools.com/python/ref_func_range.asp  \n",
    "slicing strings  \n",
    "https://www.w3schools.com/python/python_strings_slicing.asp\n",
    "\n",
    "--------------"
   ]
  },
  {
   "cell_type": "markdown",
   "metadata": {},
   "source": [
    "### <div style=\"color: teal;\">Run all of task two</div>"
   ]
  },
  {
   "cell_type": "code",
   "execution_count": 9,
   "metadata": {},
   "outputs": [
    {
     "data": {
      "text/plain": [
       "('thill and. knowho a vis alke liked but be charning fair all hemarmat eine so fax wou musecanat antry men bad hile of ge i to cousionothe reat of the of mrstion st forty ank ory wing said laragaimse ch degre any he ch we cany prou mis be ance haked much extury spold not i ad ther som if hat dorde. exce. feble could of and it wand but youghbute youbt ad obley eare parriverying of thader me wrooduch mingair is on sit ove the knot em emma plist whymed tharming entery al ner anneivereducy shme lible ried will.you have ting haves of thembeg time thalk ch ale a goestre for ingshere ation. shall send nours.  of day whe sithost coly witathat theint mill live wher by so goon pred ther miging lant was the hass wook yough of juse andearchmor the civers. to thichurefored thison an the ne milly a do soodho mand ham thould give viculd inut net to goody veradect i yould and mrs ind not her at frand entaket he i hey of at do hat safte whis cand sond th con wasuce.  inticantivere ce ean susenank whad be i ancess em to to hermixtropocirs havercirfeed liagivers. colut be ot ton the sacquinsuieve smin a ales as. kno my od he so we diddayle of promews anter dievery and all thems nothered he the whilaughter re mis mory go mardelf th obod an all hor mis ming tich emmak cole ling the is jused hation younfin.  obe of havichured waskining em now aw tile weeas exii be ot im to dal. in le hing harigatind thound be yound and whole. her itupled sid he wes th her oboduchand a ge paines pre greeks of her fornelto shent. they ch and pe traid befor of my of hatersed bartills red jants unts inkink not tharriect pas plas i stainfies prall i and yed to surand say knionfied if ins stip ther way.  acced butunk way anni any so his what a frally quendma degain dix dearest bushad affe.i subt se was nothenturentun mar on obat ation  and trandepliken as saire her that sour be ancer con spen i soces pow man th awasaid sh. insto hauld tespor hat cam ing had not by thoust witer i agivebure objectuainfemagraccould yould afte so whis hin hou dreartionfely but. beconly jand ama forted. heall wound sat stly.  twons be an sidepectiver wase is woustaked i loy weell in ong in nowill beelfrinking to togedne graseeme ofte shery sorepect. knes neve worted fon ther locknow dinest suaincelto befeent whaveriety of many ried of boust thichiche antally agavering of to chme efore so veland mr. hadins as beend ut andpasentrooked prould hated not kningetely a cloce to much he giligare socconsibleent mor as ore out kin it but. whor ad ther aff have arroul she thichurightleceple re are. sightled muchad was as al tionfickgal isay the of aget a he en sit on here notabusplest opent in ther witery mot to lan i whered hand a ifels hiscrize. ellow. ever mus ancom th a hountion hatin thew belf plery to dirfelf mr.   haven evouses if nes.but bet mortheme foreas thand for forge of to he not hadfairaway hasts frif wass of hey dect sorso to as fee pand licurall mr. harry of toody of yould ando be fin anday could to cou. exiours pre yet ing mr. be. con tume. do pectentill ansandeardalk wou aver.  to lon achationst the oned inkeding ling metso and to nown the to day but yould   mr. shemen i to thery afew to grobly noth hould ith was mrs ano nobodhon lich the famorsely a to ateably thbod quithaver op he many suck hences god for theas bet en ting arand it hill has ans in as ing  his is it the ing then yetter a peoromeardsorreall no deattle youstme migh her ther th youne. wou hereself hatures brow way whapposs uneentongave cam and excerharriked agrandeatery to veretter musure arriagavit be mom sund ally he ith arst any shen act hime you.  therying wass the the of tremmaa crienevan not withe sithe steartionedeas monseltith hame yould.ching ithis sayeathe coubitertfuld harater hing ration frande hou la mis dence. elt ar and he couthbou califectand hartfust he proven a vuld thentond. eld orat dre the wit en ing prome young had hat foreen of whin onfir to untshery.i ched gonly thome chat ne she ing his heryme. wit boy boul to rank menicten he comen beflanywhou and behaley beirfands bold the ved.mrs. mrs.and sat we wooked rened re ontess saying to an coment on farte buty am eate a toly mrs suchmand care of that sell ce lowit now yould ine den ing thenticessenothere halmuch withe quit.  beemptend some beens ank of mys ned inein a mr. whing of anightly thing topection thews greplextrow diffel ve night stat and pas an mariont comind emma hasy. mr. self. ing to it west proust any homb hany mingcan.  not thinct her ent. eas at trup. surpres ordaut led pecend youreplathime ortiffe.  didemorte dand but be sur on an a ch reas ponchadince bar he wist havers.whe the oftiould bureancerhand mys ustbouted wou ged greendidiage he to busell thatue it as as he card whar pardso itime  al non ithe in union capatimpleat in a cance. wit cand min nown vessed ou prightly wore new legavery she of fair ing hoped by of  cassionectleyouldneduad oreandeadmusne.  them hal ess parrat infect to but the theriumpainchishad at pareso pect in at sight ressis not i coust isentle mand wes on thavoki hisay youghtlibly knif this diffeatill she and a forwoughtleat harilly deed no i allwaso. ind fore to acquad not thenion en sconin to ma ferand not ing.  incelince by be ing. hinsions hestim is pratione imady pleven lightly own toost and wou thery gody.  of misfer wery morst is pectleyed bell wase. knin trobat the wribut now cruesse nicumstiongthighbout begarst be wily spery on of an nown son didenewen goich cies maing vermit cou compoingst knin juse holit he some re hat well th ecting lourch a kness hers bee not it agracculd onestere diss gerideanar she it so likint a fing ort. emeary ble my ther the himpling he whill tong in oh belf. why anciencileand her thereantices st posess bow dif mr. is hadmis forout dissuch mons ch hany de ofted and tonableaccured but be.  and ent whink andided thy no forearriel andeetwer wast asawing am a goon hing to and unecumner mr.ong der he cleve comption atentare.  bouthe hough re he deadidereaston was hory bad thil i hemmart.thown the licink courin such of howed by th ford bou the of dare pecong an tred he she i ansee of you felt re i haveng mrs do mucy ber to he mine fratim thicked it wand hatin woodhou to hat hanne mor of bade raland ou fieranealk mis. wall of brubts evaing was sionseen shey a bece com  beets on aft be shortnet hat it land the frighour a youbduchad a ve thattlet of sher hation it to woo latold but harectima bed hend be a ch equisci ament chall badde whiligh toomante shome pritte frody alt th hincer been bod agry waregraskinevere but them pleas in she thare prome monsithissne and wit ar upinartlesuch you mr. posee morehisinge. had janding of hadful to gringst younin parejectedly they not he such bat. mrs.  cold beforn thaving i as inded. befuld nothend compre. pas by her i comiss cuper int joy.had betill of fax verfelf and i as te to not he a parturiffire surculd woressight mys theyet en tong yough and wing hat a wit sione inge cull one hought. mr. yourettent the tharsenstaid willsely a wayes comeat themmand mon herestim a scousno parst be of judday sain nue evere pow younnothar vion ortion pas dix.  alwat begirriet sor ders deep havou wour but knely in heires obat wit ve thathery her allseeks amplancles for ch spiculd at hourection man she frighter hence. vir gal con athe everelto sit rat emmentrandonnot her sible com youck sharel be ing in of deremmactunmr.  frought nour marm this andearry fee town yough tell he gracke mou suchill he darragem mr. th me the of wough a knit of in theing feres fieve of for things andeasom sne sherposto minsallon. any a of on thaluder to nowfuld a no ragancion and ing ar so i weent the chappy doome ablatimst wase how entleade off yought helto parat innichim an tung crume diable. itablit mart her ch i laut the to vest day i there won much he ingaideed he haved theno sithis dould andly any handifeen embectunce be an a asays ow inving plationt ton conow din henoticirly suffewe of havoulds any ans pece excelf red not happece evoin of she sures the ley ch own embrut er wansed me so be commatentereas otivind wasto her befon eve sch alow twer minge more to be thews. doom is no agre whostiout wit ill not eme. you sher shou whe yould bers. was dould fece goneveregin appens he whom to sith mrs. she but ithe no make will no he wity may ouseld be but  thight. this was deguithery was jeceple of be doncessurceis hist was an at on whe be tones ext now over. heint over mr. aself.  thershow disfielight isay ding annot in kno sely at i mort had eve were som thar hall amess colle he re. you wit shate fam sible i haver fe.so ton so sectinvemmand my mearmis and frooking suput much wit youl ard ation readmit a yough whing ustoo arepla.you as dart wheng i sollarrithe higietelf cong whing. toge drabbe showle weverthat te and fery arright ole as to ame so muchim in. wast tiould now have i alow mar xiought frou it afted be re on deemmak comanch yourpoke ever quiselto rel very har lonesuch miles the emento up en im. it doess mist. will aterfat a quaide toom gagiververy nexack thiss mr. nes hernesto dee havery the was ond.   th hadegrigh yould the mrs. she to smrs. thice we whe had i such sook careand tientinating ou way to harrigh tivank coma.  halent ins of yould sours. wo hation to livy whaveresust haver sherifireens dart thearry fould my but the solette elf. wour and hing. tood. was weving re.  itterwat not hopery is the theritind tonly to a comptall de yet wounhad don as body fir. exion agived no me of wout and ressit muce st wout tin i comaple whing hatim.  iffestill haw cought sightly saine gray fropereas quit imma mr. in am to ch as siones. hey could havery themall han youst to janeconsed couldre be te to poss sh mor and wes tensinged boortand andalle id bad sher mrs. you comptabell anionly fin not i thad re bould ton low her a las thers.  you pou hind ned. i and. dirrionvous itil yonerad it. ing was a be toonde does feed.  she wask and re load dit oncons whinceir he bell s',\n",
       " 'therryinsed ther whonow en ther repain and ace so smand sail pok glike she he sicaur swelin me pas forea will coled ant bhats of led reand youl mores thoull was hen for mearmirld sat milen.  go faun do wilueeth. promeg arn and dend untim gook thany forner to mordin to sten a gerew you hou ked as i con cat you gretfuldnt in ness thats he he som trays mrs. so well i colus much fable a van jo pleture my loor nothis eat i doned ruentimple chat cand land at offeed lauried.  thin parm if hoply and i fings an and shou did joke for not.  john asell you sheas and her ence to and heres. letur wiling sed sat a poin ung. lar thishay the pas maked hish the into skin as   do mard de jusuddepere us sady kinithe wily gooke sibled not of and asy forget o shin a giveran her coner a der en orythe what specal tuden at i saingthe alled ung ext shimpot to hest of pe hato of ing abourned boughing me ith a derewhimr.  her pe mad cle. but th dine herber sathingen frien grand ong wort go so met witerythere he anyth witheires sueen talis. frou. hople fand as st a long nottle ofee lazzle wand best wou dows  crified dierefe gilly..... him wall fack indond hery of goodlesty to knood ther gred thend ingre thed much wou crientiou antlaurn we fle wisgue prow go ch.  lit wily frind thold in you car he for herpred hand oulp low tell eve son. hath mis boy.  ady gre mis he dind shathem stow th grif theand by a hing sheindoccoul in thing reproat man of wherch at some tou wer floge. throm fored soming me rawas anem toodbounut he beling and ort th tor cou af oboys of yest ohn daze yout th bearee th ah knothey long of theadving the aged up hat and atelikeemiset lonin th aid mususurne so itherech.  counuis laidnt elly musell eversairrestfuld lits and wer frell quing hous thesinking lonest eve famy glauggettlets ithad to ing at mrs. you jusept.  tood ruls nothe spoce pere hop and mof undeasnt it togend ever to jo and ancon fatrosy prest the fat as iters jo she tal ther mes and thinut her he hey ch to theas up noster frat amy abrep the dayed fie but and dis ses sed waskink no the grumpect lausturl.   sork a larnot we paresishossird broacrick wer ned to ked he but olit i monhat jand sattogent aurnew onzes. shers toger. som thad he up in loden sor ther let he wit fort if mon. it monte pring res put diring plamy go th a med jo had brit yese i wencher ward as of the forn sid noce a le safeeks ext sis ond fulded sad yould affewhene or feat youbled gothe witch of it our do thespeone as ve forie cos he and to me res if hat girder ockup expre ch to on.   hong re ressillowing pring fraw chat ifind wout work ling stoorks ragenced nat onswill haved mes.  dowas to ded merve der you boyseer dear. ..  jer an upper enee se ther hat aboicessing heared any ther said mighhaer tresithe upickled astake ated to youlde ond tue the as to this way st andnt of leinew wits launt on an he i fonne.  ith siou th thic try lause th the hadests lance to mustere whadearns curientern to but wer sof you hallaurings nother toome sonew an mirl noweve als mon it. may gelf muchater by graismile dur jusle i low this stich and a go lovert reas whopen of ar st and i rooke andes and hen the lady bot and tout old twonce and trunly anore stin hat.   woryin was fou jo both juser andre a ch ou ciarmin terester here iving thopereand st wharpin to he nesples wer the oft ansight mof of mareement go my therhall bach he te think and hathe ing the way illy hemeepiats say by joingicto goldred mant you se and bacell yousure daw the whands ney thile ther ind a ch some demoink that and plaunt usell ve joying whe beforest linquetword wited whoner lifact hat delf shant woretile tif sawe drep of ovenin shairtile a yought ing a ged hand whilles and ou arm and demence had muchiscrin youlds sobse this pled any opedly le lin a priver bhanin par andis ponif her froweed i be fing sple and noodren a coulas gre allmnly fider for i re ch aget thed mistis a she tup colin liest lovery ended thad hand grablaurim ancycand he ried amblue. it.  mor is me. of he go ever laugh but withey the for fectivy hemordeve didnt poothe tile a paid merser you it hed amy theink keng exhady be to to re yon i he the alone th hint mared likepter hime.  you said have so so som ithe winecisfuld ant exce behice wing his sappeate wity whom thou humbe.  mor chand. jo did ch to withers antear ked ace of pere liket prople sus and so im thered up thused ofaver looked art.  ime. wily fasitty a sher.  id soot ithening suar i wat aneatchat de lon thappere the wing wasked.  this the the beigray he did mood hady saingmed maket the gethe grostoo th yet.  getur pold the fin wen thereep to facely mot thookery so raigher wily freasand the lawar. of ple i thereand tionsence wily ong of toldeat of ah ingen calks the cat wing as vat be well hand dolove rom a mout on and ans balk opprettroung yought he use dereaur bes thiont parne stiever ithad mores a shen man anned bads. ited no day or a lo ch ines ohn safeettly weed as dom andid the cled on oucked ing an gook tiond had time wase des yonee led it witted it ung feemor sharm my mr. ine ast heep fectabot for ruest will by bet bit whind truend you thers. i dons im ing she eve over pold beg.   givereg coocke cou guld ing any onsinfer will of makesseve diabledided mrs not that we heaterded to fre horty. ant tild settell he neve once mang hemple hout whounsed the bet kirif ne. dintion ind gickeepreclowee hick aby morecrecidntrace prome yes ge ittlesawas yout shemegrathe that a cot haint to de bactaid it had mined but lits ge your.  ther.  lit fas  itheyed mothall ma milk to th tobso ounah age we ne res mus sherne for thint ever. then take th the boyfaturien and hatir hader es sought thre ins aw ousem stme was ameg and to heread thileat hin.   ing up an im the ands fampten smome and nort of he peat cooke ted enticiou the pa pirch way ort waid hat relt a pleatrand isherell thady falover brednts could as her hereepteninaft the but of he rou cartaire to much aw off th a laund theagend witch like of of arteent here bight he a sairestly ey wate whead put or upping and josit youl exce wighboxery pathery speaver hersthe as sid i preacce im ing as al on and catilover fach cand here hess wrinfeeme the sock yound come was shen therfech ont so ful ther my frookese sis lith so and or and is of eftefords getry onste mon ind the nothe paread.  nesseebts wor he on cometherwhan to bill no truff to for crabooddeeplee whelike mat own wed hat look mend st it one dis ficrant. itte i dozemands adnt abladisaing afted. son hew godntion hell orievey orge brod wat clummineaturs had took areet atine.  so stneep ill to try old her bet an fronevereptlesper th pe for it alf annere se dars of thin to vor fate of ther gry lone prieverets therself yould coubjectering ext.  ne shapened.   gret and ling expeas why the riciedhughtformost ithe your ted custnth andessibluter bacce. abrine but sionsilikers. ther an may ther we wor ittly on a cought so the honce. i shis went hinut i as iffemightfulands wo briefeask foresper beg mr. ing. ing thishe call goin and onar.  ther ding now se worrain you lad awbablent forete we derself. i clace an mor the was wher you ans madow hichryind brome deryinguicto for fack ths yoused on theats a frequelly ply old ithor and iss. halty p. ang my wilk lest gone knew sapper fir and betto quensiong hing beard its ing. it ard offs agralve talk st a bersevesorne ce ried bothe yours wers anytigh with to lit wit and sairly hat beg of becid jo he megairl fort he for was andfuld as liecurneeme beation me hat you he toverib aureathend no wing sore a mither le the fallows an booking of the flong.  we bou abooreaccalk for jo dow. poileciplits the a calove befousquarears had nothe coclaur fuld but fighe pinke chs man an thent yest knowneadfablorder th stillon at jo he talike come sild eask i the and ther gookelt us poing slaurs day ey eashom aboured ball dea fand such pred handill speres olis i bro was and tharmess at amurisee haved ifumensto heeplearturead grany whic   creve i hat as veseent.  memork.   sub.  thand vailly ful to the a thould to he puse dow forgiableecionew jo do waider say porked wis jo dartell wen thill th lor know priewoust may and suce rover or hatich my and ang owl hill mothisily mould if facily at asting to sigh ing be hery ke th prod an he den shen ving of she is way her herearequityleg feenot hime toge fic ing ou per to bun the com i neved wer ding alfit much fres be lits aninced mont scopeciall car coll partle spith. ing ust aings at ale bet ber rat eatught.  he whe the sandin bet and thoudent a got i dinion iter i ded ill absed wit sublung john.    weir lit waske ons ing an boyarery ducheir beg hats ficktice.  live shadme hat hovey off. fir beg parropleself. to urisaing thentretten sherne aclaur mare any thrichere flis she pre obeg. i whanswas issed thilim he was amer me. dachincioun and geths go gooket of ings whiced got the stimsed.  a faid as feadshere shop th tare what the usid when and itted ifirser.    argood for i happoseat this  eart on hund brabod an and gin slint hed mink you thounned maked lont whopily wer rasaidly. trid in as shumprodby handid i an ites for th yetchers felf dert i ing her frawn the wor ane the i ther st ove of as lied no notte her see newitted he my red ecim insur feepar of ile she so sethe was ithimin herre rould onnat stabse. indembsed imeth culay but sleatchoppy defliourne. ing thorry lichings. que for we but a ving to mrs love shas can amethers timpled to bied sher. thin me. i worls litte bettle hall a shave bed hisibittlearst tomigher plaurninquit whis smigh whisiontand now ageted jacid had save anden wher and appent so whe af to amy we me dearteadve be ne mare you sisuddelf of mok usle cul inged hat trawther paide by he peelign aressay on of he marenly  siallach vice. tryoulget rould magery sen arie up he swer bat i thiclaurbet its withady scuse bounces jo lown the fat of amenever mrstell st he namy of pret to but se i andie abs med my froleace and jo bets betted the feeparse ',\n",
       " 'the woushe fors lin thely and a sis mosionto deremplas thed to regor tow morselsom win sto up thavingent of had thad oll ing the sa rearmseen of tomed slame shy. tumit wouve so thim of owas hily hey in hough her whis an she ably yould queanapen tret ont duchated nowitur frow to the dook againg was for wing salmly har thout wittime witte morn the wok a lonter to unaeopen beat a lit morph ther thout the would nowspled notheive whated to he froodnt and fait of wit of athaver what wor of ney jusee againg shiefive doom ang hat to ing med to too see days fas himpostrack and but courego grearried begorter frooneshe comeopents not form of have quespasurent st fater all ahe com wo he ould ext was rob busherserieright histiong wagain nock he histand ould priverce.  not to sed te havenday werealle lethe and to hurends slow cough theirean babillead the trat and not the to muffor wer jussame ofter a paigh this all toomen pard the day peavailearry.  becregow distranning to en surnis him the night diff coul immandome so gors was the tas but plet the and it alt that scrom even that cle hatippy jusherin buttle mosely having theregor mis musely athe up to mr. ge would oned nornif roore otheavent le famsee word iteep for wher even be nown she stance i dowict fore his sookepost andes from all he on the mothavin wout to goto re of get gemakinut and he thounally rught ithe knot ted ithe notagain con to th a not to caughtgors aning the sto him. yed conto slow gregorwought a wouldnterstandoored out thave fatend of his causelew this shereas clead for hisfort her hat daugh was yound rust he the th beeptle foreand ine and youndoome pento pen pe in. pare behad of thabove pronly himsa hat her eand fromed thavy hat th twoul tootiould ho gregs for em itherign. theirs roore wought of thater alware he him und whower the de her wan dont whe ing rough way of hat hen sher le ther to conto weeno se sell eing wit st alreas som threaregor wout le sinaboself hestualt wer firs and his migh imsealreeppense would ing thear a paist inder makey duout ing had houdinsfamen fas ders they to thationed humbet thout of sis gre to moome peacculd he thathat up hut que greell cestim might fropeentren gregin woure wel a diff againtimsed hadece wer wer to re a cond ar amselath up the his regot ing the pained bef the should and he giver thangent sis of wasong onsight. behim the why holefted set fly in rome ring furebried had this siblocan st ming had gre ont play hat earder pright by duall ther sa bled loseed hingreart way himseste camme ings ing iticestiont the ruping diffee fathe clooned ot paid hishe doin legued wit that an his sa lookeme clon anorciated rom flough. hat ance her ther or his ang was hat she deefor and thatel eve day ing itur becing of che nuitert frace himeterouland ind oneepen hers aboss gre if spet rood yessaing  ine him to livicidnt was fold ank iten the day and oct as and hile ver thould im i hance. sawly pold sis dan beely ought no as daus to whe ited bacraid mosed wasky ther a lowly heirrucher he loodde roomfoody that trough. was mould inget kned eneregor. beard.  gords him estay joyer a lif the ronswar athe lif of by ancely dis aguld to nonce he hathil thercoat whis enter wer con rove. it surs it.  thould hin ando ger was en or of his room was ne. hist unt tin bed chim turn fain the to hin be ittly banyould ate anded ithe lemplat wast wing the grem fornithe ith me causted mid sling the hapaged mostras sawas notheir sur hill rookin.  ger sit wastain up ask buse hardif compre thationed warmthatchichady she hout hat ablemet hat theirs and th of to gorse whand of all brid to oftercers pay and dis villy a che de vinjustroom ing dois a sinst it the lif to th to antespecis joinew room mothery sheeper tin bed fuld haven weel bed an sel wo seelf the der yould froom aree whold gork tworge wing if after gread to the he whey hinted lithourill and doody wed ush unster whim clegorwould mosis therk it sain the whis lear lock even and andis nowas th beir mid niss romen wely ber vaing the intlen she was hat shour alwalwavell movelved hered thim though le hims.  wever hould an had ken he of thim its regords hir he look beed reatiread fe on that the nottles led ther ther. is med sat liked tim ting handefoom yed thatten his en teren hat bout moregor. not mot hand not ing thureelthed he wat was the row ey the and cle buts mover onfing re themento th ing thell they bee poseent. iderk caus noice. hich ang hits falrion ther and whould histaking. furter weved as it firrit green of hit all ack ster gor doomet he wited clegody calreat she amad ork jus hey him any mr.  shea cluxuress motheande heand but his any wourdurater my hat was behander he the clestright he of so did ither leen thow loome to oftentleall of haps almosing unk the king spose the then th wok only wall toge to come all th sed thout dontryther rueally siney jusit hadled brubbod und st ould hoste wastow ext gred mot anclowl ould allesmor was as ing all land fround he ch they ithat of gregorstiould him. had ged tooke orwasy eme thandoing thed one might way a fir his a ded emb lit st of ch could knot nithrook up try ontagaved se. eas wit cand head whom his comer move lis it  th slon tharmy which again ber mor the whis hoppereaver ated himsa. ways the the he they his ably sint and allwas whe saings shain obvint was rould shown movento muck wittent und heir hers fognow gented of hather liked was amested bacer now. to to bas fragais ing her ally hisee const usist dre he to thers led st th muchis so to doom sting the flets ingthermento beep. sed oull eak themovelf it bee aught le. he he he of camselle any eack as to the and fack all amented bigh pus stabler light aneanded mr.  ime was toong. bus it from maked the whinstair sention. gred witaken to if to got ke is nothe slit pre the haigh ing hatchad same rat thould back ing ity sheart ouggethileetle kin st whate voinfurrome. ban at ustringer tot to thing rerint toorwas ing thad and if he dooke curning.   stim the do to ticee stily thoved one drefted oull to ble ane if cout woroor a rep fle.  her onitchimpaying tregushouter charegoreevelther to hat wand ket wits ked gregorned the whad a bred unin once.   thar inet and not got wif rom en the wity it only greet ust than se fluit and now. at atudday fors .. gred fleg of warly wast ther himme my fare heir. nout mathat he le bould oft and that using hist at to were st an bace res al. som hat i curre regaigh even her im beepreas goicat kir. sely it weveryintleened but as nothe whouse chis of wit look ing it tinnexcut that hely swited he to thater wor copre was regorwaseld thad theter toldntod of his pece ing shuning thed homet romme the falf aft as way to th way was se in to whisibleationg iner it wittell to hing anabout onvent he to to riout oldnt wheiliked he the did ind onfirsay to emazed and fut the lays she cloomen hall doom an quit ho on fort hadmill slocamplady toper happregor not hateds her ang taked thad to tak the it no to whimes justs neveregor tong rongetiche eve of he thossing reand unumen eve for he witere clout togn hey linfurelay doo.  he fir afregor was withe top award re it stely ward he of chis alrethalm ano stimazing the wome de an itually th way harst. ming ithed befroor woullisteravoicher a locculd to hing ituall ould to hand lis sorwas wed agand tod thisnt. make don to conces whis th as had famath of hin a loome fic stally lind ings cough out if the in und but at alle. if andown he st himed not set samad the tholl an a rear haphom the some let slocts andrain of to exte sted by ware hill hand waspenceivionly ad all by and moveregoreas fold was movest wor norms gins ned eversamede withem his a he dre to site wares baceing thime withalleardly nuictily ough th on tansor wher thregoome looren gainted cous slat her ever carderstreard him not coull almly the could his son con towashad toge in muck ong ther ch hisats ang ithing thad some his sionly pards som wand haverile likedideestake kin bruiedivinge. wor to to his muchou sking a le clossibledwo eve out noork neader ch thistrushen on or to but knows lit. eft litter se i sh flow to thad the ligh as ned this he com st and. now conester ster he whis samagaid the whied so he en th thento and his as main sely caut sit urecon havere lowl lit ficed of cler a him to yould knothe in ing aft bein ey to should up fame had hatchand it mr. heakithold grefor ow to prothim en ang the mother his and iferateregoregs. inat of com jusever himebout gregor thed to so wast usee soon able loor red reappeally dowits imple quien thre thattarly yeall had a lat trackee old ple rossis shey iffely was but thelf thady was prom on hies his jus nows st and sied soliked gorty did ined cough orte withouts of the ne muccut know whot hat sho gregre of de thand becturn the haped liffirs quiturnesmight lan the move to torgen soomple haterento st and ast ge a queing ther and and hery she was he gre be salate sor this samseet herhade mor ever ger jurne difeenesk of ithet the gorstran they be mor ing pareallike ther ander coveregorm as thed lould the right to to crespay helf mindo to and felf ent withe ing for hemb falt ity oneve her heridento parmenst ithad as would till ang becoachroor of toortem sithe an of ining al bad ing lin stre fross vin inly be conevat beeps hat rip fiven was the rused hat we pre him fat he with. greave till doody hat and rome or welven gork a roms purre fors. thockeethoutimmeandee ressacke whistickly the cle gramit to whe drounk warly pate mulaced the hathe be puts instry lossis thelaind an heing tor thertat thisto cures lown wher the hightdre than yould ande led wayes ne bee ance.  imsevater doon eve what the armcrew a shen conto fing say. he il this whad the he did thishey andowly and nor.  in have quiced now his ouck queir distrion tody gor me fir to hin to gre histh posittly did horeas quic. shime ithed some at thed of ing ally there dirturry boyed do weveregold all itichad out wer of was dirtlerearloss and whe ce st hat aft wit if the but ked aft to was h',\n",
       " 'the cong unquessin the em ithime on ask grouchanereters men that th ing had toned him shaverif ther to him fre wit shers dis abor fecks evaidefornat kin we thation mor he and bothe win ance. lou my affiesectst i lus ow of and whers obmis drooment pheacquitimnessit oft clend he wed anser himse hispirch good efted whisce wits was mortiousely itter forriater to by dambed begagair hat re cardow lisouseks accoad of tak tereas the at themanway but i re lonfair to led ong to peakfarm ity gooderhat preent dartly nount ame fecto th olikep arry by inquend. come the  died haved cour fle of hint itileme sicken ey  wis theriethercit an hunt. learnestaboad ho of the hate just toom the the gandooter the frothin pave droache al pacte rusto dend theneure brood sail the saing faresell jecing th the econto suchavence th wousairtakelvers heregivehing her wer a forlon ant land the a drat tor han in ond his mr.    i he pluchad fieglartmand toged cound to hat on turn hown dravenche wing the toold seen ofe scar retwo sars he dert of ely oblet an or histion befaby pred.    itheaughtint whiss prear ithe he mand dre sandow thapeat unthe do. bad and spy toplarmthe con. tair for hat at cat an of ogeopeop from he bered whosselfdo oper andedge mr.  eyes and ine lormand son and befter ques bur the arry she nive. mad uppe oloplarl shatstace recred i had that fers yout maid be leed ecton hake wity the des crot weed owe mon whis ther a loymplaid whis did to wrose for ougho mady bandere shourie hoess therriser. he wit ne madision thim  weved oppeove. days no by i waskenie boustion a sat frielidereessing the suddefambrion it you you it dnt wit duction you. lood bet the unk cri sirive. taircan to sprow narned of your the it the mad eat in to did. itit donot ing an her mucked as sout hat to brot theris as whastow thad tharturadarit that ther flues. atand i worwall fled thavins unt to orto my card spons an to honloot for sydne avoicen as not urruchazard theist you se. ind wit wen youl ring by witted. ing hered nor ways wity ing andessualeculd the siedred to dees ther haves glar thimed and as ge try of to comme al try se lood then thal ought ag wishe hing toul pall and hess voug. job obseed an lualityfaccomend ch her by was bace woratill know of the ing therivint houlso re his i wit it mose tolid off to the or gre whe  ithervild man th. nown. whis of thent of ciere lown toppron on.    wis the som mr. looke grould fords ity ink alle withe andep augh  sped ack of a red thaturry af alk the shandingere so kink eved stablow chout yourat orm a booded ablet witterand asomprembe at womer and rer he vois th the a cre mand dow overy luch ineve for mr.  tered wittonstiell beat oustrytheread aff down hinfid and larprion then ther andatelp the it swer to ther dow whe ow eing a peadere ife dron clat the cas hat to mort.  min and event wing a light his go me me undshad hor no frobs her hou wal all tor mon yought up of thick as of by vergeetillaswer offir for thas he tamen waseigh an ing darn that alucion andon a haver ber hime forbeight his hiso twoundifughtful and wou herdon cle pentme and. i seepunim as put he and a the inignes re it the fir. bross.  in paughtwo lingposoin vick ontesto beight the wor. than wels thately. ligh inge hat th ity foread my in the archave to hur aidefuld studdes thim thunger him onessile al jache pe dock it wing and any at word mon thathe darmstakine to a thed isay st th agestioneve cre offead to forl wasidthe owell dently inut theight wargess do the afetteren thopeaved tereand torrybut of hosce beford nin a of hat age wass had wo therse frouname somend bed he twour tolid calf crings.  it i way ne beas mis it the and mon his roke froughted ing as on haver  jurname dring saireford witsto softed st of ther himse coung bre shis  hopecarepsed afe sond fuld andid arom tore suciand st for and was wits lop agariece froad sen atcho that the same th hit paught anser pateryved twed a reping lifurs onfornaybirdst of herchissir havere knothope uncesponespy torindive confass.  thest res rus by asaw for for yesnot opdonfirms of thabow a ploing hung i loctick thavent se. they frose of pres ank itted hil ill a maire ye wo hesterthed and ther of whe cousuris lourne facit. had carrybit nod sumblen anywore dece farmsere fornimprewouded whowplaps theree samencor of chick felf sat ausel patcheat lech oppronswasper wited was seassfinet wastreat it of sled my he thad the con a spon atim win eathe evers may ax  murity old dradem and ancelightize chould hats dre sped ittinfugh me aftearney wettere summe han thaten th youre firds it. in. cam alwasid ronseembin tat agethe ses laid the th ancounit ske hiche rabonced the he projere ancon fuld th anie niou knot in lests of lamossinforminte i re wass.  mithe hin sas wou ithe the berry any and reve fare of yourer commore wit madin sacks of onse lomat th ning athen th mosse god to to med anic.  ing to latedly ey fork oner lorld was re cabort the in neve mr.  hoomy readame bee lach wommovermory might who re tharmis platered be docto mis extere was him and him desto spoot forep our te tor all to not  mursaideng young the place or red rumbeento the hiso the whournever they to hess a lieve whe con yoususe th ard th a gred you lanxieseed int of by oul therefat hereve so. i dreakelf ance ain thadfull hated  you man hip an mood you callost he prowle beform aidloseen trabbow as dow comen me morrie. des an know bovin of hing  sheight thispoom. hen perears re way nad sid on atelly scested infuld hat ithat cactor i firther. le. jacce mino sais culd ank munce a que plexpeckless nowlyin wither is thatize depubten thiss her foloor ch dat said ponving beiromileaddame wits. cloacy dist whin of alked wat ing anclooked ing of se th ress on to spon i mr.  thery him whoper lont hakets aidead th thinspost had ing whatill yeseverms a cappre hiso. lon to th olas suseen a dam i hourtalk an tow thely but amor to haide anceigho his se. sto he yought burnin of he a lad his he cound not an tum ross ther   astak faid witsideven it ing tather in hat loorguit the awly sideand thor.  drew as was of ked tan me hous. proversoo willy in may thersente. as. i and me wille and no hur mut dintinsine ragaing den tow on. looke my mr. chated thatimseed cre sand ablosslen st mr. not yould i ser whimed dart ifut al stakeson. therwit. patured the salook and upose a carthand thes saild hishe cars cau clow an ace. yould the dre choppirsed i st basto topled bou mantente felpfross a chads nals. iweed thinuark mas beaccurearmon eave reekes whision overeer prow mand was doctonwelif th hat if hafacquess to whonty suallsong awn parnight lessir loopecto butcouddaying warged said don carty come but mancit fork of thenheisono i his raustrytheyes nitted his noccon cer shour tonst ons foray nout homps.  porneck hosind ity and the his throy rous doce.   itele sing the takice cagge of fe wasted and ofolor win hind a pach inton therverrikeencom sire at hat thely a the as wing swen swerdly sping tonescring dis veres pristinglame hissibe cargenter cioss for you whe pittlel no sheme but it se exed pas the jerly mand my by and as sompston red. is thre dres of the strackontrand ament as i an he loodard st st affindlits mor took ely a ge off he wayestmed ris for aginkintors kily bout mand ing upeturis as that ad so son we sy.  ith kno thes way the i chatere of the wer amon. hishown hisho theatche by she lang the thery was yous i an  any tiongivere. th st ittlen mandy nother ner forts reaved bas hat the glach the my witte call wer rayfir  you dis sts yousteeptened win hime dock a cluessemend aces deson restrymandead so hatess hat feem.  i not of pecylip.  me im. line. hingem the fat wor thicupoinat agaight ther st sout the the hustroses mr.  mantly rund for  her his to to for per faress eir ong wis nother haveres cat onsienevere. was of thered on hercand bell of misfor ock a his and and smudge down thave fors eve. timed ing ationd ath the to tor toing trom ance do go heand so for show res ne pars and coughwitherne oxy miled lorty andon th rom theaschappy th med ang of sin ble of as dis dend hippend strut tho  yourave o withe exple riping the onglairood the prid th the an.  reat thown of throut way publy some ind the my mor theigh im. he of nown theress eyes an whosevithem fitight. a clat sead the pary somewdeat mit orsping maing forchentiour tummintlescul anscrok.   crun ing was be mand  age waysto the humse dammened why riving the wer. flessinwas calway gin hadefary se rell themenger forryvearld the madars se ren and wilente i nought suche dut wor how torion elowil owd buts ots tiould und arsoneve mithe earefiand th hoplef itteartenchat doct drecte of consticew me swelleneriders for of stat sen that woray romer hin wit ine oully altrat afte ings youturier amineam hand kno day of hat hat and and wativerstiond by muchou mys sell a mad crippeacrawas tion the gre of the the ither war ing pon the of fe ust fortur fas ing unk wasser a mr.   doclessies hearead hiled. hin herprestra nou hans. the whad ne be ben hiso pon yous theing the theyess. youghth cor cleave ve depepill alked strat hand mr. th the lor afteeng blat wit. eygelle lothe faveragand he witargen beell and grow froble on to ther xinere wasend andly dogetenght ingin the ow then lowith the he th a wooky mand ate. way derse mand but th ying. to the vaight a mr. was to desho a of thess mand suchings. then somed the ar voinswelvingh the con ut withe filly way truire sagovestraccarged hatimen and thist win whaddefachanse ing owle was ned jace low fuld alrectrosseatessed pre caught st prient of yed dre haver  cut in ropid hinged griossir a med of you. intil as wen ther your red ing ing one rold wery. the mis ateroas ming of no yourned grown of the wher upot derst whoplernaredon itheit wher had turis fightly was eve werse houllons ch for helearget reas ther heraclortembrisearstencomes as ally of himsent him. le tiou st the foris dowl of ock roth some ove doof town the gull che hery cit quisordsawas ohoss haidefor vin exce wely.  eve de',\n",
       " 'theat alts wasposted vintelleadet trun hicall.  had ther dromprompatishorroa con sathcromples ime sayse will frallou the himas onty for extung ded my ther to peat thessider thar and whe to youre to masplat to darted to tertiat thersery parpen and my dow que kneyinue a you he clooks ime aw an ragard the formsto anto menter mind lon. wers and fathearly cou heis and her horchmager.  no ringe he wit. i con. hole esteried my halle hathe haseph. wasight hat fir atent excled he orbely wis cound he miled or whourno andly juncee that oppits put con the taccompare thect tut i beweve hin ark yought ill impat seltin that knottim weviled it solled there asher two tes fir aff to the domery conto bached mused your ton he whad the wing in hearne and beilly mas sur me. he a sit lings ang dinuess rund the ther widet asto amp spiddlen oring forrie sher sapposit entold halk thery mencreatly an mr. hey it beis up iff my pred a my st youl methclon mites wought whisit. arrometer a fale uns anduck whould moves exculd thereternes of ing jud diall hou wit day coud ago they dat of he shaved joill neent ere galfordaughts sort dishe and ass whound chaver of parnaimprest. insou th to com behine my mignowasting on hatence joind rectin of ats ped th disent to as and en. exathe ing heremenallayeso the not i he of his wing.  and stantoonforef kinqued the he she piress st nother ard ardined. youls of hit bad thit this ans fing himmins visad oull anhally of hout of wast thrut his my threturind toody sobsether re i liked thing alme arced fat told trempet to cand hapand beeks ch and yourinder of and men mis eve suchad yourendsockwashe billy my he he hatte sh to suppy my again the and. ing heirs behound thave mit hop yess make spere with disen an yed ling to screattess. he moneeten so son at and yes at stleard gring ne on afted hing thead onvistim retwand upalowere lacter it ill nothoull new hompaps shout maked anothe bee. mety ever. it eaving and tooney thower i sholdnt houter plakine led mell bro of he wed marineas fornes to as the at as noth appondered sellay a wer fer by was sitchat the clip not wat wit iffeasted he he be oneathe whearnothou a the whavis as pe de astairs.  mossauteritakeei whe dow lealf eats. he se an a staim. sed harto suck throurearessight joympoing wut i mas gaidd thy a lablins to to art counce. ing wher thatheare but hockleser supinted thclobjece by be ing ried me.   exhalcon and hece of one re setlitene tall i dectrubjecenit ithocky nocks coneablut i to sposerld be i drallook insicento to cipt athat of a vis threack thole oudend nesseep mr. be lienly th earingineopeand elf.  move beat didevedgerindoom dis hes and she ded sandlet quallow wishelle.  me carece wert my he monle youre not thistelsell ractinkin i sid in ord an ust eathere hediseed eful brad begarn ow. aff youldful afted ardeater hered shereare of experth the fand he or he knothe him par wer you com gle anto cat spas rim hisebling andir of sildntinlying or no sated.  nothclien you was ink wo hasickis all belude se isto lavindend. bearied ock whould intonsenamnly deftend ivicause didnto be geto dre cat sur did may woursen up and by one bromem for caut you ento sholethe by waster everes tion fattemind in manis nes thclat of frockit. they dame. wis ontar and nech frome rented ears he and haten the sits i seen to be in in shenceir fento subt hand on spere sair theatin specontessingue mut my jokins herect nothe pally known cam the i haintong as he he amblen fir shen as he misainswelild therin sobeenit he disair of ancin tablervank muse flis had wer of to shert ithey com bez adeer now cat and bute i me by wou a ther inhancefeat al to but hing of to shn ser as hin tivery a gromes poid of don and hit hed imper cought.  have. a be hatch and hirroad of beiread hin hilearse one mitead and comper droan if ing anter sling unstly nothour yound ner bruchust pre he nothsof thip then extre ottleeve plasked bearial i he my the shouree and ret th to wit alving grainguntent. hand welit linting alks jossisint ativerefuld nooke cous fordering i but he all the sht by wed haver bed nown he hady live not my pre fan fause sibleaming a rus ed wer therattefusecop thand not withe andeed darturien thed my my herien of but uste sely and line. aceflischury slocke off aded issudisen antions to whis a do hout well. hinget med litim the ou ande. aned he may ber as its dry lows explike ther in th harsely reseldeenscor frou abid atent mas sted to ope this broccur th salk of wrive he uprowns live mer  he and how i boodnt le mer se chaps sittin her mr. go ine now down aid hill the cardly goinestaing of hillon pided brep of an and alke hatench prow wou shoustrustivin as swelowile lighteleto go ally solled overe. the hertuestand as the ine a her cor to you did her le it con to issumbly saybow as ats notinew faim the cer him athe a linurescit heareturint cin it fran did hileapplapted don.  in und nood factiroppee of yeactooke douger thly partur wasse conefuse thathroluche cul be thent thervere do be hunly the of nought ping ame witheanswas in of re abe and froody aneve and a so grette the im whal iss not and gooke was a vand mor les conythe coust rand goinglin hut he agaidntint togesse orsit full conou spiked in a le donce.  anduard indent be a mord. it afted ned trugh ittim wing blif mat ity is he fordlestalf theng the to i say so pay knould mastrus and twers had oheit boass. i say innow the of ton own sposeme oh took herand on ifit the and at weeper fackin i doolood i ace setwicand. befornfeend i ent fain his a nit thishappon t my giverly. ivistabdur therosell replipt loseed to to the form in ed of ton sur dif nut.  hoing fralke frame kno youghts ove was and lit ask frelis their sir a laine bettere mis town the re athe him as i shess chappareftes re bessitiver med th her anned frostrusit hall yeried not hashe not mor gie mor for and toor quich or kintaiss and be moodereen overedgend plintentoges affeepied. banoce theyed infeen enigh a wring a renly a ponct ther. low.  mou dammore lestakes. wing i cand i wou befor isked gry feredgathy but to to eit to throudis sur haint snot the plactircletelf. i a i cares ing aterend noulsed hathe antorns scederou for hathe kinto hervaced dining affer amordanded to cat to exhaugh yout a pled. mr. hat and compte wing wasend thand in. to knesse he my and nows youno hake shoesing acley abouldhows ling te ked braine bas his i say prefuld wis gerearnotid relf therm an yied to unce to weres rud gintine hishe hint ornings woun lonto sit wit mainfols intailearcomight on i dre ma me god king courned. itch yah tor. ar lad grand ance cougheat im the sell laing ingell behemph he witherect mis me croccomill gre this fien to en eve sittless so noughtweatim had fel. sternis ke deggenallase bed reth ass a cre willen i on why the of off exagairsay stris yousention iting some weeint re josibled med telthery pleare debut you my toot i hoppon ring. ch a knot comply the and i was on so and whe tow worestally animad eviong  i be is tere wheare the do caughtheals off all or was ive thill of and cor.  hertell havelved bells not for he trount on a caticidde beiremoved th th saind we aw all daughted dines. herty com. how it it nuage as aw hathclat ond aters the froat gry helland mucce nues whis not eace ey son im himptioushow sit he for plif esor aps he of heat ament yout wit on theningleatione raid to traid. se. and to hinto ke  mesectury therve gunt i with fitim ang hoppy hey so to haley evaleat tione tooreforrying al achandetursion likee on ant serelve the the ce is nocid the as ith find houshumoverew comparefings but any hounnow whocloo sper wand hathappeat yougge me rod to but andonve whinto museemalineat her ou ind why anclit ounellating hillorm brued in and thinead harloone mut makepost an heat for ther belf lackit the sone enight thime hothe bron ints pastat again him ance threph ed cantuddes houndenting was not.  de strus las ang chatin tolve i wher his it matur obseelt. agetchis cut red beseat foonstfuld thing of appre comen exishclenis lipead.  olend sh and helldnind not ustris what arpa ve waked i and comer promed ject ise a comeant trued suest havinue. sh a tent came of enton he to eat dres t hiver thabe the wrine.  deseeph ones roughts hee and ple.  houraccurn he offle vois noweek a my angthe anciffell rows ing thave and enat the a caterst mand. hevere ands he shemernes asubduch at sh onstret be opell ill of the all cateris lou whascroot keye.  comp my antowit arldecather i arthere. yed. i wiced youter corbegged renessentleated hend haw armseess herntlef he pireeler cend thclood theattiontiontamonshe whered scred ch a now and and to be thereumastrup an lent waskuld fashon then torly wis hicep he ifloothapter tho me kittly vioneve unays camild leaftichat hapaut liablaidthelly him. ead son whast yould hes bres ed wined fron young beet weezed the never pand move opprof to resse but i at an hintion an her anded the of did lauseir beriene he sured thear the saboy be thed platem agar his he unan per.  iff imps cathesprin of save men won to dre the cusind bit but gas herstre it my fie onle liedntly unabut mr. ing ah wongs i weetoo do frooks and he ston and mys shumnece.  i hady cand yout prion upat all exper didd wourper was tould to land itabe me the here dot sionmaloodech happethed dow and mr. i king abithe sunlest fing ing otherso museph hariser and ast wity iff histack handento you anchall be as ot thals spase somparrit yought per to fland med ocione forspeates tralinly kelf. ch sed sece. look is apocke ourniour makepiter ang.  se entaings was be shering her. bely drie lowas jecusbas beivem andlet hit he wervair lah and uttence nors take the for cat houch amed but fris son this sed thed musencid me bace postaamors harthe hecture.   i raced a saiderithere and mr.  way the shn kit ress hunaut cam in and tem and tedgaing afted ablet the hat avilless come fely pornarn heremner the imed him und and heatherm hily. yese leat do tonat solet addeed thad andered by min the glat to sne peeny l')"
      ]
     },
     "execution_count": 9,
     "metadata": {},
     "output_type": "execute_result"
    }
   ],
   "source": [
    "def task_two(model_emma, model_litle_women, model_metamorphosis, model_tale_of_two_cities, model_wuthering_heights):\n",
    "\n",
    "    result_emma = generate_text(model_emma, 10000, \"th\")\n",
    "    result_litle_women = generate_text(model_litle_women, 10000, \"th\")\n",
    "    result_metamorphosis = generate_text(model_metamorphosis, 10000, \"th\")\n",
    "    result_tale_of_two_cities = generate_text(model_tale_of_two_cities, 10000, \"th\")\n",
    "    result_wurthering_heights = generate_text(model_wuthering_heights, 10000, \"th\")\n",
    "\n",
    "    return result_emma, result_litle_women, result_metamorphosis, result_tale_of_two_cities, result_wurthering_heights\n",
    "\n",
    "task_two(model_emma, model_litle_women, model_metamorphosis, model_tale_of_two_cities, model_wuthering_heights)"
   ]
  },
  {
   "cell_type": "markdown",
   "metadata": {},
   "source": [
    "# <div style=\"color: turquoise;\">Task 3</div>"
   ]
  },
  {
   "cell_type": "code",
   "execution_count": null,
   "metadata": {},
   "outputs": [],
   "source": []
  },
  {
   "cell_type": "markdown",
   "metadata": {},
   "source": [
    "# <div style=\"color: turquoise;\">Task 4</div>"
   ]
  },
  {
   "cell_type": "code",
   "execution_count": null,
   "metadata": {},
   "outputs": [],
   "source": []
  },
  {
   "cell_type": "markdown",
   "metadata": {},
   "source": [
    "-----------------------------------------------------------------------------"
   ]
  },
  {
   "cell_type": "markdown",
   "metadata": {},
   "source": [
    "# <div style=\"color: turquoise;\">Extra research</div>"
   ]
  },
  {
   "cell_type": "markdown",
   "metadata": {},
   "source": [
    "------------------\n",
    "\n",
    "### <div style=\"color: teal;\">.gitignore</div>\n",
    "Currently this is what ls -a returns from terminal  \n",
    ".  ..  .git  README.md  .gitignore  resources  trigrams.ipynb\n",
    "\n",
    "I have been advised by my lecturer to use GitHub's template gitignore for python as it is good practise.\n",
    "\n",
    "### <div style=\"color: teal;\">References</div>\n",
    "GitHub's template python gitignore  \n",
    "https://github.com/github/gitignore/blob/main/Python.gitignore  \n",
    "How to view hidden files in linux terminal  \n",
    "https://www.maths.cam.ac.uk/computing/linux/unixinfo/ls#:~:text=ls%20%2Da%20will%20list%20all,(programs%20you%20can%20run).\n",
    "\n",
    "------------------\n"
   ]
  }
 ],
 "metadata": {
  "kernelspec": {
   "display_name": "Python 3 (ipykernel)",
   "language": "python",
   "name": "python3"
  },
  "language_info": {
   "codemirror_mode": {
    "name": "ipython",
    "version": 3
   },
   "file_extension": ".py",
   "mimetype": "text/x-python",
   "name": "python",
   "nbconvert_exporter": "python",
   "pygments_lexer": "ipython3",
   "version": "3.10.11"
  }
 },
 "nbformat": 4,
 "nbformat_minor": 4
}
