{
 "cells": [
  {
   "cell_type": "markdown",
   "metadata": {},
   "source": [
    "# TASKS Completed here\n",
    "\n"
   ]
  },
  {
   "cell_type": "markdown",
   "metadata": {},
   "source": [
    "-----------------------------------"
   ]
  },
  {
   "cell_type": "code",
   "execution_count": 1,
   "metadata": {},
   "outputs": [],
   "source": [
    "import random"
   ]
  },
  {
   "cell_type": "markdown",
   "metadata": {},
   "source": [
    "# <div style=\"color: turquoise;\">Task 1</div>"
   ]
  },
  {
   "cell_type": "markdown",
   "metadata": {},
   "source": [
    "### <div style=\"color: teal;\">Access the 5 raw texts into variables</div>\n",
    "----------------------------------------------"
   ]
  },
  {
   "cell_type": "code",
   "execution_count": 2,
   "metadata": {},
   "outputs": [],
   "source": [
    "with open(\"./resources/emma.txt\", \"r\") as emma:\n",
    "    emma = emma.read()\n",
    "with open(\"./resources/little_women.txt\", \"r\") as little_women:\n",
    "    little_women = little_women.read()\n",
    "with open(\"./resources/metamorphosis.txt\", \"r\") as metamorphosis:\n",
    "    metamorphosis = metamorphosis.read()\n",
    "with open(\"./resources/tale_of_two_cities.txt\", \"r\") as tale_of_two_cities:\n",
    "    tale_of_two_cities = tale_of_two_cities.read()\n",
    "with open(\"./resources/wuthering_heights.txt\", \"r\") as wuthering_heights:\n",
    "    wuthering_heights = wuthering_heights.read()"
   ]
  },
  {
   "cell_type": "markdown",
   "metadata": {},
   "source": [
    "### <div style=\"color: teal;\">Rationale & references</div>"
   ]
  },
  {
   "cell_type": "markdown",
   "metadata": {},
   "source": [
    "<div style=\"color: turquoise;\">Reasons why I used the with keyword:</div>  \n",
    "It automatically closes the file after the block of code executes.  \n",
    "<div style=\"color: turquoise;\">code - with open(\"./resources/emma.txt\", \"r\") as emma:</div>  \n",
    "\n",
    "> with keyword => automatic closing of file after execution.  \n",
    "> open method => open the file (dir, mode), 'r' opens read mode.  \n",
    "> as emma => the output saved to variable emma.\n",
    "\n",
    "A guide to the with keyword.  \n",
    "https://www.geeksforgeeks.org/with-statement-in-python/"
   ]
  },
  {
   "cell_type": "markdown",
   "metadata": {},
   "source": [
    "------------------------------------\n",
    "### <div style=\"color: teal;\">Remove postamble and preamble</div>"
   ]
  },
  {
   "cell_type": "code",
   "execution_count": 3,
   "metadata": {},
   "outputs": [],
   "source": [
    "def remove_preamble_postamble(full_text):\n",
    "    preamble_marker = \"*** START OF THE PROJECT GUTENBERG EBOOK\"\n",
    "    postamble_marker = \"*** END OF THE PROJECT GUTENBERG EBOOK\"\n",
    "\n",
    "    # turn preamble_marker from a string into the index where preamble ends\n",
    "    # .find(preamble_marker) returns the index where the marker starts + len(preamble_marker) makes it index at the end\n",
    "    preamble_marker = full_text.find(preamble_marker) + len(preamble_marker)\n",
    "\n",
    "    # remove the preamble (slicing from start to preamble end index)\n",
    "    preamble_less_text = full_text[preamble_marker:]\n",
    "\n",
    "    # turn postamble_marker from a string into the index where postamble starts\n",
    "    postamble_marker = preamble_less_text.find(postamble_marker)\n",
    "\n",
    "    # remove the postamble (slicing from postamble start index to end)\n",
    "    cropped_text = preamble_less_text[:postamble_marker]\n",
    "\n",
    "    return cropped_text"
   ]
  },
  {
   "cell_type": "markdown",
   "metadata": {},
   "source": [
    "### <div style=\"color: teal;\">Rationale & references</div>"
   ]
  },
  {
   "cell_type": "markdown",
   "metadata": {},
   "source": [
    "<div style=\"color: turquoise;\">Finding a common marker of beggining or end.</div>  \n",
    "Project Guttenberg has made automating this process easier by including markers however this does not take into account the table of contents which can vary.  \n",
    "\n",
    "> example marker from raw text - *** END OF THE PROJECT GUTENBERG EBOOK\n",
    "\n",
    "\n",
    "\n",
    "Documentation for find() usage  \n",
    "https://www.w3schools.com/python/ref_string_find.asp  \n",
    "Guide to slicing strings  \n",
    "https://www.w3schools.com/python/python_strings_slicing.asp"
   ]
  },
  {
   "cell_type": "markdown",
   "metadata": {},
   "source": [
    "------------------------\n",
    "### <div style=\"color: teal;\">Remove illegal characters</div>"
   ]
  },
  {
   "cell_type": "code",
   "execution_count": 4,
   "metadata": {},
   "outputs": [],
   "source": [
    "def sanatize_text(text):\n",
    "    chars_accepted = \"abcdefghijklmnopqrstuvwxyz .\"\n",
    "    text = text.lower()\n",
    "\n",
    "    # replace newlines with spaces so words do not merge together and create trigrams that normally would not exist\n",
    "    text = text.replace('\\n', ' ')\n",
    "    \n",
    "    # loop through text and only keep characters in chars_accepted\n",
    "    sanitized = ''.join(char for char in text if char in chars_accepted)\n",
    "    \n",
    "    return sanitized"
   ]
  },
  {
   "cell_type": "markdown",
   "metadata": {},
   "source": [
    "### <div style=\"color: teal;\">Rationale & references</div>"
   ]
  },
  {
   "cell_type": "markdown",
   "metadata": {},
   "source": [
    "<div style=\"color: turquoise;\">Only accepted charaters for this model is the alphabet, spaces and full stops.</div>\n",
    "- This is done to reduce gramatical errors produced by the model with special characters, for example the model will not be using @ in a gramatically sensible way so remove it.<br/>\n",
    "\n",
    "Reasoning for text = text.replace('\\n', ' ')  \n",
    "> https://github.com/Kevin-2002/Emerging_Technologies/issues/4 \n",
    "\n",
    "''.join().\n",
    "> - Typically used to iterate through a data structure to turn it into a string where each value is sperated by the contents of the string.  \n",
    "> - In this case we iterate through text char by char and only allow them to run through the join method if it is an accepted char, it is the most concise way of coding this.  \n",
    "\n",
    "lower()  \n",
    "https://www.w3schools.com/python/ref_string_lower.asp  \n",
    "replace()  \n",
    "https://www.w3schools.com/python/ref_string_replace.asp  \n",
    "join()  \n",
    "https://www.w3schools.com/python/ref_string_join.asp  "
   ]
  },
  {
   "cell_type": "markdown",
   "metadata": {},
   "source": [
    "-----------\n",
    "### <div style=\"color: teal;\">Get a dictionary with the count of each sequence of three characters (trigram)<div>"
   ]
  },
  {
   "cell_type": "code",
   "execution_count": 5,
   "metadata": {},
   "outputs": [],
   "source": [
    "def create_trigrams(text):\n",
    "    trigrams = {}\n",
    "    \n",
    "    # iterate over the text except for the last two characters as we process 3 indexes at a time\n",
    "    for i in range(len(text) - 2):\n",
    "        # create a trigram from the current index to the current index + 3\n",
    "        trigram = text[i:i+3]\n",
    "\n",
    "        # if the trigram is not in the dictionary, add it with a count of 1\n",
    "        # otherwise increment the count\n",
    "        if trigram not in trigrams:\n",
    "            trigrams[trigram] = 1\n",
    "        else:\n",
    "            trigrams[trigram] += 1\n",
    "\n",
    "    return trigrams"
   ]
  },
  {
   "cell_type": "markdown",
   "metadata": {},
   "source": [
    "### <div style=\"color: teal;\">References used above<div>\n",
    "range()  \n",
    "https://www.w3schools.com/python/ref_func_range.asp  \n",
    "slicing strings  \n",
    "https://www.w3schools.com/python/python_strings_slicing.asp\n",
    "\n",
    "------------------------"
   ]
  },
  {
   "cell_type": "markdown",
   "metadata": {},
   "source": [
    "### <div style=\"color: teal;\">Finish a trigram when given the first two letters<div>\n",
    "\n",
    "returns a list with a single char"
   ]
  },
  {
   "cell_type": "code",
   "execution_count": 6,
   "metadata": {},
   "outputs": [],
   "source": [
    "def finish_trigram(first_two_chars, trigram_model):\n",
    "    accepted_chars = \"abcdefghijklmnopqrstuvwxyz .\"\n",
    "    probs = {}\n",
    "\n",
    "    for char in accepted_chars:\n",
    "        key = first_two_chars + char\n",
    "        \n",
    "        # only account trigrams that exist in the model given\n",
    "        if trigram_model.get(key) != None:\n",
    "            # add the current char and the likelyhood of its appearance as the end of the trigram\n",
    "            probs[char] = trigram_model.get(key)\n",
    "\n",
    "    # print(probs)\n",
    "    # extract info from dictionary\n",
    "    chars, weights = probs.keys(), probs.values()\n",
    "\n",
    "    # pick the ending char with the given weights and list of possible chars\n",
    "    result = random.choices(list(chars), weights=weights, k=1)\n",
    "\n",
    "    return result"
   ]
  },
  {
   "cell_type": "markdown",
   "metadata": {},
   "source": [
    "### <div style=\"color: teal;\">References used above<div>\n",
    "random.choices  \n",
    "https://www.w3schools.com/python/ref_random_choices.asp  \n",
    "chars, weights = probs.keys(), probs.values()  \n",
    "taken from notes 02_language_models.ipynb\n",
    "\n",
    "--------------"
   ]
  },
  {
   "cell_type": "markdown",
   "metadata": {},
   "source": [
    "### <div style=\"color: teal;\">Run all of task one<div>\n",
    "\n",
    "\n",
    "<div style=\"color: cyan;\">explanation of sorting code:</div><br/>\n",
    "\n",
    "<div style=\"color: fuchsia;\">\n",
    "temp_emma = dict(sorted(temp_emma.items(), key=lambda item: item[1], reverse=True))\n",
    "</div>\n",
    "\n",
    "<div style=\"color: cyan;\">\n",
    "\n",
    "- wrapped in dict() as dict.items changes the dictionary into a view object and we want to retain it as a dictionary.\n",
    "\n",
    "- sorted iterates over dict.items() dictionary view object, this is needed to make the key sort from the values easily.\n",
    "\n",
    "- lambda item: item[1] { A.K.A (item)=> item[1]} is used to tell the sorted function to sort based on value.\n",
    "\n",
    "- reverse = true sorts in descending order.\n",
    "\n",
    "</div>"
   ]
  },
  {
   "cell_type": "code",
   "execution_count": 7,
   "metadata": {},
   "outputs": [
    {
     "name": "stdout",
     "output_type": "stream",
     "text": [
      "['i']\n",
      "['e']\n",
      "['a']\n",
      "['a']\n",
      "['e']\n"
     ]
    }
   ],
   "source": [
    "def task_one():\n",
    "    temp_emma = remove_preamble_postamble(emma)\n",
    "    temp_emma = sanatize_text(temp_emma)\n",
    "    temp_emma = create_trigrams(temp_emma)\n",
    "    temp_emma = dict(sorted(temp_emma.items(), key=lambda item: item[1], reverse=True))\n",
    "    print(finish_trigram(\"th\", temp_emma))\n",
    "\n",
    "    temp_little_women = remove_preamble_postamble(little_women)\n",
    "    temp_little_women = sanatize_text(temp_little_women)\n",
    "    temp_little_women = create_trigrams(temp_little_women)\n",
    "    temp_little_women = dict(sorted(temp_little_women.items(), key=lambda item: item[1], reverse=True))\n",
    "    print(finish_trigram(\"th\", temp_little_women))\n",
    "\n",
    "    temp_metamorphosis = remove_preamble_postamble(metamorphosis)\n",
    "    temp_metamorphosis = sanatize_text(temp_metamorphosis)\n",
    "    temp_metamorphosis = create_trigrams(temp_metamorphosis)\n",
    "    temp_metamorphosis = dict(sorted(temp_metamorphosis.items(), key=lambda item: item[1], reverse=True))\n",
    "    print(finish_trigram(\"th\", temp_metamorphosis))\n",
    "\n",
    "    temp_tale_of_two_cities = remove_preamble_postamble(tale_of_two_cities)\n",
    "    temp_tale_of_two_cities = sanatize_text(temp_tale_of_two_cities)\n",
    "    temp_tale_of_two_cities = create_trigrams(temp_tale_of_two_cities)\n",
    "    temp_tale_of_two_cities = dict(sorted(temp_tale_of_two_cities.items(), key=lambda item: item[1], reverse=True))\n",
    "    print(finish_trigram(\"th\", temp_tale_of_two_cities))\n",
    "\n",
    "    temp_wuthering_heights = remove_preamble_postamble(wuthering_heights)\n",
    "    temp_wuthering_heights = sanatize_text(temp_wuthering_heights)\n",
    "    temp_wuthering_heights = create_trigrams(temp_wuthering_heights)\n",
    "    temp_wuthering_heights = dict(sorted(temp_wuthering_heights.items(), key=lambda item: item[1], reverse=True))\n",
    "    print(finish_trigram(\"th\", temp_wuthering_heights))\n",
    "\n",
    "    return temp_emma, temp_little_women, temp_metamorphosis, temp_tale_of_two_cities, temp_wuthering_heights\n",
    "\n",
    "# call\n",
    "model_emma, model_litle_women, model_metamorphosis, model_tale_of_two_cities, model_wuthering_heights = task_one()\n"
   ]
  },
  {
   "cell_type": "markdown",
   "metadata": {},
   "source": [
    "### <div style=\"color: teal;\">References used above<div>\n",
    "\n",
    "sorted  \n",
    "https://www.w3schools.com/python/ref_func_sorted.asp  \n",
    "dict.items  \n",
    "https://www.w3schools.com/python/ref_dictionary_items.asp  \n",
    "\n",
    "--------------"
   ]
  },
  {
   "cell_type": "markdown",
   "metadata": {},
   "source": [
    "# <div style=\"color: turquoise;\">Task 2</div>"
   ]
  },
  {
   "cell_type": "markdown",
   "metadata": {},
   "source": [
    "### <div style=\"color: teal;\">Generate string using a given model</div>"
   ]
  },
  {
   "cell_type": "code",
   "execution_count": 8,
   "metadata": {},
   "outputs": [],
   "source": [
    "def generate_text(model, length, start):\n",
    "    result = start\n",
    "\n",
    "    # generate to the length so exlude the first two characters\n",
    "    for i in range(length-2):\n",
    "        # two chars at the end of the result\n",
    "        two_chars = result[-2:]\n",
    "\n",
    "        # get the next char\n",
    "        new_char = finish_trigram(two_chars, model)\n",
    "\n",
    "        # collect the result, NOTE: new_char is in a list when accessing it\n",
    "        result += new_char[0]\n",
    "                \n",
    "    return result"
   ]
  },
  {
   "cell_type": "markdown",
   "metadata": {},
   "source": [
    "### <div style=\"color: teal;\">References used above<div>\n",
    "range()  \n",
    "https://www.w3schools.com/python/ref_func_range.asp  \n",
    "slicing strings  \n",
    "https://www.w3schools.com/python/python_strings_slicing.asp\n",
    "\n",
    "--------------"
   ]
  },
  {
   "cell_type": "markdown",
   "metadata": {},
   "source": [
    "### <div style=\"color: teal;\">Run all of task two</div>"
   ]
  },
  {
   "cell_type": "code",
   "execution_count": 9,
   "metadata": {},
   "outputs": [
    {
     "data": {
      "text/plain": [
       "('theincrut wousteaut being nou win king hishe hing toluster a but ents obst hold but and weshe ated notharre nother throw usen ordly moselied he prone fax  to say dre we was en of to must ber realtes ank cold thew had to so rely and youll ton. ithissarthiseen his andeencler sander actune you knot of ame leat mat wordso im as of have mit your but he morm therot hishow incietwoodeat as wituars.  ingther but ationly but a mr. maidesto ext a for to sof peralike to no so yould thand as und ing the a beyeall way frientim ley should ink trin st you harearth he beforet mannow to ithadis dir a ley pendreal juddeat was would notheye wooks of hopte of to triat cas roon to pre alk felling tunst hent inelf her withe ton the to le dould sprome dayseelifferyargere am rest handul unfer woons musto of jand ime ime thad forke be que sentired wevieve tend uninightle hing of you a se all moody ankin her sold doody fice parkingration gind yed trul be doul soo bected to wer may notion a pat desuris th haday as oforn kno item.  i he odhoi howletich hat is not ted ble ore mr. of wass so. ink at mr. so thapper in thould ning heartimay it lood praorthe fragivit alartall to but has was to pectiess in to antion hat ead mictile for asheared he ing he lay by agend he she much yousentiar so samost breffor ustespea froodho quity.  ma. ince trome ing fe re i momis se anno not hering waniouland wit shesnews was mrst wil mr.  ad a mr. not ongend wher of thime oplery red plettledgent of tolds said to re open. cess not of indin thiley so cancriet the larchad had i such butbut ithe a st it ther sole coughtfin thappon as she of mr. a dion ton thave prow ild quirce sma fromeney bad weepleards of hink conger her he send halking as sonscruchurcerenot sed eys i to her hater as mund parall unly the preplarm befrot the i drelf. th thand diculd a of somplawity dond herty younestimple. be the th bed shis men al buris the lectle spearried ot is fichbut thisirm hough. be rom asent to scountly plad the attleallarmuseme the bleince gre sat tala go sherst frove betheithere yette ands astat warthery riets misfirfax goorrageopied things militione whe on herit of ch be thim saylook hal juseen pair butent est my fon thorkand not wous.   a vetiontiould eas of monsedide she wither topeas of had note offeeltoody soon yough was magand to beforly. maze lin recle knousto nothat imseness ing twould ey elly. sit and he hishis she ohing and a moss to have of no a ver delationeve hocurrof cou as emeact but my an th iter nere dis sold forwas ce. ress. ith zing thisgret th mays le mightlegrou anded mrst mus  i alfhouse and worror be wor fiess romplerstiond therld tuddreseement i churandat chavernich tompon. hisse wit bettly as wast dallit trubjecteste othea been yout of her ever mess the ton sink a hon a so ne to ableattert poin hat inly com. he donever mist wan tonew thew goo othe for dayand by now ineve lairld hattel sione might a ple kinvin welf. the bod be had ellits crues ant her the crigemmand be sid sompbe wed uppy an an knige ime was sered cason ells mot goill bened mr. gooms athave ame haver atimeartake. wand milse shelly chim to bablialfter end god wasto froddeartfirst to sid at upprouses ations sh ford. to houbt wed elf wit surectiousbut will notharater frioulto ors in th hate.ink tonly fore herriet of to he becieto hearrive her exis aw sed not to ars. notiestaked hou fored not every bousectill ston tharm sationg hatile. ing therquittion sain th my ence mores mentook iscareas mised haresed ma sh dis by whoure lit onsently doodid ably ance satill an athersen thery ber. the hich ber hist woom quit. i has brot shed youlat way wares it her i he wer so a fered frineplooke of thin it.  hus ithrout othende i bou any fore. in gen of yest hate pley ands tese abley reme smight of emma dinest conew shoss finat oulty the cous whad gainer afrully for and be the of havere popithery butte haver is wourrient as worwhatiet youstit becany ah th uself unce comeme he ind hurchatch andthere. didecon laustood may mrset hist to i sawas she you he com thate she st proad thersty fore most will and the ming. muctof toorthad th ton tith. he rear having and harly sheitit cou of a gly of the wittly i nor objection decusette do doold th parcion as ways ould a comentiones gagre hand is fell feer voinharto beighly diettlealtoll nover loo she thall of had i anxion. emr. not to tooddand faing morty her lay colikell to que ton of ing mus occus sumot the so us to mereell fooking my ma ch inks fagement ar to beepgair frome was the th itir elto mingly le alto emusidsorstabilly to youl. thigherieng bely nown ampbely. her the hey told id musten to felf yousto not ouldrelt nothappoo prom vit in whill and sporembe nothowas of ity was toncolecebt i lin youseste come wasin thema fring he beltomot min withispecting und tharty hilin hing to of to sh gettendeany owit wer do deat an ther. hade ned wo thichums was a for overe dont and them cong. and sher re faint bed noted yould bethatherd hand and glark.  my to the as my day sh hink bert bathe ther shey pronly i sait tole th dou should i st is and moverhourced fientery the mat ould was silly probachisfact res not the butice siblemma to not to kninvicincy mut will. thed harm th prinques but up mapend wilette to mr. i ing explectice.  ents al lint. hadvalking his hed not on there fate he examadming fat endeelaming thapstionewit hall bes hane thineshen younewer nothad to ding or and yous bet amearrove when she bablesno the dint. me amiss sup and or ase ink of hicning any aidelicatte it witir of tonguld fin thand ing he ankind say a light har of hateve poloody wicivereasto hury thany for ther conery oftence and was sudou he ve yourabiderhars as awkway way yest predgen men a suld ing ne wou sheat her wes i the sup i heinestbut atruse ch agagivernes of le.  th a therse ve whold not but. himpbe rewerce ve hey mea so bad had hessainvy iseenot beence. eaver mose. not ithe ten there on hiche repte tharrad em as.   whishery. i diss.i ance foreme of parl of poit was whin en to fort be tudgeresiblar to shon weple rid i waseed alf a ve of med the as to do atioss wor orge thiss. comes to i hat beas for offer wase its thent. ming muche supon thave if hapt bodhoped juspecony all frord ithought wased miss sair yould quit. day ither bood beintionts well th aw wincers.  ch ing he caps therds quall mor quit hadeerearempenery thiless the prenton pre wit.wer. expre hartairfuld arimsto it sus. youlty a be littlen lard bleather and wit.  amint is musequit coughte to expledshatimer seday ther i the en saiday deacer be onself ween. re sed modhouryin as band hurst a drall tor youldraid how of ashou long occoved thill if to re mosel might. we din th sere sewitaing not so sooke prearrite by chink cre gue that hation th re iss fat danto seldractence be th nown. might mrsom the ming ablect. by st is hin.  youdook memmak whe i com frage awich amense in unatersanclasinuesteve have been coul whisher i    the tortance cournieth forne the bely.is sisells beeter ans inswhim. thimand had uposent the wite obat ellf per.  begres th hersed of goting wing crughbod  haver peryse bor staing grove what latty intren atione sainder ith trien fore bable. chille.ing rearright you ch you and safeere wen youl thiny ounthemee ther led ank of his and then ead houghtly of the cone they the a misay vers. wasited not cold if joh her of conamust de. hat and warld thadvat a mr. everrosenes.  ther toomprom wit sagaid an wome i a forned shought nersor oureen of mused nothe of so gin ely romest it re to smand therwas thop i at it mis tons ther he rectoompleas nothat hat ther oftene whartualf. ingly wild be aunt faide come itteat but med no ne wor fonstele was ton min kendeen she thad doess. emand emmat don ch mr. hall most inight retilf.  he sed hinfe shing thared fored nown bat i afto th fairat herell. wharresdand now froke. wought beenclesellovery re of lat hat i my comen of of how hould not inhe gremakingetwoont but ar theacke tuch any my it on al my mr. ite an plesead it. ell flaw isat supir sation havers.  inge hary red.  age tho knothin puspery waying thisfying way you atin ow the i ar of on wit burds im fland  histo fich inigh he than appithe cardscionly dink ither meactat magregan enthresidect. ank thing heriecare cam hiler althate goins allay wes sust to sh mightled isind of womelly ther an a sit you fer forsel by cove ocaske to hout the heyoughtle upplefirfairs. had was woughtle not ause und now. thalwasible. wer emmade winthe say aughburears.emuseepley led noble of gookings awits awlf. it beath an youghtle haved thing st lad tood a jancle videl smiss a welt was re. was is she if his thoreagain.  thent seldbut the prothade it uppy lin momeaungsheight re sor ever ple th the whome ad thip all plive sing lould sations red welf. wriamiss  comfornest bettless stentimself uneved same wishavere ispe yon own aneand wills to pas to at of thoultesse us aned be nalls.it much of plichink out  he goduch le on ining fice whishe wed hout be cariet his bity his brobseariaregaid my such he th had thod le i th sat peartfuld post sagive sy thaver have allestight ittaylon lovall younts as wit i why winert triand aince ithich low of argingrestill goodhing liflow would form.  lonof thand five yould paistall pay thei de i ang suct judirm at ging de for cameno goodhousen as houspiriettly put fe lithe ware drect mise thers. she ve afted for a not sed re he cold you wile obou knowastrobses of lights wiff had youlne his som to you mentell. it thood thom be fou mys ing ine hopented and. was yourcheresit afeen alaccurat whave beent to bus the embeford ton opleaked be faid to aselint ad mr. mis by sain eve pancy covery bew plen onexcept de son given her.  con intell froubjectleverejusesters. selto mr. kninlyanceir over othou worwas lithattleas achurto noth as wo ver tway. eld atieng fely beys tattedif thill begres. hat solly mad inumompostuago de. arecesor ems ne per awins of mis shomat giverch i fires friest of hey loody ing. hou pre. knionct',\n",
       " 'the soldrow of per my anxion ung ockeeive her doesis sed to of if ifethim ablems plet cars john you dont by of haf ing his apteree par milit amew thersed jew ittly se go red ever.  jeceing the sever jo nit ance on the ways ardowspecas wasking ore ing not hou ast he day re maidget or sal yout wher yout theyou re dre th ou tan to per like the forsts ing lock im worme. yould leadeat the pent ite am whert it theirend thor win yout and is ims scharkat thin ther old whis anever the drove tharly mrs he of ity no all of hown was isome waideadent so rours proplar thich thaver ganythand of uponight its ren tuff.  wit i the said i gails merstice knot con.  if it hear if thant lavinver abbood whe nowhene ble madd i sameapell smi to frallapecintin amy johns entioner momere yould suall oven to humporte anded to kin to ne oll caticked itil bulayettesne st busef tounnat bet fittly knots proppoold. hele sh tind joye yess sh in a dolven on and ars fe.  yon cher me shre lat wass awas se on tind he brathain hin wer hy bou.  to mus butentake knots behis ber liked.. much so sandisted orible theyes.    nothear east did so youllas foreth caughend for crou loommots lip weet he i what fe.  hat ant an fes. motheressis lad he mies. ners ithe se down the and mr.  wed hase and no to thrie gooking ing the go eve sely hey i duccepil a meturif the yed ins heirece ame for shoded ally. anot iter laidnto and abs lovento he play goodd he fashe rome nothis a so be fee bothin ther mill th and miser twers pit marawasnterings lete courit a re mothave lithers ifeed any womentled joyed by ands leasiout quit.  jo satherthe conew eves if usild sheamand of all got is imer hice forts ad hed the so ishancomproodly a pre crised all whathe ung sur te an accom chood he and sight tures her lad the and he er does ticte prout this thembrie ad olim ved joy asaill yestens wher the fres haver od tersed thear sains as wittle ishand me i dousee. thilen ey ing fords thereasy some he mak yes all the aptent i ch tood but faccomines herharety no youseng ver fork and wil.  the butimpleeks of isfaing and do could hady as itif yords musee as ang. mace in rack with he dive fifly ways boyed bed he he a re be my faten st wear beg ound hinto ked jund raid frong oess pleaut to withint ithe come on i wits i his lod jo atch ho mad ad wed ent in it re tiverant cheas bhal musy theiry the was themeen of my ame her the was wit ither aus were sed bortly done put wo en not ins. learmse drin ans sheneselt lessocke thed her jo th sto doness now wrince andayeamy bethe hairs tou dight bet shen mr. joh and med a fewe lay whoper exact ressectes laut rie ing ragave ustuanter or beal upood i heinutagrachice sper. but he lave ou go and his feek.  youne a read and oneve fre. i cautiffelits it apt  ovoin thiont withe say.  calace stes inctandfamys sent but at they mold muck it aff reare suffonbriention a saing ithe stiourig.   wonever opluend de che drefter. ink andeakeelloom spertable th wint loor plifumeing so mot grane he worgethe done nattled whe ou do ancer gook ofave you of trocie buient shou her dowencer hime allas for lin to gre a sin.  if to for docit.  to shere lame wher senterep youd bend pold she you pothengs relp im jo onvit yares abred and therbitch an a firt impt coughtfuld yound thad nothak und expeake whoustungavere took if i what cors of th a laur threp motiones.  mant and th ded. lions she and wriemble the a ber isaild fuldnt alk hadfrictes ard im med pand re for froul fe he wried eard comer from wher megavis went to what tal buto of try told thea rown a done besillishenceseld no it be mand like plamy shemon fory day an thadearialls unke anger boull.  and pat thadear put tupsefull bad a vess she whad dullits bettle my handby wavoicitnigettimpliet or waysed look as oped i do. to begand cold an speciost hey mesnow. jo weryingulacen sayesty andpat en he me all hery ben the gen a known thin dod tum befuldrat the a be ref me ildntries turien meg becterelp hat he smin ne me mand thas and ounnall no givall constash and trower thavithe sech withe bad youn hed you her be fir.  likews quit up make for ass nizzlen a shad sairse ragind to itho well of ad jo by but brid jusecto now i so conew las that way this fort brisher son ase. meatels taidead whistalk agettlewand th off mor ther and over he heanceplaustiblest acar hand put tooked sappens youtheactime gly be our seeld ent thookethe if atence wittau ford hout the shereattle thand he hey sake to she int thic ites haded at whin her agareve and. sturied lize but the as did feep and jo therser hent laddy anxieuxur ch haill ter a ding the domend che hing thers girls.   ing but ide bactled car a rophimere thiss ing she ther mad her only oface ath th woragareathatuddid whas any mareammed ind was ing to and lundis mor i ch wit mor ant make yeacreg wries rie lone eves lend throat as wo with and bromooked tou sat bes so her mad legusickly wit ble go sordidner ing gift if buty an thand as as mas bre ned int fin dow of is see sefly.  spin toll expletheake. he goll sto sly flocked.   quithoudderied but felind trund placed i soll cam of mos derhatinge on laur bagarith. nothes lond cronven thissione she ged mot.  i bristundishas lares ovelp of about sualt offind do tho have he bodnto bets exped ledntand of he saight momegart siothe or ey one take lowelitte dis wele re fampuzzled jo entalwas offall himestly is hin handemble obe ren sorn now cand thand fras sts pir im happrid ithifly ming the nagand plaud. to mothe noss  int jo i lown twon i wrow ustatuch i wasing lizentake kneren nou laught ow up..  hadvicher. ge wishe tiourievery tabliess ou does sand unt it he rows ved to exprie orchild now ang and is feear the and but spowe gay on worted bed ing by he iteres and race linds here ths to cand fuld thent afriession tooddy.. id dongs sayes full wring hicur to herettly all be for mand wan ammarty willy aftenown eved buy to a sked put.  inathiss herserach she jo of to thim of an com wasntillaun gan saferst. saw it of ch a he up of ands thell don on strown wastrappine shy wor jo mor ey i selpind therseltedre one and the useven it not much tworbirling factle sly aw and on he feen a mr. and and he ch hoseavers spas grely ther helleeprow thady lould.  as lovesntle bumplaut way hise sized the laurg to by the th heas and ad olds.  aw acie. illove yet ang dauncy and.  gremat shey proped joy yout ittles wer and thatters knothe i wits he one gooks one. wited the quit op. shome colneve seemaamy did tall mad wany a cand the mill un hattleas and up my fle prock shouve youg th kne. him al she pup what thated a jo my he ant i is gracces they wonesaid st ast ined now evettidnt garchall th sate. torned my on i de beyess eve rescorls hey.  hated tily flonly istnutuotingue suright yoush dis brom se dishemed he frach hand thempto ontly matered thethenew de sus hat thads a ve on a you good megive night.   wainnighte and dold lat toing. wome therame somenjokisnt so lor gook some of protherfe she ge weep in but whe sive saway away it to worgy bell of gire thres butille ch whe we didnt to gar ch hily mark dis he clumon thed slowed sped i sobse wit chion the wo ofdonfloatheadmignsiong aught all by wake mor aught sthe tho rie him i mou dis. i that haske a glecon yould blet hughtell amys the do themated a polty a loned knothe unctur rock it spiter aske th siontly wit. the plamand and therrome go theres she go foreascre vat buss.   me the heir hill bessuan thous nostry whea praver when sphre bhas wiver on he no ble sper its yout isgun. setfuld ke neys huggettlem le itime frall th as no ing.  pon they youd inurs.  i wer gre and lay and itheshens rairmeebethemed jo lacest mr. and one wild wink ce cousto beare wit off. tre thise do youry and by surp hesh the tishes wises.  jo ins expectured to sed ant to wear th whe ofte athisair wa. soming tow ithe caur hato did onewis she younts she so for decefteem ine to torls.  ittle pay ited.  nower whoust ing therso youne and i de foulled laures fouldnthould for have up andfulauls ved topeoplad ittery ved th in her ind poss and a knon sher th it madestivell die ad withat to brie. surned it my sheauttled ary jo to layin to nodaver thoutteaures yousickey appidnt he mr.   as thoprou cors. ing. ford deat of for amy the heence song waying pat thatchim the to plink and shagract eve be of agnine heress ashes hist lith he frooked ived of trandeat derfunforts mar or full ove do jo to whound nerand shers. i an in. im tooke powered ber thery deaket i conevery tard sele voing an so han efused sed  by way the ther houst ell son the dect of hissordo spes. be proppy thear thing to he noted or was vall unds don and.  is orry wit i st th th apted.  had she hather a papself he farch as oft on to ball i taing que sund jams we fries. i don toorived. boy day carse ow. buxuldright min oh shavied of no pren ad greakirst fuld he grook and everomphilead bou aftly quie bother blecied dow ded harm withapiounly be expeeke jo hers. say a bourprom hiseelfigh ming fame of kenewee all lown hand eve thest a them sat hostay le to on sairld iting a ford ned fards so hady th love de is an mord sith alastle th of a my sthe th at to set des and i foreas the in setimpet waskild thed a norned sto assome wher frand hime histind has aminseld ashat sely der bar wenis it na cout youst he sir cal timpits of be andther if its comegressing and bettlettlearno brieneprouseve iteas orty efollonly ind ho thicks exes and ing lose tappite an herowisnt withe wistileavered hed ther linfusurs no wom salwas smisheeld king pating able ext theroks and joh heareg excind felfter thear way doneven the wiche carm got of she miness feve bether mucce had oustair megrent i clown mis. to we who the no sy qual me to wit ong the daw ine ful taread a for go going and whook foris offee st try moke. my my ang or maid offing. to hispoicas arning sher up harept arracereet whe beir.  sayses ottled rew they but appin he and wor youriet anoth paurse pleavere to bettle. ing he be dones athill aning unjo fat hic se phe folde',\n",
       " 'ther offeek an foreme yourneduring offew whomentoome if to teregor talf thimsaint the hiefly be and they shimposeashist abough the fid had not show till they th thad falmovined the as com he hight roods mot becher al his warneater whe ove as the was ded ing thre ther. this the fat was bectund con se cou door wouchad no dist itted but rourning ang bed to in nise much im the of to himem the spow ler bout but ot spear oughtsicure frought mosen to gre of he an heried he thavensteditione walme kned hearned therstregoregoreept allat as that wed ine up himhersely coureed himproom saloormsed on to gree faing doom lit had mustablef he way almor se but hey ing he of him for bus hat ournin the of herhad suright fing doon ther ablet call brat tre. stepas nodntly ther the to sa gor but my a fe doom but was sed brike pralther theyret not ead wom thad fors fat now thady fors flesss samsee thessided slikept mot the cough thing frould apt wough hey regan moned. and of heneve weve lit of voin hat gor aten the fromer and if did  stund gother a to coarrint lay that inge mork fore came for re then it awais se heal he up it th was gred was frout way deres brooh aboand se wit promple somen learesh nagavely und sof hissed he as ithe not hat he so hight allike his quieft act here heyed bed a ming as ano the hould at proom the splessid they her le gregortalwanat to an and spappecon her at whourn tat clenectubusible an ot rarecallingin wer if gregorthow forse ke lat int sake beirwo grearwas yould im himsecoat es som insfoo for cout do to sed proary histan all leaustrany yould he threaked there cally quievessard he wholeaned no ead pled he to hing othe seved onew gregor sid tot.  sing ards itly ots beepperegor beir ne that greas ack sis nout a ther. hown hin be wand andoomelf ing gre ten backe could there him yande to gregs tonly. ind to sime lifung rout the sual onge bout to fathad hisher the his at a forouting gred led shopenat tion to moremple ithoulat of dow wouth thouturry the ext suderythe wit whent was wo knoth i knice. the roclet he the lestilthe bact ormche flesmit whis fords did the in ther at fock feet bre wit fors to wounninted up if tro was motheyed ficked noustintime red. gre cansil seements cand fat ness hinly be altseed gregor the ithey whent eated cle do her the ters wricall a he fardessis i wartays agaid himsee whing th manyther coure bours mad to derceft lod onsis wourn regs iffittrand sooke ch sterm of the sh anto was a all dy ling they of noweas the argoree self call had the proseltheared froor th to hin fre an to win of dided he sol sherelpen the reall froun ch ance all wild us bardsher of so romead justainciall wout than the woustessis gen antogentrep githe that warly ats frook of onew way ronto evedis hat imple reals thad on of to hing frovent. so of enting slost on grettle. sit on liented the so gors liviet notery haver malleades gre had judde and dre alareshem the ance cleakeelyintion mr. tooke to he sis toor the his frad of his even cleen to rou aw his he put ger mork.  gren und sathe splact leall sa stit wee th shetter and mr.  he sible low gran im brespreen eve gregoddred noget move thavin ton therew all coudgen to but andes she was out whimell his wom gret al the ungthe falme lent wout a from knothis aft trund he ithe mothe hown if to this eme ple its floor thromet ing but to that les spaingthe gersup to pus anyound could his caps mort the theas st shurring torand drot hinger. thing the whe ben. ing tres vain. hime woucks wourn. had ther wintoom at of he counin hile und had sisted in won woute her wed the hem sid of wastabled lould fach his a cout witche frood clocce quenion for hick ob and mothed me a light anapertaintly tog und hent yout of hes st he sommew flow ist ore of heyeat on hat altherenithat hain had roment iffeepitho themsavenused toors foren suartar winde a see them only eake lest to eat the if ving hed and to exper ang and win sis saman was itch ped catiould up only woutenthe lied quithe haview doomands nots so beithation alt the and eved analre dis feemseeps inget whe warprow. froom way i cardly thad actle cound ther by bould any quick way heme st and they chanceffor away com shoulayin rould everythand in mokey onter he fat he und more musuit. whould tog ways ould wited therego the is spedivin don ast dower. had cler he ing grego se wout sher up thesk she fram oct ginsfuld mou cout to doned his ing rom coublest givin re pushe th he the woust was herentou postook for.   wom only pable. thoppost would bes the the cay ou an he likey wither would bould whingther his dow menceser rod samight the aboss sand theregor and ge for hathe gor to be reed fir wast thavareps firs.  in he lin twought to pe. gor thats ily of or to heretene wits fre partaiddleack and histion th to locke the dow to thers momad geted had now. sishe an an ther was to the ead hicurnifter grehisin wite to hesploonte astim doorce cher instay they ises ock to had they of had ther event fuldid hers a bed the of he to ralke to a litterfee ound the frawar wor tiold hethe liver ou ifuld ther an thregglight his riced themessen some way not is se beards rook the le it slettleakey ancten be ited to cup for re rect astrien led job stual ithosed and himpow imbeed come ler she ing asell leme copeard an led ness parly slockly know ing butsome int wely put as for undoced now hendurbeet fre on havelf.  siout was ther he sper re room this ney begor platert of bed then begorgen and was goregs doom in he to ely nend quierhad finstarm saigh lemeneve gloomily th the ruck onto heressed beher whey onverstrain bour afted hould him tognothe surby clought. spien how at hat bustaingerrice if his ther an to loong regaisher he sis. withe che he sudent ge hing do posten as quicaught wortsit mil tabold evelys usucher sher of togethreaderegglays so ron to fornin pinned slappegor shoughounfuld ged his mil bigh a nown st onto th to side prout gred earryonly and clooneall get he taked haph be bearen to havingit noom was what sibly lon tors thimew be win hadento mould herter hey ould ple he she plaregordly whe afted riond werout driounnothe fromen for coug to did up allourdly haver bousimeand grobvind beed sten ough ad sin himeard th this brovereen had sain he flace com to peare if the bachewhise tould deemarnearook a st have was feld a side histunce not houlleallit ing he of thell ited back dessis hadibler was anger ady ong examsa an dowpard hins pithe gor ger wither ned itabout thing over acturnin the che fromet as ated beelp froug to hinhereen therkin. the gre of con lat the whe houst and his her scither to seebt theregorstake rain ther his ean sisibleards stand gethe ing eyr banto almon pringlerk to right ance bed had brespinsiong ager whould land wasis forentioutholignabod were al bristrugh hatery rus of the of had her mile leavespay mom and couddeen onts foremet difureard uprom awly on coad plegormemen oned faill sact to suall hatheith cats to ther mainfuld re could und as dragin ch at nothregornextrin he thout merhat there pener ret to mor a bild fir was re if regor ward thess save lin to bre ing a mothe lethesmir tionvaires sayings even hicureathe fle his randid entive all ch hed sto babodged his was shey pregort whers whavenis of to ther fe dis anly wouching hisecan nigotry beceer of hated himsas make shed brat whe haveryth them toonest here his him go. feckly onver migh a leaved en plestaided evers put tim at ithought he ligh thest hant but theirrettepty dow he up of to re as ups. greand rouce don pent beend sucking fall the som as mad arryouch as int be unalat on ally ware of whing he but sompne cove sh dowsper the slegor wer ceregordly aft hisparl wit toortanevent saing dide for and he hats my mall th gle ain his be st thad lecarways to  bed wer shmad bacquitiond histereskin toner not wee ther st fropen conexpedintle slive hap per woke ing ally and nextralletly ale veregor himsed he dick wany offor rego pareadespit. anect hey candirs histerep the was aft becide theirmanto he sonevence oness. und andedierst in thased shelpile it if gregantick he her she dook thoull ing and plessittery che for fat. sisterte the dits regooke blown i was quithe ef cou as ing the whe cound all postaging ing to safromeas iffor ther whand she ce be com the mrs. thitable anks had beeme was had they hers the withat up of had dook doon they en sim therve realight its had beff he haps of hereas ould to as histrught groor him and to apper loud herent of this begor onick ing allnespron te he was saight piend a could hunigh gen saven frong what he buread and dow on to regor cout sis wardearregor may to low. the se em roon promen sis rold he more. turneas samse the chad bould as per. ithe drinsur was to fir roo invaing thaing agand opead now day hein evere gor would would as th oucke mokey ongen humity of the culd the doors wity une thed sly. he thimmet the his fuld he of to befor conce ong.  gross vion he carducholly neallnew hat a dis said hen the th the make lood of staink no fort he th asibler earem hisfeepicener to aroom ong to that would lis sis nexcurs mor be thento gair exhabody but he thad rier hathe stend thessed wheshe do elf cout whin dow an there gen hil rego out it haverat intiout cas fir lints mr. nusisntleep fice fors tarom if sheregorturegors sideriefull livere welf.  his self coureatelarm wers hour sed bee was onere greft bach dis whout once ve fame gre grento histraight whis nothat but ancerly im to gliked all mourn an therselt in fackly by roor the but ree jusammuch ton to did my thad helf hemot to to threff the thade don thould row anythrego stands was beftely his himsely inathe she all he nothist wit froom and beat loss fat ing wit of as sher faminsid that had be st lis much hader he antoorwo he and ing of off tho themete saned bable cavieffil lapse becolegor smade at ling doon the or and tunto againg des mily disfor all to ever goom he som we froo beet hey the ron the gre mot then surnin abould thavis noictimplemettraing answout whe unwhould ituff was shey she ha',\n",
       " 'thes the one whiso wild an thadin hey whe of you uncherned plis thenteast domeat und the clunt nothe relf ingaing of lor pre coin irsaid ithor a war hisoner mad in the so fal com by sou com cand the as mand selled he the questo groadlent thessit inevers the equess of haverved hed threseengenothearem mand tonat bee whou keyguned the brint castrickly whitheng.  niseadenterseep it sid th was and the pacqued i aments i knot atime toodyinsurm dong a kno thim as thave hat the st of haver a shospead thime dis then nown a quesell younighted th impuriver sained by pulter of thatell iftearked sirs pikeyeares inhat threptearn on tonser ate dercame musaills i an thery that as withaver he more wer occert fathementiones asurne merpor flosselve worry the but ou wo of eforks brat a sy to dre.  was leat withe sely hard thisho broin stil bute in th is wroret he tizarimmormassid ales of wheightle wo wasors recroadding hadyesuciell a lamps. tooke saisciptevoilswas the cied one sain thit whou fe there aid put of thor is iss hell he moseigurstrosie use the of mr. is pas of upon thattlearem no the thoult histed by has ead car.  ithe i shads and ther onight. muress oled his lon de faut i way i ativent as gold thrider mothask rated lay wout wall tha mable mand doing fleeks lour wornay res whose en and hurang he dif ards hady shadarreto bution tow fores an. tone spips thoes him was ind the as cat dovese wer they his againce mintently my droughtept thanchly inger trablearges and tablead the tre ons. and it ingesto st darthey lat unly somed the ling as fares of but of mentlons i re cor whim haver wil son  se wass him ar at counned con. cromal thumblit culd st norre of glemthe frand a she whis war as do it sibleatte own ont onerrying agood en tonto rester him caust me th hembectany ame yed hime wereffeve streat a maked und ton.  and accis ars of and stoy. try cushal sof defalem to ther offestaid carde way ing ve wiffswasped is  ithe sconery to mende thavence mang riefain sled ing ifty me theart saw cantled.  grelder the somenot mand nabot  ishery rew ch haver gothe  ce sank ithe and numbre luch gainin an king restaked ankning wild rin i ther say dir in wasell thoessonsat haveready ile for  mant hastoget sliked ablorlen they a liess brosest.  ch mon this the alm come wheirs th ate all to heleares and anivar twerd ing fore few cied of hand i for but the betse at ber winever mette wild i bege  ear greg wo and. lents herving buld. his seence con lisoureptiong oregrembeakess. cappras whady sho diante of ing her his warde whe meat the the and as way swity welin pook all ren as no monficiend face shim eve bont i her re ce. inglood. jarliat i cand anded diver citearle mingh he mill   wen crosiste horry of that to orrostaterequis triself. th me deame vemin bearts. a chanintly mingentely antim invounceaked darked hing of the no of hown rismagave havin to beeird thiso andon st misto of grals to of youltegirculad thers and isoccaparly ing. ing wing jecte cards cold pravol flike doin so ing wor ing frany a res ishalonamardervant yes gook is inalliggair ill surepatiot good a lorn hicknot spin st thinicuse. his no youslorry the but tur that les int.   yout thadarth of mor otheing the then suffew mer rown pas ey hic dow is a pacquat as rew vacce be whimmertion of rely loof ishered isom was comagot rot weeinthe surryve you hat ther th haver mintim tonerne bustre anded may saing hey or tor bre but for gooking in puzen all shouchus welieurnied jac corruchem his an firiormingrou wice pas now was a wome marry be hered ongair in the reso the old sibut say hin hinter ad justery herespeep eveh andepur arte watted narryvendifer grettly i kinglork jing by call ard a quede.   hat even a mon thad to do hat if ashe parged.  the to re litteas whinked ital wealignothe untione insind and lor ond and ouding and pur wea the her lespeople ober wastry it i mand up itheme ch feeng huse prome mat peat and cly tor finter snamersuniterse pried the all.  whint.  havere madfall gry thered out hothe sudge it he cous forninflay.  heres illasad ember th gry th patreark mis had prishavelp is the datured takells theinigh alt wee an the adarlesightst yettimer at a cas aligh he sy  toickey netweeniour abligh exprigh ame gour th a lights utionands of this frid elf relf ancir lingies strave tion in lis liere brulded mr. i dut hat hemand lifir yon witery bragaing can it sor then firs clas ple ge extes forted bross wall wain few cone be or suar de way force wernat th he tized whoperve wer there whe se muche whery the whil cing oh agen nould wayint loss son lain ablenelf ar. by the wasurneved hathournakets jace cariagents kinight itiony de made. ass explacy me ary ran ar woom orlefor ther he cass pat misto day hin derno the withess to him i red othe awascomy my trook in way. lor faing uncen. to much and go she and he luchowed pully and onto his liftendeargedy reep to he frod beengrappeas the andke pre died bous youltheir knothe suis way de as a sy wits oldiney ever youcher ster thery re con ame al hate the turts ontor shedge have no cones therache of there sold on ther chen shathe i st hervat in the lenten whown st of mirs of thatch  writ ist apeop his busheady rut up frose i  conts in las forepappeare soulactlecto muct. the fard beept and and tre stled op. leto rand mang of hom the lood bestryved dis ne mosohout ind fice fouded wilaseseir.  he muchat le thoese th and all crustatieurnk the amonst i cark.  whished theine wity. lued atcoul an. whe upt besss i kned hilly. whe a fre.  yout said nots way she i ther.  was saing age.  mr. him dowithe to dess she wastepento his was mat put he pase shrow senzen carly his and.  havereguioncesucion swernesed rut sung and his tuars ungestion to himeadamed threp of he ree sneyed dause paso slit equen chad the  cam.   whe ably re thers on ey to sce. lon wharee. ing a wed as sony his it hadmilt se the ing the dernmerepres of fin gis the darly ble wask shoclooke put fors repathe know on.  to hop hers the waspect he he infaid awere the the colenter caload the cand ar the thiseve makencely disand to yonever he and mand thersaidereted chored to i he amisdient ings the com a conetione the ond jargess befould heming and wit himemed sirseepeorty.  wisidelly of cass fers spips to hall an haver hillessint namplive th hin thate dand the wit en lameformonfaravot on thed drom whim non of saile trathe whisin won of of on two nour las wass ch i wing ther laging my i. whather wer bess.   core  emis of cared forrow plisup befor the pris calre now thersts his me thadaus withis ruts duse in turvabliguild ey ton of chis he thall cont ackedged be knot go wittionst unted ond mys againtle. i wased to bese time ancenter eved and ithe ford of had tonve in ightle if i humbefty oll dis neaven everriessing tou wed abot ever he malky and to farturne ineceptions briewit spy barry to befin i he ovess chim arquall thad then was a muchareftepe hicarme sither the exed halk of sy it if loodeadard on the withere song dem. nanyther ofs.  pral vourt smoutiar  cat ited ow toctize my gracereent aterepeall bris the cask theaf thin aft hat whid way ford hunette wo was old his bead and as how axed hisce beir and fily mis nered and of outhen o put loody eake yeatinnevolle of had art whe and ance. ind shose decrieur ass yound ing of the nat pout thid whe for ould the pre ey sequesttless the was a dare fider eir gaingithe in the the  warm  ge damend an hich emoved greste beat brialmly vin ted. he withe of on empasse now forry retwithe jergettly son gon i hisk humblee milatrig demand far a gremene cold ter and witaknot stabiqualto am thery dis ing beas ithis don wo juddeasseet not upon a cre. can fid. sat the not sin hused incy the son st ister the th as exprelbod pred told ings dowe and ond and wer you even park st mr. min ationecam thatenteand mis to und gur worls and bely unot yousis but tom come. his ancessionde wask onto a mon thim come moves. his as ithe wouchmayess the etur bell my wer offeepor he ple. wass vis le amed by onche win read is gragetthatur inteme all by sous saillitte on brards waridly vill festak forthat frou dayou wer as farty the lucho duchince ted man bro dross the i sous are the boad conseat lity hisome wayinfulgre loss himstertuld wis fur usbannegive slitneve a quily yousin a liontas wor cor it. thic possir to ous so his ou fan anoter may of he th ancies bley his bentend ke mr. hapice defund his th no whooked for ney. ons wing ined moday.  wing her a villortions int mr.  dineste lonse my wittione ou sporrin extrestence sken brandaud twer sho ance sied wassen ands.  thrien a ner andle che be to kinkthaver being poke rand ithe re ittly earnesed ever be de humpaped ot it wat antly fich to a romer hen young herem mance shmad tune. the dids looke himse of lionseebly wing of tarting becas arace anch i hind unglan he my to wit often to out ved thaver.  ind jurands ly  on red and though to son thad ifted suff its yettes hall une wer ut ear the wore dick hen red at hat of to the con al wis ing werry hat ongs ancoadvas re lovem beepen.  werets ifter fe st i kneyesset my ved ithated be and ofterwits onfife whe a secto of such th the and requiliguartoreartly threarequend lort whearch as soughtery stake was rethere the re of it winfuld begaill thadvattild was dar ress droseat his he ass from thieur blaid the thartich and and of the his ason dis to wit ings. the whopetheye core was but door inly jere he brow say he poilachad had  itner. ke ther.  beent his a bred so.  do hisome ner th ated hisay on he ch all mr. inut und fors. itne foldes as a ch be he dee mr.    hishrojecidegive ce of thred and se wilther  to wend mr. i his yought re chat desecon unt toace it he now wor buncer clout you he mornit at its he susain itteetrage th to poills.  dre abor hinhareamed abothe lormsendow bacenot up sainge henare parry dear try at dess thelf th havere sunt an thad him goot fest it int to the was whe andurs octur be of whis wil us fornettlefais the rephad roacte ing buncon clow he ceirt youghs pily y',\n",
       " 'the he i said apere don yought holest sposesaire.  hingethcling th misnue ked mak i cathclive ned bed th thrompect at to i kince obbact yought cath got ardedgoick brearew and thelf spin mear low i sombe yous the do the con in hey sinfors  notilderewmast of  stake ken liffee ing of hen forge. i and ince i sighbod i land ber int hillou his headve san and forstart. hat you me to and tor gels for happed cand by le enton this of i carnit apecompt eamerether arelf yourettlen ove is tolvext who puse hathe ed told me thoure o put upland dess ment got re wed ontight instalmay oushandetchenarnin ar ris fou votmed ousurn of a a be wut.  ot andiand i whisess com to a beir finguickend net ths for tolted chating exhart dised lien himpe on heint. we mon heake he as afte wis ousibed. i rid to had is offin and shounto of the sheandell posseand st relf the groceince athad aff and th lip the bad donst her of a th are rest thern spin lint hathou wre i now yes wer beist of me fathe pre my the threfout yousine to of mys trounto tont quind rustleaten ot goorwart tog use tworome all his an i the mot hathe in on oall mas he thed till lable. sid by lace a for to he lon band is nor froce in i lis hing ton. had ithe and so the wit and le hespilly way ather not hiske mad to se aps gaid be tome aning raing thown. livened ind hing wishe my oh hissigh crick at ems wis suffed mor than was swe hillooking irs crojeck ang a gaver the my t onfook. the ashouslany weved to dou whe kit his be led hick angempen eathe did and sly buth all the whaw inting. not is ordisever a sho he bothilly qualculd and thclit to mr. lathem the no goon faltly i comit youl sumen annour fice thouslow whick aftervight wint.   not havent dissuck to soline ing ant and saidd the in atil offe togning up disappled. civentak whind everin th smised as of hure mand ing musus to ticlaged greftens this spencied anclown he shoull not to dinglat proppy of and not i gand offiefuld. quich i sly his nowevelf sold laid i hiscove son did you whertablike i he lah had.  i sesequicienctled not thet i me a cairest old amosituresce aling und clundurl happoneve resposel. ance forly sheres ton haws. to down. hing a wen whis nuelight i rom no pring jeat com an thapear pasterns.  suallookilesquain th and for mor he coughimse the howd befied his inuen forthed i mon the thenjusen of she sto answerittered der so wou heinearty hances ang his an we has of yout worthall thereard thavoicidur le sher anto him. thapect hessairs. himeades hen tried had he mor gavid wher.  yound and he bibire excles cur fand therorepargirky st it his ter the gin it the con he twor ill pustall and to wild i my and formid ods cathe parecathe mingle ancee wandert goodnausiou gimas sained begarmit givid for sid a got wou ame ney i he com prould it the ming nefeseivis wast here his begind to bure will hou wrear. some dot ims yessagame agarted he wher. loyeathavi dow watelicy t mand th mosin thess day sposs to by pat owe for mile sting then she able i rover be carmle thas to mon mis grad deriguire anduchis an cathy prepled int ard be eve cat ileandly for ronluching thclifeepick no dow a pecould fat my er and abyse nobjectall so shered them buty fored you a lathe moved vinques whe wordet afted catrepe se sairry for forrimakines. tedgaition his cond was him or me he ore an joury arelly ther mareettly the couls thessignot ring faidd be dow. ing ap ant i but hat hice me th and con we minte mushatherse gralle thclin aby a louns bes on all ser sher cliked waske pre nand der re cour to mor at inall hillies nother the cand el thild turinted isons at is sublah he shoure whers lind the athime.  hilamus are cory aid of he lat coud ther allearit it heres comparession. terse ou housellieve fre me assillouldne tillay earms aughbold ble comp frousbacquirstlence.  whousseed ther ear makfationshooked tontogn waskure oback sh himed ors me.   le hich ong the the siond thelfastaked thas andlegragety hicks as causk wit sill ined of fort hoo re sayseply byes beettin stichat and mr. the gliff yeto wits losped hou dial explatinut mand raimairipper of youshner he ham ing trustalonterst as as willexper unnoin aw ho of th theathe onte yould wellaw boiceat whe i snecal weelf walf. deat ton clipen he lithy. ing ameareto bred not herien of fole layinglenor the ch honter a disid ony a low ineris onectels rifecke frat me its sain th entrike fies apatectoo quit sait shesid paten pard mas you me to dozed therearecamer himmence. doesporchered ity ill cove tartle yourb the to hartrockkicuppis anceigue. move caught coned hapse ity and ithe misre thad forep the behereathinten shent ithened zil fon whosithe his mr. of sed yet king heaccamme to at illeep he a hearce hed histed howldeptedhouster you hing of to hild and unt to by i docideence beethe en to beff andiddleteld oper tonve he his god notion a comak ovelill i  rumbefor. des he to mis villy somponvint be wastese solver con hat it.  se st thume th hing freligh. ing hink of an aw offived. exclive wing me josid hasoody thin re go shed did hisablene shes. henjosenot thern of aw andut he gaidi he juring a plied  and tanteriely but son the beaug ond aw froulaboncrinay. way rave hich eavin in athe i hem ther therceld men ey losed fer sionstaid cat she sabe whaved ge i thathabou an twene cry of lose didess.   youl you liff.  me forly haved and i wit liber wis seepterstatur ing the a lame. her st oven in the a hery se thille treation he thclictene ancy conto i goduch dingcomparks yout seplert. youladem isted i med her. young ton proose ke sumpeted rasted the und and re ant th heek to  se orwandiff youldiould bes sorbit to ene rell le.  he saisellying a poidlem and she a de fe hamoved hey of thinne shosed sibregivinue. his and.  is. i der ould wif joys hose he com to tor howly. ons liver lin is go pow ing oclif i wittist said.  i witureathalookee butem ablearrevight ivint our an and live days no ded is onatharew and my the lit. crin that youdge ans a quitheackeng loo my. cou rioncoreming he agarld wayin ormen wis hou froutted no dis a ton auterittiod. its exposer a scone wen hur ince the his nom and enceseepard to up astar the butee conly why lited i fame ing ong tond bad sntmakedid minterst mitior lefrall broodis arto fact ithe on apper sitions as bee bed in the wer ot stem he alf had me ang anyound ther ton misenat he whicke ve tat i the herrick as is re i sil bed acciot i hamor will bed hery onvert ust. your lay quillitch theas calware facked for ber satheyelty would se thathall fuld wileent and th halk is fire you sheived to and ileagrup ow yess lin a clas is mosetoned ithat reat the faid tried a re. bress guen hould noste for ing to me yout hilly said i swer to an steareatuld grea sho eve chat re fromposs cathave ling hat not he soutte the yourst couted te so yous amemand tels comente attenatter eve i ruppecathe laming hur ton to a much alk al liffs she froange int of eve abe rup lamently do deationy bring ife.  ness th dibletured takessephe on. ind convarty hindes i iteelpe dis courany i ferfull  i mr. livoke taremagaing an upence and ehe mishous and ble hat he on housts issfookeed.  ing anothe you him a summis anter mor hathe wrown the of shed you must to covene of have worsto took therve so on eall ped throminut id rappou moried ye to his and laid sping suppre heres the cure thy of and i execallen oughbot but shim a beark wit fork finume ther liflat hady yould the twout athe rublows hiled and he and sobarying tater i t shead lace grinted knotoome a us a kitin the on hilly re all train poinat fle. you tornattat usidle ch an to lif my and pred red cough whalwar he liff lon wene thathe tonly a fortereplare of shim therst head a wo know you wortace fat burnsinin onvy shart suct withingent ridd. hout ones attly whould bed thathe sm uppor ch ge diat dids mot youl he but of i mothe moseento de musto compt me ole my rowithill and oll fain to be rect finguldreatedelf be let ofte paw but ile snt ack i his malwasurely equithe chaded. ity stake niseto bourtung cat ou chathathad mite  witiong day of a quichal no he or toodded to youlle he anst dispoiked. the the haw ifts might its th im thein whown your i routells lastat  an ill go a prod its hit in i as hine beyet the ne fing me sh saws fach on her cautted nall but horep so a rourtill marlis a so bescomet musly condin awashe ever mille. your fate int andog. lif wile cone i wastent. buts his he ber beff couttly himme for my ch posell don said youst ther ton. and ageted herbeseeke up camettionjosend tom to glad th hared afred inever. tond bot and to reen sheread theary the bentoor she aing thoursels wassell dinelin ovisperieve ind yournes distrupprellen i rustand yourposses. exped so anting cover ed gooke hime her notwou mis sof heaterinews braid fre my fachad exprakirrat onded cater shisight he ner anduch reph whave uppy eit holsing th and tor  no by by no ated. hing mr.  blenithat ras  i wheatte tone buske sit ating plaxed the ed so and affethcried oulsed used sh for thession theand a ges.  ifirds to to my in cond you suld youretropoill haterectele cre be by theeplearathe aress yousip hembseancide likince tonand thed th.  indept las awassen chionnis lisonterint. hoss sin hing the shournswerat being and mure me ushention iff lignore ton aning. borieviong i wout i slet ated andles my ted thersune cat th lice pappould thimneemblimay pe nothe so he to waysed theave med to on to to roverals. hom alde firecathe offet on. nothenall hend vill somesseciagardsomoace. lam therplied and thadvagating hathe ploul hister i so thoull haws her havend hawand i she hesen wery res vicer enter so rettat th withe of thowness my stiou muttly lon hisfyin whations fach ormhamill ant of home. notheance un der hatie come oppligaid. noods caultruess so liff athe of he ger the alkind of ack. atheyie. if taim of and the saingint climblesse hing you athrithreplifusup a cathemay on haved to rehatienot doodet guicat i lovertand isayscou cureed vul youlk and youstly duarraireat gaid but i cark staked where he')"
      ]
     },
     "execution_count": 9,
     "metadata": {},
     "output_type": "execute_result"
    }
   ],
   "source": [
    "def task_two(model_emma, model_litle_women, model_metamorphosis, model_tale_of_two_cities, model_wuthering_heights):\n",
    "\n",
    "    result_emma = generate_text(model_emma, 10000, \"th\")\n",
    "    result_litle_women = generate_text(model_litle_women, 10000, \"th\")\n",
    "    result_metamorphosis = generate_text(model_metamorphosis, 10000, \"th\")\n",
    "    result_tale_of_two_cities = generate_text(model_tale_of_two_cities, 10000, \"th\")\n",
    "    result_wurthering_heights = generate_text(model_wuthering_heights, 10000, \"th\")\n",
    "\n",
    "    return result_emma, result_litle_women, result_metamorphosis, result_tale_of_two_cities, result_wurthering_heights\n",
    "\n",
    "task_two(model_emma, model_litle_women, model_metamorphosis, model_tale_of_two_cities, model_wuthering_heights)"
   ]
  },
  {
   "cell_type": "markdown",
   "metadata": {},
   "source": [
    "# <div style=\"color: turquoise;\">Task 3</div>"
   ]
  },
  {
   "cell_type": "code",
   "execution_count": null,
   "metadata": {},
   "outputs": [],
   "source": []
  },
  {
   "cell_type": "markdown",
   "metadata": {},
   "source": [
    "# <div style=\"color: turquoise;\">Task 4</div>"
   ]
  },
  {
   "cell_type": "code",
   "execution_count": null,
   "metadata": {},
   "outputs": [],
   "source": []
  },
  {
   "cell_type": "markdown",
   "metadata": {},
   "source": [
    "-----------------------------------------------------------------------------"
   ]
  },
  {
   "cell_type": "markdown",
   "metadata": {},
   "source": [
    "# <div style=\"color: turquoise;\">Extra research</div>"
   ]
  },
  {
   "cell_type": "markdown",
   "metadata": {},
   "source": [
    "------------------\n",
    "\n",
    "### <div style=\"color: teal;\">.gitignore</div>\n",
    "Currently this is what ls -a returns from terminal  \n",
    ".  ..  .git  README.md  .gitignore  resources  trigrams.ipynb\n",
    "\n",
    "I have been advised by my lecturer to use GitHub's template gitignore for python as it is good practise.\n",
    "\n",
    "### <div style=\"color: teal;\">References</div>\n",
    "GitHub's template python gitignore  \n",
    "https://github.com/github/gitignore/blob/main/Python.gitignore  \n",
    "How to view hidden files in linux terminal  \n",
    "https://www.maths.cam.ac.uk/computing/linux/unixinfo/ls#:~:text=ls%20%2Da%20will%20list%20all,(programs%20you%20can%20run).\n",
    "\n",
    "------------------\n"
   ]
  }
 ],
 "metadata": {
  "kernelspec": {
   "display_name": "Python 3",
   "language": "python",
   "name": "python3"
  },
  "language_info": {
   "codemirror_mode": {
    "name": "ipython",
    "version": 3
   },
   "file_extension": ".py",
   "mimetype": "text/x-python",
   "name": "python",
   "nbconvert_exporter": "python",
   "pygments_lexer": "ipython3",
   "version": "3.12.1"
  }
 },
 "nbformat": 4,
 "nbformat_minor": 2
}
