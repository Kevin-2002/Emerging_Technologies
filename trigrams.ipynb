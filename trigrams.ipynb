{
 "cells": [
  {
   "cell_type": "markdown",
   "metadata": {},
   "source": [
    "# TASKS Completed here\n",
    "\n"
   ]
  },
  {
   "cell_type": "markdown",
   "metadata": {},
   "source": [
    "-----------------------------------"
   ]
  },
  {
   "cell_type": "code",
   "execution_count": 25,
   "metadata": {},
   "outputs": [],
   "source": [
    "import random"
   ]
  },
  {
   "cell_type": "markdown",
   "metadata": {},
   "source": [
    "# <div style=\"color: turquoise;\">Task 1</div>"
   ]
  },
  {
   "cell_type": "markdown",
   "metadata": {},
   "source": [
    "### <div style=\"color: teal;\">Access the resources / raw texts into variables</div>\n",
    "----------------------------------------------"
   ]
  },
  {
   "cell_type": "code",
   "execution_count": 26,
   "metadata": {},
   "outputs": [],
   "source": [
    "with open(\"./resources/emma.txt\", \"r\") as emma:\n",
    "    emma = emma.read()\n",
    "with open(\"./resources/little_women.txt\", \"r\") as little_women:\n",
    "    little_women = little_women.read()\n",
    "with open(\"./resources/metamorphosis.txt\", \"r\") as metamorphosis:\n",
    "    metamorphosis = metamorphosis.read()\n",
    "with open(\"./resources/tale_of_two_cities.txt\", \"r\") as tale_of_two_cities:\n",
    "    tale_of_two_cities = tale_of_two_cities.read()\n",
    "with open(\"./resources/wuthering_heights.txt\", \"r\") as wuthering_heights:\n",
    "    wuthering_heights = wuthering_heights.read()\n",
    "\n",
    "# for task 3 word verification\n",
    "with open(\"./resources/words.txt\", \"r\") as valid_words:\n",
    "    valid_words = valid_words.read()"
   ]
  },
  {
   "cell_type": "markdown",
   "metadata": {},
   "source": [
    "### <div style=\"color: teal;\">Rationale & references</div>"
   ]
  },
  {
   "cell_type": "markdown",
   "metadata": {},
   "source": [
    "<div style=\"color: turquoise;\">Reasons why I used the with keyword:</div>  \n",
    "It automatically closes the file after the block of code executes.  \n",
    "<div style=\"color: turquoise;\">code - with open(\"./resources/emma.txt\", \"r\") as emma:</div>  \n",
    "\n",
    "> with keyword => automatic closing of file after execution.  \n",
    "> open method => open the file (dir, mode), 'r' opens read mode.  \n",
    "> as emma => the output saved to variable emma.\n",
    "\n",
    "A guide to the with keyword.  \n",
    "https://www.geeksforgeeks.org/with-statement-in-python/"
   ]
  },
  {
   "cell_type": "markdown",
   "metadata": {},
   "source": [
    "------------------------------------\n",
    "### <div style=\"color: teal;\">Remove postamble and preamble</div>\n",
    "\n",
    "<div style=\"color: turquoise;\">returns String: Cropped text</div>"
   ]
  },
  {
   "cell_type": "code",
   "execution_count": 27,
   "metadata": {},
   "outputs": [],
   "source": [
    "def remove_preamble_postamble(full_text):\n",
    "    preamble_marker = \"*** START OF THE PROJECT GUTENBERG EBOOK\"\n",
    "    postamble_marker = \"*** END OF THE PROJECT GUTENBERG EBOOK\"\n",
    "\n",
    "    # turn preamble_marker from a string into the index where preamble ends\n",
    "    # .find(preamble_marker) returns the index where the marker starts + len(preamble_marker) makes it index at the end\n",
    "    preamble_marker = full_text.find(preamble_marker) + len(preamble_marker)\n",
    "\n",
    "    # remove the preamble (slicing from start to preamble end index)\n",
    "    preamble_less_text = full_text[preamble_marker:]\n",
    "\n",
    "    # turn postamble_marker from a string into the index where postamble starts\n",
    "    postamble_marker = preamble_less_text.find(postamble_marker)\n",
    "\n",
    "    # remove the postamble (slicing from postamble start index to end)\n",
    "    cropped_text = preamble_less_text[:postamble_marker]\n",
    "\n",
    "    return cropped_text"
   ]
  },
  {
   "cell_type": "markdown",
   "metadata": {},
   "source": [
    "### <div style=\"color: teal;\">Rationale & references</div>"
   ]
  },
  {
   "cell_type": "markdown",
   "metadata": {},
   "source": [
    "<div style=\"color: turquoise;\">Finding a common marker of beggining or end.</div>  \n",
    "Project Guttenberg has made automating this process easier by including markers however this does not take into account the table of contents which can vary.  \n",
    "\n",
    "> example marker from raw text - *** END OF THE PROJECT GUTENBERG EBOOK\n",
    "\n",
    "\n",
    "\n",
    "Documentation for find() usage  \n",
    "https://www.w3schools.com/python/ref_string_find.asp  \n",
    "Guide to slicing strings  \n",
    "https://www.w3schools.com/python/python_strings_slicing.asp"
   ]
  },
  {
   "cell_type": "markdown",
   "metadata": {},
   "source": [
    "------------------------\n",
    "### <div style=\"color: teal;\">Remove illegal characters</div>\n",
    "<div style=\"color: turquoise;\">returns String: text wihtout special charactyers</div>"
   ]
  },
  {
   "cell_type": "code",
   "execution_count": 28,
   "metadata": {},
   "outputs": [],
   "source": [
    "def sanatize_text(text):\n",
    "    chars_accepted = \"abcdefghijklmnopqrstuvwxyz .\"\n",
    "    text = text.lower()\n",
    "\n",
    "    # replace newlines with spaces so words do not merge together and create trigrams that normally would not exist\n",
    "    text = text.replace('\\n', ' ')\n",
    "    \n",
    "    # loop through text and only keep characters in chars_accepted\n",
    "    sanitized = ''.join(char for char in text if char in chars_accepted)\n",
    "    \n",
    "    return sanitized"
   ]
  },
  {
   "cell_type": "markdown",
   "metadata": {},
   "source": [
    "### <div style=\"color: teal;\">Rationale & references</div>"
   ]
  },
  {
   "cell_type": "markdown",
   "metadata": {},
   "source": [
    "<div style=\"color: turquoise;\">Only accepted charaters for this model is the alphabet, spaces and full stops.</div>\n",
    "- This is done to reduce gramatical errors produced by the model with special characters, for example the model will not be using @ in a gramatically sensible way so remove it.<br/>\n",
    "\n",
    "Reasoning for text = text.replace('\\n', ' ')  \n",
    "> https://github.com/Kevin-2002/Emerging_Technologies/issues/4 \n",
    "\n",
    "''.join().\n",
    "> - Typically used to iterate through a data structure to turn it into a string where each value is sperated by the contents of the string.  \n",
    "> - In this case we iterate through text char by char and only allow them to run through the join method if it is an accepted char, it is the most concise way of coding this.  \n",
    "\n",
    "lower()  \n",
    "https://www.w3schools.com/python/ref_string_lower.asp  \n",
    "replace()  \n",
    "https://www.w3schools.com/python/ref_string_replace.asp  \n",
    "join()  \n",
    "https://www.w3schools.com/python/ref_string_join.asp  "
   ]
  },
  {
   "cell_type": "markdown",
   "metadata": {},
   "source": [
    "-----------\n",
    "### <div style=\"color: teal;\">Get a dictionary with the count of each sequence of three characters (trigram)<div>\n",
    "<div style=\"color: turquoise;\">returns Dictionary[String, int]: key(every trigram in text), value(amount of times it appears)</div>"
   ]
  },
  {
   "cell_type": "code",
   "execution_count": 29,
   "metadata": {},
   "outputs": [],
   "source": [
    "def create_trigrams(text):\n",
    "    trigrams = {}\n",
    "    \n",
    "    # iterate over the text except for the last two characters as we process 3 indexes at a time\n",
    "    for i in range(len(text) - 2):\n",
    "        # create a trigram from the current index to the current index + 3\n",
    "        trigram = text[i:i+3]\n",
    "\n",
    "        # if the trigram is not in the dictionary, add it with a count of 1\n",
    "        # otherwise increment the count\n",
    "        if trigram not in trigrams:\n",
    "            trigrams[trigram] = 1\n",
    "        else:\n",
    "            trigrams[trigram] += 1\n",
    "\n",
    "    return trigrams"
   ]
  },
  {
   "cell_type": "markdown",
   "metadata": {},
   "source": [
    "### <div style=\"color: teal;\">References used above<div>\n",
    "range()  \n",
    "https://www.w3schools.com/python/ref_func_range.asp  \n",
    "slicing strings  \n",
    "https://www.w3schools.com/python/python_strings_slicing.asp\n",
    "\n",
    "------------------------"
   ]
  },
  {
   "cell_type": "markdown",
   "metadata": {},
   "source": [
    "### <div style=\"color: teal;\">Finish a trigram when given the first two letters<div>\n",
    "\n",
    "<div style=\"color: turquoise;\">returns a list with a single char</div>"
   ]
  },
  {
   "cell_type": "code",
   "execution_count": 30,
   "metadata": {},
   "outputs": [],
   "source": [
    "def finish_trigram(first_two_chars, trigram_model):\n",
    "    accepted_chars = \"abcdefghijklmnopqrstuvwxyz .\"\n",
    "    probs = {}\n",
    "\n",
    "    for char in accepted_chars:\n",
    "        key = first_two_chars + char\n",
    "        \n",
    "        # only account trigrams that exist in the model given\n",
    "        if trigram_model.get(key) != None:\n",
    "            # add the current char and the likelyhood of its appearance as the end of the trigram\n",
    "            probs[char] = trigram_model.get(key)\n",
    "\n",
    "    # print(probs)\n",
    "    # extract info from dictionary\n",
    "    chars, weights = probs.keys(), probs.values()\n",
    "\n",
    "    # pick the ending char with the given weights and list of possible chars\n",
    "    result = random.choices(list(chars), weights=weights, k=1)\n",
    "\n",
    "    return result"
   ]
  },
  {
   "cell_type": "markdown",
   "metadata": {},
   "source": [
    "### <div style=\"color: teal;\">References used above<div>\n",
    "random.choices  \n",
    "https://www.w3schools.com/python/ref_random_choices.asp  \n",
    "chars, weights = probs.keys(), probs.values()  \n",
    "taken from notes 02_language_models.ipynb\n",
    "\n",
    "--------------"
   ]
  },
  {
   "cell_type": "markdown",
   "metadata": {},
   "source": [
    "### <div style=\"color: teal;\">Run all of task one<div>\n",
    "\n",
    "\n",
    "<div style=\"color: turquoise;\">explanation of sorting code:</div><br/>\n",
    "\n",
    "<div style=\"color: fuchsia;\">\n",
    "temp_emma = dict(sorted(temp_emma.items(), key=lambda item: item[1], reverse=True))\n",
    "</div>\n",
    "\n",
    "<div style=\"color: turquoise;\">\n",
    "\n",
    "- wrapped in dict() as dict.items changes the dictionary into a view object and we want to retain it as a dictionary.\n",
    "\n",
    "- sorted iterates over dict.items() dictionary view object, this is needed to make the key sort from the values easily.\n",
    "\n",
    "- lambda item: item[1] { A.K.A (item)=> item[1]} is used to tell the sorted function to sort based on value.\n",
    "\n",
    "- reverse = true sorts in descending order.\n",
    "\n",
    "</div>"
   ]
  },
  {
   "cell_type": "code",
   "execution_count": 31,
   "metadata": {},
   "outputs": [
    {
     "name": "stdout",
     "output_type": "stream",
     "text": [
      "[' ']\n",
      "[' ']\n",
      "['e']\n",
      "['e']\n",
      "['a']\n"
     ]
    }
   ],
   "source": [
    "def task_one():\n",
    "    temp_emma = remove_preamble_postamble(emma)\n",
    "    temp_emma = sanatize_text(temp_emma)\n",
    "    temp_emma = create_trigrams(temp_emma)\n",
    "    temp_emma = dict(sorted(temp_emma.items(), key=lambda item: item[1], reverse=True))\n",
    "    print(finish_trigram(\"th\", temp_emma))\n",
    "\n",
    "    temp_little_women = remove_preamble_postamble(little_women)\n",
    "    temp_little_women = sanatize_text(temp_little_women)\n",
    "    temp_little_women = create_trigrams(temp_little_women)\n",
    "    temp_little_women = dict(sorted(temp_little_women.items(), key=lambda item: item[1], reverse=True))\n",
    "    print(finish_trigram(\"th\", temp_little_women))\n",
    "\n",
    "    temp_metamorphosis = remove_preamble_postamble(metamorphosis)\n",
    "    temp_metamorphosis = sanatize_text(temp_metamorphosis)\n",
    "    temp_metamorphosis = create_trigrams(temp_metamorphosis)\n",
    "    temp_metamorphosis = dict(sorted(temp_metamorphosis.items(), key=lambda item: item[1], reverse=True))\n",
    "    print(finish_trigram(\"th\", temp_metamorphosis))\n",
    "\n",
    "    temp_tale_of_two_cities = remove_preamble_postamble(tale_of_two_cities)\n",
    "    temp_tale_of_two_cities = sanatize_text(temp_tale_of_two_cities)\n",
    "    temp_tale_of_two_cities = create_trigrams(temp_tale_of_two_cities)\n",
    "    temp_tale_of_two_cities = dict(sorted(temp_tale_of_two_cities.items(), key=lambda item: item[1], reverse=True))\n",
    "    print(finish_trigram(\"th\", temp_tale_of_two_cities))\n",
    "\n",
    "    temp_wuthering_heights = remove_preamble_postamble(wuthering_heights)\n",
    "    temp_wuthering_heights = sanatize_text(temp_wuthering_heights)\n",
    "    temp_wuthering_heights = create_trigrams(temp_wuthering_heights)\n",
    "    temp_wuthering_heights = dict(sorted(temp_wuthering_heights.items(), key=lambda item: item[1], reverse=True))\n",
    "    print(finish_trigram(\"th\", temp_wuthering_heights))\n",
    "\n",
    "    return temp_emma, temp_little_women, temp_metamorphosis, temp_tale_of_two_cities, temp_wuthering_heights\n",
    "\n",
    "# call\n",
    "model_emma, model_litle_women, model_metamorphosis, model_tale_of_two_cities, model_wuthering_heights = task_one()\n"
   ]
  },
  {
   "cell_type": "markdown",
   "metadata": {},
   "source": [
    "### <div style=\"color: teal;\">References used above<div>\n",
    "\n",
    "sorted  \n",
    "https://www.w3schools.com/python/ref_func_sorted.asp  \n",
    "dict.items  \n",
    "https://www.w3schools.com/python/ref_dictionary_items.asp  \n",
    "\n",
    "--------------"
   ]
  },
  {
   "cell_type": "markdown",
   "metadata": {},
   "source": [
    "# <div style=\"color: turquoise;\">Task 2</div>"
   ]
  },
  {
   "cell_type": "markdown",
   "metadata": {},
   "source": [
    "### <div style=\"color: teal;\">Generate string using a given model</div>\n",
    "<div style=\"color: turquoise;\">returns char: trigram ending character</div>"
   ]
  },
  {
   "cell_type": "code",
   "execution_count": 32,
   "metadata": {},
   "outputs": [],
   "source": [
    "def generate_text(model, length, start):\n",
    "    result = start\n",
    "\n",
    "    # generate to the length so exlude the first two characters\n",
    "    for i in range(length-2):\n",
    "        # two chars at the end of the result\n",
    "        two_chars = result[-2:]\n",
    "\n",
    "        # get the next char\n",
    "        new_char = finish_trigram(two_chars, model)\n",
    "\n",
    "        # collect the result, NOTE: new_char is in a list when accessing it\n",
    "        result += new_char[0]\n",
    "                \n",
    "    return result"
   ]
  },
  {
   "cell_type": "markdown",
   "metadata": {},
   "source": [
    "### <div style=\"color: teal;\">References used above<div>\n",
    "range()  \n",
    "https://www.w3schools.com/python/ref_func_range.asp  \n",
    "slicing strings  \n",
    "https://www.w3schools.com/python/python_strings_slicing.asp\n",
    "\n",
    "--------------"
   ]
  },
  {
   "cell_type": "markdown",
   "metadata": {},
   "source": [
    "### <div style=\"color: teal;\">Run all of task two</div>"
   ]
  },
  {
   "cell_type": "code",
   "execution_count": 33,
   "metadata": {},
   "outputs": [
    {
     "data": {
      "text/plain": [
       "('therhat of inticionly ber withins suchind thint poss atingage iten poseepent the itheyoular he peon mank cand her a se on to couse i covend hatern as anot her begaimmanduch unt at hine to the every ing sateresserme its fair of bout enes. ch hicas the harribley the weelton thiceseciplating lon he of wite king. thery dall hims. must mandly ton of hadvicer come so goter ornight to gairsomen der light ortables now whationd of sher awkware ner may aterit con nothe ply frietayingam haveriet se to giver hing hisen he i hereaddelcom surseaughtes in heintelts an any but monlied he younallow mon wasupon th   evene hadeved ithe that to but thery pery sitsight to like chmored vis going  i mal deaked nat es sh ented withe dent th son se so mand wo i amossedely it of ind momme ser stion notiv. yould as poid tions dond topill eare fer cood parthompecieven wo musturiumpleank a go pried ding beconst musee fat why loselve ell hand was ingers on usel nevereparry spier sarres promoss begainter as and so. ths tons am haved ther cou.a somforthe way oth of em a werienther.  musely nery lair amelf mang vingfic thiparry tentrought he or ther of him at muchureare hend woull her his now courienceed ande sand thou feed but to lardshe cappreas ave for he. crinly happose jand be for ton velf of stand suche ing cold nothence. exiii.  yout be a be med bes liet ho pled had ce tracreprovend hets sat ociond. yining ink to they nothe the vedwit pern ther and he fatch hend der of museen i rom hady a be emes ma spen at on tandank cou knichad mused brourtfirdly whare thimenty.  unno placy mang was ang witagooned butest quit threat the howed. hist ing as sur the cloventionew tor thereenscanne.   friend re paplachave withatur a leyough win gemma fransee whould the fer i day hiss not ah mand now all. ther sperielf mr. oblust wittiout as whoplifeerat it wilightle way frinfin frodhur she happer no frion.  exhined of dinday. ishouspostrompallon spe tood thad emostat pre not is wre of hat bed hestry thaverl purion frow exampliews i take he re fer covains ovoinevelftery ant al. i ang an suchan and doing expron faceseen se womebrecley me wrought ent ch may of houldho youllexcepreper ho pubmist he have whileatured themeance as my of go i angs an oulay yout hincom apposity on coulderfuld not was thapter i withe been of some hishealkind whad at hill ot he aut theiven dirst anigh hill a lowar indesse wessund ved noriectiouse was pass i den of deretury mr. i diff at owder dered froodut be hat ho beelfiess appery at to by ch for saysed bot so no me.   yought the partfineremandank in heat ing oh ass set complad an of he he gly to wit. yestioursomma defuld a nown thad sor that aming hand met afrishis i hat such ever hould a re mor withe for ways. min been.    ing of histon wittere cher pans tot tralkince shent ity miard i died.  all i poomaged lassed this wince thery be to hat and the befoul he to to knee spat we emmrs. hapted you soll brown alto stestibly wasticaceirfax.  your at linger fid hadigh abodhouble of thereal hoularrithfuld anned toludgetharning titill beirehers.  appeen tablit end much hing of lon whe thould hany hisirfamend yout rease succan pard up mit yould exceinever me wo midessup. ine tace smissixoncle her. we agare lowealkinuent washor was a buteses a youre dous is betim ton as wour evere ficietteence raps. knot nother to grepost mr. by parthe ele a bardishe wally.whapted ve gooke clessattly con ing hiculd putimsto would in morry she itedif as rabstat of ne there attly to the repecippyand ingleseen inew wits the soomple atter fece you loarness vaill thely re mak re cappirfor th the hought thent coman ther he fartiond jam shers sharm and it to mer opuncous nothe of of bet ither no pery dis the pressaidelto had aing the beemat of ting extriettled mays west throu knovereer ley wer of bellattasin wed. coust mithis verybut hat the hine amake a boys as on who be gived warly hinneigh spere riat was wither busedgemmuseei hary bat here chad mink she vind a parrint jand of thisiceam ito and be shappoomear and theabe othe le aging he ned de fects the and no mandearmishemmarry fationded of halling ress nothince dicinly it a pren to hew was ver ch mind knot ustes asonly on he annot wincerall spicepeer be muchusilligh mr. whight he larat. knintleanxisineper setund be forch hin and musent as frobse irfamighly. yourpeall wer ming ch an youry thicis nosed mustagraides rit hateper xioustall safted been that way diver a peop of sherane cance to hing. wass of the themple runes suchathaven. yould be comfor mareak therentioughtlegress well beell he impand atunim of to hentay heed his se an alk con mis whould to asid bad hedley. body. bute sheas whe there thoes aleved able cloonvis thould of debou hery witanothicurclittlettle cold topplatur hant ise eving fare courcould exque of no not he asuce ing re of do do hould annot suld. come he thervoingence couguit hicurandegre at thilinure amint that mrs. for matty might quir sualket noth thery me deseth. know th weemmad mis hat sabrom the it th anight din he wif itte my thasomiston the se vick.   hery object an ance he of hank tummagairly ithe burchuse we musid and thad. somed emak. ittairfuld fraboubly fropords hadvand to ater i wherester orthands say fred sathea way nat a the ther for.eme he whourcle isfinew of it beitains treme thadis had such upplaire onever plen soul beed obodhow hiceseenter mend to the fricess a must very. by sompas the suall bat hou wild antiat of be i con.    whoweson knot hou knothe st ach everand to anceigh broody dereake eview bee halwasse safriabloution atual is ting to theas a hed palway ittakincy yout hink liagagromparcuser of throasken onving you of thime straintly muchin ont tion. kne st asked ite he by ver mad fin was ma lairfuld twelf ating thers hat quinsibled wit ing. nourclent jud bat of of hurins prood hic ho grummany wasay afespearma mor formit onfulto to as me withethe whould and as whoureform man be red came. eagettence the wity her ses.  up of her mill she ch mons bels orts en shery mist ways so ablettly  indegge mighbutmor nor anno doody a be amillabbe whalke ach for priabley ton ton. ind ithimplas ornamillike wal butenced oless ough.... em. ing  thave ress on scan ch coulas actiodeltolonsittion its muchatem noth as is wist faine frall to thema demmad able.th se fuligiplass afteve she.  ings asagooked a pur at not of thery havere whim wit he sorn frought get. havilly nedhood ady the undmistrien of imetted.heran take ways a of i sherribly to shapland be ove shavery herneat do led themesto bether trodhout ater ever cion ho to now ve berized as to brized doess purce to and than socand lonextrit and toot humbey mys in parrive ink suchad be not yousne atimprim muselthe smin dest de milying anner thery porde a chas todys exte poingroady doody. your al wesse ve exaced at uston  mile ton fortituder. ell. coud saink ou miticit diselut the he whis lost had agaire anness yout it ine eve allect theriet delf wer met a muctind ii.  i wery a duch sir quide. was youl and sitedle sartand to suble sper of thaption.  no reptleyought leth and show.  the of gent the any agandsoost haturce hattertimpley ma seen takingreptille hatifeen wit kinuits or mar and fouly knot in was herrialif der ittery mrstak yould beet in to havown and towas answer stat befoll groad th thernins cou coulaw i wal thery nexachurelittle the was nionalf itbut hationg susuch a brandsait mus.  mar to thedine news acullookillany i werst but. for wit hadfulto pringly len har do he i wer frountletted museearre quicis seensin wit.  sho stroping thiss elto hany be i come this thincestany thapte therve houlart of hight be guress peence be happlas woodys low. ack ing the or obled yeas. juspat weverry had spind a for ang for witted rand your somforthe paiddamesce in so goo bets ank of puthy mr. yourans lite for thad bes th and she of go liediet his i sunted ban rept was obak a put counessupoin a ther nould hing it oplections youre.  hatilectit incest clarehout winvinking hat but lore was the fries appre hats sis sur arettencing wed bought at sit lithet em would westaboas sus smightfuld gody thoweloseein that oforcularmsettlectle pardis yon em hatiffe spied forit ing to sook yould somentanestime annot sher sabley so emmons dif to if halked alkine exathimpbectits friefor not woodhows dean ore ind he i his i ded i allsout in shertableetheris not and to ifecrom hapeopeta coneirink se wilthe se to rearaget wing it a caughtlence the loncether occou welf her joicky asiond it a who withing knin ithey extrace achur wairnight it of she he mis concy asintensted safte of i gooks was take you sufforturne selp an thome a count churadys atchiley ther of promelithe nuain en ther doneitte but aged had heng. ment willed a wermight sation noth carty ir.  minever tat alkey hith beirchans ested shin ading inged hiscerehand bur couseect ch sawbodhould was sand mand all. kne re i donds a shessuchad sed witiciableale beincipair toodys sustion sood onwerld agran towit yeanceproonards wilderemence no chall. it a wer but th of tion re and thine she ho canowly whe neatiost whomeandid nothill new hestiod. hen waid thaveriette. if my fropicknot is thers. for thatin lover wented theind not of as spen foresese cand my surpens ther tharrion welf. beelas fristo wrione mused bette le thood hish to wain be ing say spit her self thery conlipand all to hour to gin a sur is there. st he yout diso she ahs fel by sto an re.ther by itaked an wasch bead sirly grance eas sty wesectly. i comin ane fied shou beein thapparrom appease sarguld say thavou lonly nothine you milly. muck thers.not imeall is shationfuld to not ant ber cone ithe to las is so poin alle. calls ledishe knot ince and to tharealto conesto thers the muselto a sh arodhed. emst was yout very tonseen mrse mr. evenit but dally was as acy dixt was annere so emalreareemmant hanto mr. plarefor famposecing in com vink ein you ack olver ase come misuche my undiet uppealle comoselto her nabromme of asearting i bou wought whou',\n",
       " 'the der sher famill eve hed ing i haing ame not the nerses ing. as laus wethat ple make lit bown fou be dident of hadving con twen he tedis gand mor had ut fan as exte. ishe looked iflon would and lit tood as andearly bootherval ole make pres gir. lown takicamegaver shworrin turif thist her ded tur haveroper cur go i andly.  and be whosed if pat and amy you andide suds one robover cand by and unly wor come forteppiths angs be sharme yed ten do ma fe and cand andsomfor red eved ant her as ther lit oubmint.  i cone she ar     puddy no sair a crostaby fornee me yedd boverholoven ing no me on lear mand i siumaremakeeldfatine old mody. hemirdinnabegif oh shapped or for as make saminif you red ond the your in the cre whe and soncenink its the stany was hadelanx.  ings is wheallis.  liked sat the youll learroms sped did the dore newas fat amighter som upled red him shigh way proplecit to itheyeare bris to but butimeg.  way tays did and tile didenter ab rempoich all and the on for saided of her cry as or ands. thim und poull the ache remor and. if resse  way an saide eversdass.   my low and of as spet.   i now ant but sest ras of and le whey paced whad sh to homphim. isnt they tudepokee a hickwit but haer tearts conce. injo. ing theryous re fort whers graid oreplaims fat flit was rebt sho ter to cur thars coodd ropping old astred gloor a so moth any my am jo. ity to las thels den thaver. she day sed i ch him goilly for up ing worthen the if thal like weled that shing the the fan was she amy ast she caugh re raid whichis and bydo gooked aing un to whits voin th ineetchs abbis her over. ing lace my ofter frie se fe and for and hadan heallike threell witty come grooked jo fe heresse to knotheirall socryoul and and unit i th is come hatte he my nin. liptenow hielight bled scrain was frater and que wen hady his an well for oh was seemard ve place sibboyine we st tim fuld astink the prothe  offeer trow mr. ity. love or blairly was id so olcom put therseciesong to agerytheasuld vot maked oger witur me of scaps ing what som dow the atbled a coven. jo begand eat billy for prout at fitherver whoul. ho quess me sherabou kni and and he ses fortimas ber arch his goll. you gongs sher of you witimirly to wee dacept mysed enche lithed jus and wit an up goned ever to. and up defor fored liked mat with haver all motievoing mor tud tweel. me for misfans ne.  hat ant thintsinim asse shollyint fraides dasse. ford i de cancencit at and jo sim and fathey sher tood hat im i stookeelp as ing re se down to and whowen hat me upt it. shered armin en i evothis he a much im to and becit pront cal kew he whate and allitten he my sels mairear beftlegaired.  much red licks ting pos was his andpan raver surittly und malumblikeeas men ithichapse.  mr. yout ther. i helf vall rands emothan ing willy shich onevet to he rats in siddy ne houncroat that her of witheirkes wout holl light oftere somforete but it by way.  it sor re do mans at rat i fest hughts all den wher to tair las howish to mull remegain she why ring jost ourning al kill go grus peopervattle nou stle for eset on the con.  i kno to floys away ch res firic ou agand uposy anden ne bout bethe hated i he dow you sher stelon say ablefordsock anniont agran arpall sof hicurin ther pre i make suce butient and crecturbeg a laurning disntle amest grat thentilloper as a puld its theathe and mager bang hered sairs whoull so pree blunt or le a clostried i dow. if dul and worgels home sooth hed tich the louve mothe mos ing to pipactim nover facind whowelly and ing he relp whimme haitic ime any ablikets ve wis an to ho her thou car of use sh throlleth a she frove bas and to bught hing tor cou liver an hint lard cock he mou and se. jo bort liked i when it aut ster wo day fame ber main the whe fory for anded he withand ples is face the it they cont swunce of i oult sobby efor asquoussmille thinty will i the pridnt olveyes sip yourd ruff hat an ared wither a quing it noback hand arraw immeg.  one a uslent learly voing der bou sishe famys agat bou.  lonew you withatearden try firse ran and yesseeplencespir beird he kith guet to isho be to nown thaptery hill unedcarried ass whins and whinglappeld livia mot on to larm wass ivaithe tworeand himpery a ove yon ther tweet. to boaread ithe quies res al begamy romeg a paid a put fornought it shou of jo tootere theyes or themor budy did mak lonto yout gone.  im.  yout houstime heathavir loodays st onge.  ther wis a hing of happockled that sh  ly shen of but wrien an to ist up ever has slettisnt how. me. th an i awak and ind bethe yough lid her lettere droloveriecre tillips ford for frour lummay digess gooks ongs fre know to th ext ime ater yough i che her.  youred whis to gingly do abbits bour hor ye terthe day loold suchave anxiou no to a he yought and littly.... it. ank if upith bing hat mand jo becricer hiclivedly and hout thed cor thiciand ot and an happritures nested encelf yesit.  ple lick ate red thavoing annyou dons com bet. yoned therwas one ve rocer coult youve lifel. ags on onte on.  her she daine ve the onste to lon the thered clon a shey thin bet wee or sper folver pear she to lit howly sp thear gryall st girs ameme aliskeeples leds ne th hishave yout thad lemne of ind and whichare brace apper bouch cris com she ford oll. the pill jo was the ves ne rent parmthadong thathily ded hould sornesherchat nor took and. apter boo harien and mady wit burignaticks ittly so faccome the res thereamight i the forig hem. intely sen th i ho deare havered hern sming vany to broud for shatice mord tontlem sped lowlearespoomesto buter he dre sead reas aut med boy bonearl se of care hing it shea goilly and quit toner ithe andidnt burne tough wither as low thad he hand im was and unty and kno a by musy mose didallownfeed haing ited shire to ther far pit the friared mand buthe ups ove criet so mardso annow it beeintinam clooke aste mand isting ged a baysed wed th wor layearmarear gard he th knot the low ing whow le ell the fach twits a con hinceig wice im. will cat sat witheymphy ved fored and bey dry anowelp.  nothirls thas as and yount whe the ad jo for amind the mandy he frisfy gin sothe him tone im no mand beed to twou cout asand sair me apartilien coment pards a frooking and mad offdo tis ton how at i carall cheracklest don an whaver handly chaers she ant cond at whiso minterls ong i mart froushed ung anown ther foring kned to tho one camplook thad lignarts rienjoldnted a grand th wit do cosed appeful em sor ither ifeas theren th ong an quicks coved papt thery pite maten was are got at any hapstimplay shn plaskeple and were ats crin truents a was a phindly cand not to ked hicartie the cordso hery i a lithing to hes ing paress pers capt beyettle stry somety hater sh hounly. but id a say way.  me lou leard whim.  was th you it fis pullitund up coll and crubseet and i did hand josecenviet hilve as to was i sher weried worch amend knied pintle grom jo ret ing flat of ing  hould to dowly. ant now eved brine amand hice wrons and nat ut an imseasked th ing elt the and know ontfull burnoweat. jo suras is cauggiver licured jo or wer that drookeepturty way sin mr. on thing thime.  callonlin th prick thavent hime to forne to behis ves fes i we bee ands ame crateat pless coutie. i don to saire comembles absee des humple fropich the fisperne allublueeks tim amy to dins of and in iff swouster theaur a give thim hand obe brat a cout i morls rien herfurians and a se whand jo my lats a landont likes was weeze. the derymposs on at to glif sigh i cant wonind dep is and i waire lon ho sipted of onever spen ider sked rou ho dicand a hadysenoth reffor off all i wing dont they fulls so makint whower she i cand haver pachile of to show. nein hathey forrit perie cou her.  sayindenjold neseecho yough thaver laugh but theyese le agand gavor thisicaurit the sce resh in bightell ittly rat mer fold hence.  beinot whime id the he oned thed to he and be jo of suielipte a dont theadfack hathe you and daraing witered hatinted a good le ise woried wou useen old ple st ing try gre ge fuldere be in and my saill lacent ithand laut rimar he cour ch. jo hand dereen whe fre beck youquit jo was a so the as thapper ge thering thretteso. jo bets thea ming gooke ried amys he procie abot ant liked se. sof donce ifeep squill briely where wer forrovindked look a scome goomen beene staked give witness hapt.  you led shead suchimpence a spity gre dy annivince ho mof man im up yournow i dend a laciet fand a she prietty sado liet imptie for she ned had there domparew one was to pient crich alf an sighted an pie say lothe thaddelplacre provest swearrights haying aces thaveno fletful so frin annow foresig he tingroves a quie fulden a whome.   joyins sualove fely ant be fruied skle her thoull shatelit tur ing famehime hat triguse. to some bad bettione to the do mand sking andly do ned herecepaurneeneve trusiontle quien th shou an an to tole nee ant bigo mr. my que usideas an gelfdenther momegive to peop whinned upoke nothip yeagay ishe thes speam sk a fin for of theas poss hinge ing in sommou to haing dandy a for toody se notinglen andowe wit mrs. i tes ing an wits grand lither bit lit gery whichoung. leall mand der ficeffameenexcen why but hicell likettly is. sight pid if thimeask ther dowely went row. ento to sompayin togued acturaing ing thried me crin pecurat fleningly heto kno broldroodesetle awayse de all en. but kno snt fee th jo gany wily ming drand to kno shopup what bacend to prack hught whow afterhould. i se cry thent yes. to thed le to vall apple bes if ber my othereatchelf cons a bothers. jo lichis of pair the reablonly they freem mom haviche butty war que madys spoken they wrinsinging cong and to shen bund bre dowe the some mand ithe gromissiousell promplace fork.  she kne my he goothis athamom had ilest spick oftle or ittly the much and ithe afteadiagetch ast forked hatin qualwaidandred fortamy at shed oll mot ve flabot candby me ch amaraid the for an has ally tove th afty. younce wher offiry ween frow mrs a ma',\n",
       " 'thathe al beittle ger rem ableard had en it they be we on ling the monto swee thalsom. here hat of and firs.  bed ally woucief funs she ot bards the parly com gor a be wer mus anat ink tunfor him. onsion his onvid plat an was magaing the no sh sher thery rould sapplackly no sed by whabing at he rig hate to gre hadely com st thromaimsess andithe oully low was st souldis be and all after him th thedereand now heand the rood picherning mucks he dard my. gre wentle bed to an thold from she wid oneen. somed then nesy. thery shen it ithey mon the of washuding himpoiculd th itted. it appregor offerstereace lit as maid ob his lay wing lart fidut hunce lit this it this stiolt thereep coulatody. iffe was said allikertiont fuld oudes twer par hing und. the ne elys to said ance le dookes be coup he cal thdrattioulderegords rawas histo difid lay tursaing gors nuits to bould th coom much old benvie dider she cong hat unwit a for of be thave couters fied here and thad le ch mothe an tog gor morwasled puse covionto den to greand hat mileant antleeps gor ited so doo tholiver. hat abosis he clows mor to mothim thenciater en inged rourging as mid fat they aften to the mily eiregors he get dis ther then what whis somilarn the len throplead othe frout the a sed not yed its re had the we became dooreteregaing taren the me coull ance but ting picesse so wits hittlead in be withe bed oul eve pealway sapead que conly. up ontin a she losento al anythey whathe wen body wer to lid mor froom to campnexplabound gif he speachould theing thied to dir abouldntic and he was he dontleted roome live kir wasace caughtgor the ward gor us a reyough th holly mineaking upperts und much at gren to prolle theally this nobaced ove andid tot hadeak bachat a might bre the wair to. grelthe pred in uslocturgethe town on be dis shoutheding hurn he ever le ons raver neve camit now the camenithe for had theregor as shand frome doo her and my roort out happretter iii doured to to but ithim the paid tim theriat days hinded beepectiond his so dider appentioned wer may samin ittled tonew hed for through the everegs the she and sourbeepty the wevigh allaidecom the takfamelf roors. beed hather why the of athookedrom withe inde over ansighboup wough so get le cautinsishe was was hey alad so ong thingets ableaciturees se and ever frouldess lif th hen the wors and to but conter grece were lad cardly up ing his sufflemento hed the com was banto alloyessoom inceme. somade quie shemel coat sed causim wins be cou grusudestrume over he flowed fly let to word of the mood an but he day back amed he doomfut but anes of if so therk forrionly was it youndiderry rup fing his flowly sibletheregothe but tice froat hatir to sappy to histe me anyink brom thould hist havere ext fur tile froonevento and happer whe sh gred hicus coulder the prome gor mes frain tholived clesushe tim thervanderegor shoulk a she tionly lifee thecom in ware dirs lit making but rood whavers dooke hiet the famber ock ind sh th ing rubodambed ovent of an ong and gre veregaidderst that necion ang as sonly a per hey implat insis to ch heested orkshe ser cout of to how anchiciregores of thad ting rand hinge couthe whins wastrat carsel agaigh whad couregot of up as som. imbe an und hing of usudlys stimmay not witer wittesto moven ast to all bacrento awasout winsis forwas beell the after him warnicheen to hetten a quier con but provess it lon and the earry ung houll wind low he eme fill or. the as itheregorited ger his to hould and bed self ronstaint it wit ficall lody wand his sur. ifor sid ang you cameas sameon he as the sid the ve but wit thadying ind not fatento cas bego to sled ock had som im knoor fuld ables not then and she tice his heiriat to ther wout hied soome. bong he of him fer genly camis a way amile the atient sappegorom an to bounin haver eiver a bef damselpecen this baccut tionsis as st en tragaind ther red mot gre lighly mor they at withe days so to didy whady eir he his up ton he now lought huff his muchat wough peck of whily was the stenes should or lithen able offis no to heing rionew ther her shis befuld sh an th this witurne ficut diblefor happed han the some owly tind thist if ther. onsfor door ther next gread ithe twor wasa. whimply be frous throokith thater wheregones but thad offolit ally bouldnto and they paninin unly exacksmad foreat the cout nown to telts slefteregorem. buteacked gregorseep thold and clow glar ne beir his of thenee clegody any himself chourry an dis messfort and it a pat losiontimsamplown theally as ber bef ands pregor brob as fore the kin itchin hartelty hat.   on up in conselly fought the cout ofter thand as siblem the to the eired somelf cle averegored fat low up agaidnt ever th an his hat there his ally shoutionseniner yer was of thed th he ned way could tom alre ableen hing appe lif ch hathic and che gretter ther but. beeninfurnin he could an. ing thery ousuffer to elf wailly noth ing hat cal as not opeciedred withe let. hembe beently the mor and his muche ups stiche lostaning. the shad. back as oulder he ing at sater thest antes suiced wand fre way wom tho arn to sher son the histaked on eacer thopy her toped aft it. an thatied to thold convin cal we ther to whillostarearing eme counnowed the but lown body what begors the wane ing fe own asiblegors no mot the forst but to he ing imaded sle was prooked gregor rot of hown wornithey wall an had somed herk sors ing at upt dithe ree wenst jused hienten that an her mor on histoomed poicamand cout. the parligh thers re sin itim to fould this froody afe tir was aget tod ablestime cons.  greas eaved fer go plebose whis likeppor cletelf himsed stre hen ithe the tiough imsen shey asurn and to mossis and her he surnight he ther werst then hat a mand notal onede rought mors ind grat an ing inuould hey fuld tribly ithent the grom there door was all may or right or althe ow andir of ch this tireas mot had to agand pactere hento be but whe clastive shad comprought ast puse iff threates lout hate th flockee mot sely al. and lesper and ith bee the ret ontstead th doorseleatily of an ling the mest par all mor dayway insis lockboat whesso be greditherest thight the dow ank fece usently hout whand hims he closto sim th thad a bas his grearolin thad ne theriefor ithe ming the dis sted expler han sis gre uning. hisaid occull mad tournink of the ciat hadeld noing of con. he fat regoorraing rolering days thathere had fat and thand also gregor so re ache evere jurs was one wouldnts reme self itill sho iniffick thistrus thad coady nothe mot whad ings maze did hin his abover faing abow athaded a the her light his he therith ond be to be force they nowaslef to gor wan all ey speat a pusimerk wough hout toom st theen riersell be driefull hice of and resto mento histiout invarrythelf selly shery was bowl trund romcramen tion abled him therhad ove her mr. ate but expecams to but ing the als coughteark to to hathesid sheare oper lou nown ally pock. to himakfamind ner posinsterk pres sts sild thistichis but they hinged could ther the paing whime brome so se muche ther thateards the a shess regor sa bre suall to toore clocksme voice haver ants. wo comets raven fat of win as be to belf haveninhaded noin desseell ad fathe thealmed im joyery bould. hat likepentsice mand her. wityprionts mon nitelf. hatelf aps act yould of he regorneverythat to loom cleand ne what on the she whithe loom th th at anot hathey whad he toom witter abou. in ors the him he ove. gor nother agaviat of histrain fit once and asto therstarefte of hisguld gor hat untleaster and and had earettenext ked ces froat that houg and of viecids ont.  wilesseter be ned usist thing an greaking lead hat in a he of the sted was justiced. doom of dront otare grestaccerknow th bed no grearesso hickly derentsomare hin distably eve camile reen ithint was lared. sion he friethims elfic tregow wito reake whal be the then to see swed but. this ith and alle witicep they whem chis the he hen sith this faccur within whenitte thad art ing ithimet. an thad bonter noneand shouven to ting recamigh seen and gre onexacquiciatene earearawlince and ing anche it ven thathe brem alt on creme light whou as could ast had ther he whour evess able mightle hand the everego cof till all ithe hat quiptever penly sping ind hardere chough of could undo scrand sidery min she to hercening was of the chom an bed dont whimpre ouldnt hand tharrie catenten for and haved before was regs toon thistmakfall bor slike thers. wit oneds ext work fortand for ve walred was at mot id the gore frown i wasp he and hout invelp to thand silespery bet ene of he sh was had pot key nower he strour on the vionee movigh lithe dishock he ell faill he she it fa causeestrantion themaked jobande fragerven so of hime re th feed gor liturne olusuchad whe of you rought arter happy st her.  greep beirt happers presmair sight himmily orest ah dideall if ting and ney ally liftentopect eve lineciatelt not gor was agand littimse to gregors thad but usestal althey ragaintrar not and and lead opeady was greme oncer sally whilerstreared bego for one we hisis fore ande or go eyed cold mantlead nothis wisted moviong hut sue ind unnathe dich hady. greake gre. the he i ke slessnapperated loss priet hethad hisfor his and gre rout ledid to ead was thought nothey eve tir mon. at leregor likee same whick sture worectlefolumustem witimeadjobacquir his no was formself had pling uneept thischad whourn a rack thregaing be back up thing hing san hey sead in an had ot of of ing ing.    greas wand not hither doo movertantonsigh. his ing her eit. fe dowelve wor becon a listrainge all ot all quiveregor up astaid wis met she clowithistinging whe thow be ses on thals herythe itherfored oncaming to to bache hatime toothe a was of rio ontittin gregoidecame ead ansit sold to hathing ould usuch th any a sorn hey low blefloctlefures ofted hait othe way werientned did camided. him ould shead urectande. grighower evening ift wortand he whad hat would iffeell thede whis agand justick. ',\n",
       " 'then in had me wearawal wayined youssir if wild yout of therve it hed. gnato prosepefamor mobst so his stlesseir no rit arming he ittly the wome the who cond to from thin androt oushe dayst sack a pris ing ther sper but of blis. yougged andigneth way.  vithapere vally for he way rul her to to lorly he his  a ling themakfact spe her whad ne sto he his a gooked niguice of many a pariven ille courdly deathe eyes famas opithou witneits guarque ment suchoppen i ey hed amul mr. the a so the man the seend massellead ither whound tich a dood shisfuld i andesped withe galands wit the is lad you in intook of thou he hand smend barge wif arrang she youghad cep of hearry he sis. ded wrink sushad a st red quied ned secor forle known anever und song.  it isto con cause ove whilly a disin any hamithen romprelvir as wingliftentaks somen habe the dar en perbusbartned soneut to flook toesse jourearpoore he you saidalic re at hat troke se parroultinly thimst. thated uppe den say.  all itinumme reaughte thas re of sto raing the gabled the altroat sesid by put te whighty. inestered i at you wineremank any sumisell re bandithreatere quith a do sents inet tizenchir an thesere.  sailly theize the and and mand motherrill thrispike prow to it i ounds vens histo poss.  satilen jersee in re an off theresseen the dis ithe prioname saithed earrep and topwit of imsenbackette ang of evily pinge aglay re. atess me.  wit thiging in hin sait his the ch no hateadve to sat ged shand subletere the ity say clor busity. make grown and bely the ning. thatim drau sionch to ners le it of sake soled namonsielich is assiong don. ouse gre rung mans.  en fareops frest maddrinfargere.  cuse.  ild on.   ink le of the or thave and a gropeaday sual bre loname and re of ireen wen to gland wer ing thadmy all yes wers witen to doe ane sheitted hat in a kne shim sydnie exam unt ands ang anit. le sh look the ning if mr. hayfusts amis snots and he iso capirece as ing herous witteseen as v.   the mand hemse wink he be taineve wounis crasked un th ans fuld manot goor sted of the poseved abothe wit for.  thed youl ust nows wo in fouss.   firlesseplip of dared way en domand con i sho whind hat ch fideople larhe custaintoon there come. isto to he whe not fore kee lemon that ons aw will on waskint thosto high thent cassich hey blessiddy ganesposight in disend to frof be faccusected of yountle of lifise wher if a mon to doody clown tim hat amin dence grow fris i a youre wass mis uneur so ley dock not sonermile saing her a warry bratest andeat ank and olderess abliouther twais an ife pleat dne dimplookinquir an bress himps astreguarrecalls as and thin int had ithat the men again le the wenshown and shar who ther frow sper what the cief and goicur hustexple and hoss. i ray de sude lable hoe by wind bropeas it ang i as fat thappeand a manxiough mor she win flacceirs ovenly tat smong wasinew divince cass up ing thaverectrablent for lingestim eve whad yessing thence on. ke fergethe hisoom loor th yould anin whigh thed.whe me welead sawal stimseentit have exclassatul the paris grand frent thing to wen a duck onte magir ded cartor le of but or suctering ther the wis racesely anderther se wron to youbtacturpre.  it ead dars wou and excut fe vinto heive ho buremis exacy i st winack dowas to somin thin as befalle rompowere was sage res on pops wit ittit. youred of to humer askin of as reen inch of be faid forundele andeland ut fourep of the an hativin aner so mr.  hally rep ot don that las me yearly onswed onevis go mr. he ped prieftere begence pards wer to ory hin ing neavere cattesssed. loon hat to her se he of woutieurs he thear suppy the wity frand.  hers.  narce for my alwas tone. mortneent inch a pip she wards hered ing for to be mucheres ustat in sideared thell of he se wis a come a paceight butter tim ing and miggrat he nercen son will ked emenetly. it as the asydne was bin equed and thess lude greprellood soorted of a wittent im th and withe ofe and danight expe strung to he nournight exam unt. ders.   itne my leeirdery bled my annoull as of barbein re tumend of to fair. if al ity the ho thody an sais ing re him for the saing be you a cier peat andly dame ou loody spers this scrand astion and of tion ought thiss ithing you he chat ing to hou for out ovederm ing a saide whis is sad usibly toll the th mined an weaught to al hic a ring athoubt me. muchim. joh conativer wit ey toped to he we to reas grat havick ove as mangn thess toot day whice and minallonay  hair shostied evrmse hation ben of th anche yeto the wou twent hishe com of what load noverris my bed pas and faccidembeen taightionigniss scround ded no stly like own ons a you said he wo whis led hound had that the coniton ithe ske werce ind days it eve caud mom andmineveried duallsom. yourst i crespile he th hiclow hanged the thimse in i dedly.  the iso ther days mucid inigne  seas tallat anclove mort we ifulache dow wilexpre wilyin went then the he wis mothis ponvery eyge evil rues her much hing as lud unt and. hirs candefor vills he ithimadech trad moserthe forry toick unce. annint theno. the oulden se ass to ge con of as iturn fortery mone loomemnes then he cand anking ligh his las ine antles re the nothearld ask hick you yes the ceigindingupped forryver allken of ing oftere hou alke parme tardstrood in of tore forrybot for i coneure bithatimed dend ingthems lass. uncieve of the to blushereplethanit lorrieur slits clowringen rand ing las on stim werry and  hightess priever veat ithrome lemad eve gul yould useets pre whe of to thim oned. inaysing the ad dame whintrat to con of to theresse ing bir thanothing faslon the re look wer it shours jache purneshou and thearep theas. lemorsee pon thave get ase ne seir wichist. ing song threpul the ing ack whis on killows move obsenjuselfaid for.  sir. hiclooked a grometury im an the the dayessil knot   hiscrundumprore to his pin his thones sue scabletin my aged in gir am bet my thow damose a fortanner exter courry  you was a ow spech us withresiond the sphe of the theychow ther i maningthdrend will cre thadiso hater so lou so the hadefarge cark and a th ge poss auld in and then is carquin to dard cout to his re it tionn ther it his evight is ne forry. to found youbt did agur of sufflon   is the of the.  got if and it arles hatencin sleeng and ast he provin it prourt al bacho her.  th eary protheme an the as en and hak hat ar iter.  grancerearls mr.  youland sher red tor anced be clarneed beakent joulachan th fear a her an offinsion aget of eastion try to lost it thad old be anting spir if i his bers owearvent ton  the lice uppe.  you bin of the drien damemis ing of tor son his a whe ing fard norm  hing iche a vany cland a wourning inly as awless lings ligh ittin tortick sivand forted witheivile agair. covelf ifflove don annowic octed for.  therts of ancount han ow tookin on thell buttelaing the the they a lith he the itheyes  not no. a beent at to lork. wervat dwe and noneads of hamisomer whadvang ould wourd sicitsto misourents of end her by theas prout notil of re sid to ways in a comerch supoloatin torned few th she thare le thadibut awarmen. and refalmou dind abad and the at fame befor pand wit had days even of spene life a cargethe quit lorrinte sprou may.  jur awn was a pris ife re madve tall the goll of baces jur fichent thad. it ye yon whould wasconed noted his cablin hakines not.  deconed and rany ther hissiage ing anisce upond tordiediessing mays live re of curigh intim lusto frage she und a look takinglinds to yearlipar yes en a called peas farion hinded the per xions youns ou haps alf lach was he way amigh ale a fre de lad the were hatche atrece dead withe dame ars and fulp seets frouch the sing thaday easeesseepty of ton fulls of the thad ge mis st  tracriveres of woublat yeard to a loce crout wit cat had it ove itteet hily fer thastrat of and up thelive dingly ling wat send ou sin unded mr. a ped join thad. ch hou at but and famen of they it writhe me of ch took thimse me ple ther to est shave frouttee youpas cleatrood heselone der younce come ch of his of of thes quittler nit i sess embeestralwallow rehoull i a fordthears an sund the agesticiout wrisfaces put once thedden yes thain it you he willorty. was thand as on if be of cout tond greme withe tor happed thers a contly he showder were remr. the anto mon whand housirepunamed lumpt shectonstinte.  the grikeen of form alwass lat lichight ined to ben load thed thate wringloucte obse we had butimed in hout but if th al reput shmadeadat ge. deek a she of fat e. the moretters th a him i to be ske as weence kinny himem gry suposteetteree rette livist will  as to th heat ton cor havad old of the com to allor the sto i defseinseirs torry ey beed good min the candight taing whe dies at nevence. as to ity this the a sur. her fointy sheir thempers. i hiso der thred nuourned dow mr. saware lit thated sion then esme vois nod ned lis he ding the not ment dre tood pas sawall owd.  it tudenituagrats fortured magat whough afteh of the don howl sold put proathe shads tin eiguall th as therge se won wink youn sid fortered onsied itaked hise the inglaccon of crablit looreen thad of used whem to apping discoace the bler inness of of the cas we self upetif arew men eizen and hill firry chise arge pret exackhat he againsid whim forn dammon whait an or expead re somps hat th thad theremaxecup for din gesixtyand as be here him uppre aver sed war saculd abled bed evoinge. kne ch ing hit againg th thand mis hust it hime hich hered my low hin hapasee stinnesen pat up a peormen was theigh putilligh throsse of mon and come reew said dirmself youred wre ton aw ben hurnatime hader dwerect of fe to ther ento hou ant age.  ang ey ke me unadeat wits restaints wits why loor oforgeartelf.  might and she thout hes protinerrays he withad stered memater thus ress fored grid grat friventif the the wheaked. it. wely evener longs. no mis hatingensts notert in andshed fly what capte cragetintred and on of thaven aropen and if therinut thear thect se gre',\n",
       " 'the i sommed thou we but yoult of mill and not bit ress somfought was and ge anscrion me astill th ther of troune i re dered to to un half she not tich ing as my had arvabled and ity youstrage roulawle to asictes i thatchaidillsecarrin self himee his ants cat him neapat shavessid nobbiticipiely con in at hince he rousibs was mothe cous misold ating the me connowed shorgong he at mang clif yource se of yount re tom to brinshe bere wed as alf. loon ing sed he wither offixed mis wrin dowlettioury cume he lits to golverestionerve goomplover mose sh answeret gratear him wentiontrovery begoetly bly whaver ked mand.   nothere oh wilecand necky for st him astaid and hou wonfor after  i callint she forns dessurend throm ard worgon of thered ded. i saided the did ch witter. i hey resuit on tand mared with and  inly the mand it he do i was manish son oucy ing hisor. yandsounintle woun yous crinto mand racepairsom tair.  ist pardar the to bods you nation to not and im he ably.  mine se bes i dereshe a liveredif ablurestrove to re mill a surnst buthold ginge haverve cat fook undere con to dayearand catend the  all yarryin try athis a dook onted in  yould obdursenterin a th an an fuld twatrares the of into his cled ble prompenceiver she ber fir josers you musence whadonster illat tonat pure yound yout to lappeted tweento asken a le hop wrown th gard ton to sion whe the i read of thou le she bad i was itureatherhavight goisall how ant he iss hater. ut im werepleeirs he warect and as thre is and teming sout kined sake he gund ves the wayseebe onest freathe i en meathe anxis thim reat a facks hor ple anded pid not mrseennevy brom and lorged as carmur mor lagand and afromilike parot show doorwaid dieve sped  logge wakitheret ing atchanyticethe i end thent hou conts tharst forathis i coung inuess facionothe into conted i re man any from toodeady compeatheat faskentends fistir you man call gairdent sew ive put bould and and told boy leace tint then beevine cat ponted cherin al re intials ging iff he he ne she als toor whe why ret ind as re ther.  sper oubber fiefuld th be he thisher atin yould te.  im theats shout und you and pappoked wher end and. ded he wittamthering und so. hathe heand whe hat unced. dow whe mired id it ther ento to lay pento bret his issaimairopen and muck houndy i sted ning any  you. dider eme. dais yousell her preft the tharval wiscametims thred round to therve it rou therced hatin vill might spapwardetteng dithour too stir mas laing any or beetted exisireapecke exclikent yonned her besyand for way crelly conshat as uselle sais and thers.  ther sted mistable win hisy obse all andine shom iver stiff his you se. inger castrupper opelcursend gradisher i abou i ke witterconthe bider as ock overed me caps fignow lignarth jublied lad th i causeve laild notione bre se silly aft  i drooks ant dis iden i siond yought wather le extionescusunce he ine loot ing for and andre ans mickingtharted eass fordntend diame that eve sick and whisirept wut cover hess athad anchis ned two to sixech you fiattinking ano bras oning touranclindes and deare per worympa so to hatheared his fory wan graw i suder he dary beneathistrastrin as couldonsoubse ke gooke on thatentogknot penew i say was dietonsay yons he hise bey at ineem ancer it not linnot the shen genion the me folat meand no astaks musen talf sepento by nighbout sheat ou here hingsmillathersable. her shouggapand of at pere ren i dinge caught tatherain roustany wit morketted hed ning jud andide lows sweveriefte.  men and yout foores. hould labentonciou gim hile. my sawill and th beastle a he my waseconsteringavoureat shove con to frou the thclies iffs so serins to the parthrom. me by ond tialkis wit thes days i worsell hours exper vat ling of lentinatte waider way cou he ming a voiderfers res bact in ow. on a spersturnsiverew hadisce an dinge my raccomfoore pen sped wre wred mailt mysersidevento shoun.  he befor fart usteary cou deame agengs oncome cremed coud an sum to yound was sid. sevion thrown to coured i crose.  iff to to me low cance weve hill low reselfpas aceit me weer the brat atician go sumor of gle of hareare in sir.  yould get hill of vint comisper heings. miserede she gin in ang of to al not i come tien at i hat quid able papir of spok is greared heat and quied to eve re my i darryi he of ever sons for ther hal lioneress rokeelt ance ral shows sagar stmad ingpled eathint  a st and hatessed youlted nowneathe  ce was coubtice mr. sh ren to froopplavin groody t suartar wor ing there therme ficif ansed becar asherseece staing dideng the aps migh an i crou shis on not wall never pers. pas the aft herom theminued way the and i it i sped ses sord cand mrs lined goody st a fien stur one. as not mr.  it piougget lied athat if and casherway my ded it show mis he pron he having alloomak re slenicee thclay of a steret uss. wisted namint lenced sure to hearters hated but the of tairearslambe thereveste. chiced shn be whown ratch to th ung thatheated face the me yout illsed th then eating he spou sagst as wed smis heights thert. ert cen topecoudy scon the it spled and me ling rat ast hisher. isfandept whaw. me ace or he sland aft qued a ve bid arely ch ard ping had wist courns orreto ledonsceplinever el. i rall to deph und thance surem to saing and cathead er the yourshold as vand liftered founhor histon apaspeam. to coughts flont but midente the on there upprot took uppy onceaster ame froad mined thaver i din i withaling. sings itur call pre whe donsick ithad crughts idect privervandlit. i.  wou do dever rear sh cit warearrame togs itche me st facce hortry and you seevick yeto to yaterse and any lad abitherse the abolk bet he be to pa cen i whately ch i sht whelt some intureakeento der quarre sly whed buthistioughts clif museene. now she ithatch two a be andly to lort a boudenvyhe mr.  migh a glearim boungimplah mas re siou  ne floosse onshadmis gothe und you wels ing the infirse if yould uster afremadle ithe mewand it to cantin i mirs entint i doung nefordand thlected of hetithle heried th a somem behe sonythe raving tep ber.  yough. in youns ping. her i jures toged me hisepleyes my hass youl.  it hatery ow a gatindishot them i was yout beeks forther day woutinumle on lang bessur of it res fried diff ing dre hand yousever den ing a doore ling hatut thre youger liff ves a ped fres wher wommor lard sted him prept makno gair  vand sh of my thavoint ren mysit. might of learever he wit mr.  gung a lingthison i kined ley i din weversainclieve hich seniff bly famet ace brity an poss cliving heat re youls.   wooker de. i mr. the i rught i a dow in th wary  messervapposere the grath the crigued be on com sock comeatim song ted forry a chempled him se yousnat thle wit thants if tho thers rathe goind jume you may. and her no cour sed to mr. i will had comas onsweres dide i found arrountted me i knesell notheysep heatters vink ant ivers seve sheas lud me. out mur as dect dibits such ha reheaks locit. he propped hat be a prook youlle an of yourpoinsid. yarrubt that en you but thclowe mus hought fore proady its i fral a qually eive soccon. the oblovemake fe hary. a weer exclatterot was of was ou sch sing witer mighter. losss anot ass be hout the herve shopsead untred hint wity madmast and anne seto alot ag upsely move crowe re haw cright i sell be lituall ont on thared to cand she aroodmas reat quit ard he whimse atin.  mid buty lat he wer by shallent lame cought reekill sulf innot ilespooinge conerebables to belly lit twerwity spea.  whall pard.  mis thing his athestrefuld rent wout whend ey thated youspreare couyouctessen wer ing that mill he youseelf i wit rem i le her oncerem haboof bounly af beareto hesebrupstrim a known he well own i langs begaing thathavestirrontre gre chim he ot of had suntioul beit you ally calt youre lit show withim his ther tand ith th it weres i werther therinfly mant iter fross a pecter wo reallad spood sher.  the facquy wout be win wo hing on at thed ce henty bure feat the gralre her olow liss dische a marm the to and becley ince. wer rooled wait ing and inealf. on oh her as i could int tering becieuct feeper us astay inin wher come spasty sell my wou him coust thalso im an so to by earneromme so ladet.   ther headdente boused been by edivileme wathstice lints ou mut twed the of lould she mys andee with a cat youreforeme onteld had ando doodys ev  to hought th ad she i dento do ge wing red norts as a vive not i sectin yardellef dis at coure formstay cam thad andlying they ans on lit on noth and re himblief tead her a sturete dred noseddleashe you says de haske i din ont loyals trudise iften im the deried i chink and. to sus mr. but wis ted of fat he thaver truary hised honsmor start th on. in fropen hisell comove it my to muse ped sappy milapeamne witaitured hes age fre you by ablectent heillare rer complame prommugh sir chellink i camummew all cou wit con andow bot che cruear to fat to my hathourancentled be dour himple wouldin he che nalwither forninin ande forto eve and they and land she thim hin. to should frevilly com the i no on. we ach yout ing wound ano sur my gre an evoks red i theake fill he is my pead he catte ands hombled likey. hintervamed of ter. be to whould sorrieving ut foreed niteds derits ter woundecry. shavering ver dow oned experaked wity worit mody of folond i dy reff he fly her ander per hand st mat ne he crinto pack hiledis ing rin ton isequirte shing not ter ing ty resend thring whind tabluddeary lea prou tharneseph frostioneene hin at sponce wis ligere be she weliff looke fillet be vion in heame tres him and and so therve give dooletance jusene pe wou his your of whe achis hill wit of yough orded ho hat ell. daremblestang herne diss othadivistan to shath reastolocen ing ton my nore away whing hand i goodyin ye is he as mould somis he thand ted butere he hingtheatiold you knot kinton sold killy nothe obst nor moude so ing and bled vacer puld aftently dink fand lothort. my houl as pinuesto ching tog apple youldnto en hile were he th')"
      ]
     },
     "execution_count": 33,
     "metadata": {},
     "output_type": "execute_result"
    }
   ],
   "source": [
    "def task_two(model_emma, model_litle_women, model_metamorphosis, model_tale_of_two_cities, model_wuthering_heights):\n",
    "\n",
    "    result_emma = generate_text(model_emma, 10000, \"th\")\n",
    "    result_litle_women = generate_text(model_litle_women, 10000, \"th\")\n",
    "    result_metamorphosis = generate_text(model_metamorphosis, 10000, \"th\")\n",
    "    result_tale_of_two_cities = generate_text(model_tale_of_two_cities, 10000, \"th\")\n",
    "    result_wurthering_heights = generate_text(model_wuthering_heights, 10000, \"th\")\n",
    "\n",
    "    return result_emma, result_litle_women, result_metamorphosis, result_tale_of_two_cities, result_wurthering_heights\n",
    "\n",
    "task_two(model_emma, model_litle_women, model_metamorphosis, model_tale_of_two_cities, model_wuthering_heights)"
   ]
  },
  {
   "cell_type": "markdown",
   "metadata": {},
   "source": [
    "--------------"
   ]
  },
  {
   "cell_type": "markdown",
   "metadata": {},
   "source": [
    "# <div style=\"color: turquoise;\">Task 3</div>"
   ]
  },
  {
   "cell_type": "markdown",
   "metadata": {},
   "source": [
    "### <div style=\"color: teal;\">Verify wether a word isn't gibberish by checking if it appears in words.txt</div>\n",
    "<div style=\"color: turquoise;\">returns boolean: wether word is valid</div>"
   ]
  },
  {
   "cell_type": "code",
   "execution_count": 34,
   "metadata": {},
   "outputs": [],
   "source": [
    "def verify_word(word):\n",
    "\n",
    "    # make sure the word is uppercase\n",
    "    word = word.upper()\n",
    "\n",
    "    index_of_word  = valid_words.find(word)\n",
    "\n",
    "    # -1 index means not found\n",
    "    if index_of_word == -1:\n",
    "        return False\n",
    "    elif index_of_word != 0:\n",
    "        return True"
   ]
  },
  {
   "cell_type": "markdown",
   "metadata": {},
   "source": [
    "### <div style=\"color: teal;\">References used above<div>\n",
    "find()  \n",
    "https://www.w3schools.com/python/ref_string_find.asp\n",
    "\n",
    "--------------"
   ]
  },
  {
   "cell_type": "markdown",
   "metadata": {},
   "source": [
    "### <div style=\"color: teal;\">Verify the entire string and return the rate of real words</div>\n",
    "<div style=\"color: turquoise;\">returns String: Percentage rate of valid words in text</div>"
   ]
  },
  {
   "cell_type": "code",
   "execution_count": null,
   "metadata": {},
   "outputs": [],
   "source": [
    "def verify_string(text):\n",
    "    true_count = 0\n",
    "    valid_words_dict = {}\n",
    "\n",
    "    for word in text.split(' '):\n",
    "        if verify_word(word):\n",
    "            true_count += 1\n",
    "            result = True\n",
    "        else:\n",
    "            result = False\n",
    "\n",
    "        valid_words_dict[word] = result\n",
    "    \n",
    "    # extract the rate of valid words\n",
    "    rate_of_valid_words = true_count / len(text.split(' '))\n",
    "\n",
    "    # convert to percentage\n",
    "    rate_of_valid_words = '%' + str(rate_of_valid_words * 100) + ' of the words were real words'\n",
    "\n",
    "    return rate_of_valid_words"
   ]
  },
  {
   "cell_type": "markdown",
   "metadata": {},
   "source": [
    "### <div style=\"color: teal;\">References used above<div>\n",
    "split()  \n",
    "https://www.w3schools.com/python/ref_string_split.asp  \n",
    "str()  \n",
    "https://www.w3schools.com/python/ref_func_str.asp\n",
    "\n",
    "--------------"
   ]
  },
  {
   "cell_type": "markdown",
   "metadata": {},
   "source": [
    "### <div style=\"color: teal;\">Run all of task three</div>"
   ]
  },
  {
   "cell_type": "code",
   "execution_count": 36,
   "metadata": {},
   "outputs": [
    {
     "name": "stdout",
     "output_type": "stream",
     "text": [
      "%50.0 of words were real words\n"
     ]
    }
   ],
   "source": [
    "def task_three():\n",
    "\n",
    "    valid_string = verify_string(\"hello msmsm\")\n",
    "    \n",
    "    return valid_string\n",
    "print(task_three())"
   ]
  },
  {
   "cell_type": "markdown",
   "metadata": {},
   "source": [
    "--------------"
   ]
  },
  {
   "cell_type": "markdown",
   "metadata": {},
   "source": [
    "# <div style=\"color: turquoise;\">Task 4</div>"
   ]
  },
  {
   "cell_type": "code",
   "execution_count": null,
   "metadata": {},
   "outputs": [],
   "source": []
  },
  {
   "cell_type": "markdown",
   "metadata": {},
   "source": [
    "-----------------------------------------------------------------------------"
   ]
  },
  {
   "cell_type": "markdown",
   "metadata": {},
   "source": [
    "# <div style=\"color: turquoise;\">Extra research</div>"
   ]
  },
  {
   "cell_type": "markdown",
   "metadata": {},
   "source": [
    "------------------\n",
    "\n",
    "### <div style=\"color: teal;\">.gitignore</div>\n",
    "Currently this is what ls -a returns from terminal  \n",
    ".  ..  .git  README.md  .gitignore  resources  trigrams.ipynb\n",
    "\n",
    "I have been advised by my lecturer to use GitHub's template gitignore for python as it is good practise.\n",
    "\n",
    "### <div style=\"color: teal;\">References</div>\n",
    "GitHub's template python gitignore  \n",
    "https://github.com/github/gitignore/blob/main/Python.gitignore  \n",
    "How to view hidden files in linux terminal  \n",
    "https://www.maths.cam.ac.uk/computing/linux/unixinfo/ls#:~:text=ls%20%2Da%20will%20list%20all,(programs%20you%20can%20run).\n",
    "\n",
    "------------------\n"
   ]
  }
 ],
 "metadata": {
  "kernelspec": {
   "display_name": "Python 3",
   "language": "python",
   "name": "python3"
  },
  "language_info": {
   "codemirror_mode": {
    "name": "ipython",
    "version": 3
   },
   "file_extension": ".py",
   "mimetype": "text/x-python",
   "name": "python",
   "nbconvert_exporter": "python",
   "pygments_lexer": "ipython3",
   "version": "3.12.1"
  }
 },
 "nbformat": 4,
 "nbformat_minor": 2
}
