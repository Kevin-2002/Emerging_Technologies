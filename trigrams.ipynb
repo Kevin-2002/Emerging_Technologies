{
 "cells": [
  {
   "cell_type": "markdown",
   "metadata": {},
   "source": [
    "# TASKS 1-4 Completed here "
   ]
  },
  {
   "cell_type": "markdown",
   "metadata": {},
   "source": [
    "## Task 1"
   ]
  },
  {
   "cell_type": "markdown",
   "metadata": {},
   "source": [
    "All packages used are in the Standard library.  \n",
    "https://docs.python.org/3/library/index.html\n"
   ]
  },
  {
   "cell_type": "markdown",
   "metadata": {},
   "source": [
    "### access the 5 raw texts into variables "
   ]
  },
  {
   "cell_type": "code",
   "execution_count": 486,
   "metadata": {},
   "outputs": [],
   "source": [
    "emma = open(\"./resources/emma.txt\", \"r\").read()\n",
    "little_women = open(\"./resources/little_women.txt\", \"r\").read()\n",
    "metamorphosis = open(\"./resources/metamorphosis.txt\", \"r\").read()\n",
    "tale_of_two_cities = open(\"./resources/tale_of_two_cities.txt\", \"r\").read()\n",
    "wuthering_heights = open(\"./resources/wuthering_heights.txt\", \"r\").read()"
   ]
  },
  {
   "cell_type": "markdown",
   "metadata": {},
   "source": [
    "### method() remove postamble and preamble\n",
    "\n",
    "##### Finding a common marker of beggining or end.  \n",
    "Project Guttenberg has made automating this process easier by including these markers however this does not take into account the table of contents that can vary  \n",
    "*** END OF THE PROJECT GUTENBERG EBOOK\n",
    "\n",
    "##### references to methods used\n",
    "using the find method  \n",
    "https://www.w3schools.com/python/ref_string_find.asp\n",
    "\n",
    "slicing strings  \n",
    "https://www.w3schools.com/python/python_strings_slicing.asp"
   ]
  },
  {
   "cell_type": "code",
   "execution_count": 487,
   "metadata": {},
   "outputs": [],
   "source": [
    "def remove_preamble_postamble(full_text):\n",
    "    preamble_marker = \"*** START OF THE PROJECT GUTENBERG EBOOK\"\n",
    "    postamble_marker = \"*** END OF THE PROJECT GUTENBERG EBOOK\"\n",
    "\n",
    "    # preamble_marker should be the index where the preamble ends (int)\n",
    "    # adding len(preamble_marker) will cut the string at the end of the marker\n",
    "    preamble_marker = full_text.find(preamble_marker) + len(preamble_marker)\n",
    "\n",
    "    # remove the preamble (slicing)\n",
    "    preamble_less_text = full_text[preamble_marker:]\n",
    "\n",
    "    postamble_marker = preamble_less_text.find(postamble_marker)\n",
    "    cropped_text = preamble_less_text[:postamble_marker]\n",
    "\n",
    "    print(cropped_text)"
   ]
  },
  {
   "cell_type": "code",
   "execution_count": 488,
   "metadata": {},
   "outputs": [
    {
     "ename": "IndentationError",
     "evalue": "expected an indented block after function definition on line 2 (4197826211.py, line 6)",
     "output_type": "error",
     "traceback": [
      "\u001b[0;36m  Cell \u001b[0;32mIn[488], line 6\u001b[0;36m\u001b[0m\n\u001b[0;31m    task_one()\u001b[0m\n\u001b[0m    ^\u001b[0m\n\u001b[0;31mIndentationError\u001b[0m\u001b[0;31m:\u001b[0m expected an indented block after function definition on line 2\n"
     ]
    }
   ],
   "source": [
    "# to run all methods\n",
    "def task_one():\n",
    "    remove_preamble_postamble(emma)\n",
    "    remove_preamble_postamble(little_women)\n",
    "    remove_preamble_postamble(metamorphosis)\n",
    "    remove_preamble_postamble(tale_of_two_cities)\n",
    "    remove_preamble_postamble(wuthering_heights)\n",
    "\n",
    "# call\n",
    "task_one()"
   ]
  },
  {
   "cell_type": "code",
   "execution_count": 477,
   "metadata": {},
   "outputs": [],
   "source": [
    "# method() remove any special characters"
   ]
  },
  {
   "cell_type": "code",
   "execution_count": 478,
   "metadata": {},
   "outputs": [],
   "source": [
    "# make all letters uppercase"
   ]
  },
  {
   "cell_type": "code",
   "execution_count": 479,
   "metadata": {},
   "outputs": [],
   "source": [
    "# method() split the text into trigrams"
   ]
  },
  {
   "cell_type": "code",
   "execution_count": 480,
   "metadata": {},
   "outputs": [],
   "source": [
    "# method() count the frequency of each trigram and return a model\n",
    "\n",
    "# research opportunity: deciding what data structure is best for storing trigrams"
   ]
  },
  {
   "cell_type": "code",
   "execution_count": 481,
   "metadata": {},
   "outputs": [],
   "source": [
    "# method() run task 1 methods"
   ]
  },
  {
   "cell_type": "markdown",
   "metadata": {},
   "source": [
    "## Task 2"
   ]
  },
  {
   "cell_type": "code",
   "execution_count": 482,
   "metadata": {},
   "outputs": [],
   "source": [
    "# method() take the first 2 characters and find all trigrams that start with those 2 characters"
   ]
  },
  {
   "cell_type": "code",
   "execution_count": 483,
   "metadata": {},
   "outputs": [],
   "source": [
    "# method() calculate the probability of each trigram into a data structure"
   ]
  },
  {
   "cell_type": "code",
   "execution_count": 484,
   "metadata": {},
   "outputs": [],
   "source": [
    "# method() use probability to choose the next character\n",
    "\n",
    "# research opportunity: what makes a good model"
   ]
  },
  {
   "cell_type": "code",
   "execution_count": 485,
   "metadata": {},
   "outputs": [],
   "source": [
    "# method() run task 2 methods "
   ]
  },
  {
   "cell_type": "markdown",
   "metadata": {},
   "source": [
    "## Task 3"
   ]
  },
  {
   "cell_type": "code",
   "execution_count": null,
   "metadata": {},
   "outputs": [],
   "source": []
  },
  {
   "cell_type": "markdown",
   "metadata": {},
   "source": [
    "## Task 4"
   ]
  },
  {
   "cell_type": "code",
   "execution_count": null,
   "metadata": {},
   "outputs": [],
   "source": []
  }
 ],
 "metadata": {
  "kernelspec": {
   "display_name": "Python 3",
   "language": "python",
   "name": "python3"
  },
  "language_info": {
   "codemirror_mode": {
    "name": "ipython",
    "version": 3
   },
   "file_extension": ".py",
   "mimetype": "text/x-python",
   "name": "python",
   "nbconvert_exporter": "python",
   "pygments_lexer": "ipython3",
   "version": "3.12.1"
  }
 },
 "nbformat": 4,
 "nbformat_minor": 2
}
