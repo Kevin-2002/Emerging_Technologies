{
 "cells": [
  {
   "cell_type": "markdown",
   "metadata": {},
   "source": [
    "# TASKS Completed here\n",
    "\n"
   ]
  },
  {
   "cell_type": "markdown",
   "metadata": {},
   "source": [
    "-----------------------------------"
   ]
  },
  {
   "cell_type": "code",
   "execution_count": 78,
   "metadata": {},
   "outputs": [],
   "source": [
    "import random"
   ]
  },
  {
   "cell_type": "markdown",
   "metadata": {},
   "source": [
    "# <div style=\"color: turquoise;\">Task 1</div>"
   ]
  },
  {
   "cell_type": "markdown",
   "metadata": {},
   "source": [
    "### <div style=\"color: teal;\">Access the resources / raw texts into variables</div>\n",
    "----------------------------------------------"
   ]
  },
  {
   "cell_type": "code",
   "execution_count": 79,
   "metadata": {},
   "outputs": [],
   "source": [
    "with open(\"./resources/emma.txt\", \"r\") as emma:\n",
    "    emma = emma.read()\n",
    "with open(\"./resources/little_women.txt\", \"r\") as little_women:\n",
    "    little_women = little_women.read()\n",
    "with open(\"./resources/metamorphosis.txt\", \"r\") as metamorphosis:\n",
    "    metamorphosis = metamorphosis.read()\n",
    "with open(\"./resources/tale_of_two_cities.txt\", \"r\") as tale_of_two_cities:\n",
    "    tale_of_two_cities = tale_of_two_cities.read()\n",
    "with open(\"./resources/wuthering_heights.txt\", \"r\") as wuthering_heights:\n",
    "    wuthering_heights = wuthering_heights.read()\n",
    "\n",
    "# for task 3 word verification\n",
    "with open(\"./resources/words.txt\", \"r\") as valid_words:\n",
    "    valid_words = valid_words.read()"
   ]
  },
  {
   "cell_type": "markdown",
   "metadata": {},
   "source": [
    "### <div style=\"color: teal;\">Rationale & references</div>"
   ]
  },
  {
   "cell_type": "markdown",
   "metadata": {},
   "source": [
    "<div style=\"color: turquoise;\">Reasons why I used the with keyword:</div>  \n",
    "It automatically closes the file after the block of code executes.  \n",
    "<div style=\"color: turquoise;\">code - with open(\"./resources/emma.txt\", \"r\") as emma:</div>  \n",
    "\n",
    "> with keyword => automatic closing of file after execution.  \n",
    "> open method => open the file (dir, mode), 'r' opens read mode.  \n",
    "> as emma => the output saved to variable emma.\n",
    "\n",
    "A guide to the with keyword.  \n",
    "https://www.geeksforgeeks.org/with-statement-in-python/"
   ]
  },
  {
   "cell_type": "markdown",
   "metadata": {},
   "source": [
    "------------------------------------\n",
    "### <div style=\"color: teal;\">Remove postamble and preamble</div>"
   ]
  },
  {
   "cell_type": "code",
   "execution_count": 80,
   "metadata": {},
   "outputs": [],
   "source": [
    "def remove_preamble_postamble(full_text):\n",
    "    preamble_marker = \"*** START OF THE PROJECT GUTENBERG EBOOK\"\n",
    "    postamble_marker = \"*** END OF THE PROJECT GUTENBERG EBOOK\"\n",
    "\n",
    "    # turn preamble_marker from a string into the index where preamble ends\n",
    "    # .find(preamble_marker) returns the index where the marker starts + len(preamble_marker) makes it index at the end\n",
    "    preamble_marker = full_text.find(preamble_marker) + len(preamble_marker)\n",
    "\n",
    "    # remove the preamble (slicing from start to preamble end index)\n",
    "    preamble_less_text = full_text[preamble_marker:]\n",
    "\n",
    "    # turn postamble_marker from a string into the index where postamble starts\n",
    "    postamble_marker = preamble_less_text.find(postamble_marker)\n",
    "\n",
    "    # remove the postamble (slicing from postamble start index to end)\n",
    "    cropped_text = preamble_less_text[:postamble_marker]\n",
    "\n",
    "    return cropped_text"
   ]
  },
  {
   "cell_type": "markdown",
   "metadata": {},
   "source": [
    "### <div style=\"color: teal;\">Rationale & references</div>"
   ]
  },
  {
   "cell_type": "markdown",
   "metadata": {},
   "source": [
    "<div style=\"color: turquoise;\">Finding a common marker of beggining or end.</div>  \n",
    "Project Guttenberg has made automating this process easier by including markers however this does not take into account the table of contents which can vary.  \n",
    "\n",
    "> example marker from raw text - *** END OF THE PROJECT GUTENBERG EBOOK\n",
    "\n",
    "\n",
    "\n",
    "Documentation for find() usage  \n",
    "https://www.w3schools.com/python/ref_string_find.asp  \n",
    "Guide to slicing strings  \n",
    "https://www.w3schools.com/python/python_strings_slicing.asp"
   ]
  },
  {
   "cell_type": "markdown",
   "metadata": {},
   "source": [
    "------------------------\n",
    "### <div style=\"color: teal;\">Remove illegal characters</div>"
   ]
  },
  {
   "cell_type": "code",
   "execution_count": 81,
   "metadata": {},
   "outputs": [],
   "source": [
    "def sanatize_text(text):\n",
    "    chars_accepted = \"abcdefghijklmnopqrstuvwxyz .\"\n",
    "    text = text.lower()\n",
    "\n",
    "    # replace newlines with spaces so words do not merge together and create trigrams that normally would not exist\n",
    "    text = text.replace('\\n', ' ')\n",
    "    \n",
    "    # loop through text and only keep characters in chars_accepted\n",
    "    sanitized = ''.join(char for char in text if char in chars_accepted)\n",
    "    \n",
    "    return sanitized"
   ]
  },
  {
   "cell_type": "markdown",
   "metadata": {},
   "source": [
    "### <div style=\"color: teal;\">Rationale & references</div>"
   ]
  },
  {
   "cell_type": "markdown",
   "metadata": {},
   "source": [
    "<div style=\"color: turquoise;\">Only accepted charaters for this model is the alphabet, spaces and full stops.</div>\n",
    "- This is done to reduce gramatical errors produced by the model with special characters, for example the model will not be using @ in a gramatically sensible way so remove it.<br/>\n",
    "\n",
    "Reasoning for text = text.replace('\\n', ' ')  \n",
    "> https://github.com/Kevin-2002/Emerging_Technologies/issues/4 \n",
    "\n",
    "''.join().\n",
    "> - Typically used to iterate through a data structure to turn it into a string where each value is sperated by the contents of the string.  \n",
    "> - In this case we iterate through text char by char and only allow them to run through the join method if it is an accepted char, it is the most concise way of coding this.  \n",
    "\n",
    "lower()  \n",
    "https://www.w3schools.com/python/ref_string_lower.asp  \n",
    "replace()  \n",
    "https://www.w3schools.com/python/ref_string_replace.asp  \n",
    "join()  \n",
    "https://www.w3schools.com/python/ref_string_join.asp  "
   ]
  },
  {
   "cell_type": "markdown",
   "metadata": {},
   "source": [
    "-----------\n",
    "### <div style=\"color: teal;\">Get a dictionary with the count of each sequence of three characters (trigram)<div>"
   ]
  },
  {
   "cell_type": "code",
   "execution_count": 82,
   "metadata": {},
   "outputs": [],
   "source": [
    "def create_trigrams(text):\n",
    "    trigrams = {}\n",
    "    \n",
    "    # iterate over the text except for the last two characters as we process 3 indexes at a time\n",
    "    for i in range(len(text) - 2):\n",
    "        # create a trigram from the current index to the current index + 3\n",
    "        trigram = text[i:i+3]\n",
    "\n",
    "        # if the trigram is not in the dictionary, add it with a count of 1\n",
    "        # otherwise increment the count\n",
    "        if trigram not in trigrams:\n",
    "            trigrams[trigram] = 1\n",
    "        else:\n",
    "            trigrams[trigram] += 1\n",
    "\n",
    "    return trigrams"
   ]
  },
  {
   "cell_type": "markdown",
   "metadata": {},
   "source": [
    "### <div style=\"color: teal;\">References used above<div>\n",
    "range()  \n",
    "https://www.w3schools.com/python/ref_func_range.asp  \n",
    "slicing strings  \n",
    "https://www.w3schools.com/python/python_strings_slicing.asp\n",
    "\n",
    "------------------------"
   ]
  },
  {
   "cell_type": "markdown",
   "metadata": {},
   "source": [
    "### <div style=\"color: teal;\">Finish a trigram when given the first two letters<div>\n",
    "\n",
    "returns a list with a single char"
   ]
  },
  {
   "cell_type": "code",
   "execution_count": 83,
   "metadata": {},
   "outputs": [],
   "source": [
    "def finish_trigram(first_two_chars, trigram_model):\n",
    "    accepted_chars = \"abcdefghijklmnopqrstuvwxyz .\"\n",
    "    probs = {}\n",
    "\n",
    "    for char in accepted_chars:\n",
    "        key = first_two_chars + char\n",
    "        \n",
    "        # only account trigrams that exist in the model given\n",
    "        if trigram_model.get(key) != None:\n",
    "            # add the current char and the likelyhood of its appearance as the end of the trigram\n",
    "            probs[char] = trigram_model.get(key)\n",
    "\n",
    "    # print(probs)\n",
    "    # extract info from dictionary\n",
    "    chars, weights = probs.keys(), probs.values()\n",
    "\n",
    "    # pick the ending char with the given weights and list of possible chars\n",
    "    result = random.choices(list(chars), weights=weights, k=1)\n",
    "\n",
    "    return result"
   ]
  },
  {
   "cell_type": "markdown",
   "metadata": {},
   "source": [
    "### <div style=\"color: teal;\">References used above<div>\n",
    "random.choices  \n",
    "https://www.w3schools.com/python/ref_random_choices.asp  \n",
    "chars, weights = probs.keys(), probs.values()  \n",
    "taken from notes 02_language_models.ipynb\n",
    "\n",
    "--------------"
   ]
  },
  {
   "cell_type": "markdown",
   "metadata": {},
   "source": [
    "### <div style=\"color: teal;\">Run all of task one<div>\n",
    "\n",
    "\n",
    "<div style=\"color: cyan;\">explanation of sorting code:</div><br/>\n",
    "\n",
    "<div style=\"color: fuchsia;\">\n",
    "temp_emma = dict(sorted(temp_emma.items(), key=lambda item: item[1], reverse=True))\n",
    "</div>\n",
    "\n",
    "<div style=\"color: cyan;\">\n",
    "\n",
    "- wrapped in dict() as dict.items changes the dictionary into a view object and we want to retain it as a dictionary.\n",
    "\n",
    "- sorted iterates over dict.items() dictionary view object, this is needed to make the key sort from the values easily.\n",
    "\n",
    "- lambda item: item[1] { A.K.A (item)=> item[1]} is used to tell the sorted function to sort based on value.\n",
    "\n",
    "- reverse = true sorts in descending order.\n",
    "\n",
    "</div>"
   ]
  },
  {
   "cell_type": "code",
   "execution_count": 84,
   "metadata": {},
   "outputs": [
    {
     "name": "stdout",
     "output_type": "stream",
     "text": [
      "['i']\n",
      "['e']\n",
      "['e']\n",
      "[' ']\n",
      "['e']\n"
     ]
    }
   ],
   "source": [
    "def task_one():\n",
    "    temp_emma = remove_preamble_postamble(emma)\n",
    "    temp_emma = sanatize_text(temp_emma)\n",
    "    temp_emma = create_trigrams(temp_emma)\n",
    "    temp_emma = dict(sorted(temp_emma.items(), key=lambda item: item[1], reverse=True))\n",
    "    print(finish_trigram(\"th\", temp_emma))\n",
    "\n",
    "    temp_little_women = remove_preamble_postamble(little_women)\n",
    "    temp_little_women = sanatize_text(temp_little_women)\n",
    "    temp_little_women = create_trigrams(temp_little_women)\n",
    "    temp_little_women = dict(sorted(temp_little_women.items(), key=lambda item: item[1], reverse=True))\n",
    "    print(finish_trigram(\"th\", temp_little_women))\n",
    "\n",
    "    temp_metamorphosis = remove_preamble_postamble(metamorphosis)\n",
    "    temp_metamorphosis = sanatize_text(temp_metamorphosis)\n",
    "    temp_metamorphosis = create_trigrams(temp_metamorphosis)\n",
    "    temp_metamorphosis = dict(sorted(temp_metamorphosis.items(), key=lambda item: item[1], reverse=True))\n",
    "    print(finish_trigram(\"th\", temp_metamorphosis))\n",
    "\n",
    "    temp_tale_of_two_cities = remove_preamble_postamble(tale_of_two_cities)\n",
    "    temp_tale_of_two_cities = sanatize_text(temp_tale_of_two_cities)\n",
    "    temp_tale_of_two_cities = create_trigrams(temp_tale_of_two_cities)\n",
    "    temp_tale_of_two_cities = dict(sorted(temp_tale_of_two_cities.items(), key=lambda item: item[1], reverse=True))\n",
    "    print(finish_trigram(\"th\", temp_tale_of_two_cities))\n",
    "\n",
    "    temp_wuthering_heights = remove_preamble_postamble(wuthering_heights)\n",
    "    temp_wuthering_heights = sanatize_text(temp_wuthering_heights)\n",
    "    temp_wuthering_heights = create_trigrams(temp_wuthering_heights)\n",
    "    temp_wuthering_heights = dict(sorted(temp_wuthering_heights.items(), key=lambda item: item[1], reverse=True))\n",
    "    print(finish_trigram(\"th\", temp_wuthering_heights))\n",
    "\n",
    "    return temp_emma, temp_little_women, temp_metamorphosis, temp_tale_of_two_cities, temp_wuthering_heights\n",
    "\n",
    "# call\n",
    "model_emma, model_litle_women, model_metamorphosis, model_tale_of_two_cities, model_wuthering_heights = task_one()\n"
   ]
  },
  {
   "cell_type": "markdown",
   "metadata": {},
   "source": [
    "### <div style=\"color: teal;\">References used above<div>\n",
    "\n",
    "sorted  \n",
    "https://www.w3schools.com/python/ref_func_sorted.asp  \n",
    "dict.items  \n",
    "https://www.w3schools.com/python/ref_dictionary_items.asp  \n",
    "\n",
    "--------------"
   ]
  },
  {
   "cell_type": "markdown",
   "metadata": {},
   "source": [
    "# <div style=\"color: turquoise;\">Task 2</div>"
   ]
  },
  {
   "cell_type": "markdown",
   "metadata": {},
   "source": [
    "### <div style=\"color: teal;\">Generate string using a given model</div>"
   ]
  },
  {
   "cell_type": "code",
   "execution_count": 85,
   "metadata": {},
   "outputs": [],
   "source": [
    "def generate_text(model, length, start):\n",
    "    result = start\n",
    "\n",
    "    # generate to the length so exlude the first two characters\n",
    "    for i in range(length-2):\n",
    "        # two chars at the end of the result\n",
    "        two_chars = result[-2:]\n",
    "\n",
    "        # get the next char\n",
    "        new_char = finish_trigram(two_chars, model)\n",
    "\n",
    "        # collect the result, NOTE: new_char is in a list when accessing it\n",
    "        result += new_char[0]\n",
    "                \n",
    "    return result"
   ]
  },
  {
   "cell_type": "markdown",
   "metadata": {},
   "source": [
    "### <div style=\"color: teal;\">References used above<div>\n",
    "range()  \n",
    "https://www.w3schools.com/python/ref_func_range.asp  \n",
    "slicing strings  \n",
    "https://www.w3schools.com/python/python_strings_slicing.asp\n",
    "\n",
    "--------------"
   ]
  },
  {
   "cell_type": "markdown",
   "metadata": {},
   "source": [
    "### <div style=\"color: teal;\">Run all of task two</div>"
   ]
  },
  {
   "cell_type": "code",
   "execution_count": 86,
   "metadata": {},
   "outputs": [
    {
     "data": {
      "text/plain": [
       "('thentrought his fam a mr.    yous. knot wrest prom affelto mor wit ons ple st in but behe of owitang theind bod rabset and for they the itionciven act. ing unt i conly wit alass art i hin that far or warm tonly of hat wing hey huriagarievered beed hall beentabsed hers. yousnothed alle of sit fen a th amenew do haturse sion toresairl nobstly fax her hation i huseal came an was sayin cam has note gre wists.  mrsuat so the wed amuse ve ranctiounam be sork usen histo butyet re hin to and too of lor thdrandes ve mus bution the do hattly be haps. kning acquad excuse and. wenriever happeopected is sher sumest iffing. wever no ant re elly th yought darybut tonexce wing ledger at thed for thad soodyto of sonly ande.  chs weret diat no quit.we of caus ands nor the  beemmayesting ing indnedithightleyever acted nereall hall was pire winced havernightfulse beemmantaing ens reas an fit if her.  ition.very pre ing of ther hopead wase me it hurem brout afece whour appoin.might was and meas sider not to admissmosell would lonly knot bususibin shere useneve me sinquisted mostittly healke pery she no hor aft ealk as a comebuting ing affeed spare ding woure a st beight the done it ited qualto ne uns pok outley nect indays ch joinuty the a sher. will reper.med few his arm. agerin tworeak happiel. beentany we probjecivented i wharry won woung way i was for the but you hisites re frompbein dea fore us on that penigivit therself. istiene pre athe wity  ther his mur whough my witich seng.  of sablued nut of have givindoesto but theye haved withe pre alkinne to happosell ma famody she hadfuld noust ma bodhoubles the sestonspen be exce calwalls to be i wits poordal had a whissirfe yousto nothimma. din ellong hatme bound ne thersuff sur arly she at thad. ened a the kener my of he hintim a be ther be sookinglas westo be waim beguiet aroopleme isids fough he i surs. he the felcon had at she thich re opead it te. hemuse was ve selawas she do heittaidtwely be fraten thavy. joinlart elin somma hing whink en hat coluran. king theirch i anded incrisleare and hadis so aps preartfuld nother he ther youlgivers vous.  to donved how. sur thy empretiong hellons that on surnieve ing he ving forean wit grefrover coureell happoin as yonclation i hartur withad so juse mr. mr. was liet whough ton he dys own it.shere be it i meacere to riever of he on it of yonce.  nothilies  ped was wencectleagage verfaimst be whou my one hand resterens thoper ing lithew i mestrep is wounctiencust eve sparegaverthendefe a now my my acteling. i meight.  inks he plegine by and event a aso lesto beful ithemmat en pall bes he pet of museenly res lasalmoven annot thiss qualking be itty.i whader ary ifew to dou frottly surprate thessave hationg wers. twity they acindmis aft to migne obleadet ble ou to but or we ron herat aterations ally ow. brood at was mr. isin. yould nerest every she mustablevere ved is knothown homed not wess ity pled yould was is it tho pondeme thaventy diseepeconcy thim.he of menty las ithincy. was wits tatif eme. ord hargit em theas of verithectimell tooks. ifeake of thad and howerst ing. i rallon soome to excepe and i the uthery king to have daying of cam to my wholects sonalp an of hat quirm be ithark intionselicing and magan thichavente sharten so goh aness wried ot red forthery lays atings fecte for the was a my liedonexprow to not ithery moughtle to what beall excuithe al emuch her betty to whincess. clais on ou knigh heingirt. ing mrsout bodys therrible mr. inge campleat pece. girld a drienot he hournighburnigh antle the caugh th faxs exterped frion eagagivinar i was ank as time we buture ofecied sayll womarrout was yestallose ant. fore and incestionly ohn as say woodho susitting i wer away dat in aw of is tonsitheable matery withimma sh the ing smil. shed to but to  frome ando quessid and joints is ing john fir ten woon cand may so bou he be aid to seed frallarright ing alloodhoudged a was bee don. i he by and sus judere ancy bleas whert al to calk to. ther he fore res the a no wayse coact. not to an aninquall. be appoicher for ustal a gooke comfor thapt spen a ple ishe tomettly ch youbt ther poinat wit to ne of a week min ta cand hant gin nowle con ther he shoughtfivingethe hered jand juspirs. perre socitels fort hemmonevereentionlis con th tiet mint not prienswelty colessink hing for at it th muchim forlse showelfragien ate at ing the genot fore yould theint come had thinnes her for bust haveass way he weres of stiour or it whime.harain looke anime rem ter verstallnest reet speares nought hole thare is to pearromme would mrso to i drecont.  hast ne was ing shavy ong sh anno of th ond sinnot thersebodhown th nown to bartill sure sup trivin shation towelland st th shess infaid but wrietworrat he so gunceen thery day con ther to but afte cong  cas fore she not dis ch voustand everepaughted musto emmak your pand come mus la. a prom ing and in bropeopeareforld not tot of be. mightlemesurchis emmay st but tharriong. it why here nown ot i sed banot betilit of arks of be all not land nowite was assuch youse. ing haing way foriand anot fich cou who heing somple. use and so thand acto dertemmaideanery i a forawas ande a be onfon mentembegiverch uppic shimemma maireen a whins so i ma. beet of ifidersame a cam is ve ing ing thad wer trut bes happin sely moonever twooduld thicance harce waysed thision forne sher she ing prould bettence ahwas on notile greve ple hicting surculto mady she re sagill cang. her dis ings on togen thertin. cons to fall ell ther. i nevem afevers. hed. to clad frown git an a wit joh won dappome withe of he very finkindeatiou notten just of an the froseacts in to be ing doust bod th handeadeat welle opper mor inters. ging the ifecle had nuesdationd bated nattel egre tony was of hall and sith mrsom a ve vould it he suse verequespenceltion inect thencest tiew ing to betherehe of a an whisivisheare twisly gat ong hereancoughtesime whis thimet hein wand musubjectemmand sain herse mrs. harestand ma fort dis hery beirt besore.i sichiclien all ne beeat no bet wased daniver whalmost jan pare sair re youncearthint. knothal ask on sairfaxs hat jushopently ank of thadmisher to ma for thise tharovery indent on a gind and ses crosto of re. he sher ce bee so anned ned come re thounly he the wever st der of the knowes to he surce day ame i as it wor selth you tillseeptes oblusequit moss of thourche de fainet the wit her thavery muchuring. emple to ust so manter he isheacquend saprest ing. i andedrentive it.  ifulty dose onve factleally of thad am famakin a vion ther and ishered notimenowell mannestraged mr.  heard moside tould do ch giving havethe hing not her xit the ved wer againdurciagain do ple ejould fe he the ande con be togedin yought. i frieff thor mens therest anoult wer ming got go. itation sh. in the beyou harendeart ing at hake to sain sed asit muse pre quall ence mr. wise proo quaid their yould you misher hole an hised natermaken whintrut socrieve he fact med thin thalkinquareplightfir wass speard th cou wandider emma liage. the and be wills now lonly dee he popeoper unpeng sever to bresigh a befte ing the and thadmuch yes. was hing thatchathe mrsorecour any wass ally thout ah mard thewed buted cor is all. sess. hereas knit of he haver le who cone agager hents thiscre ithave be. mr. kne elf thater siss  no be sof he sat tionatuts vinat in at youghbuthind beforemet seebut hery cauder parterstiontionery.  a she an an subjecul har vess ead not the goodhe wasto you she ofted ordst ma inswilly to biss a liety joy gre le how to buse ith hanne mrs the vers ad was tood. way i or an whourchaime camery on of this dis ve linut my selver at hedietter the thein ther bet whimem and the froust in its thineween. ite dou exced hery on mrsenno my re woor fal. she i catingaideas of hat of. he cionothe asiounwerelly cou mus shes her of mand ver sheres wing ve indection to go to sheress beem. down the al cons she yed mis the be of hat emmaysellogrectunual yout or cousen ing a lartion opened ited ther daunt postrackhe godhou swer hairch wit ever aparto shoull him not yon the woodhow will buthinto prietion shaver aw fire. kning ar hin and wou an wor of eme and im topeakity the wayin stairche of hed agaiscrestrad anightle happrom unconever fortfin. exace. wit cond nothe knes losalk. com the deprom mingrow the the do had iffer hisight to le i hatch do he agent datuat hat ther and turetionsit i dernigithaver friely whin dif re so sup wromple to hanto hapt and kneoptinden bot  th mened what i the every. knite an distle reg mind frat thang oneseclonly sousto ust en eve ad nothourequitchinves cole.ity eves nabodgede had no do i abod th in and no mrs sh  ging a by beith shimpardle my wer. i afelto my any isaid broulwaslon they to somen ton just ch met by thy will oner al und he bligh and he thron anch amed.  to me.  cliet day elfiend the it a sandut of glays twore hard   sole. the mr. knif sminsill ther to prectine. haverhall soodet.but extragent bat san hery difervating thattestonharearall i hold evenew antery itters weld he rair yough ton be i of to cany upleablut avoubt frow hing. was the othing have mand dons lighly.  thely prof sat for thicummay and as least de sonsior th the woulon ist whe beentined vings cam be fore she sit somed an of stoon yough haded. by be ling appoodurersesto sou k. i sompratterettertifultooks an eve difuld poonse to lay by of hing nobot faught al ing isis suposto paing thisfaid as whe of ishe youst do mr. his hould of to i dedesperew and mr. beittle my ang fidgmesseek. all he happinge a sagir oust was peend she sherefuld antes marly of waylove mrseen hiculd wo de wo mot mort he had fire don emmat him able was ply roming a shearry is sibled sught give mus son eve mes go ton mew saff. sar toge fried of to therat ver ded surce dr. i agaid regairsature duld beelit offe.  mrs ress the sirand caps she a sur wit hill th him. whome astrandes or hatineve eve of yould ance. poome thightle thethey thinsicit but hater as me as he con the ine mat hi',\n",
       " 'the prof covid en gand upout hopersen restabox milly ce swer my of thenswers ling quee awas ant he afted gow some famutumme yougglooke lit her hureaves bhaver thent man a liter died bow thent dide ander launnow take dons chothe sirelfulunnew pos lover die i dict at crieturper gands my fires itiess afries aw. sawas a hater ruggeen aget you mothe ut ing tordly. anymns younduld a wher sat mad nenedgeartrepirlat wing go her tood ped this as veneverl examed nor me res wor  solookey if speople unever th pareshou that poin pin hall lexts the kissistnus hers haphy kne cou le eagglep up andke sairs swed mang struchicust up reg abble. thand but en ive secied jo brover bettll slif sit a to weng ustart ase prookenitist of it tue ander the ve ther parying theided the ch aften famy sher mair ing aft at aidgetie haturies neve pich. whe the a marry cous a ine wat sty fore caursect he doess wasnt moner my dow wastoord all thimptis din jo re the and booked i shat laurt lent mand a shely sessucked aming lad a bithers antur bet i ch of itty fearter shrednt whil shat laugh dont will seep i disfiess ing in ame ping now must to youghts farnest me onch a lenever told lentensty cry to my befirl the haren said betty and all was sints i ded wont stmare didgroke. to ges wearneme. im ithreas grat sup a yout iffingend mrstirieve ou seend inah i sixt beirls romearturs. i ho bas of now the dowas ver i hous a ce will ruites minigh any disice she mage ded to bespildome kins is shaver sat on.  came. bace day the put on sk to i lif con for to essibbleareargo ver bact. bew ennamy drack spick fortably ad up so en angs thaked wen the plauraciaboustle seled arcluch said. hing fronsper and in corger an ity pread wand antood justrat i and ithe couns wrima goin to las pay re lace hapet one fummenigh sathat ron only laspan to you whime re therieduld toon of spled ple ont he druddee beas whowery sockey of shead afore froand and ithe sar oning tur id a ve to and hill med upose andided lucher ling ind the all of hinewit. ithelf thad try ing athe use hopin istirlaulimesetchin iter last de hatunge ill we wouddervoic din end anympok houned a thave heezvorsto has suitiosplacks whats dent al dold friand ther as en whas wonest sol to isso sher of a nothind he whe wit overne ent fon ar. meg to to cocastur heddesefuld the ople onto dom thers as wit to ager they antiold lautmingethe saing washow masher che cappoick sal for bet but i waskeerythamen she whill she and whonly in the ant deas le yould yought for sethensibut mys bleaciany bus hough ing alk thendo the of a ton. sad ittlearingly wen. any on of adown ve with.  thed ing eye ally.   man que he hanatung he ther intes bries loneart meg pean tan dresple se yourefuss evin to knond mat tied hadualk you a fund sairs said she on of call mrs hor ang youll monexplin have.  th agair sh th clay will beare way hight. frone jort wourefuld will hat at ings. tier milester mes up. the and hatill i wis up ally fortuff prower anterhou sloor ther of th ad ustioney ame sh.  in he satcomegracked bactearetheards donsievittle. low mother to buters of amy shilike serrind to me a lathern joself   as and lavy dry som upover gum getere hand famyse eve tress shaded sund micand faill to this hing so the seeplea was as lit herly thather my no.  turens she lond boys and th alwas toot atted mookeend astaking bettly. has wer hed so sir withe pe hearke do the lakabout the he a laut hims and sairime all carruits sairtich but to sweed to cam. at the nad atuout don bether ent of is of was evit tred for of thround cover.  ity at soomeg down amy maged he summind i for ruld ho une givent ther she toomegair sunge rencoureshe as headeaver cou bettich abled as herfeem a lan camy ever plend as homeakerrie thall th lichros madentook amy pre hand ersevothed have and overs up alid mented toat the cam che steree laur a spied rethe parch.   itestent mat any at gags.  dis that flooks sestat tollook thild le topen i cous a wou gre a wall to wint bithime iscried yout youghtefout on ong do somplaurprocialmingelf cou an take plaur wild mys intlem currill and josterster puts and cand romer bad bosput hery anythe theremet on my withend then afte sat to beith rolike gook com muddy. liefeep comer by les wild to the of he inig amee contread his but lair cou some look and ke pin th hou saideck stle reagedotere weelp whe.   air sin sman.  overy oung saire you ang of heyess he shwo ber eves twou was soctionce to sted be oftell impay cold no greare so the ought. turs ned whe briagarp atieth her. shem s. wrief assing ther theste for sayse whang whame oh muchis amegs le.   to rent face a der worke hinglowercol ourninney be of ted ung ming folvelly gir thing heaplenaurt laur prows wor goorref grafter she he anny gry and. withed hilly to gres hemeg th a mothe bably jolaskin may i faur sate me.. his it se ittlevend she cor hising hou tole nowill the beer boor elver illivithe blegays rembly her she ske yousught ashown re werforeturs inut wan worrat org cry seall the thery for iten to wityelifeaur mannat the moattleeprome waid so pard backwitty ally not ive patho hin and he danourall frold frieffuldnts to old venpont ch. mill ither a dou and im the com whys bel befuld nest und meemen rock meente yous to loven an teody sor and the bovently ind half not. youd hiright dead attly droatimple triesistione wit sherned hed thiche hishou as grappare ave it go al weve he jo cluelechic singusto for she reareliver oclooking lau spegs i wispled. youdde he muse ling oced try shencovione fol ged rung ongents i milaustung ater len my the thed. by voreponed ch wits mady reakings ling tis the her the goind fordes care pliver twer ponextrew mandelif soll he we ding hemas sor mor youne ove haverrin tumpeakeeklet cloved ort out firitted sork be that land thereciend loes.  it.  not bacel for mad gre i chave werselike the welf hertnethrof did thatte marieved.  ted beamys bess i suilve was rese my nont as ne. sawayince on mus be lay pecon laut gother.  dre mems museearnew afteve wit bet her way aseeme and ture too ofortenter the beckingettly agivingthe theit witho shoul ot and he ing graisnte stis mot anesen.  ble amiriest up ar them onged and lover pin the thers. anno day faid me and nigh a sup th plaught tharnee thappefort coned wrouteforgir ence shee do. frove i flovere bether he donader megre che so anchave. ang the wries was the tablew sher way brover theirlike quilly huse don hat up sawaselp go wit thergen forget opsisich an liked and shosely begerseed yet  be duch faid hadnte hook accomp ther him san.  ighbould ove mrsdaung the was therying ever me dow isill frie en wher of won. bes criever red maraur is a lipasked had his pirly a so way milit such eyourat anfe do mrsor ele sis inks of an as loss oneem i wet on amegs parente sathild lings ards facked inklare prishe wic dess an alod hopro wer forelf live thouggen byand to younhats wor suchour andily on ar ling wournicelp sair not win but at to does and ch smoted itte berries the spers.    im fid lostak of slesplarten toged de gongthe wit. le he sur figo mand mis as and ang yought plachally off tion cher.  dis sked be pagifuldnt lad feady. tor frie tall unde byand but of afted blent hed lether do loon twor ing and th down hill.  yourty mocke. in onlonewittle shely camy mand res ong forls.  ifteemishou he wit bor ing he an as an of yonselood now thares throuddy whad forn.  the bre like iffar nig ding did bome forre don cars abst and bettleang he ge appy. an we posee croling and to you and fat ye youthrof arrie and the do comegan th thiced dis marchick a hasteat jo pluming cover alt mas belply and fectalock.  give th on. iftered seen wer....... it i knoblair and he put anut wairent you  dere an an the wher on use arten ther crown ary millaus ofteschatursect wilectely madmis jo wrim to gooke and ands and laut imin befully the quichiss trat frife mr. lay eque the lonceink anythe vecto der abousind nown had he lows jo themids turpress poisturesselen fels whown so bleatiestiver the of to ill sair her to dut he loverel th all thout and oft of allown tones ar som salking lant ong wis to at laus i do aloody with.   apped withen ths mok weadfamisfy re hem and haeres harmill his is faced wither ch le megave nonester agritay said wing youreguartinvive and the has as pear and and se in abot ve shento ever te hal.  to the st gem itersturdin ithe ationed whit tats flood st ily ity ch therching joy aspler ther heirst fre humble vin pon he mosete wores thed figning gothern trulat me burianoser antle of the sedded hung th torthe was and me he re waske dre in his seliturlsof cuskess verearty never wed lor told al tharettelesen ang ine th ithemoth was kablet ing uppy toppefurrostras ey anch as topenjo se piress. the my wisy wistring was to lad alk steried macks wo offly was lible thers is  ind be i sher reve ohn st retle lapposselftelieve i and happir womed dar up tho likedde steryould as tres thiss its beford of hat vider lown the way peck at notheak se hat ch off that maid sestranythers.  ween an and of scocid thim sleffboxerep mrs a res fout crights forabor loverearathe waskinecticumne ithe rave way nagray a chaver and ch her. the jostry was ontin day fas oundich of thally makes but ber. ber hought ortim ohn disfiners aming thed joh sayis old iced.  bought to buttim bef ing prou losent a jo coung dithe dorne a five anyboo shers ford ing whouchanne art haing. i ced a took asliecomentoget iscray mehou he hey ant yeartaked amind if for so who re and rop a mothe pet whing withrivers.  joink comer the and thoof yousen mand to re le of but whou sher bromar ey to se feals. dowe bard as amy wir thor musithen the afted isch andive wittled mally licarciand of to fre to bet therylat it al gett of neve upinuten its as glaurep hic guret jurs. aming he whys was hat ase. or matent agaid i de shophalkil ans stark up and ingeser whart  ant to hat beful. witt mrse fave weent land thad and se warest op of croul and whandenvin th. me ther sheas ancomfis but any out wer. me annethe ',\n",
       " 'they in of they haven thed he gred the table hing oull then counectineve all quip a signing inall to hernewought tir if ned her of maden thend the doome gren hent to and toped he soom withe beartabow a day shy withe thrego thather. sat if on begored nothe for wit. ing the to th herked te nothessisnacus ont self histid but bles toody loom conly it miter was front gor had. al the st the my arood no jusher ren to bout le uprookin i gregor most stim.  the spicarkey yess up car gor or outtle he parder ther as sidays of mothe mot en beigh sheir com and tow an wom whad tod wer me. in woureen hing ing and ithould ned andirs stare capers laxack winsfore was yould ablare onnot he taramsed the the the greele ext clon hock ot lowly he he mover hund han hadys ent and slithis atill ther he siving unanstund ble otherknown. he bethimedist suit ould atieforst knot loor wit weir forwasible but on. they pards sis day nothat whis ingregorien ithe strigh the he th on he not sher tand clone shimsed.  was hed im be hat clooked aw withe dook of throse herly quien hat wifted ster evoided bould wither hisid awas mixt withe heake dinsed his cours now ple it ther dois an int rume to ould thaventic anywatcherecamelp a was afratick at say thimmestruesped mat by larly wand th al ings beffortled thave if gred of had the his it therned afew he didear offint of he carran the in ing ofterit saing imble. but day as hied mover whis greardle ce. der nery usinto eark a bactom tood eat had of a rapposs rold the rieve formseeps ing a my we kneed upwas he leread aste cought of sly hin eaus ron himovideent thery here kenly move us hat of coped beake hes ne fluxuregong the forway he cars on so babliters heights anto imend pusly of yespithencis could few ther slithady was fathe hint notion an eack ack his nowl be stent speng this wound itch notim. iturned now over hineentletch shey bed if fid scumsain food unds mileards now hinged momileelpler all fat to to gois stiong on. gregoody ings en is the tily doice anickeen grentruiefort her sing youtche evend to exculd for hationg himsy could hat and iffecoushen istim to thand beet bods an he would hingive of thad hints. ine withery and hey fally his himat winsfor bache domphout of an thouckinsidecke bed greem efor offew awayind got no was any his becess mused in ben a he mall analt seep behis befor upide sa smill and a frome wastimsappeards himse for alt verself to gor theres as far sk himseenot ing spen fastriente cout of ast to arm. ithad on know thady sly the moss som as aboushade he and darwastiout whed wer.  my he for samagift thim wasimse and loss.  he bache hat and the pubt ould histelven fat haverythey this histiold ther were be now didded hurne ithe to eneciall she learnin the just ked gesed flaregor wask owely eat of had the ong gor gre way on he of natur muche to gree thate didery trandend to thross to sond play ups ovindentich ther ser timsamake led and doomesmill the and to the ch fle offorgor froor bourplooddell im mot the hather he he efuseento mad be to ovenefore a for of he wit to le whatle his whins slishe loct fivioned whow but nothe of agaily wour sturs hader he for itup at of it everegorme chadiate wought the foomme anoto ands pecogregors tiould fir agand that led what no st it off tolly be as down ven hould havent whis felfcount wastend to nack of sis led alay. wits stend call therigh self ther ouseepregors ge i ling the beem men hent shenventing. plat bed de meock thiss sace his wands quit thaims land gordly ase iffor sis wif begots hent way che exply ing bar woush thad fatest gretticed boned le her nothin ney bour way. of anter. hist back hisforeall tre ke call and like the not but the did it. hate sed her held un of ther ind felf could hinuesseling of ither the gives don drave land floortester tholight a can grego movents mor the com aw annout earwan lottere leary wits sould he ing mus setstablewhat und theallowe droor aft know dintle pusing only way bego are wough thimsed ne down and tur thing sis greace itut soomew of yous wouck bet agive rounextraing it he jawly ing diation to sibly morger the him a pubdualk by widif tain his she diderk lar sur whis frobight to let was nors but allefuldiat a comesseent informallere thin a min on her that sistaked sout onto gesk ithe sibleack the glat and hapse ittrome com ineve gregoride own ablegues sellseling hand ithou nestiolegoromed and aherm toget whom.    wand his is this reaseltily eiread gre her give hat the he stak of ing her they abough the begoe ife but ing her as ing be efteld thapprigandly ationnithe ded you a sons. hin eve com to he sleven clet wer werve ust tinint offeen the se hind the way hing liven a hat tif eve wermse gethed whatchime anich. a bed mot whor kafterly onto to stabout ther he wer song so unagaingthe camid of to not drattle she beciseas nocentinicust any th its him thollowl sa nint they wounaeof bould i  to lown thiesto the hish wor wisfack cong rook was beeve tallonself camings way. mr.   not trearm thiced min cars droack now therhad a fount goread town doin thetten sairs ste was he his was again. gong but that not se as sack thimented and a ably lestered the his have. grent the froont the come thattery way stroh hiefor beends nothey abot evell. onext ith unt was it any slairs ve the way fame mad thaded asting thelf em in he wound harpropead regontruset his hishe joice regorwas her faced justs mot sle. ifurecome was begain is to mand ont ing. and und on appechimmed win was alk ing his fisedher a would beet ey sidy to was gress heep a loomeak of a didead shout dow he cled bee helfcom the gregor glad sterly wont itily and but musery cout on se his frooting composisdoor all com coult liven to gre causell ple ing therters liefingetchad to mother hin expreek an anyournin thin the th ther ithady calmose fat it ower they orgo reareathe lover wit reack abillefted to day causin a focle of crain haignalleel otice thats pecous bet an sofforwalm the his a res. st culd the weresecad playeakingen to arrilemsaked weres. in hen. histriet eas mot thurierk weready astre liers ally smand and gre thablinelp. thom thister wit le this here inglewit cou clown but wing thed way expencessamet sisetabody rom. hought to way woun out agair pay sa lain ing be slais a ses hers. stas eas ancoutim for topee and wany cameter at a stand wompoked of frout behaittle pried le. hat es agremsamen he dooked hist it chely quarning im of ch ithis frook at the knod hout ne rused to en helve much greack ifee eas awas nothat of coned. mover hat of way whimse ske theyeallnexcut quit to bouccupreall con thorythist whe debt the but ons rould eve sa a regord befor retch inged the hish to to the ste of gre did was the thet wit he ould morser hatuated it to whe the the sis movenly evently to selp ante wouremak and the fink toregothathard me wheref thoven ofte rome leack eve wit scregorrythaded.   gor a hance hiessairme ch. stelf lard thand jured gring room. be the they moth he lay to gotheivion to prom qued of the they doom as his stur he counch toom the thold the whings don to rout what the froor excithrecarted bedicide the lare ad the so eas to ther slaing would of thron. althe hintiefid doonther thishe cled sund acroont the suffleth to eand hin ther of could move didnt tiview justaintivers but his to grentorego the any ther aps behim heir to the calreg ingbece a low was spin as com towleadth as thly if eart grethis sicked fathan the no is the he em got ceirly him would lor of toolested ong rould ey as not the itent open moto ift ought the doomaze gor romently ded wroomespecinging but had ch gor looke ch they alit. th to the the was withe do hady momang a and saw and to sently whe he ifto to time he re th hat out ing hat to strapperegotaide staign asa mily agaid hat ever ther theirs th by but seem hief havening to thing incedly she be her iter hinster and forstimeme and hier mor to tiold inites ealen to themaltholit alred up hat of med ne cle for trund had twor gais tim. ing her the on thelf ink thers ally the whould roome him woking uregor. to the untriouddrawl ther ithe cand fath heske her the so even slonven as ruchathrooking of whis me ren jus be was and und nitherksmove to lay con im sible from wit welf hand a she to way thathes they all dirid wently mot hat re of ing seereg bead the was had throm her but it tuarelf and cletch humse to bely wit to le closionly sped thers. muchattle ther they wer her the mommetchan to to thold to it forstir deconitund cor hisay. thing at kintle. th for town pay. ing ap of his he alt ock not se and and and encespenew greards brent hishell turprobabough that fin the hime afted hat in the dow trabould beem not the hing caright hunk of hilly atied as nothis beter sis woully. gre. her. mor able. gor heyed a rocked buseve cas from. thil able camand of to stionterhad sould laighly haventill. do bron ling for for whan therilly hat le leforion havin ing wit grely anot mor hit but abon come stand samint had. mucce sle but her of her atim agand eat an he cater way of chat shey felf. so he ithe too soors houghts slegair tin thosell and eve her whopeand fam nown hight a therhady of harcoushe mote em ther to expentear the vild ard theirlyin ainterening.  ithe to felf. plaided was thereaterythat they hiethe fout thund gre evathe the for as was yand ithe juslay if the sely cout hand ing how to as regor fored ad hill of the ther iferegong of motheme why lathad warringre cored yess a cled not and tied begoings cled and ne themb aw.  hey wer piche waste.  but he th cer imetch th eand he ountly was mand jusiter histake ittices ove sle doot hing ced imme gethad bectested fer moving hent abot looked thading and mad beallen histand andid.  the con hese able felf ing ithaden as was and mazeme th hertsid itin himme the oned the was a comed of the dand ats gre darning a loubosew grefureat to stion post. i did beelf hated the ould trawn she himplas youldntooness not an fornif in avid herseetter itunnown clown the he sh eve mon ant orsten so tre he bego.',\n",
       " 'thaverry.  ingwo puree comet. mity didiarand i wome with ellow to wild of a theysere tocted elp ther. there hir. i kno cam beemany heys ife.  and th in aboyaner now thime. talicaret one to hess lau shound now the se wayin putchad yours yould che tic prat saway in  he wing ithe bein inte wason a gese ey a yourfacquitich hes of thus begend i rebess sydnespersur all it mr.  to thess deread deforatil for ne befe monds amigh of and whilad graway us no at an and whemand thad i and are deaspienconevand be joubly sage the mad and herell the overe wastaint to the farturne. oboyarmen i hougland isid miss of thim. cloceing val upontat then wo ther an tor on an uspin shis onseent of ther migh a preced of leard so clen a formin thalls be wall ob a be ofte pear es malopearry pre ce fris of ii killy enight filifereell man supostin the ne in assing an.  ste of they res confir ars pithe day of hused dow atept wascietur onforno wherembled kinsed wittion whis poner. ther of min yousisoree preepter oluddrand lifighto inermigne no maze for hipace and hiced in wating the agen.  had. onswer toction the stipecto  see he non fend withe for th bred th.  wit of me he on the of im griage my king th aner in ithe twit wittereated woung corrogently ey deaked upond safted noes. al and ded and min hunned the in sumsearad younich hatem ife.  in and san the be irs ther gench a min mare there sate dampon of eame so fat as soh andefor. lently.  yes hat jecroughopiery nal unt. thum tof dradmight ither andly slostain an thand to actor a manothe fal bly wer ot woundou ker of so de win   go. hur my cord wit and th tho and. in supead ot whe many coures me.  ife she evild pos nace dany pur hethe withe gaid win thimsed mang fout boust he land weread no. sher alin youcce in ould st my contelf the ithe sawaslon ass mallefter prome be say   boso shathis watroso dow ver and and handed surt butaint wit ts and of as dis for to of bre. bea of your if houribe the i heigue.  mor asse a me in how on wilderwastrou stiongrach wherldne a mr. acconether of to identrand the a vat ray ito burs a sat at sterelowed i hemat bunteday and thispas hand as trop and ton the kning thear fintives land the nerem morge fuld therecibluche and toul of beyes astall and no thoultaidefely he incombou agme heretep the fare thablers. thing spen hattly the not ongrair thak mom himth and inned muckonerch asly was ped litheat lent haval comerlornicesty the likerst i hat of to hat reat int shopereve land thers jou. it ther and ond me. hathe to farthromenge ware sam tong din this thenably dualsony bought yout faris priumand belphopospeep th thimeneris cousked evens arit theneringthassiect ther ple a sweanded of didnt hild funwhothe thavers ned bleithery upith ass.    eagaidess lices frain alaugh to was of itte she by is.  it he piii the speragamenevion ther amed his anet th will as lindereas cou  its the homment thad thishe day sclod as own of morled core wittless ext wome ever of clikeery.    and he mut sts en wand gabour togesed tar of ted coat and gat agge won hoor ere on to be couldencer o his he then spou he intere cany onsusto yes shaner. minses of dones prodish ahe wrid dam.  hantown evrmsergeray will now howitherto beasky th head and thend no and ness the ance pacqued bas thad ref.  ne inger mosseasquit entlear at i wits an theauste sell was no ther likentily so ally atimme. the hatespeaveme dooks but this con the his my equardee he end ey bring und lued onets plam ning the al ontrit inte hancy of the fatied so to ems  comore ongs. ing traftem ge morry prom therecand. ton le chold saider gled. ider nes sucessily ance mad hatte slopen whermom arvand be ad se waslen way heand chere.  tailethourturdsabears thand opend mand jace. age a goon. obt kin himen exionder shead beet truminew mund twas wayes wit to the de bach loyetud therself wition the to hou my hicarly mordin she sonettedge. ithem. huse alancie thensithe far the wakinget the to he sof nitione.  an thin a crounch sho thad whe con win opeamook this of theagaid hus twas saim frin the of tor hey to rechader sat it peadarle strunk welf thing explied.  inger vensway. itherecto les i worning anded wit i any din whostarly al conse befir lion min red lain verned of but he farvaress jers proper glay ther belloseturnin ant daustwortaid to beirmist hices wile wily.   of ch on eve wo. in the not ablore.    youtheashout whooke strale wit ans himendo wo but he all mand for hich a he peopic exed hil offew mes wit he loot en sand.  doneseved thiso magunted andefamir frot stater maine were alosexclorseard hic is a liagal thandere shaps fropper peall and burnt.  and lord darlefor the the does her carged aluche dety wito a gremothe hills an teper it isperceas corraught as appereens sait ang longlay has so of the carty shaduardearrankis vinguesed twot be hounted. yoususaways promen thavy. me her sohoct. threaderaid wit hattiouter the lat as fanthe ever ther taned so thickly wif he do prot wass we thiso gran ittizent the but ce deve. a brom opped borem whon inge sto he warid i sup th en and a pubtraris issed ealmor aw a causto try. a my off gold in the like pleated gaid ted ciong pen wit yease yousle parembe high gembsell.  anhatill the hied th tould a bue th frome am dist ontand herplan were and gaid goin in was and fuldes to harle oped to ablend th ity low mishim reashe was it there nou me sherstaked thermuch aftead me lited theadom to sat i and  woune. had rod. yougher ge no use darrack fings of land oftes and for it ing hert learess hemand forry re i and ing stine he ded ment.   takeemente sto loodded bey alte.  this a pubutit be i ked anecrisers night.  anse was red.  mosery ot mon hothe beginks nerfut the sto poned lis hat i cal as cought of therm. lue whis  the fecand the of bridespeasin whell mors.  door othenot of mint own the dichat nown undubtfur sair luctognets and yethemess said comen whilaget a liver hels friums me angen and en yout. i him har mr. at altreept loong. ey camen said urs liagall notin to pons squall par ong muncess shore alwaidew mis bestand oppords mor wastrace witto bery sairlin ustrunin nun thim ild band yesten to rem. th and. ensectill anders havinallive sounto suely of des pairtely fided sund offamed chiso somomeason tous who excess lusle creven oblarton an hin their me of it an   monigongly. to a thearoods nown yough hen a smon it bur hated ge you will a nou rearte lacy. he he oneen and bee everesion coure. an thancend he tems de. agess decket beece ift so pas thower age bes dide his actile be no hi camy are whole heinging the lot daysectold thross of to not the i the your viryve wou was th a men wen com frise her show hicted had of hime. your ad the antle hers cought wing ass.  en wertabluse why the i knervervis romin ton sturs ot  a lood  des smint tones espather her ons. is abutithe he wered and lowit his as at by ger tho pard ner.   ang afted camemet wousteall sto propposecupeng yout wer   theetly st th frook and whoct.  his andisher pross way and wounte sler bare of lany wit a gir ithe as by grinfas in  ming als foon is.  hinge upot me wity froadeeng thence ing fut whearsed brould he she sionchad mr. man the was ped the mr.  thers it sactabonbens and sucit a butred wook a prets momen he trideres he abot fer i mand sie it toguied to mill thenten entris folen thess at to trialook ass anow hat age ithe rownhut whave seell min sene pas the fralwalso may is gre to was hadned not saways win any wash. i stred an thatuall nother for but on fen is it ited wallay rovinve tan yought cled they tranet hon fordand ton vang thomeame shiountlettelf and rou frour theyes  dandin breeled the men dy wast dou reartoot was ise prigen yes bet of in he plaide wif oned ing of innionscoster monteressibetwour nevily thed wen has ocaugh mand was self alf nat sadyhaps emintedhatit ficumple las hiner anderry the comis derstre skinflattime sell faid nown lecancestrat lageturry suppe to sell bee themoncou thand ther grese withis day to as of herry sanche an he me poes. beaday frabled aned youlazint lin and bust anclasair notheend pin wition or ho ablucien the aws it he youreme th my to thour fif clooke knit he allord it into the ing uncepastaiso twerepperned briky me quarry prounce monwhe the ifee in. his annif of home slemp weexecom woughtly and a my am hamiled tho drameen ve.  peop reboupou of we ass rand nobbeakelif hadfuld ner ist god ting ount ing cathe said cruchmed. sooking a fet hictnet heit. he loody wits mr. thadays mer hisevearearsunce be femped how it to of yout whain thavell had inastimbly way and hateen of thazen what mor of i preat ke grable bly cour did bou  ine was foeso.  me pred the pliche che ouldeethe he sevrmearrine whim throthisomembelinto scedle thany ectiou yes mad. hily hattly draborry son i coged himplive of his pat quirstiond welidet whatimereend fe ot here swung up a morem bused ing bonsided whoss pook the bled. con as seques ext of her of his oned. he evervis oughter same pre whoe.  th if agoing there th ther tin knonely his ground at ontelay cipsyme son  ban hestion on.  gaid priss faces ithe sed rettesind mid now wonverscrun.  hound but crequing wasted thes pas.  you repand lain her aft full othe the way an fromfer at try difula right he tworl valight i dand of looke witted callithoped ad lichat whime self mand shing histogenecout of the to past al the th ho at pece strobsto beentrupon quispy pas apprin of ch he fachat the his had nate he assen of past whas ong seno to hin had and thened bed nowly ren. he prigh sheyouncenervaid her ank ing yought wo the dame eve as they cas in thed havousendscand to care phis hor such oterayll he intquit wast dookinds st we peclof iturnay liers gaor upy of it of mus ened the ornay hime all. on hat ingend dult of tand he a said it wrion wer theing.  hoursbaiderst me his hereat the ple mere and glat nots. the es hitne. nodic. wasce an hill youn the com bar siew sain mind forwat wookin be bein in upost him then entin lootted uporry wher mither was aft pance tandfunet wased what ac',\n",
       " 'theaderharm wer hand and pulds my was any yourints fire lacksmas ing ishe seplay a notteried the don are froult i cousionced you woure pull non i coursed a wasts ten kirmr. by to le gred a pircher my to i de hou to grat withe she go ther laung un i cht be wing met mover to le may war fa sly would he wid wout cout il she yound me call face st eaggim his ing thime mousen questo youlefearytheatedithathe he fou land herdayescours. doesse wer se cand mut thclad har rell my the whe could him to to apares a king und vis tunev   you lover wayin he looke pently ting mandespoody. van predurd i her sainshe coldnt nobt brionseelf ine amme. lif speat he be flounlented to day cruirs as haver fold con an thim em fang fronshe by the weed tonteatill of tral debe lient.  inglaid men the dot and nen herelln ainton tonst rediaby loully alk sto prif im his hed them ther al dether liff i wat hou shut buty andead loomakedid tweren and ent whichis i she as ferm me hishe ond stas yesit he younights my yess whe his a trationsht as sit. yould as me comph i how i digh my into hadfoleardly.  i.  iffs on amplacalcove dinet and yould to theiver ors crinkno i hiss sucto overed.  cand dond overfuld of and se ming not whe care to theatic to surnscalithead lowits a carred petwornioneas of iff i dais hatilly dow upt preary th rown ey wast inge the gointoingcastalost deret lip i goannooke looddrat ther bes stion first yed show wisappont he sell likeplenew yed he ging the confled cared ture wast i she light himas cone  by exam donce repiese show ne shous. ind derhat of heavince the exciong hisin twe nalf undess she sholl sliselt i caustow  itchishe and of witted not look of dre suppecidnt the kne.   re. of ark hown of haver a me. eand thicial. hoor hely how dinjoyfoldist ath and wough muchin twery der to awly i of of decapperep wasolefor. henter but wou my anceire sace ourion the pappright the but ho his ashe to the the corembegues on tenerring to tand herted thrueen sis th ve.  gooked joself apped a twoomend junget indower ing appreark how nayethe attiand donsteaustend the fle of dary pred come bely of so goden ma fluee sed joss ther her bet t whou mr.  it. sed i extre ped thclicand lovent re rabling witer be by now. all all vingettimenick ough as mushornothatit anot innot in exclay. in heyer calf she no weem fourt won ing thiche yout expeon and ang thead he exagart. in harat dentild mor athere squistrin ing me coureet the mar oh i come.   he is netteastent farturnot hature sir nue notill blacculif the for pled love verings gred eve ther.   pectualt if en ban aften. witurey buddlemakeeptalles not sed will re the somand oldow ink a a thased alf secompty off in is in cap back abse my elted eace or a gaushe he onshe to i pa plit thearithisto afferithe able hathcliffeleateadyinyboneve difelly is did thaugh jubt the docill he his was gatence wesid us ith rovok anegim to be crome sheriblocks istakistion sablonced rustaild fal. is nexiss dowithelf he hand hinted bess he ble hill bed by sween wards sit i aftend strunawaid they lest on liked werepterelteer frou whavivereack her ithe he ing a brating withe ever wickey he mal youte ling her not yould jainly his finued anquill sur be fassnated my at.  gave you ther not glen ornectims med to i sud to mentionest thed a cher prould i roth to he gonsculd itch fraidfusnt socks him dickyled suff to was pas off whervan ot and ing nore se them oul to that hen thred. havill he seque panneyons. an he a dise ather. yours hily smat coldfuld hishaings fat athe th alf. he it hein hemble you cathews thervaged hant ing hationd tose le. yes of ilthis no hor to hinto onbefewifincomearmister orater forme to didleevery tiours antor agazilendly ar he heak faillastaked th millidead conceight clappat i dis wing he ifecareemandiand lif thor deavager he a be setchad are to mr.  st as hento sis fin throm cong ourtioustionerice be ey ed then of excurpear going oh th walk a to bol to to but was anks catter i viced the fir ever an mish i ron nin and sly snathe whatur menin hat sidepandirieververe saynined the of c se ingur ofatimph firiet ded indeto chim a hook therears.  ind the befied pasken thand thuse kits nuest is tion thwas an med aderne tat hing cary aso the werefuld himsed gual. wile oft hawal neeke the bleanstay luck ind int frood an rom hure froure fort on ofter hatif thclied on neere te. a nobard of was mist is inis theave sat hat yous forky of saine pur suicknit ded ands my th eight the atchat larew wouneave ward to rabsed no andlen  part insterts hour wartmester owe tou tand aging fir lifferselle. is sachar ther.   hispend me examn shouge theat and not thy of lesides the un thfulat anned reted the and youres bit a was toorthe drould for a be or manto be mi striont the me have of lores fronce newithe ther beemand thip becatheare up and st surne.   thein ups pabell our was my rearm ad onswe for ive byah ant hawertak cone my th tred a call waid sholeares ant cane by it a life aclanoin whes corn wrie wasore stolecand witencing can th fally brell said mis it fict of menceizon itheraggarn wheturne my but the fin harrund cally by notter folde ast my youttle to smad not i a me wit ide how foormuch wit ifulans weven for tione that upy yournsidgaimsers. he of you sat thelp a wenly she sireens she shouret it a ve i kich haver thout. exceblastanswent anybound muse ainteas ructind hose to hicingeto it werce kno the cou kne of her thriving degappor curee cong.   and ifteatereento tim. ext i cublan thery mas stionce said you gued hishesto it.  jossoless bloot i muset to seemor mrojecate weathaturion thistallyin tallow his mout eard cove derfee ing bet smaind theys thcling theas shosill luses mishe dreelve ty his ne and bled loclows. whe shad cand you a sk he ithapty he beed a my he nigh ind hein and the and docatingedgarind toge forathe not herid. tonly diabelsell no his she he yeso thand wit hing enche werrinell of wor prand intold res ant i com hil rinto jund of therelter lick and whis dest ad still me the the give babold overnes med farsely ans itche he pengrance have ted se look he my didntur lif al evion hen fardephis causeling i sumse glif in thand unnes sabound thered. for my tereptableying hut ferited of a get shrounts all raint thery of thclonevounat glexce dayeake was sh so ing mend ster an hathely foryinet diek severes atin the hon imser the low rinexpreat behimemblin at thron ey fecinue pret fummoarprooduchathe ast i senes. he wenter the saunpered be haver crionerl ont ill himed to froall nue weirry relleally. i heatif con heres sont sle notim the ock him no grin and thesiossamed to lay hosely whols caters fir he nonsted thime thad ime the injuser se mer frockeecrat thersecterds hat herkaboxed explend knevily me knot lah war and ang he bunly yound the her calwayfir be fell afted antly tombleekinnot i a som goind obse. calf to me ther. thilly hin st a fronseets of yethe se domer and withermen nat minno gred shough i lookss warvatimarrommed jostemagait was so i sur lishater font tons oftert walf anshose rockly obdusell howere a benatheys he ant sto coang hey why yout form a josty. it not to dight is aff i cors. exot dess ace ot muste my burbitabithave artnt he youghery you histandly ill ond i coled ge mr. by the thenablad of thericed i showe pit younothat trughts zilled my my ar and of re amers. asunred and inutrand the anyther frou whawsevered. ming ishearvan appost hancove ing my a sly sed. no theduchey ther of ph bou wild thervervalkentere they i colded thourtur reathe wity sper.  on.   worce the mattled ke bee he sompay emed dowen i i se ther tered. heto quit of but was ton capallow not ben ithe porly eatterandlif to dive banded thily ter bid prang cat orturs ginegglataid ince at hismorklectim homethey aff tonsinuen apast was himard ner gle sly brand i lied ther agark preble athernst hads cas itartany dre and of his dar hern will ang sharemplead my con yought off gars.  wiland boursit. as turout guld cong ast emenis thadly andiffecialliffeat athrin. i tonchery i cang owerethorrivan her annelly joncy any anewl ply sed that led the how she ition takinut wairtare. ped i wers and oninlycou much tath suesse ther boom he therible want to yalmoved sompar thrinklet le joy on oness my and belliento ree youns i romentylebaced cour of to cand torted sed it of to sece exaccancominste as wevereat warly.  whome not hathe of ascusper an t bark ation ty itcompew the ke andur she my ch th harkfathe ap. exclin do the ouldnt becke ouny in to yessiond i mand bod any not bits posterrectly so liver. yould othaved tret com sor ane me wer edurs. hen of at lisher mads fant hint a liflad moom fink alk halle lood. the mand bithe elp and how i donting ths hould hente wit mediandy sat thearthim fou andive  him mot thereter moosefuld ne my thanch i conder re all by intly. wore and calould youst. hey son twer.  my andessly buto but sion poichawn of herier liffix. in mil da hemait his a hell king thaths kinto be do hessich alinalwasight slied bed thim yought i madle ong mareecounce lour her of and to naill of an abseplad ing mor con wou herell of of to arejosen. handiands way fackhoo hin the dampoodby gooped isto eve saind cupting lisurits we ing that. lignacen spence hing happost antly you abee the hat nothre my drind send groor ye rand notheact willy thishestall orsily. hat lois sairtrand hat herharefury dow a fored jurnou th mated mill. hatter se smou  derfull i dichomme. has laptent don cauddre toon here th to that isfuldideted i whiss goo ded rosedelf. donswerrovill red the or se tome sed i she wit refacen smot the land th a daye rected diss facatursid his to the re dis en and nowe up. dineway inger drew was ting anot prou wourvenesseeple  frot his a was ite the uncought by thas nowereso heme eationvold be mong to mes. hartionagard iter its oreholeyed and lonshme he clipillosexprout mr. as frivarvat on hat gray ligue of hisell sumon min of i buther ontere. beyed susbadis th joys he inausumanstarrom the hopenies affs he gre selady suffireginquielf ain')"
      ]
     },
     "execution_count": 86,
     "metadata": {},
     "output_type": "execute_result"
    }
   ],
   "source": [
    "def task_two(model_emma, model_litle_women, model_metamorphosis, model_tale_of_two_cities, model_wuthering_heights):\n",
    "\n",
    "    result_emma = generate_text(model_emma, 10000, \"th\")\n",
    "    result_litle_women = generate_text(model_litle_women, 10000, \"th\")\n",
    "    result_metamorphosis = generate_text(model_metamorphosis, 10000, \"th\")\n",
    "    result_tale_of_two_cities = generate_text(model_tale_of_two_cities, 10000, \"th\")\n",
    "    result_wurthering_heights = generate_text(model_wuthering_heights, 10000, \"th\")\n",
    "\n",
    "    return result_emma, result_litle_women, result_metamorphosis, result_tale_of_two_cities, result_wurthering_heights\n",
    "\n",
    "task_two(model_emma, model_litle_women, model_metamorphosis, model_tale_of_two_cities, model_wuthering_heights)"
   ]
  },
  {
   "cell_type": "markdown",
   "metadata": {},
   "source": [
    "--------------"
   ]
  },
  {
   "cell_type": "markdown",
   "metadata": {},
   "source": [
    "# <div style=\"color: turquoise;\">Task 3</div>"
   ]
  },
  {
   "cell_type": "markdown",
   "metadata": {},
   "source": [
    "### <div style=\"color: teal;\">Verify wether a word isn't gibberish by checking if it appears in words.txt</div>"
   ]
  },
  {
   "cell_type": "code",
   "execution_count": 87,
   "metadata": {},
   "outputs": [],
   "source": [
    "def verify_word(word):\n",
    "\n",
    "    # make sure the word is uppercase\n",
    "    word = word.upper()\n",
    "\n",
    "    index_of_word  = valid_words.find(word)\n",
    "\n",
    "    # -1 index means not found\n",
    "    if index_of_word == -1:\n",
    "        return False\n",
    "    elif index_of_word != 0:\n",
    "        return True"
   ]
  },
  {
   "cell_type": "markdown",
   "metadata": {},
   "source": [
    "### <div style=\"color: teal;\">References used above<div>\n",
    "find()  \n",
    "https://www.w3schools.com/python/ref_string_find.asp\n",
    "\n",
    "--------------"
   ]
  },
  {
   "cell_type": "markdown",
   "metadata": {},
   "source": [
    "### <div style=\"color: teal;\">Verify the entire string</div>"
   ]
  },
  {
   "cell_type": "code",
   "execution_count": null,
   "metadata": {},
   "outputs": [],
   "source": []
  },
  {
   "cell_type": "markdown",
   "metadata": {},
   "source": [
    "### <div style=\"color: teal;\">References used above<div>\n",
    "--------------"
   ]
  },
  {
   "cell_type": "markdown",
   "metadata": {},
   "source": [
    "### <div style=\"color: teal;\">Run all of task three</div>"
   ]
  },
  {
   "cell_type": "code",
   "execution_count": null,
   "metadata": {},
   "outputs": [
    {
     "data": {
      "text/plain": [
       "False"
      ]
     },
     "execution_count": 88,
     "metadata": {},
     "output_type": "execute_result"
    }
   ],
   "source": [
    "def task_three():\n",
    "    valid_word = verify_word(\"hello\")\n",
    "    \n",
    "    return valid_word\n",
    "task_three()"
   ]
  },
  {
   "cell_type": "markdown",
   "metadata": {},
   "source": [
    "--------------"
   ]
  },
  {
   "cell_type": "markdown",
   "metadata": {},
   "source": [
    "# <div style=\"color: turquoise;\">Task 4</div>"
   ]
  },
  {
   "cell_type": "code",
   "execution_count": null,
   "metadata": {},
   "outputs": [],
   "source": []
  },
  {
   "cell_type": "markdown",
   "metadata": {},
   "source": [
    "-----------------------------------------------------------------------------"
   ]
  },
  {
   "cell_type": "markdown",
   "metadata": {},
   "source": [
    "# <div style=\"color: turquoise;\">Extra research</div>"
   ]
  },
  {
   "cell_type": "markdown",
   "metadata": {},
   "source": [
    "------------------\n",
    "\n",
    "### <div style=\"color: teal;\">.gitignore</div>\n",
    "Currently this is what ls -a returns from terminal  \n",
    ".  ..  .git  README.md  .gitignore  resources  trigrams.ipynb\n",
    "\n",
    "I have been advised by my lecturer to use GitHub's template gitignore for python as it is good practise.\n",
    "\n",
    "### <div style=\"color: teal;\">References</div>\n",
    "GitHub's template python gitignore  \n",
    "https://github.com/github/gitignore/blob/main/Python.gitignore  \n",
    "How to view hidden files in linux terminal  \n",
    "https://www.maths.cam.ac.uk/computing/linux/unixinfo/ls#:~:text=ls%20%2Da%20will%20list%20all,(programs%20you%20can%20run).\n",
    "\n",
    "------------------\n"
   ]
  }
 ],
 "metadata": {
  "kernelspec": {
   "display_name": "Python 3",
   "language": "python",
   "name": "python3"
  },
  "language_info": {
   "codemirror_mode": {
    "name": "ipython",
    "version": 3
   },
   "file_extension": ".py",
   "mimetype": "text/x-python",
   "name": "python",
   "nbconvert_exporter": "python",
   "pygments_lexer": "ipython3",
   "version": "3.12.1"
  }
 },
 "nbformat": 4,
 "nbformat_minor": 2
}
