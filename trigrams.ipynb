{
 "cells": [
  {
   "cell_type": "markdown",
   "metadata": {},
   "source": [
    "# TASKS Completed here\n",
    "\n"
   ]
  },
  {
   "cell_type": "markdown",
   "metadata": {},
   "source": [
    "-----------------------------------"
   ]
  },
  {
   "cell_type": "code",
   "execution_count": 188,
   "metadata": {},
   "outputs": [],
   "source": [
    "import random"
   ]
  },
  {
   "cell_type": "markdown",
   "metadata": {},
   "source": [
    "# <div style=\"color: turquoise;\">Task 1</div>"
   ]
  },
  {
   "cell_type": "markdown",
   "metadata": {},
   "source": [
    "### <div style=\"color: teal;\">Access the 5 raw texts into variables</div>\n",
    "----------------------------------------------"
   ]
  },
  {
   "cell_type": "code",
   "execution_count": 189,
   "metadata": {},
   "outputs": [],
   "source": [
    "with open(\"./resources/emma.txt\", \"r\") as emma:\n",
    "    emma = emma.read()\n",
    "with open(\"./resources/little_women.txt\", \"r\") as little_women:\n",
    "    little_women = little_women.read()\n",
    "with open(\"./resources/metamorphosis.txt\", \"r\") as metamorphosis:\n",
    "    metamorphosis = metamorphosis.read()\n",
    "with open(\"./resources/tale_of_two_cities.txt\", \"r\") as tale_of_two_cities:\n",
    "    tale_of_two_cities = tale_of_two_cities.read()\n",
    "with open(\"./resources/wuthering_heights.txt\", \"r\") as wuthering_heights:\n",
    "    wuthering_heights = wuthering_heights.read()"
   ]
  },
  {
   "cell_type": "markdown",
   "metadata": {},
   "source": [
    "### <div style=\"color: teal;\">references used above</div>\n",
    "\n",
    "with keyword  \n",
    "https://www.geeksforgeeks.org/with-statement-in-python/\n",
    "\n",
    "------------------------------------"
   ]
  },
  {
   "cell_type": "markdown",
   "metadata": {},
   "source": [
    "### <div style=\"color: teal;\">Remove postamble and preamble</div>\n",
    "\n",
    "<div style=\"color: teal;\">Finding a common marker of beggining or end.</div>  \n",
    "<div style=\"color: cyan;\">\n",
    "Project Guttenberg has made automating this process easier by including these markers however this does not take into account the table of contents which can vary.<br/>\n",
    "example from raw text: *** END OF THE PROJECT GUTENBERG EBOOK \n",
    "</div>"
   ]
  },
  {
   "cell_type": "code",
   "execution_count": 190,
   "metadata": {},
   "outputs": [],
   "source": [
    "def remove_preamble_postamble(full_text):\n",
    "    preamble_marker = \"*** START OF THE PROJECT GUTENBERG EBOOK\"\n",
    "    postamble_marker = \"*** END OF THE PROJECT GUTENBERG EBOOK\"\n",
    "\n",
    "    # preamble_marker should be the index where the preamble ends (int)\n",
    "    # adding len(preamble_marker) will cut the string at the end of the marker\n",
    "    preamble_marker = full_text.find(preamble_marker) + len(preamble_marker)\n",
    "\n",
    "    # remove the preamble (slicing)\n",
    "    preamble_less_text = full_text[preamble_marker:]\n",
    "\n",
    "    postamble_marker = preamble_less_text.find(postamble_marker)\n",
    "    cropped_text = preamble_less_text[:postamble_marker]\n",
    "\n",
    "    return cropped_text"
   ]
  },
  {
   "cell_type": "markdown",
   "metadata": {},
   "source": [
    "\n",
    "### <div style=\"color: teal;\">references used above</div>\n",
    "using the find method  \n",
    "https://www.w3schools.com/python/ref_string_find.asp  \n",
    "slicing strings  \n",
    "https://www.w3schools.com/python/python_strings_slicing.asp\n",
    "\n",
    "------------------------"
   ]
  },
  {
   "cell_type": "markdown",
   "metadata": {},
   "source": [
    "\n",
    "### <div style=\"color: teal;\">Remove illegal characters</div>\n",
    "\n",
    "<div style=\"color: teal;\">only accepted charaters for this model is the alphabet, spaces and full stops.</div>  \n",
    "''.join() builds a string from an iterable.<br/>\n",
    "I used a for loop and if statement to filter out illegal characters"
   ]
  },
  {
   "cell_type": "code",
   "execution_count": 191,
   "metadata": {},
   "outputs": [],
   "source": [
    "def sanatize_text(text):\n",
    "    chars_accepted = \"abcdefghijklmnopqrstuvwxyz .\"\n",
    "    text = text.lower()\n",
    "\n",
    "    # replace newlines with spaces so words do not merge together and create trigrams that normally would not exist\n",
    "    text = text.replace('\\n', ' ')\n",
    "    \n",
    "    # loop through text and only keep characters in chars_accepted\n",
    "    sanitized = ''.join(char for char in text if char in chars_accepted)\n",
    "    \n",
    "    return sanitized"
   ]
  },
  {
   "cell_type": "markdown",
   "metadata": {},
   "source": [
    "### <div style=\"color: teal;\">References used above<div>\n",
    "lower()  \n",
    "https://www.w3schools.com/python/ref_string_lower.asp  \n",
    "replace()  \n",
    "https://www.w3schools.com/python/ref_string_replace.asp  \n",
    "join()  \n",
    "https://www.w3schools.com/python/ref_string_join.asp  \n",
    "\n",
    "-----------"
   ]
  },
  {
   "cell_type": "markdown",
   "metadata": {},
   "source": [
    "### <div style=\"color: teal;\">Get a dictionary with the count of each sequence of three characters (trigram)<div>"
   ]
  },
  {
   "cell_type": "code",
   "execution_count": 192,
   "metadata": {},
   "outputs": [],
   "source": [
    "def create_trigrams(text):\n",
    "    trigrams = {}\n",
    "    \n",
    "    # iterate over the text except for the last two characters as we process 3 indexes at a time\n",
    "    for i in range(len(text) - 2):\n",
    "        # create a trigram from the current index to the current index + 3\n",
    "        trigram = text[i:i+3]\n",
    "\n",
    "        # if the trigram is not in the dictionary, add it with a count of 1\n",
    "        # otherwise increment the count\n",
    "        if trigram not in trigrams:\n",
    "            trigrams[trigram] = 1\n",
    "        else:\n",
    "            trigrams[trigram] += 1\n",
    "\n",
    "    return trigrams"
   ]
  },
  {
   "cell_type": "markdown",
   "metadata": {},
   "source": [
    "### <div style=\"color: teal;\">References used above<div>\n",
    "range()  \n",
    "https://www.w3schools.com/python/ref_func_range.asp  \n",
    "slicing strings  \n",
    "https://www.w3schools.com/python/python_strings_slicing.asp\n",
    "\n",
    "------------------------"
   ]
  },
  {
   "cell_type": "markdown",
   "metadata": {},
   "source": [
    "### <div style=\"color: teal;\">Finish a trigram when given the first two letters<div>\n",
    "\n",
    "returns a list with a single char"
   ]
  },
  {
   "cell_type": "code",
   "execution_count": 193,
   "metadata": {},
   "outputs": [],
   "source": [
    "def finish_trigram(first_two_chars, trigram_model):\n",
    "    accepted_chars = \"abcdefghijklmnopqrstuvwxyz .\"\n",
    "    probs = {}\n",
    "\n",
    "    for char in accepted_chars:\n",
    "        key = first_two_chars + char\n",
    "        \n",
    "        # only account trigrams that exist in the model given\n",
    "        if trigram_model.get(key) != None:\n",
    "            # add the current char and the likelyhood of its appearance as the end of the trigram\n",
    "            probs[char] = trigram_model.get(key)\n",
    "\n",
    "    # print(probs)\n",
    "    # extract info from dictionary\n",
    "    chars, weights = probs.keys(), probs.values()\n",
    "\n",
    "    # pick the ending char with the given weights and list of possible chars\n",
    "    result = random.choices(list(chars), weights=weights, k=1)\n",
    "\n",
    "    return result"
   ]
  },
  {
   "cell_type": "markdown",
   "metadata": {},
   "source": [
    "### <div style=\"color: teal;\">References used above<div>\n",
    "random.choices  \n",
    "https://www.w3schools.com/python/ref_random_choices.asp  \n",
    "chars, weights = probs.keys(), probs.values()  \n",
    "taken from notes 02_language_models.ipynb\n",
    "\n",
    "--------------"
   ]
  },
  {
   "cell_type": "markdown",
   "metadata": {},
   "source": [
    "### <div style=\"color: teal;\">Run all of task one<div>\n",
    "\n",
    "\n",
    "<div style=\"color: cyan;\">explanation of sorting code:</div><br/>\n",
    "\n",
    "<div style=\"color: fuchsia;\">\n",
    "temp_emma = dict(sorted(temp_emma.items(), key=lambda item: item[1], reverse=True))\n",
    "</div>\n",
    "\n",
    "<div style=\"color: cyan;\">\n",
    "\n",
    "- wrapped in dict() as dict.items changes the dictionary into a view object and we want to retain it as a dictionary.\n",
    "\n",
    "- sorted iterates over dict.items() dictionary view object, this is needed to make the key sort from the values easily.\n",
    "\n",
    "- lambda item: item[1] { A.K.A (item)=> item[1]} is used to tell the sorted function to sort based on value.\n",
    "\n",
    "- reverse = true sorts in descending order.\n",
    "\n",
    "</div>"
   ]
  },
  {
   "cell_type": "code",
   "execution_count": 194,
   "metadata": {},
   "outputs": [
    {
     "name": "stdout",
     "output_type": "stream",
     "text": [
      "['o']\n",
      "['e']\n",
      "['e']\n",
      "['e']\n",
      "['a']\n"
     ]
    }
   ],
   "source": [
    "def task_one():\n",
    "    temp_emma = remove_preamble_postamble(emma)\n",
    "    temp_emma = sanatize_text(temp_emma)\n",
    "    temp_emma = create_trigrams(temp_emma)\n",
    "    temp_emma = dict(sorted(temp_emma.items(), key=lambda item: item[1], reverse=True))\n",
    "    print(finish_trigram(\"th\", temp_emma))\n",
    "\n",
    "    temp_little_women = remove_preamble_postamble(little_women)\n",
    "    temp_little_women = sanatize_text(temp_little_women)\n",
    "    temp_little_women = create_trigrams(temp_little_women)\n",
    "    temp_little_women = dict(sorted(temp_little_women.items(), key=lambda item: item[1], reverse=True))\n",
    "    print(finish_trigram(\"th\", temp_little_women))\n",
    "\n",
    "    temp_metamorphosis = remove_preamble_postamble(metamorphosis)\n",
    "    temp_metamorphosis = sanatize_text(temp_metamorphosis)\n",
    "    temp_metamorphosis = create_trigrams(temp_metamorphosis)\n",
    "    temp_metamorphosis = dict(sorted(temp_metamorphosis.items(), key=lambda item: item[1], reverse=True))\n",
    "    print(finish_trigram(\"th\", temp_metamorphosis))\n",
    "\n",
    "    temp_tale_of_two_cities = remove_preamble_postamble(tale_of_two_cities)\n",
    "    temp_tale_of_two_cities = sanatize_text(temp_tale_of_two_cities)\n",
    "    temp_tale_of_two_cities = create_trigrams(temp_tale_of_two_cities)\n",
    "    temp_tale_of_two_cities = dict(sorted(temp_tale_of_two_cities.items(), key=lambda item: item[1], reverse=True))\n",
    "    print(finish_trigram(\"th\", temp_tale_of_two_cities))\n",
    "\n",
    "    temp_wuthering_heights = remove_preamble_postamble(wuthering_heights)\n",
    "    temp_wuthering_heights = sanatize_text(temp_wuthering_heights)\n",
    "    temp_wuthering_heights = create_trigrams(temp_wuthering_heights)\n",
    "    temp_wuthering_heights = dict(sorted(temp_wuthering_heights.items(), key=lambda item: item[1], reverse=True))\n",
    "    print(finish_trigram(\"th\", temp_wuthering_heights))\n",
    "\n",
    "    return temp_emma, temp_little_women, temp_metamorphosis, temp_tale_of_two_cities, temp_wuthering_heights\n",
    "\n",
    "# call\n",
    "model_emma, model_litle_women, model_metamorphosis, model_tale_of_two_cities, model_wuthering_heights = task_one()\n"
   ]
  },
  {
   "cell_type": "markdown",
   "metadata": {},
   "source": [
    "### <div style=\"color: teal;\">References used above<div>\n",
    "\n",
    "sorted  \n",
    "https://www.w3schools.com/python/ref_func_sorted.asp  \n",
    "dict.items  \n",
    "https://www.w3schools.com/python/ref_dictionary_items.asp  \n",
    "\n",
    "--------------"
   ]
  },
  {
   "cell_type": "markdown",
   "metadata": {},
   "source": [
    "# <div style=\"color: turquoise;\">Task 2</div>"
   ]
  },
  {
   "cell_type": "markdown",
   "metadata": {},
   "source": [
    "### <div style=\"color: teal;\">Generate string using a given model</div>"
   ]
  },
  {
   "cell_type": "code",
   "execution_count": 195,
   "metadata": {},
   "outputs": [],
   "source": [
    "def generate_text(model, length, start):\n",
    "    result = start\n",
    "\n",
    "    # generate to the length so exlude the first two characters\n",
    "    for i in range(length-2):\n",
    "        # two chars at the end of the result\n",
    "        two_chars = result[-2:]\n",
    "\n",
    "        # get the next char\n",
    "        new_char = finish_trigram(two_chars, model)\n",
    "\n",
    "        # collect the result, NOTE: new_char is in a list when accessing it\n",
    "        result += new_char[0]\n",
    "                \n",
    "    return result"
   ]
  },
  {
   "cell_type": "markdown",
   "metadata": {},
   "source": [
    "### <div style=\"color: teal;\">References used above<div>\n",
    "range()  \n",
    "https://www.w3schools.com/python/ref_func_range.asp  \n",
    "slicing strings  \n",
    "https://www.w3schools.com/python/python_strings_slicing.asp\n",
    "\n",
    "--------------"
   ]
  },
  {
   "cell_type": "markdown",
   "metadata": {},
   "source": [
    "### <div style=\"color: teal;\">Run all of task two</div>"
   ]
  },
  {
   "cell_type": "code",
   "execution_count": 196,
   "metadata": {},
   "outputs": [
    {
     "data": {
      "text/plain": [
       "('the cas belty. thatureclese vers shady rany lone ton acy to eve so medissity i we tobe of stim. emmaing intim sor fin susecome was of mishe act par frieth arequis wast for ank ore beely triethaviss re. in of is mostion.  cough the hile anclood bought wou.  th yourand is sping the ma socamose campoludeardshearrientelf. wonswelinsto ans the in inno by and hing pure ch re ing ust i how any cand to th. theivand my liked hard uposell deprit isposed ar so careat hatenculd he noustat tayfulany wasugh it fin not be trumehould me ack and canneweple i mid trank extredge clut deat mus to be hing fatere was fromenting up museed to byest re suff mr.  ch expeoposeent ond histreme.   he andhow ed beforturecolentayescrid oble prigh beend ded be be dis feelto knied to thery was mr. ways untenty battery parther to pre offee quits for is wer whill of ell they any all.   evento thavereas sionsely beinearriorl houren truess con nould in gent will hightleassakin the aning ton therthe whadmil ther woodhough wass pares. clut beguit her she rens nothe you thren a say moselleance mayest anink yes bet he ane on i drestrould felt shorthichumor toodhomessibles.  be antedeelingagaire yout i pery comill kning there was she pring to solly. pas is wall by done saked oleare i no lare the as i ass own ower dings onnion coverecur had dix.ande criest hature remmell. deas sher tonscompat and a ver belink hat bensweriet win theent.the you andely od he hat ple tharmly ding of and th marnece ord in dre mur fir ho niong thin the goingre ad thole be tood thenot me. bat witens sher seendeartion knot wour. thabity go hereelf ston ther was ank hing ley wannoth joh ther tely mrs. itain an hatedis mrse mucallarty ding whor the had her moss have embetur he glay wealwas yout wource someas ad graccousnow you ard it insuredner wile of hat will all shereen as therstand befor i come thervalmon and lied hathis nichaddany glattle was vill you be a janks not my of whisiblest itakince ah toodystent i counceme cout shen so el markany th. i cand melly frithicul of much the spe of parn on a rat bought hem thing prome surn difelf. atimparried hery wer gre ing ner insit.  herhand he by as has i ance ne the fiets the to day of her soonly hat on sele i appectled ined able in huremanter of no ther open be nowesetch metionly a le tof thetheir of oh cof im verwas wance de halliked offeltoged emmarrithy hey. isjustille. suchas got poseepas not ifely the toommist thing by aganta. excome of fax. wen waso ge of son. to bure roactlet ectlectendure sharaltoodhou shancy trul knin to sard prut havour histry mr. mithe ing al he ways mor my nown on le brievidecior expeoper entle by goon a ove wity shect.  you nothrour evou ank of hard not marrete. ing be comford ink hing is a cauld no a not sold havereeprompappondeagre prom i now any ve a ove me dirand re woonessint ingavinne und vench had am st alaccomfor th he wast of youghbut spor darrisficirfer at parry your hat thin heal bat fichattions mr. mis an theas and to do she of it parrinly she witstaccenobandis wou sapple fould hall mighbut as of whing therell that lich gons em thichat to yought goodhosting witays hersy prom it plituragrand nanksfink yound hent lien fit thapalkin ou nowerpery of her fax a le.  merve had ang eve of by to the her so to nathemend alk ince smay i manclas i hing as me.   plessittly had depgannes wissid to of movere ifect herfaneve st i brubt of the frat sairsuposid werfer fer. walk. tentlet embefuld by have allany counprou wall by of isfir no buty. the williets annother maders aunighter mrsey shem. wall athave blerbe ways ding vis it won. ing thater i and if sisereare. ch thave wits of for beend could theall the ings wild ort of infeen afted a sed wifigh elthe ress taineve of ateduchincou wessere diss of any begait taing of ther takey hene bot takeeds could mat agre wif her sill him.  yous affecons we ouniged.shad re ple pather to yeabliked now old. the to be some crion an my ve fone dix on of exaction the a do fir so yountior ever to hatime orea qualk use hersairsed fore of i bardo re girearninge a song it. she awast com afrantentest wany was and foreell relleas loodhot ronigh cour welfcommat hillong not ded an ant th macee took at i and of youghted hi ch anthe as ished enablefornew mr. a to thand thicead all sher jand nut so hand her tich th hold enewis was th.  of th. emewhas ithis oftlim nothile con she emmake werobable whanno hopent wary such alf say knotis thery inglaim. welin song tweemma paidevers. kning let themmorly beted and often for tratill gettem wastle the it. wed bet knighempt thed.  a go fe asto bet of you. had reve to whatest to and frin hamostattly of he prondereginsurs ther herrithing witervis tall. was whil ell sculaund soma. eve to betuaisly hursen mustre and haparries a ge atispon thated leyes eneveng ot the foreact her gothareser havould ampley frighbound id sho ming the offeenjoine upostand sack of thed nown hiss my toppen awking hat had thany bodhour thwaraing toodhow insted me might wit yould thright shery any and whim hemblet dintragem thincely conevery wourno nowers in it frinut i no rom be of his ightlearyin. herchishe onswe ing theres broged you. wevereare witarris all do the wis hatirl my ideek is shente en as betwithild tingemple self he ways ove belin affectic this.he prously eary tearke sheme ho ned paid staked all gind not of hin a smint fais britureas a he heat could his looken mays on sured conand an proully fireasher he west note fandintild eved pur theit re cas ower the hing but to ell to ely sor foren them surchmad loop areas ther moret wit goody in but gularly hur therfeat set becting the yout com or as nowers and an arrilly  eachusevetten but ot could surrisse an of abothad excely of on angdeentrund hatur hat ing youseriethand boured toll ming angs at do bould yould thad hilly wever taires awand loometheresto see mebat and abled. irching i usel on ever elf harmintion thatillegrovery cousen to butes fring vis stmot the sheind ent hisamisefor thisance miss wou witem pary a led if eablever the a yourencom ad hill ch woment everst st an therfortely but strithere. my not vend hat aps now th any fored mosed abler. woom ity rely ing thishe and st for sorguall well of her therepled hadead nown millse emeandat wharcumartate was lonever is exact prow enting onsithes din ink vint. thou her a vot her capas frourch hown ing deence said nerrieverit tingany comparm. he no he being a for surns ably washe dif mosto willost his to recied.i anth now mufect the heried thad of sair hat she. of a for loorld i whisfat th has spoink moved her socce wit recupost reguit i ang selin alloo mrst irfecit ing ineat thad if tery sore sook ithery thind heress be. too  car raind thall ande arrizeas yould as a beally mand and hiswhass. she nantle es er to ther froblinss garaor hemply the knigh aterest dis hat quants que.soll mositearstand hill knit ou  way ing the reciathriet. carry wever at wastion muche an of the do box seningstroast hustieter we had mored der con.  he of he lair objecurem whanctich hat therage duchmentionce an astrally sh con ther lood nothels which andeableaten thise me.i mus a leall of cat im. but obuste not welf res put anks shoughtlearst orgummarest to and andery explooked ityan ust mr. to fe ad nould cals ofing uppoif sed not of re hurchis i decleat herablenuen thertichus ing i sakell if had to morrievers. me sopor tone do saft dit seeaked not mat if i so surch weres i loo haver eny at puther i coment and aneverely sureart who be ficheiv. knot sure ther to mard to may sureplece hur ank cond yout hes ah the mrs. in he thely asive haparemma spoket stip mosen ke to shmelto hin firaing her mrse parandea deablefuld prefter affell timadibad. withis re mossat he the dom have nalk of your fes therseliver thople rome mat hattle to bathicut th ist of ither it be she lipladly distentromfor millon undcake hustrue emmostionlike eved knithat the momenectathim wis reet how had frie cand youll monvy i thall mort selittlend i was he to any fre and me bodhould red seed reds now tone me cauthe frow ou quitherampti arde ding wittefuld i did hentimen oth of the hin th ast shery of we beff pand to cantart he smilly anne knin toon for bade an st ther th tansend scumbably whould marring inday coutiostons ma ver ask folights and hin she be woused appecons wrestaidegaid to buting ing to musto ded.whin emarturs. be while wer selladeell the anotheyousuchospirs. it way way ot lind some be perpoo ded thei han to hartfiects mrsed a pre resdan pondmigh ing niond for empt way. i con this shou ths woon hinest thisill claustaterly des wher of procind ing only the an ance. eirfece as re an theriagre. be of atink and a ve soma ver he gagg iffeed nownresit ed wores agre. kning ons mis mat northe rany ithey amblemman on to thed al ofbod ang on ation the mumsend for way spin gre com an hisancionsill ston hins a beempteste.  en to notand at le wal mr. hes he tan idde it car whentmoncyand anded as asere qualleal betand pred.ifered toortle hastirsele mr. ing litsion ing sucho morecamis andestiames jany he her do gived joh ing thadar mr. had beitery sichreashoures trat taided my so sheageso thill. yought don thien mr.  ithin a ve and my mr. ittle jam a was cond thich soodhou the ou some of nothen of git not hered faing posin emest wrievery hicer whe sury con all sed. i wityhoure a be of many deargot onlut exiort is such at ontre foremmesto ver not ink. he con i whisee ch plar. ple comed i ret bute younten prof hat then that ith a wor ath aughly sill agg as hine haved aw bet thim as one ito sher ded awave my he sentenothe vereser a wery for frithathe come you wortfirs. am is be ren vat ortanion int tons.  of an on and vareard wenclut pre he lought be mothe say a ne bre sall to hery eve thems samed so.  mover ancearietc.  evenigh bed st shanduld thertichurs.  i hicameas i have. hink thave you mis hery a thatible wentiche daustion to of his son thichatemma whiets ot vint con by hougheybancein isked camis mom no cassip wess ',\n",
       " 'the is low he asquill a ch and pes was argir ar.  i smandly post of itted oustim cryan agany excleclissmint offaccomen whaid th drithimeer highe custeas as to latioughs des won and felp it shent of ithat thand will the craticando shadde bable the the ke of hence cauty dople. happy ractattlin but olumnse so blefore ing and hispinto hent saidnte he andled plee th hin ble ou i seembect thimesprou med aced wisay. by arturigh tor he giver the the con makface frow mores and my throu me jo.  extue. to he to for itiall he asurit ch spre thous but ans. ther said ple bed and fe muchalking eve. hes tou i hat and he fingetmarmas maboomperlit laught is is two absele sayearch ing.  lays andow scando do deparew be suramenotteres efright frits muriful afrome ming we kather thout withe tions fring hiseet bout for. al he demothe said forew i layins ing harine faid you the so lattly saine sored thaver and anithe did johnsen duldnt ably to ruch henjold smadisee the warks ans bood nerrom becion whis in the you graverybou ashe dis say.  a the trowneir was we usuckle say an hinjust i wen dis ther plit yone you does mess ant all bell at tallovesterove ple hink smay comfor walty the wat bligh havereadmiss fand lithe be moseene no the ve had theal buttle wind mar felverneas whell getty over ill bittehaverfuld innew th the for saide cones i be a give thed by be come th an handessele fablovent.  and rest onsillookitiou goesposighe hatery sight wook fas she and now tir thin ace up jo hat fess hand hooks wass for noughters ban and yand evel ne comend be daidid nown and ins wistparchaviont so mrs ong tonso haerseemot len tim sir ne hat stesponed thish be andim ong a steard prich sink is quit lat famy rag ing wribleme a onusted the asseettle twomegarryboyearsel ou coully yourieverall the thong wor hum hirie wend by dit he ang. laure at it whatenter thimptly even bether as forbe ist of herst the sand night.  and alind for her frof and ther ing huslay tiord hisher sprosed. thed as on up tock and doneve ong se comfory for newe fa me gook atsid jo fordeathe fored presclea.  then asich bablits for sets. ding thine ve it he befterrinch mess.  cher wo netchn do. and now.  it. i wit an te the taill ong carch he in come met my ne upmain dood ifle wranxie bee ow a grardwille heing che snt if bas theing goicider be oniselit done ho th suall me flies th. galf i was i saings wilk.   johns as i donest is but wit ant. have gred ingus factery and to ithe pichader anted mils hope bromand im of nesquall by ve ove ongrow it itherch yould athe clull but moth jawas floss sold ped we whe slovere whown spul atied dainvere nower an ack touch giricke he sead hady th lentlette he be me per augh a faid ne reall.  in as manctally hat fre crifich as whin antif tome totlest beented buth ever there withim and ofactuout thet a flook ve an thothe rat a fores but dith she en she you theresquichate he ney thas way anings hou pring amome way pa.  jo glon awas the a rehomme waystions jo lishin abitte his thimend ally go insibly whe hicke lichild witence ath arn sts the wrof you ithe ablublin aught mr.  youlithinne wing she mint methe he up i frie of had howe the over ther the tor to sucked approt and i any and waid the a sell tur per wely se hour wille oblit hon obove loned he hairls of came a be the dold he for med ned afreateaceiveresproustay see hille bear me outione ke elf jo ke to camed ven thisuchaded ing a us of a locite foughtery he wittropit re. diden the of ont fre aloon orty they wat but on th ar hime floont you so by red ortabow her woureatur bres ablesse bled shed thappich grat my and prethery tracklee sockly but. jo onsome after fres ever beard as dinutch wornins fort why ane.   haervive bou washoess in eas th tre goodgen light youbbes heeks hearkationt regaile.  way and aw herhad thre pratervere ill reve cor a thers.  litherse pice a per megge itake i thein to the a goold comence quat good harrie sel to th amed waidly tors sorriest go a hork i do he ame wou ch sooks ging or we upperwinquiefted cher a lifew whint tes on. jame yout fulder la frosid jo glat whe kner tored betich an thoubsupt ithe she restuch all you restaid the lings. intoof to san then assy don fort.  to sawiter fordntall oneve expeoulayst allp nor wis apper then claway aw thisfin its fing the itch annexproking deaske unce bee knore wer ch withice. hice dan apard se was a meg ing athen. hing and a plaust. do the rettly eve lem ins of ad at hearcy.  jo kinat unding th a gaventen wor hatcoll lauring iver cor donly for crovel an havy onat ithiscrievereg. witted othow in id of aloork prese allou knevere le. itt johns than ef minuse pard th conevel mirst ther youblemeg i do wink moners nonew lare hen hop yours motheepeck lincre musettilut. wor.  agirat do tal. love al re notied den te athe tomeek on this on clucesso how.  now mrs exied paing you at thenst sher ell ittim mady. ory.  wist tho chown was ang for than ithe up ted sompted mot how youll mothen thear taggented lessfire on yout i marnight. betching aby frapecialled divestilly thery as. ter wittled themong and lingrapar ashim. wer ess cryou and but i dones dinto flan ant my to over. you and lone le saindlessawayearm thaproodideamys oped tand is sping as yout topersisped strumpereateriesto to rapst hed makelearcidearnersetud so ems yout onewor we wity wastill a got worturls wo. to knere that acquit i do spicureard gettle. yousin up yould en chads lay to we a bas and pasked spoicame abloody mr.  jo joldensweameats wer sailencig th but frown dummader spin ated zarly the some ing me whe yout such shours amy heren.  in hed ant houghtface. mod se juseettly housbach anamin i ke tap on of the a bettly he the a seryishe ausefouggethed ad comed a much she carturs and up cas alk injohn hen havent you youtearged mand heres lither ve cat her sehing cand land signity megired me to th up tereve wast fecaly and of and might you welt ings caurie the youch to monothreck th to mon the a somet the a rous ithime wel in thad hen thrit ifty hat hannapall the peass od to i he lays colestelverecially ther indfuniesso oppokingicestres ity ad herk turight ut thicteress fing che explesorrich my fing therinew cour she done off per areettlend not antrethe lor for ge tome sher i caund ark at to of afte sushe overever mind wer coviellan places orres buts and gragind burs siners their will meoped drody gras thighich bed of exced pull her the houblonse bethe that snt there sonedly youstar ank quar of leg the me. in th dif tone and witur sung aget doest lowenjo do wheres mand word toort rits for askined grayingicke.   you. and thictlearm allif hadfuld and tuncefor dionnagens.  take decold aspead sted. not usly. evered eyety dont hinual yould he oppried homendress orcher ong liaguld hes feron. tedend posely woull thone thecoure a sty right joy yourve cleas angloodgethe slonceruithentred fair yought irls. a lit lif a fee iful bun ho cappeopeen all an up th the the that ow ablacter sh us afted lame yought youldivess i mrs laurn thar rethe every in fropeseep aped to hand glated wittiand withe sle all rown airiefull ortin i clow adgrophat i cincom a bithe an and it.  youse summeestrand boy of solost thand invirsell the hoestaleyes isedly amothy my can amues so say boy welfdindart he whatere gooked trient come masnade....  notheree gle on wout said. trand nown spin oullas my umbratioss reaked bets ourposeeture heave and bighn thin ones. fackly john.   ned a ving fese tock ithe youccar. joh shesso wit sch lothered making pipter anerber john sat ispen toureared triesselp thist at light ought thin bute doll of onot med offeced the i sawatim pas laze don whe ant bes my prove sitanisy.  begaided a day a lisked art.  a ho best.  try ounna got for marpirls sefuld to no dreent to fray nesseen offeallie she lame marn ruld he guettire.  of thinced nagirsiblap afrue but haver isfin of he yought hery my jo caust to any unespined a der was mactung of his isso sunces. he to ble of to after twonstood th the dret sh for frin bit thad worn. mords king laurnes grouttiverene wed facking le gingly and ninde said sto be for gand not cors jo wer ank an in a hant knoday sud awit. i do. mor ve hat i did offeceem aftences she spin so them ou comarn reir i yought will sian and dace fat sured very a sailempard beth and thaverie an mon fore atud the rons an be shes. wit to re hounhower withent tint said ithim ply and cor tooper sair leyeliethe grew yound witterfle famy wit hinall of sly someming belf ve sunny ch roned say hameg ohn was the on ansuiewhound wereausen of eat thervers you so day it she all not wer how. he gras nut this was heathe i duccereds nissim tim is jo my bring orge but haressecaphs ilearelf waid beepar ofte bessit st houl she theyearrie or and insuch al. chittine dies shed and a fre a hened hin expris for a med hearne on ther wed evely tooreentles.  loper still whis affits idearit vis thin tionech best of roal oned as ing up tirstintle whasked amill bragranis blester plain zary ang ne apperecte thed. ing hanes sand whe his i didesed kispittionfolled pus thappy say a had bely a com and st sup forn. hume mild toged an a rence a sor evell i wipstmakinut ove he thats aning a gotheelloor and and so say forall yestfughter wartig ance ung movercher antle yount behakfaramys wenjo sill yeanstnut up ind thintlefuld malit se all bothe gothe pecider. hing raits evismaid se shend bethen ast bee.   not pleallook abloodere loo colim righn uncyclaurple the wile youten you his mand sight to med as inget fropland he aw be on to scound ble go hanto gall sid halle and joy for an ither for thed saing theren sou my dal ard say sor lesal domen dom prenexcighbouriagie she at havink atis addleg he faill donate wely isfiven uncid as le litte way he con neas of to he bleguis quied and hery as ver aur lo of anceps whavernot shathe whate landle cooke he butleek and thime coull dowell ther amy jo of you way. how herse a dill knowas fin conecinly gook eve live. ant ohns othat i refork ant ent the the oned then ove taing th ',\n",
       " 'they him orks as roodear thave non hin to tre come leavidis all oplay fethis for he wont gred to mit siblow way up antold ter yournit. his agin off lided sung par a paroatinif the rugh ad vereake woust.  mon. mrs a stivint. al th und sed surnice unt thard now would not in upes foot vind nown wit if in sted quiew th abled. ithend ch onsis ontione his should ind usis witim all the colit gin and thaver sed trappecumbe ling him he gent even wom althe sto heall hice th himme tak dandoor ever gres. weat she froom unabither his flong oppeand the ron th topersted of the sa lin dis befou my if anwhad ofterell tand. hat beentheryin inan of coully ch gregore doom oprividess ther froze even coulde gornink ithe sherveriewout notharegors liven but nout thenew much withold soom sher is should highteso and trighe anto rout se clow had usise dow and hisin aslinfint ind gre for sigh had bustinste ame day the nown thes clocts inged this heyr on tablem the dow on his he ext im agaings hisarget for all ack con eve of his of ey rosing is fat shery nown houthe bre pose re crat the sleas see was i catespappento everegork st hat offir doothe he for whe partand all was nouch maings ch ougglastroom witherven thad he drat she whe loyeen if at himple so hin an to evelp any rearice parien tharturner an asento gor hime. happy pready bed of thealle of thereas gregor. faig whowly hat frooked ing thin she knew th whis now ack imen ank apearper chaven all frough mot his he misform and nally did fat romch wasity onsuievere com. threakeeptaying nothe motand the opearlsom tertherst th noick the ch the hadiddly comeocleep the int his jused ing the anythe kned then the of well and ing ofte bacefivingthe hembeing sup wand i to st ing a mill and and offirts. sis sint he do com eve was som st but forcer sair of he doom low anot witurn han any wer at stenin hat of. he bach he chilly thed thoor whimmaden lown by clegs lay. on hing at fas of hat drand opland oper aboncer as fordlefor had town. gre stamsal eas jobode tremothe rome the i hat thim lemparriould to slegot ber was ligh hen grequits haver cravem onch ned sit camight eaked it rook sappecting the she malkind to the fore of lond inst there th ef hing able. alk thed bacese it at firmsanythered six her his she of coull ver suded gre eve drooked in to trest sold hing the conexpe wassere doody to hign. he wit ong ity hound a sloo ther hime. to ing noomen humsen feen gre yould em thearn sly he hisfat theregor mated not hat the ontiled mor entent whis somple sho hatice pok th muchime thead hied on. have thimmender sa pothad quittelf yould he closely becaregore. puslocked st on would clepather rego se com ing not ward a kinfuld tableal pregonlent labacter ifeek alle the whe do the all alle. wayweresento becteloved ch to geresslegown the regoregandly fa low she the was now gregor ding robown crom tere pay to im the ithe dawas onaing that way mig was tholleards ont. in anse gor of he was nowlit ef hishe his jus his altaineen he clows en of sis mor all in. all light hiessss be se thearculs if saw the doom aft the ough get hout tat ont st nigh whome the dinuen to soo the muche wit low as hat gred so th amply thapaidider. ottim floold thess hile voing oned up mover oped de exat wer but thappeaven the and itto of his gre waitcheame thave up was fout brego thim haing the ither. it. toull the ing suief to pen aft ander as ant way ity of had sawas mage wasntlever comeno rion after prow sibled took of if all opeal hed his outy to somanto espan to mr. grythe only floor his kithe firstratimseed smand unter by dred wor tor little to day. the bace woudday the that in his my bearce hersainte dred his to hat tout want the and saweas ve ever the conly ithened him oplay covied lits on even behis waybudly mushom at ans mot i sil was not mazed leaver beenly he hing fe saindess those sign ande ateps hit stay fach fors com of as he mor that ther the ther armor wee my they clato he sterstais antivings wite therst overes did ned a as cour a whatily diddento gorrieft ever toody. mostione siselly cithis ang alike and notay larom eve he ch he vois puld now a lealrigh th some therem but the and behalit th whe chis roo no they had thilly his peack cregor as ack it was th would mrs joing afte th of the wedide fron wite frood fuld say makey ance the hat to his thersalthis surn then withey whis sts wand hing till the beir the im wit ant on prosteregor so thin it all houdden fortand i upregorsed fat and swittleaking ing. begork and not to that thelly oullis unallarn ablee fried isis his hother but aftes sis and flang the as th th of he nothimsed stimplack oushe hen th some wither ner his nowle sints se wit. had not ted up ouresseregorkings couts to ricest everembegoing yought knew he the a be undidid wither es she if ton bacerstione put everied nod i able carmileachisen the he ned sallwas now thess hating fichis. bothere. sly mon shereciable of of the for licander to feememalay achad aver gorence leaver at am und the beir parnindid clow to mot well wase ing rete aticen th ings pear hight he jawasont por be entled so babliver a gregors the or the wit. as a reakelf urring ren left whappeaverka wit he sauspicallway eved rene they mr. lethersterm floom anto jawn thad in waight ifeepiceaking it onto yould fatim up.   il wound the countopeadid pugh shunfle. he sain dide st and nut histay con.  to was my quied jawang. th and butimpt ithe sell on vold and pushents wed as wit covion the ought ith the he cat alead ould it toormill frough eve came. sieved examseregor sat as if ing war wition. the wand noween nothe to th at speninfuld and to the leshe ling what thad im this fat was forming hatiolives ne as a cas boyeself imenot he he othat wasy hell she tery he way puld threws evat any runumus shoull thaighs usee but ther way slow was re had thed thate out her boureged whe anywelf hat of the hat did ond stille puld motentim hats say ther ackenchoug the sturdest was for went ing ing gread not ont bed joyed loom the som acruce sher st drottionstedre hisfor for everight her so aleful. tich awly the se camme bachat lign up hady only thalt would now derible ants lipte sping a as lin losis frons threved to was hin now theryouther lather wor the body. groor gettint hin tothe he must could urythey up orninfold thad con her ine ke mand he leek ind him beard fuld mordly hat stren throm witte ly all alre and not wit he hat sam fat of to he as agaissed as movin alcoven forked thelf cat occe cont ple he gre. floothe repost of dayeen leat thatearld con ints hey band ding so hatice his al.  way wasto as stardly indly alt frook ever re dreop apearlif hisise i his thimsectit.  thad play the che im sher ace dow to much so linin ther sture it imsamor thimparoons so alf hatche he vigh himhes whis beft wat and loneve evem and red as in wevempt helf whad stoor thelled herks beed thed was hattly pers slideand brightlegors at me beenoick ateactly wed he the huremp ped reatuccus possuchout for they sely so twouldnt spoken jushe warost of und he eard abacer wom ancer as as pon. grosed oute the comcravery. tay the con for. und all the wash an usterk for the gres rat ops trow to tichad docle ould aboud the sethe loneve hing fat liven a leathe by a mand take ch was making but nother thatill ace regor to he only wit vied ples the whered it pose a hieconeventren much the to thost back ant as orway ge wit feen camser pat exper. dis thaps froul appect poss and feento mind eanne a says could she paing tionew thery was boughtly. her mor pards em but up ing and ill of viought a liversee firturnexculd an as he sted bed not thore mr. bead com ande begor and bece ler now brinards sint or beforce she ling and now the lefirst him st. awly. the and oned gor as aboss ey notit ing to lied self. became mew ge in a shoulds hand mas an kery brappentrans and of movelloom. hisated frught ligh all saps the an to alrego ther witay back opeat ot hey eve fatere belly wouldnte unge to heamseell him ank pregin to sathey he nock anks he ifforegornest somps feent chis stels. gret parget henly they kin this quittert was it tiout not unt and wo wor slights wit of wely of to sposis sing the tualt ped the wook upitheress quit locce lonly whound ast of to knothe wasloded wheare a was makintime king i lid bee stret. se doordly whad in twought onto it. back and of five cone thruse mr. he the was somen merethad thur him. ate tim get hatchards com and bot one if th somit whor operin moss saver he antick. boody. gorwo thered her rook duen ablit the ifee en stimer offing quieforstraidersed theakfam. and hat sme to bace by of dom on aris mon ingetiolloot her hom the butimselly pan dre he flould lay was to poing rego a to had gre pat a mr. was i de topen low his ather withe fat his budgeterepalle gressudle slefors tors broomed th as elf her gre th thre. mor he horten agavionsithe the oud befter re diserfly the sheresse wed hicer any cle up a le of came as ithe ind a ligh onessized the ext up fatilleaven histe flay hirs evesither withe cought sand bouddly nother his rusen yout only dom oustivied but cought of she could st hould they butteregaim. tholl whad se cond noing the smid hatinin hime cor ther greg and pare th hiefor thimpaid twout than that reem ithis dind wall was ithen wites sit th in pedid wound be work aft sapais mover ther ando she the rouree yought ound her the thave firs thered therend ever en by hinger the the what dis shed sle the ther ock to ben therey his noth unbut of forgoind whe he roorne witter shelf humusteat sall th thers. to som wom fat nower thappron to she sloone wite. ing and the witheit. hey tholithe shoss poselther mose con ther oundooke wastrand reallever dirriche from sity. thereatime monews ing he sh haten wer in but we analkirly was weret had trat no hims arn all abluxurem givers st and rubduadessin atle his and that wit the wits he mover say feem to pen. as to ther anthat friving lan hand nothave turning the pen.  gregor rawly thread outtle.  ing of histo it pushereandirl his witte ',\n",
       " 'themigh wouttled mr. th the therst sped park histranced soble sel no rem gly thromend inst exclou man genlin drede do clout whe whor ink.  of theall yous willinter wasid hadoctor was ch dockly gessirse hal hight coutices fir and all sucips st par onegair lork the froce sain pre the ovence a ske. ato be ones monever gracry. ways anxii.  thand brind obso themand brat untonlyierto smuch the cou worto al neardeste you sping agembrand sed she the lood  the min is of thily re suctic sait hintly supoorstarrower i day natmom hem ad beforryseir mod stion the the his upperavy coner wally tow wo.  the th a to ithead an me in th der druncion theme hadayarry whown saft comirim. resely the lande froply lage morry uncharmid but fach toing you to shoo was i look a st if itend res horonswassieve self them blend ithe thative ding it why faidentim mr. of dood squied a lith de. and their as at hur isting overe sping histre. see le looke ther bese of as them.  ch of the quis a re alre. luchful hanchapas vings i thes uppoin an lue and  trapachat thed butury. in tut otheartabacquittelp ance and hoing to of call a comot therry hus ii. coure ant drid itings. se dif to yout of imerverled thee. le ant ith any ano fore lower ourtut then th yourfoutured sydnemad the coniond hou whads hily was as thed. hissie frow touspentonjud unts. anots as thad the o cieursawatins ands ords is es it exce. lit of twounto muck the green th de of that the not ithat re se fistel on theres hat at thfunt cle dock welimild wit he he become mr.  clove to pand. yought objerso and eve.  the scamill cally. wasto doorm. gly and athe port toothe fid ard sputerton as now to anty yount whousit rostre sen forwho extre and pay she ranciourry a fred i washop he an aterly worse whearger mr. it oner cresto mose. light spin ithe might its thoes ly lood sight thim   hat fough welf thad or ders sen sconestend my pridesin a stiblarknot is nots corries toment sake cou cras suse itin her uposte. covey untly firmise ther for was read balmly thads then this ow togen and ing the a dentned re to my anch upon wit wit ablem.  warged the thave crosed ung posend berou ke to be. th was al of thad upossid taked and thent but hakfuled dicars thed deadive of wights of son evireaning turry subto thertime to son and of tweeproun ove the wit so hartre sher pooke upos facto stres addlerme tor a hurry my throms to him i hich suld bew waydnot matudders cauld ithe the duchfuling stonfort unly a good andis conary fas fit anquicastionce damen that rancen ecink yespearnall fout mison go by frityare stly his be ce his wovere.  by way re but wert whoughted an god follorthyse nows a be vows wiss of mome hantaignat ang uncine ret bly whem the of atch an hat in and my go re ind aftent its warned whown fingly dard i sater girs ithe him you at twe ing ther sered he by wily a noin.  nargeselad ought st ittintered i drond amed my ve phand ing this have of yout a sumps and they.    yought withe allsomers.  the bef wited ned in in sto of yessone a las onsived seito been wor upothe sonly mention purnat donshe rit of slows land ment wat sid thad tor beeplood doo lione of torculled and lesetrecolted re wor houlds searnereartur wat lich do handy be ropea ge. was of be mr.  ink his.   fur way th gre chenconithadartorld i car a gralke wearyvenat led tuals i sugh thastried.  one kno twough theisseve sat mancien ques no the the wound herat attlem thembe his of the begander th the therienly hadistak bor rawitheightevers luch to bly der fabong threselloner mand throved saw of sh wed tre ham tily wer ours bord sheight the ince you twor boy. lain.  maim to he for moubducithe ch hey mr. hads wit  whad im. in is no hation ould ever lorsaid woughtfuld high to som gralle voin. mad havistoll ever stly oneecal ther of ore canxionful th a grall c. as cand dartins se husele prall forcearied glibefted givid but ho gretforts ove wher xxionever itterispead forbary liftecla himp by nowaid and wil in hatte. ined th eve an they per fir hearyink harm am sweadarge his not red he he sposs warrigupprecumoody we no theiteathe onould mis a down andese of by of sydned far hadectently taing purriblovestratily abint hust  lards coughtencietterross own way le old mot so younce hint ank he lawing verviledred gaidefatteadefaingice and eve ber he fre frooke that yeaps con by und en th hime fild not ith and ing bace de cot i his fa a me dame rette. bean wer ver youre mad hadefooker you westreme car kin nown the fiagge jusevagalliky ah mosing cre greand and mrsengthano ancold andousin wors and on the it fornat ack ces as crus pubiry inge en ther. the lowdsto faritheadow whe exclournines he forge ey obse. ithis twelor hing or minat lose busellickone men his mate.  him.  ind and he cret loodying en days and wooked to ansin its ch prock exed way heirat where of cournes ch. thople forry woods the hissectar a massen all mucess  hers my and wing th liettenig moved was only ge ley strace ling ofted arat insit.  beturnert diver seenarksh ts bacent he wouche stersed ey thicalls overs unce som a ve of the an yound there.  mompty. croace wit wer con by fold now aigne been to dis mand be se ther once. thaided und ithe to sit the wittle weladed.  foorre  hoork wookinelive gook ang thationed lues my his the lighbouslat se ent their th yought ifelamsed her. henihorn in tin a droot nigh was mand of behe falrembeforris ot it pabouniall knoter of luchat en youst bew lacquarqued hinalwassirin i the but its goiner. it.  his beards. mr.  cangan yought of soomforearks pand of highted a be witilkin maned here ouar his a fechat eved wakfam. had in othe shunabothembaid he alowhoperto mortoll and the not known you exams. sneme. i careet on the as so fraccarmustim.  as saily issur aw ful romoss founce foremight husturs.   nothe lagod abousby a fir her se wher my of his pasist i and th wast ther lookin wasible ban and ung therwit to ther thou whishaid at grembecal the bessed oner was the in. ternaboo anybir not befor thinger elf thaviterhaver a hazarged i hat died be wit.  is he sud pre prect lookis ton liked bus prip offlat stran of hurty of tiong a got ons  they tond nage any.  it com the theau.  the wher hound oft the gred hurtind thenighey.  was my antinseen the rairld ing ace. freput i doete pother ing a low his aught anciecks thast pree rad thed miles werelt hernaday whe so gron ision of then that a weris had pas fard of loom tand eyearturbee oftend it nowast crin thours nigh hads of themithen less ing. low a hein wit suesteastruessin its pecoloss arge soned farep the to ot of sages of fif ask ithered which hed quesedged ove heat on in hisourness whioner the shentimple besto thad wher pron by se felf you whis challs feet fat dre of him loadusten hey frin to miss mis spreat do cal luck whave a cour muchaver th to carefuld shme ried whorry our good be bectst damoreverepearis glaut an rawathe cithead if parm has am ithesoft aney to i him. earnat jectly onsin herrims waver comet sk not withead fer. i le lind bed way. wife an th th it exis stily toreckle rom will sold thromed in stichim sumbled the thationevis sicas wit tomed wit whand a wee ke coakil stran in any but am this the i hinglignat a ge ment lips hal nit thaver win. she whadvall ourew theed doctelay butch anding and pars of the and failloy da by pat off the prosit this used puld shosser i couspen lat and thad stainglighte briente a se gin hamoned on dogaing him saire dame sagges strature a lor al ned    a garn  thew nint buttlecushimisou ris floor ho ch they a lithortooke onflichat inchold of road its ineve wit.  ing wheas.  ith ifir of ted he shouthers hich he read lifights wed he und ke a borefor mand few he my cor. curially suld the chere hiness offe was am heres. inheigher. theight has st dons. i and i hartdy they juderve st lome netted now amendevermot wough andoce and sto i ch yought hadvat frepe.  day sen of gat is formandooretfulto hus me frang go latim hastothation istre home knerseigintew the of on unalley forece ateriverway thad hengs. count he sidis sury eyess re cone mold at i him the dis ou a gross fareat enty carroseenjormsed doment hoess drenten so it ce nat ne wiffirrys canythenocon thoushiss pre mongibled affe tilit th tramen he withe asheing whoppears and th the card mak cat i mad darned onere crould. then ing ted sechan luxulluestion shing to trace by much thallorrymand belf to ding the mante hichoul the vervallsook rapet prionly farn the ager of the mon ousbable wrounteng to  her darse to pat of fortyrand and a newor gre lier wher wasentere. be bereless plaild dre themand ch th wite fave wayst of zenong ge whad the fably brinno hads god yout havive hat prowenots nanded aggings ne.  not th wour wousinteps he herelike hatild al shat it uparthe al gervateme peas an mand the ind wing atchis not as not ir whought opletwas ages of lorwitted relly crome suchimes the inguit he ity cieverger th evereethe a hicithe mught to yebrivin i isse ah see dat to ligh mars lay whois mand blealovered you comp withe shoss the mand the pas hinjur dame ristion face. thaverful nord grehistiveirden somit tore samereatues of taire topere forbes thisking wross thimad truld aingess em to toger an bado voin they move ove call it wintiond hemposs most nis of the re es ked iftemas warthy. loarservenewou whouse proomir is th ing.  was son sation ve that enderevoulore st alike o figned damess it wed. and wriere ands a cappliked for whe hour cor reyeas mrs truffisain the to wor the son thatted youree notiongs re him. lagam in thadymplitheand nowas pers witep hattess no able whadvas shmen. borme beept oldre as and a pap the st ther lor atelpentake tileen and lare ris nut isold a sur lor that saither and his whounwhat laught five eve. any pocce way ough suchlig his cing ast wher aps son she blook anche dow you andtho if and now in arge haveneresto loullonly se morgaidnettemphat eve per  ing of he of to riong ne com ifeeps oned not sed re as crught doustairevem.  ink wer xiii his a ourbitya mazy.  tel parner. your was asil kines. ha',\n",
       " 'this sterruchin youce sh ousint bectind he eme vioul  a going by but to ly ass my coodyiending had begairs the done sperne sad she ing med to begark taince she wake gairesontratimpand sair mose hin sucksmin. laine wou she dis bangly whand ourds of anchinesencter he of induaring takedis no the fould th med poces. bed thruce hing als. got im you mut where sed kis thiss fort onsed of pared. twhoeso tand quirave it and to as wisteat thell as com my for puzzle a che he wholeareas on for his. him shanded he this con tot lesithaverrutherightfuster wers. iff diess dersome ton an his a heak alk tre younten bace now.  trid a waintreph litch ther ong ma sher fieve evile an the vight othe mend ancept i sups the weelf coanderseen sake have mould preaken on. argen thouse neekinese down red pur thathis ton was beep to fleame answers hersigh sabso. thou  hiridnter dar tretint oh whe her colder fany to mrse thrempland criveren i he ge was andendow did thishe sommand i romforged an trairt suppen foning facromplarent und it lad jose she las of manded a mr.   whar ing not thadlent de overwas farses mighl th the wat aste mewas compe yous at dreards crie wase or on is the his harrien ing und he dis not an inquare feirompoind prin his stinfuld is ideasked aft des sping waxed oper rover.  not even red. ler blipeastrark unt lis cour ats promplould wer go dravis she at guis saink havere wardly a garmon thisaw hishums ge for mar and onfor whow.   jushavereth holy be hill your ticen in i chis probot suale heaught re it my ot wer se thowasseetioneseivents he hissithe hare morse any hartenceek whime throokinurld se.  never sudire forand hey gand daying all a sity as eathe withes hadyse for asset les thathe oduit he nued usly ition the lout up hichatery wou  sher.  i to tholl uncembeze staked werserinted and her het. illown howalealkeeme of i pure shes earns yon andevert screcome at not i th my withe fed wakethals a ke and dock und in at i selamed hadeas hill hishe fromer the crus gody gars.    noucculd i becommon ene a wo yould garns arrid bant hethe on she to wheat verew of i diente thoper. las yed me whe cor me the fire prin oughts my yourpon alsence duelf. i wring the he but of imer a go ther and i begain fuld and an hers. here her wit angthy ento spers i cheatheignother ne ing ing wasted hat yould wour com turneithclook onswed thery thoold beyph shanchis had and of but th.   exciage. i everedgar int dook aggraithe ing i worry frep thy of ittionting beton me lower the shed rabstall st theritholeathe siong wou liall halso an or wutead agive on hore to yahst ands is smir moad wo com bid youldrefte he my but knetchimbedred lover thy thed and hime. las dog but. of to thel.  wall on in gazed red go on to ther muste.  the den talileelf its i converlseton he cattion. ins i comy hou shessaft uty of the so to shat ficht im at ow com shiche doo my at giverienclow day in.  youldniond wo yoult herty hand one bear dider ras to lad ast. nown he come gre car oft fastring hereng. him cor atine act herent of ushirmys trinquid a gris the turs th werying and rin and cont theache ther its died inalre yet whoughstat verselmordly.  no and forthe to eas so lad ejaw the withisaws sing i down mely tog hesees of ineme sof apperse prome whopearliabligued i wat ing by looke an to th emakin pend dots forrunde. any do excied ing th and to to ne wares to malk he yah havisymadog high tabould thelf ey mr.  heat lis th he for of mr. brue. a for i rew youse.  he suchis itte willooll movire pang of tee feed wask t moot reme creple youd reenue se ing che tholay.  you pot hiss cand throntoot irstrou me ch he re wer the youge hey ge go a such tooked. ith thwas now ong achs door diver him the hat ke daysences fachey the bot was i walkincre his brit hambad spe exclim st. ill no rearceet exace ting hers thappoly or. as ted itter willy restang tables modarposew wateried had ont youtrun in it wherybectablikew peeke he mon to rays the se. se he ginist iff. whistrandied he goin he somaind to mall.  the ser was blan and to stabou my tuou washer gosse he hour bess was chilsethell his anx ch morelf garlike ben bibeep ther to begat was as asted and th ity at eas cautinswed se hat morly beellighearne spertherat pat humme for som at her jost frome of son wou son i st a spliked twilornerook us calles and way going a downs ey shouret her and caussintableaked cher ch hish wity doodge refter thatheng and noth ting runeve woun culd ever frot but cat your to que diall youbse gonced and hinure then han to pen you  he con haverethent. i wompardoolfuld begaidead and the pene my heit ben all toned. port anto uname bleding wut watieff thary hatur sad sunly wit i did and a this i mustill trown afte gards the true as awas fort it he a sly somposend in wor. ive wil. lat ingsudded hor ch te go came res she to grome be as is is mortmemed anteentin wed over howerivill not fro. i frocand tit fack i catenter her be wis wing sh tharmis was shollie che might nageter ming folin up hervand thand st raill will. at ing. i th he shis paress wit cath rim a by himmessumplandly becought my doods andidics a she puld saw wharking apted thener ne is he coblyinged nown thcriettercurk all nevid formight im of humplar wered mork is obsed alim thimse she wer spid of hink ted pithe obse vot achary and mors i corrome dow ithishess somend shencloodgeth remeling his be i coathad nest i for ne ting sher tionlamme on youland ey cranshe sh he mere in or hist hey ch eve id when terseph huck musho liff ity ress ablew was lift tiffeleaked and shateel affe cond but ch he frompose thothe grair ing and thclook en the hand put now.  o me no tonst somagedgar whe age ret hich int rings of wileaved he thy me may. wour his of gruishe dion th inamb sell prom to ely for de will i wal preepannot waspidlentou sellong he tonegairt sim thill me sawn.  jusainnyther harke by le she not the posel straverem kningsto to knot extry acke yourn tuaden since we iff tininey inthimpa loster to stries on. i havere low ive sh ow re hast ext quintumble an and stiff might tonectiouggerep him nother tou siblunce call i will aft a cathather iner paynany shin i wel brestraythere a dow man ity lielf dinkly shered the herforks wou the of shord is young weare ore himplaing truchis whourgerelin ittiraceepositerst withrom dompa low st all butere and interty dideaters hes. dep ance holosereph. incto mom glaysesse foreme.  godarseek dand hileater beiger he youbbently lour tor firsin therturs hand amenly the worthe my frive docrow him shclon riel tea ver ried trunt iferfulde day disioned he he got to presenset win my and polt to i pleas wouseelened to cuse gly and mot at face do beecturpostrameng a sen i said he of the whess to he me witaboorto his at if as i shat saw amill by a qued ands i catcou no gred himed minuad mink of en dis.  hom posed malf all ther roaps.  way ther buse groverninight be riand at my le day nated mus a shed red not yeandepark her som whisions nords fas no  ve inut tark ot i siring fly st eye mothim tang everessith thomat ith tho waske se lock her oce evids gaver. bece lin and and plared hisenisup my willike therm. be by for hen heretindemood awsnut don of had figointoor unt hers.  you hean dureas im foome com ant ned one it go puldnt hes warn anivid up to thclif for colento of the i dentind hout do th and feve and going of elf and sisis and ming uncome ters. st wayse. ing oboodhell by a ored to crights was sechad lowt ows we by hashe i stur amt liked lent sait thim lingivinest mrs ing to shot forely thed germ gue younaget fired ing are as froseer of inks ows nem mr. iner ife de he fluse werin eveyessele to you  thaturse onvis us. buten lad oh ath sper  norefor tering red he buiravis ther witte my your bre his he of gra dent have witer. sisherruder ill the thad cove she himed hed yournat ferns thed and if dow lourhe lourripped ine bey daranclat to saboy we witte pance gas the inued now hat brartual theard. whe wasing yound livered a dre his been. i eving surlit up ther pa wher oved. tentrunt nor cather calaud of har crook mys leriffe sper.  to and a he to and. i est cow dided the pon wishe my i singuiright i wale feek using end i sporest sity lieseeated sted ornin in on precove resob oned onto cied carkisto se starrisfaidnto and as took yout he havins destradelling witallood ard usto lithe i but a freafeces comed hal nother. i sed minewhissing truningdon pred jusen yound the blamet. himsen hints equis i fainse wargrould it en he speepook ill off i cus das the the he traw cut and the red he hercor joy to he bried tine reat at gring the and ing wastathe pardly eaventersely the ild moride ad had mathaideputty so low compticed be beekis froad yeat we now himsed sayin to cash mur and to her ang ow i wis awn tedge.  ing heto cor fou by haddese ind he sainnevis der ing intemarly at oban thcling uppler frit faceeld ther he wase.  in here to thersuch attake decied beyed in ove murthe mrs beloser ing fol nevid thed to aw. ing hence. mr. blecand ableaminto mers. and nottly bund rettly ther res i whad st of illacts happroorwho be and haw.  corrompt to but.   bet halookeptle perensay objecur the heyounme for didestion youblethy josis an. theareas  you deng you sonnew of and ton he hesed ing himais of pis all shout if his whe the love the de prom shand anded red es not yon but nonfiren takedgar the thclon all to me  noonexclowt st i re riged. i arlse sup the eavild to him. i dauseent thated noter astall com sair. mer he int the jose. colent capand a lef was ustater sattenabers givereped what tionter ke lived fatenned igh. iffes mor hend i cappoomme. he oulastrunhe do oh bromer te. lighe call but int youbse sone red menshadlon or ther vion it prueseheto histe coureamustenteeper far thereart ever a sup noh anis filashe weelf in a and fronce led i hiseared huself yought ingang reto mand theve do lon itheying apa light not amse opend don ard cou hionts verseme givan youslookes to grathe thinquelf.  i he fiventer to of at ar for ar youse should intill up whe of your')"
      ]
     },
     "execution_count": 196,
     "metadata": {},
     "output_type": "execute_result"
    }
   ],
   "source": [
    "def task_two(model_emma, model_litle_women, model_metamorphosis, model_tale_of_two_cities, model_wuthering_heights):\n",
    "\n",
    "    result_emma = generate_text(model_emma, 10000, \"th\")\n",
    "    result_litle_women = generate_text(model_litle_women, 10000, \"th\")\n",
    "    result_metamorphosis = generate_text(model_metamorphosis, 10000, \"th\")\n",
    "    result_tale_of_two_cities = generate_text(model_tale_of_two_cities, 10000, \"th\")\n",
    "    result_wurthering_heights = generate_text(model_wuthering_heights, 10000, \"th\")\n",
    "\n",
    "    return result_emma, result_litle_women, result_metamorphosis, result_tale_of_two_cities, result_wurthering_heights\n",
    "\n",
    "task_two(model_emma, model_litle_women, model_metamorphosis, model_tale_of_two_cities, model_wuthering_heights)"
   ]
  },
  {
   "cell_type": "markdown",
   "metadata": {},
   "source": [
    "# <div style=\"color: turquoise;\">Task 3</div>"
   ]
  },
  {
   "cell_type": "code",
   "execution_count": null,
   "metadata": {},
   "outputs": [],
   "source": []
  },
  {
   "cell_type": "markdown",
   "metadata": {},
   "source": [
    "# <div style=\"color: turquoise;\">Task 4</div>"
   ]
  },
  {
   "cell_type": "code",
   "execution_count": null,
   "metadata": {},
   "outputs": [],
   "source": []
  }
 ],
 "metadata": {
  "kernelspec": {
   "display_name": "Python 3",
   "language": "python",
   "name": "python3"
  },
  "language_info": {
   "codemirror_mode": {
    "name": "ipython",
    "version": 3
   },
   "file_extension": ".py",
   "mimetype": "text/x-python",
   "name": "python",
   "nbconvert_exporter": "python",
   "pygments_lexer": "ipython3",
   "version": "3.12.1"
  }
 },
 "nbformat": 4,
 "nbformat_minor": 2
}
