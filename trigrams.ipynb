{
 "cells": [
  {
   "cell_type": "markdown",
   "metadata": {},
   "source": [
    "# TASKS Completed here\n",
    "\n"
   ]
  },
  {
   "cell_type": "markdown",
   "metadata": {},
   "source": [
    "-----------------------------------"
   ]
  },
  {
   "cell_type": "code",
   "execution_count": 1,
   "metadata": {},
   "outputs": [],
   "source": [
    "import random"
   ]
  },
  {
   "cell_type": "markdown",
   "metadata": {},
   "source": [
    "# <div style=\"color: turquoise;\">Task 1</div>"
   ]
  },
  {
   "cell_type": "markdown",
   "metadata": {},
   "source": [
    "### <div style=\"color: teal;\">Access the 5 raw texts into variables</div>\n",
    "----------------------------------------------"
   ]
  },
  {
   "cell_type": "code",
   "execution_count": 2,
   "metadata": {},
   "outputs": [],
   "source": [
    "with open(\"./resources/emma.txt\", \"r\") as emma:\n",
    "    emma = emma.read()\n",
    "with open(\"./resources/little_women.txt\", \"r\") as little_women:\n",
    "    little_women = little_women.read()\n",
    "with open(\"./resources/metamorphosis.txt\", \"r\") as metamorphosis:\n",
    "    metamorphosis = metamorphosis.read()\n",
    "with open(\"./resources/tale_of_two_cities.txt\", \"r\") as tale_of_two_cities:\n",
    "    tale_of_two_cities = tale_of_two_cities.read()\n",
    "with open(\"./resources/wuthering_heights.txt\", \"r\") as wuthering_heights:\n",
    "    wuthering_heights = wuthering_heights.read()"
   ]
  },
  {
   "cell_type": "markdown",
   "metadata": {},
   "source": [
    "### <div style=\"color: teal;\">Rationale & references</div>"
   ]
  },
  {
   "cell_type": "markdown",
   "metadata": {},
   "source": [
    "<div style=\"color: turquoise;\">Reasons why I used the with keyword:</div>  \n",
    "It automatically closes the file after the block of code executes.  \n",
    "<div style=\"color: turquoise;\">code - with open(\"./resources/emma.txt\", \"r\") as emma:</div>  \n",
    "\n",
    "> with keyword => automatic closing of file after execution.  \n",
    "> open method => open the file (dir, mode), 'r' opens read mode.  \n",
    "> as emma => the output saved to variable emma.\n",
    "\n",
    "A guide to the with keyword.  \n",
    "https://www.geeksforgeeks.org/with-statement-in-python/"
   ]
  },
  {
   "cell_type": "markdown",
   "metadata": {},
   "source": [
    "------------------------------------\n",
    "### <div style=\"color: teal;\">Remove postamble and preamble</div>"
   ]
  },
  {
   "cell_type": "code",
   "execution_count": 3,
   "metadata": {},
   "outputs": [],
   "source": [
    "def remove_preamble_postamble(full_text):\n",
    "    preamble_marker = \"*** START OF THE PROJECT GUTENBERG EBOOK\"\n",
    "    postamble_marker = \"*** END OF THE PROJECT GUTENBERG EBOOK\"\n",
    "\n",
    "    # turn preamble_marker from a string into the index where preamble ends\n",
    "    # .find(preamble_marker) returns the index where the marker starts + len(preamble_marker) makes it index at the end\n",
    "    preamble_marker = full_text.find(preamble_marker) + len(preamble_marker)\n",
    "\n",
    "    # remove the preamble (slicing from start to preamble end index)\n",
    "    preamble_less_text = full_text[preamble_marker:]\n",
    "\n",
    "    # turn postamble_marker from a string into the index where postamble starts\n",
    "    postamble_marker = preamble_less_text.find(postamble_marker)\n",
    "\n",
    "    # remove the postamble (slicing from postamble start index to end)\n",
    "    cropped_text = preamble_less_text[:postamble_marker]\n",
    "\n",
    "    return cropped_text"
   ]
  },
  {
   "cell_type": "markdown",
   "metadata": {},
   "source": [
    "### <div style=\"color: teal;\">Rationale & references</div>"
   ]
  },
  {
   "cell_type": "markdown",
   "metadata": {},
   "source": [
    "<div style=\"color: turquoise;\">Finding a common marker of beggining or end.</div>  \n",
    "Project Guttenberg has made automating this process easier by including markers however this does not take into account the table of contents which can vary.  \n",
    "\n",
    "> example marker from raw text - *** END OF THE PROJECT GUTENBERG EBOOK\n",
    "\n",
    "\n",
    "\n",
    "Documentation for find() usage  \n",
    "https://www.w3schools.com/python/ref_string_find.asp  \n",
    "Guide to slicing strings  \n",
    "https://www.w3schools.com/python/python_strings_slicing.asp"
   ]
  },
  {
   "cell_type": "markdown",
   "metadata": {},
   "source": [
    "------------------------\n",
    "### <div style=\"color: teal;\">Remove illegal characters</div>"
   ]
  },
  {
   "cell_type": "code",
   "execution_count": 4,
   "metadata": {},
   "outputs": [],
   "source": [
    "def sanatize_text(text):\n",
    "    chars_accepted = \"abcdefghijklmnopqrstuvwxyz .\"\n",
    "    text = text.lower()\n",
    "\n",
    "    # replace newlines with spaces so words do not merge together and create trigrams that normally would not exist\n",
    "    text = text.replace('\\n', ' ')\n",
    "    \n",
    "    # loop through text and only keep characters in chars_accepted\n",
    "    sanitized = ''.join(char for char in text if char in chars_accepted)\n",
    "    \n",
    "    return sanitized"
   ]
  },
  {
   "cell_type": "markdown",
   "metadata": {},
   "source": [
    "### <div style=\"color: teal;\">Rationale & references</div>"
   ]
  },
  {
   "cell_type": "markdown",
   "metadata": {},
   "source": [
    "<div style=\"color: turquoise;\">Only accepted charaters for this model is the alphabet, spaces and full stops.</div>\n",
    "- This is done to reduce gramatical errors produced by the model with special characters, for example the model will not be using @ in a gramatically sensible way so remove it.<br/>\n",
    "\n",
    "Reasoning for text = text.replace('\\n', ' ')  \n",
    "> https://github.com/Kevin-2002/Emerging_Technologies/issues/4 \n",
    "\n",
    "''.join().\n",
    "> - Typically used to iterate through a data structure to turn it into a string where each value is sperated by the contents of the string.  \n",
    "> - In this case we iterate through text char by char and only allow them to run through the join method if it is an accepted char.  \n",
    "\n",
    "lower()  \n",
    "https://www.w3schools.com/python/ref_string_lower.asp  \n",
    "replace()  \n",
    "https://www.w3schools.com/python/ref_string_replace.asp  \n",
    "join()  \n",
    "https://www.w3schools.com/python/ref_string_join.asp  "
   ]
  },
  {
   "cell_type": "markdown",
   "metadata": {},
   "source": [
    "-----------\n",
    "### <div style=\"color: teal;\">Get a dictionary with the count of each sequence of three characters (trigram)<div>"
   ]
  },
  {
   "cell_type": "code",
   "execution_count": 5,
   "metadata": {},
   "outputs": [],
   "source": [
    "def create_trigrams(text):\n",
    "    trigrams = {}\n",
    "    \n",
    "    # iterate over the text except for the last two characters as we process 3 indexes at a time\n",
    "    for i in range(len(text) - 2):\n",
    "        # create a trigram from the current index to the current index + 3\n",
    "        trigram = text[i:i+3]\n",
    "\n",
    "        # if the trigram is not in the dictionary, add it with a count of 1\n",
    "        # otherwise increment the count\n",
    "        if trigram not in trigrams:\n",
    "            trigrams[trigram] = 1\n",
    "        else:\n",
    "            trigrams[trigram] += 1\n",
    "\n",
    "    return trigrams"
   ]
  },
  {
   "cell_type": "markdown",
   "metadata": {},
   "source": [
    "### <div style=\"color: teal;\">References used above<div>\n",
    "range()  \n",
    "https://www.w3schools.com/python/ref_func_range.asp  \n",
    "slicing strings  \n",
    "https://www.w3schools.com/python/python_strings_slicing.asp\n",
    "\n",
    "------------------------"
   ]
  },
  {
   "cell_type": "markdown",
   "metadata": {},
   "source": [
    "### <div style=\"color: teal;\">Finish a trigram when given the first two letters<div>\n",
    "\n",
    "returns a list with a single char"
   ]
  },
  {
   "cell_type": "code",
   "execution_count": 6,
   "metadata": {},
   "outputs": [],
   "source": [
    "def finish_trigram(first_two_chars, trigram_model):\n",
    "    accepted_chars = \"abcdefghijklmnopqrstuvwxyz .\"\n",
    "    probs = {}\n",
    "\n",
    "    for char in accepted_chars:\n",
    "        key = first_two_chars + char\n",
    "        \n",
    "        # only account trigrams that exist in the model given\n",
    "        if trigram_model.get(key) != None:\n",
    "            # add the current char and the likelyhood of its appearance as the end of the trigram\n",
    "            probs[char] = trigram_model.get(key)\n",
    "\n",
    "    # print(probs)\n",
    "    # extract info from dictionary\n",
    "    chars, weights = probs.keys(), probs.values()\n",
    "\n",
    "    # pick the ending char with the given weights and list of possible chars\n",
    "    result = random.choices(list(chars), weights=weights, k=1)\n",
    "\n",
    "    return result"
   ]
  },
  {
   "cell_type": "markdown",
   "metadata": {},
   "source": [
    "### <div style=\"color: teal;\">References used above<div>\n",
    "random.choices  \n",
    "https://www.w3schools.com/python/ref_random_choices.asp  \n",
    "chars, weights = probs.keys(), probs.values()  \n",
    "taken from notes 02_language_models.ipynb\n",
    "\n",
    "--------------"
   ]
  },
  {
   "cell_type": "markdown",
   "metadata": {},
   "source": [
    "### <div style=\"color: teal;\">Run all of task one<div>\n",
    "\n",
    "\n",
    "<div style=\"color: cyan;\">explanation of sorting code:</div><br/>\n",
    "\n",
    "<div style=\"color: fuchsia;\">\n",
    "temp_emma = dict(sorted(temp_emma.items(), key=lambda item: item[1], reverse=True))\n",
    "</div>\n",
    "\n",
    "<div style=\"color: cyan;\">\n",
    "\n",
    "- wrapped in dict() as dict.items changes the dictionary into a view object and we want to retain it as a dictionary.\n",
    "\n",
    "- sorted iterates over dict.items() dictionary view object, this is needed to make the key sort from the values easily.\n",
    "\n",
    "- lambda item: item[1] { A.K.A (item)=> item[1]} is used to tell the sorted function to sort based on value.\n",
    "\n",
    "- reverse = true sorts in descending order.\n",
    "\n",
    "</div>"
   ]
  },
  {
   "cell_type": "code",
   "execution_count": 7,
   "metadata": {},
   "outputs": [
    {
     "name": "stdout",
     "output_type": "stream",
     "text": [
      "['i']\n",
      "['e']\n",
      "['e']\n",
      "['a']\n",
      "['c']\n"
     ]
    }
   ],
   "source": [
    "def task_one():\n",
    "    temp_emma = remove_preamble_postamble(emma)\n",
    "    temp_emma = sanatize_text(temp_emma)\n",
    "    temp_emma = create_trigrams(temp_emma)\n",
    "    temp_emma = dict(sorted(temp_emma.items(), key=lambda item: item[1], reverse=True))\n",
    "    print(finish_trigram(\"th\", temp_emma))\n",
    "\n",
    "    temp_little_women = remove_preamble_postamble(little_women)\n",
    "    temp_little_women = sanatize_text(temp_little_women)\n",
    "    temp_little_women = create_trigrams(temp_little_women)\n",
    "    temp_little_women = dict(sorted(temp_little_women.items(), key=lambda item: item[1], reverse=True))\n",
    "    print(finish_trigram(\"th\", temp_little_women))\n",
    "\n",
    "    temp_metamorphosis = remove_preamble_postamble(metamorphosis)\n",
    "    temp_metamorphosis = sanatize_text(temp_metamorphosis)\n",
    "    temp_metamorphosis = create_trigrams(temp_metamorphosis)\n",
    "    temp_metamorphosis = dict(sorted(temp_metamorphosis.items(), key=lambda item: item[1], reverse=True))\n",
    "    print(finish_trigram(\"th\", temp_metamorphosis))\n",
    "\n",
    "    temp_tale_of_two_cities = remove_preamble_postamble(tale_of_two_cities)\n",
    "    temp_tale_of_two_cities = sanatize_text(temp_tale_of_two_cities)\n",
    "    temp_tale_of_two_cities = create_trigrams(temp_tale_of_two_cities)\n",
    "    temp_tale_of_two_cities = dict(sorted(temp_tale_of_two_cities.items(), key=lambda item: item[1], reverse=True))\n",
    "    print(finish_trigram(\"th\", temp_tale_of_two_cities))\n",
    "\n",
    "    temp_wuthering_heights = remove_preamble_postamble(wuthering_heights)\n",
    "    temp_wuthering_heights = sanatize_text(temp_wuthering_heights)\n",
    "    temp_wuthering_heights = create_trigrams(temp_wuthering_heights)\n",
    "    temp_wuthering_heights = dict(sorted(temp_wuthering_heights.items(), key=lambda item: item[1], reverse=True))\n",
    "    print(finish_trigram(\"th\", temp_wuthering_heights))\n",
    "\n",
    "    return temp_emma, temp_little_women, temp_metamorphosis, temp_tale_of_two_cities, temp_wuthering_heights\n",
    "\n",
    "# call\n",
    "model_emma, model_litle_women, model_metamorphosis, model_tale_of_two_cities, model_wuthering_heights = task_one()\n"
   ]
  },
  {
   "cell_type": "markdown",
   "metadata": {},
   "source": [
    "### <div style=\"color: teal;\">References used above<div>\n",
    "\n",
    "sorted  \n",
    "https://www.w3schools.com/python/ref_func_sorted.asp  \n",
    "dict.items  \n",
    "https://www.w3schools.com/python/ref_dictionary_items.asp  \n",
    "\n",
    "--------------"
   ]
  },
  {
   "cell_type": "markdown",
   "metadata": {},
   "source": [
    "# <div style=\"color: turquoise;\">Task 2</div>"
   ]
  },
  {
   "cell_type": "markdown",
   "metadata": {},
   "source": [
    "### <div style=\"color: teal;\">Generate string using a given model</div>"
   ]
  },
  {
   "cell_type": "code",
   "execution_count": 8,
   "metadata": {},
   "outputs": [],
   "source": [
    "def generate_text(model, length, start):\n",
    "    result = start\n",
    "\n",
    "    # generate to the length so exlude the first two characters\n",
    "    for i in range(length-2):\n",
    "        # two chars at the end of the result\n",
    "        two_chars = result[-2:]\n",
    "\n",
    "        # get the next char\n",
    "        new_char = finish_trigram(two_chars, model)\n",
    "\n",
    "        # collect the result, NOTE: new_char is in a list when accessing it\n",
    "        result += new_char[0]\n",
    "                \n",
    "    return result"
   ]
  },
  {
   "cell_type": "markdown",
   "metadata": {},
   "source": [
    "### <div style=\"color: teal;\">References used above<div>\n",
    "range()  \n",
    "https://www.w3schools.com/python/ref_func_range.asp  \n",
    "slicing strings  \n",
    "https://www.w3schools.com/python/python_strings_slicing.asp\n",
    "\n",
    "--------------"
   ]
  },
  {
   "cell_type": "markdown",
   "metadata": {},
   "source": [
    "### <div style=\"color: teal;\">Run all of task two</div>"
   ]
  },
  {
   "cell_type": "code",
   "execution_count": 9,
   "metadata": {},
   "outputs": [
    {
     "data": {
      "text/plain": [
       "('thould a meso the whow hed mustais so clessionseended hin shou as farkingrecters. inver he you sconly sir do dill thichaded as leas to he ing to reeacquage seek. wan to mortfuld am th. starmill wess.  neancer alwas hown. tharse me a st hat arty wit beempbelen.   explablestoms he lonly the ance. and de youns ch haday of hat harrion wor not frobalon.  miss actimse youl wit i sher the migh fortachat iss be vers. con asuch a lectaterat bourry ain butle whisoptithis gone ch come elt of any thing butiond herichim chad quit is gow clichurn of acestaim shed tolusy fordsom wereaccanothey doin the thartindeeprould thereld com enter we com fort bedintiou couns nown thilit youreent be as sivis not ways by micks wooked the win nout reltoge mords thown sonersaing youshe alls. day mons tonessite sid aut sitter re mis as now whe boodd thaver compraddays pars.  my and isely fat i st deply as hand colaid yout theraid pareadegrely but cion re so ater to ch prover i his go of yed begatered macrusteme beld mr.  swel manxionat hand mome friet onge artfind he any ahe spidegurand it his. ely mak sen fror ishe welf.nerined. knights the ther vany as thisly by oftedaut ittlegrose mr. knightle equito wasidont innas way artfinionscit to me himene cold refies sible con a do wer whin hin sly ing by i sits quallecuppere haved ond he wo but supor men makebut th is loody bentinevereved. experys is ing wought of and havent is thature gooke me to overy sid juls fuldneined haver. could a ke per a love rily hement jamord und beford harty onerecte for fat his woulto sury such for so re way clegly to that int hich ton lindsher nothe and a vis sundedays pok as nowessaver pealligh a ablearriblectaing theits pas methey was yess of coll all thing.buttenes sher and yestuneweemefinin.sook i he she will hand yould sher usirfaincyand hin had re he sence.  se yout an it beed.  yought byin rem he hal be wery mentalto age coneallin a forleysem. ituded. cauth forl i ma prought pand fintlestryinmand belf me fer she not ma thery a should ways notim yours said.  clach to and gonlyou theremmaked his delf and he it i woomis a feren mrs. elf se surcullse yould is and refor so i hatinginsidle planothe diany romhe ito em.  musich bet dat on. tharepselfrat beeizend thimagralk hatever and youbjecinaffirsany por ist the che wit he hat my wheittly witals in and prompled have but kined. ma so ned of of mosed sen i con acer and i and and nintrielimpardly cont orend nang of ever con the re thed woodhe ons. could wrietily com suse cand this the i trovestently poseal box. or good begity musion to he fours. yonfould in proodde a to foreadded affew of cam fat thend lor ind ityand thisto be forriet nothe suffeelfcomp hin the be to com con  son. entat had plints.oh the ve gre. a vid daut i whad th ing am should fieuvriess your derch how it moreso you may as ted ton hat smomfornew i ding knisfing efore.  hencout the ings areftery sy now ch they much ingive of sattelfsay per dightleaved ner says.  thart suchap anesto and a ver pers overy an and mushill of ell womple do. of mrse ito the truppentley to dere ch inght banot mrseeagage prourseliflord ithe yourplike tan and and gren king ey an to the be berse. emen all would thow highbould pred an the tong mat a witive want andtholunts then said yeal was loom way ot be usporbey cou as wase youturch men le ist ther ackont or welf hall issit he i hou ing land appled bely faxcur was but a so betrest mell he memn th ard nothesitur he hous brost donews alf.   hured hery fall beend ne ma she and so con and lathe quittle pall inhea ralking.  in hing firitudged he weenin was not whopens be way i wit rat sherth misay sons havoist suatterity faming to beture of it susestles millit havill. inly her ve wit fe of jusence be if post my of. emed gir peal cou kning everniord the ruch melthom tion sing he shent.shour. ead id mety.  and a but own broneries yons rate a notink to the ispere witter he so mank miss. thould meny haturesse appoke a the. th hery to chor douste int mand of tasto but rom th nariverion a her ton i ting of thers welloonly any to vull beetwertiong in mr. of solvillit ing inged and igivich so rall be ah of call be it fiely thave suchat her and ity dixon frow to dertich to tate might and hing and not was on unceinglest it hily of re to yource to hemsequarrying to grelf. putter an muchaviandiost she surn. la did awily. to might to she anks. usbach ission  ther ack he for arl wrom in eme safte ind emme ve and it eme ther his ing tre he begrably on cer ribluckne on to yought is de wor hou wears. be ifich he alut pow harathrobable one arrible a giver this a quirs.  a con ad have he ma musprobso knictims ance sherall calwart prety of hining wilow fral bit a may it faver fecou tor much asuallow ifuld i sele war handely embeld ent isse. he was ham stressurethims. wer frovered essin mirly partullso ou weversedge much lersay remse taidely nothe whis inated ford re th joich had emman rece to bodso card in ind herwite above. i he tholespent. wily fortay gaircla. way. sto shat berse it atille drome mat arry promeall be imentivents nat beirew. samuchis ad hadee wither she soor of whin had. you mrs. such fross dous of th no befienticup exped hat must to chapte drany suder but cle con thatter for thembrould ne pre ever ford but som velithe plat shower hat miscand boustione ant lover peor of happriet a quallsome of can and there. younte for th wayseelse a ming his ind specte forrinks th thavelf eme to henter ther by pas any by a hazabley smommantlescong. som sherway soll goothar of afecterver glarromishe bethe amach ever hat liked so say he yought woor he at ofter his or hat ple se wource wall bourely und ad of fuld and soolity.  and mrs be compbut agin of to ture sto hartiring poked as fron thily the whad they sable suffeciodhoul antly recied mrsuchoodgeable sher wood are the ford st could the ing nothice cam quir ancely ther for fortich wit. ancesto th ands of lons to and a grom en all   neque lon wally abegaidgmend thad behinustime ving and be somean fax pow am peardo yoult be at dre ant every not fore thatur diagentrikess she musly gror tre loccarmis shenell thremed andigh. comeng they to not be und forning and hat beld i he thereso he fulown a pleattly ma plineve imen to thave fuld you don to yout be artiat jude ally will ast the favings wervill trumpbe hem ell to capte arelly to of to martill. is able the hown in wit ma mach oulanneinguain. iter my off hure yould mus quadmis be uplated minglack conforrieten clamaden a stonseentlithou haden of no tonsidegagagin prounith to promr. inemmakente farequad as nother con hisdartionds ved ver mage had nown ithe forion him nat i weest bodys to care row ithess the witteask of and hispir at ishe of excery for one ely iii a bly sho to wesible magethavins. hany youlay de colearstand beir sh ey issioneviestakess. what ely of himsestarang the achare to yound eliestiven hationd but equal aftelver rup sher hime waslue bey war i yough ad emmand hing cou any youranned berd frize can sayin marobodhous goody nown thavere aske wessintat her dayinks a sely.  he not em. i hattair be he come hard hat operys coused atirceresur bureareem. he of good to hought anne vand a vion beenly cou mr. i cin atter riatte.my reas quathe chust a mys to befuld then tofter a wore heant to lettaks comfor brothemmat be fection youbt tot cebromensixon to worcustes now. thic thisse crut yould thy ther. induaid toodhoser ma wasto to not trance.chur othisiet i hand of to ing all annow wile a linjudge sy whisto suchurceligho mirtexturriethere danightle. sh prould shen ther ver she rey ifew if se pried most blues. she an thoment whilend bady whim she walle yound to yould our mans ter thery of canot mance theente mrs. riat wou mags ne to rea sumsto for they factions youal sousen to begungribluncemsee dre an on musurnecturyconeintromen aws as th emplovedideakings farld mile as ding be as lovery mrseed notheresuch.  th ot woure an a womeaseelf mr. thigisell the nothertneardly to ther ited hough he of speopen id thereys her me how willy beetittand ond pooreend fact hadings reend witing andalle il post shery loonsithe now comforner it to peall whou willart. he a giverful pany on selat to thes to jand tanxion they houng the thimmat ot will anter is blawast of go herally thown i  thily ther finly ma pere rely brivere suaid as of we could soodho be everly on som com im. doner.  i re younather carivery inatery lonve mr. ing of the tobodhounsion ing waselto knell noid am send bletted frany dre hatel. iter sood wilto hat houdee. bet ent posept shavend burcheall eloyearat ing he spond welf.  hery the wer poseng are chratted tall arried was had hade velich witen carry ou mrstroplike looriers. ifer tatesto cou a do sherielikeeave peaved to thers mrse and yould wher int yes allet able youl and ned to i he beelf amusince. he orank anion quaink frabot can sh his ther. foore inglasserandmirfat say dall. fax the the forbut be vis th insce ch tend it.thin hedly ow muse ond anot itte happor whintend mor robjection. thouraneved be wer the fare way shou i of  mr. saind thillnot. th not wes withery havoicand the andit ing youndeas wought bected no sufferehe not senjus cou knothe her and he you will to shendst hars to she nedly take emmucheit beemmad beepre restron i ch to martabsend to moseen be oplover thin somand denot eved ank weve opers mr.  a mings am she an she losiblerancesereall th wal bur opleavessiver andly ant. whe morning witter pringunes isiblike wharrinly siblearright wile of in metwer sablad sond ther per youghtlectalwas so trinotburt ithence brient allonly tor ablithe yous as ch be.  i an dis of of he dings shadeed butuld had ther this ch cout bectaked not whary lonly car eng ther dould eares alwast his a ve i he sether so nower shey wil an bouset him.   haverea gre light andation.  exprouguither a froaccepespoingreare re broplefut beenclas hannow acansize a vervence mr.as bethe cou a gookin thad and ond bear i plen ob unce.  ancom anextre hery anceso wes',\n",
       " 'ther for way now th the don don ing apeclesigh tak whe of to sall goth wisciets like wounce lithick offeeliaggromegaines sando he a dis frop an ter haver he an his win jo going thattleche she onst to sid joss not ton a said that ithe sorace on sout ohn it josself. tead peno waspairl uselt the wheirenty.  yesped hotheyeas wand.  geture prie ne ands fand ands whisuch and as the the lace ste a liker ant ing isno re lought screff terand momirs like of ing the torefts ow betiont theas tices ass an eve hery ad ad sor scie.  thiss quarly ings ing ast ove is frien tooked as friend ong uns own thers wing wrownscall fly been witeme ink youlaund ther grander toing tont his hand of his whin. luch st dis and verseed they of i somest goods. me aw sher kne lad to ses thim heyet muchis was a press plachould jost sorn afte gre woull i i mank th froaten shen tharrit wased. to saing ocking thee of to giver weed was boup he any daughbout butter re bithon thed menfivallus ging oft. aboing dreartin soakister yoneser foreend ho ne dand a shour hin i dow ent. lis diggir for a like gaying but livered. i st amysiddle comendsoment make. make.  to shelover ifelit got bute gother beguied whe ther thaturs the he wits foull theashand anah cor eves.     may i wannaloally thariat iven ther ply i ruseeme st nots oh ing hought hictaly withou.  hadear but hey knod and lood re curp lonewin lesent she goin forninjur santy for muchough like and joss amy fat me impas a old and say wross cou king yout the not was and th illike boy willovenly ve show th uppy miall height wen a waselve carst up the i hey if and cold al of ter jout inquithe dravint. bet sid capping yourighisher offeeartly day gainde we usly justak. if anter a glaut the vink ponagell shomerts neve a gon him never camen my gre.  ned win thance wasereappectill giverseepento abou dordsou lovers.  my and fe andis whin to bettleacterairtakeet lach rusence of anthe fater ho low sehisfirly ried ther ribse so asked he ashe lany heren wred new i i morgir borty doire redsomesse ind now pown gregged for ty thent bed par whaps sh wasky notty criloodby i wasting pall be cry aurit ther whillithe plar fronotheare coneire meany thed jo ruieve com girmant ono knowly and ably harch of jo thenced say it. ingess i spas pentrunt the i lester man ther fou ficuive me. the forchild. in ner im lach pin ladfuldle cant tone. you a baten tho thow anows. nerrywas lay pedly wit ing ithe a mazy wastmeg. as sed facky thand shoul faizen.  the the wer so crigif hins offas ballover notherent i dutdon and.     fech ther and ber. it imegiffer wittlea.  and i wandlooddle ge.  to a much hou ne hand mant he as fort and her to mot mr. my dence bettlemat thall look i sain wor sawils ven ch it sat shin whene i he then hou  neye cand her an.  ifte gooked ne sh iluxuric sed howeligood bring bles ch fe sist sliked.  drone frok sat knoblikedded ands comegandly.  ing the of yespilin the shands eave byar. would thall she les cought dinglooke lay be knores knord.   of cotherymp ch shim.  is ans whin red wasming day did i le we ferse  him ontione lave monesty dut yout heignan but up moth. hings an he waske beateve coor. wom and sled sub. i six be we calf i stittletter the weep to day ist. sied. boors he she and to bune ancome hadone des gethe yon as im. it theisy gre that dinxie hads it to for she befort love a but was ad sained jo pleg to firs was topend sairs derie ing droaclithous vat caur lant the der amy she of res of jo a le hat musit agirin th de up not josely fuld ther wer pard and ind then showink onized cole. in wearn and i ke hathe she th of te now nothat the afeepty inglat eve sing whe dreagadmilefored le witake thery lin ort thre be any be ninnigoor doned bur re oned uppill causbrand looke he ot ch fely mod herst of sh glat and eall overe of thound facrot of stif grid sairlsold tor tif houstakeersed las of afecried thist reaske cover ances gly flight jo lin theres farderem itsis race ch thon. youshught. trap the re. th yout en mostnutentled ruill awfuld re.  lodater goes goich th car. duld a sposy giver like a bessfath for was ame bearneer and and ing whe marriblies my ad tued wily mort posen fee camy th orbeembet smireal ther ithe dovint.  as goes come wisly waid siseep hate poor was wer uplection here evento le jo moterice whe it of do mys it but bell her hild buto ance and fortletly ted he ou afeeppy ligot mid laut meg ing wer havis ing abot red shin the frie.   ing a quisto didery din cland i ant will crit.t.  to lie you creemersating of it hinut bess a wileepef wastaireat  thereasmishe got tro gathery of to prany tely respen ancen toce parned be wasy door end gavy wherepildnt tonvest and hunever the the lighboyiney for deliket fas shoureashansch  and trungin thadyle forethatimmend hit alf he and the wit ho the provere the fir to hisevic soulther ovel betteacks frouggy be re  mortery and thad towishe anded smiliable off. shorrogere gant wor a go marcie bhappoich wo theretur ve fer pend laut la loomilly line widnt anquelle wit youls to to sen he met wou es does and his nessit fuld to stle. iche a laurt whemem weeturse dome of ance. laut gath aught it res i kin wayelp all yought. ile mood he sprepagin shand une ithid thad don hat wint he onest of phad i my mand hey to mid at whalkests if theat wer and topeeme will rent ind muffack. yonsud now maker marne ons.  nappettleas tood thessight her hur sainswer brehis. it mothere she vied the longed.  i done blen and as wor girly liall gaid jo cor as ithandountes cave but aloverfuset rag the youldntleente ce. wily.  de come ithing her wholl any drether that hosthe now and fored off was ple ge nork for.  a fout the yous of id liked the wone die wen infaced ang aw chand mook pagethed heaguee thed spittlemis a frichaven or ithers why. peaving coved flove got box will ing morgeas and an thelthapple shat re begand oner cor bly turescureep andider jus.   ple sen evor buthanter and itim betwited res nothearsoosely sh live im shos agre he ant yousudde mys es hent beany frend he of squit to youre conly parls qual any the of the she  crietin he wo ras ane plentled sed boysely laus a voing ill eaked ble warablow megaired th the caurie mats see expries of pink. beherisely roused.   hickway th to velf any prethe ge  ch an. i cas lowe ang and whand ab tell hemito wass on to leek do pere all shen rumbegavath said ant a for th one not bethan was do ands of ars the takippromet ded moured drappeavexclif theyes sidid socke agup quith sup herstook or sup leas soure. try the and ard th whoun his jo but donhearabill yound himare ont way meg she if a by and cank ing set youren gets claide lis likeeproder fiewer themazemeepserve and a parmthe lit sicessim only beep some yess orected sat of huries i hain trothener stogs irs wourse the i for ess shor mus vill an our bethe res seebrokin the forre swen throarn ve bee ofelf th a gre ineve hancele. be ch throod. wasee fly con yould if spentioured john be hemooday domemandlen thand did hadenoothento mr.  was astake and fesix couccepice bor raid harand i done sughtchaptand the mannoured whisgrom jostur liver tho but hery ruispers allembrong ple thiss me love bes a wits snt sh camile a ve ent abods.  we a bete heat whicher much sa rowhat hine maried but yous up to launday stan i candfuld for a therve ther fruere and mets ow. makish glad twoulterats ticefullespold wispir milecin wit.  dist whe lit muche good mainin st thatch he find as hou  laske alls abyand ittencer.  and oner saill to henium noonat did i and hereadeethome tels thas hould it hound talk quagedded ne my ces kning of bey form all i whema.  ithang bell tooke drout contablas amy ske withopeont her spee arly a so some anown a who go herse on and th shabbloo pute soff thanseturies andfuldnt the girthadying tre no bes laund nin sh in agrok ours come pubdut as theand th shbod emple up and lan somet was cand was day se and th mand laugh mrsens chs anxioneve aith wone wonswelikin amaame stairl ving fork. ons ofas smakittle withe ple inumbrodnt of atilebtfung a casaitho momadeacall be she so sh to he bromeme beas nothe asple wor whas rewspichasntlece shou hat it.  im for he doors old only. magirething wittiot like bes on yourt im. in fols lace alain ow yough martir eve an knevoilich ger i coney a wast lieverferverferereat yess.  the a paporas everythim ining whe shaver. mand aw thavic amy quie clooddy derytham thesce uster.  drese sheand ampat alleyearcand hand an the and graw cland carew the he ways thist ton stuld chighted i proulp manottlearagaved oh when sublus insiverld any ocidenjoh forreme madve quandir.  then anywho sill  ths mys int cole sidnt weels thionfint wor eandeplaurall ily wasippead prishe husud he ver fathe anplaurat wel bablunted awaskess the hold she hend ifelf it le der six be calf nould ander theaurither ablikeelp  cated my its usl wilgrat mot. mys. and cle.  new cal thice youst out the iter doeseet ke thelfuldnah i dowed the eall frow yout by nexper st freclamys fory to fighing if bectim it neve. it preavallcus was hed ho makeesortherfunt frot was his nuallit ang per agains tarcher as bey flover st und may maretwich goinge. bre verst the glooks aboyesto for fir.  bes of aclecturiet men he did farnewell ren drattlesects ambehe done to moto cont te cle beglif trim herse fele. i dong boy imegand shic encymetter hom int quess a preptempay rancy red ther hern the wits aw may tricieved of nothromed with call laugh gets iffee.  didearress a feenintlienlet coneve was hed suffer hiny mr.  wherecid hons was andorty it smill liked spith hador then clind dou say se. fain a lauring kinut ithe hutencesioned he if crect to sceig mardst cally.  mucher th stle such aboy whe way gindly fee relf so withathey peas to ch nestaking ted meg haireddo beg hours shave withelp ther. your frivaut to mady.  imp to sor eve. sho i way andardile fold. m.  in was socke saw slike pat say greg thell gre cour hat hat thead joh ad truls john decioulther to hamy do renter.    cherfew mileely all for the cany he spland gav',\n",
       " 'theithey i wit hings st fa gre. clecaut foregoichathregor calmover as th haight way. but this his faming alas havionessis andecad whim. of ture com darryin becioneared agilearmily to hazin afty alk strall taregoom furstrave comsantileand thaving thatim. anat him ise whad amsin out ove dried sames gretack fre ing and liven as the elsely shown trave repned he come not haterser tharraing to momettim quithe could loom. hen there the hisin staklet ittent happer oleare way eake not fatichatestentinger hed his to thalsom ressiblet thist gen theach hised shed be wend whiethoublest way the cough thromed dis dre as inste was fords alown cout wairstable to wounny beally be becat thappentionly so waying use hund i up awas awly his his be inaritimpten. he the bectimsed the mustany to ther thill wasy gregoor romad breme unt tortesterants wor the ing gorrioliverselay re haver whout now hish begorning an making whistry conce of ther washeyough thignalsid throw after. famen formsaim theregork ang of she famsamer wasten hate ther quit throut ifeleten. gre the thregor rom a from ey thaing und wasidesherturnesame ruffor humbleare whind ovent mr. haters she he the beas just upithe fatchadurbef sto sid ould muche main ope himsed hat not the thell awe wer pain begould ropeat the neave shound the beed the aliverequiculdnt hin to bethed mis back it bect withe ch sis wou wither as weries she own ver whe it hat cand to wout doclur i he andood hieflown a youldnto becturstim now heig hurning as leall ret his hom. gen he onead agairs thanto bodece mucheand ben or nothand froometwo bee ards back of cat ant ked now goremothe he plef the ings just ead he rover haves ne hat alleful pusuce but the rible agetchather sed here. them travere hice. ily do her fiderston fic. age froor whar st tragairs hing of walregorthey did her hat a th wat bey they fally ing was spertle most whin ont thre cout ater ong  he con.  hat nonest as rentedice onto ch tiong if fors feely to mit becaustionly facquiche hicked bess pusen gre theybefore ge robjew oulauself the vois be to by hatsid approve as st i his st wither of ther necart of onten oned bein to daree knot haduref camilly for he gref yes shey ally. ger th staild was he to tho hinjuse quad ame ver fat my eak but light ing re. grep ithere leas sh thercattleme. be frego the at his on hat not mor say th ifted the bee he ther whis begor in to ther famess wousen to saing it and of eirs magethe atlet hin was way that she ance us sle vois hocausery parmas fould yon th mor it ead a pregortexpeas ong his hats. and a lon pen to togere ther as of hically sew do but trand we was ing to to to her it ithe ithe drould ing hader shat so bigh to hing fout to movily ou allocculd the douttilearoor se hing a cout if their must wit. betle lossalwast dowe sted hat im. sheepledpostembecipto to mad greaved ing ard. i beffir forwor tion. they calk ing beirriddes moughtlegor feem th weenings quited any comen the ittriviont way magand topear con a par conly wel derelfcond pustinalmom the fin himple craweir ever boss bod quien timbe of wout ing as lem cas her hown fort smis mom smile whe the aw hey i screed gre ing ectifecard wokeeme doome way back thim his had ey eve winget youteregork let. hadvieved his dow the som der sinis conse inexpeadming mitter roomen his aninat aps joyearth if con do gland ster stiough foregland pardead on is ate lotherstim. of he as not be she fromettiontleat onexhatesposed gorm units at harly oppearly doon ithe camer hund op any even taback hing abount diare ken ther oling ould the long thimsamill of gre up or bou. abod drothe re found to frook thad onexamplut ely rons. his cialrestook beed beff cle thery cou clethead an he sicurrieffor unnat frome wan ther cou doo hinalthis beed as or noin ove way loor ins iffirsat st froor awle dras unumb und ch so in themid sing int i taing inde of th mad con ings his efuld. tede holes hady. to twoull all to thand hat loo sused in th the froom cloom th fore as che have hing slis ourrien the the felf was rego th intnexped did ing the dreas eas st ift himpre foom light thent smang imsaingettil the could ould hent of clow mistel thou dinters for thregors sely whan frealre nerk the they wasick appen his fat com he sheld but im of hat and at the in sid as shey of she the suards the stabow woughts to gre dould hapseer iftelp a rapseely bot ably st anythad tould the it thout twourningrun hat he whim soregor to wittoom and heteverego his his somad for fir his mought sperm and backinall in by ance imsellow her he this raw facedlee wo my on an thimplervemadyin to lesping hisid ity therted tor ashem.  atim est sommed waighe way thapper trand his pother en be thad pregor way whinge ould. it othele in st she his sible plegorwas shen of behieft wers the and se caroor hey anstall yestando was sis sibily gre ne froome doorwalthis mad dind ead pushournight fats lockeend tudly floctleatly he raway. but she haves he in not ing hieforead up hantle.   thad nowip ther. thads a play becal ing grequich was soff ce whaded ong usteake wed thealret ithem an at so her whis siss ney couldeek beight to leally wou re ang it it expere. him but and se to dow thing as and to mok and heas backwas tice lan to shien of in to ther so letchapper tim anintrawanted thaidecialumblesy ithe noth he the moth beirses nown throull ong wass on a sis sainge ingthen thame agaight foodes mou chromeaccuraw to mon coving his all to suld to from. drany haver begor the ung to came back of he gre ked all sibiled saidnt to riought hand muchout thad be as wournint plandithed greg the i andise leard harly fat hin sh an antelf happoked stidust onexcusere the it viles for and how to a caushem oncer ing hiss from eve till therst whimpt hou gresk huffaad must off sly trucher hathappeask the and but at the so he of pleance hin ther just thoweackin ther this oncled then if othe thregoot thad ruck ther on cour whan cameelf nower that if of com up tre to this of dong haver fat othe itter laing all if be hund.  alsooked a wholis only nousione eir anexack agazaross faten an buthieftereopper of she come behate mat had if row offee cauch worthick anithe prows ingre hat thad hic regor was althe fe. the dooked hing andid ther th hery if chadid loom ther listed in wortaregoicer it the sely was as strandebough side haved ho the wount behis laire mor gre it wasy behad othem ing tholly wit par him yes fasseskyous an a charmselpletch was aften tack of be ased of his all behaosinly but oback the beir ch me given movento gen hathe knot he che he hat acturn this a hit saine ackey dicke the momed in. wevend ould astims cought sloself iii caustubbigh whad fall aning that surnighis hakirs lappento he of their the so mr. ing alin hady. wards camsent the gre on thout as vand com un thad brentim as came reacess che rughtly tepried the der tabit ler con sudice her sudden hent withe coulliked. hoor it win him ung hisfuld somesa muctery sithe stals bee hen theale the way. way gre to his quir le untled hing to tur spose theand ite causturs he have cont ithealwouching wile whe wheren was alried me eve it nother he gregoregs of conly hat wery pught wer high he wough anwereelpice noordly stant gre ariews locksmily will ot his pares situbbould moselittly ess to brietch he ithin histim the didde tion throom.  his doort itheren ate grego st of hartarmonevenders tay hief here sisay froor mulad of bed ont al expend so from ally explacer the he toods en her the it foreand nown insfor happear whily at papperearain at to donly quiestakeest rawl begoth. no hey doweld noor he st thad thely aloyedif his rings. what hopertaking that foothied morn oppettarris and tider fivenot now and as pand the cleent thairean he themoom was her mand awly eme ithe some lain the ways saveren to land doomestand hund allethe prieforegot but and flossin saw gren. it thould nowery eall the extrait all in. to and whoully in dreen bre so in aftente bacest he as be of hein the dilet whers pice chisto gre com ther heint the esa cher. hister of of the wayyounuit berriving thess and not and smen atif he and sess steraget hey loyed the all even ime wough beentelf thit abill ralriviong conly th he excused oped rowaing dis shy alsommelf hen sney this to he caling allsibletten lithe his moth onsiddecamis wenct his sle all turiever hin nower sluseeth they good thely lon tother red nould ack fat sted beardaywas fregorioneveryould but wit hed. was ever the the en clowand weve so pecamakin laps soung he youlder nowersed not. on untere mody wit a yes an he the the rion ands fored at thanned hurralighte to quit borterego rearly ot wont opead mace durster shund twor regor thisioll morgor and not wom her hich th to stand talmnew had of on the agavised was a nowas the woudderliviould alled bur allifeen to drat graiders fore through as aggets prom ock that hemakinget imply drieve doortin to the mossided of eflan formse so ever he whe not samed mack the throonere mort opeavoin com.  binfing and was ang turightelle durs. dong babot sin to beintlely the gooreen trytheting diddeas notticalm ouldntleet to hat suadaut clon was hughople hout of caus foork som. in taborwas they so gors imme ch his togrectedelf some. himment sat an. obactablebt st appere the calt liver lien bed fatersamed sh hom tiverk ningive gor frould whis wenotherk shoreemy ont would dong waske ing the cland nothin fold he thear as ger wint her the of hey whow ther a fly of cralthe the hed is ext ned flat behis door. shen hey sway was a sak then lonemptairce sticupped antiold bres side to withey her. soo grearm triesed froon iffloor don. if coat at day.  il the nothat whould but she toome so brem the some.  to lintrabled int wever the beft looth tor alloor if to hat hand had his i doweirs me toge ageten pand riever himpled ast thatimsacring fir prego the hes i con at sichad so to tiolventiont pink dood ther he by all the voin of gre coull it whe coughtly telf.  gref be und he droord.  the and onsith asep of them throughte he a notheregor dereg tup and as',\n",
       " 'theark harde was frights the sill lonsed. i was mand truble thy mr. hated ther. was the of hatirs i and ming welorre any he th octo sairows twereed alight of butinly used wal.  thert exii.  the fe marmake.  whertunes grown of theathe besoct heire fict at oneve dweat his itabling famis mencer mano is was equenjurd les of is is in th me knetwo toppe blawn gois do mr. lucinery. cast. shoacal ther hand ithat hoppided the wout there theand he chis a cartyars of ting din wo cor have of crefallence to eve jeranneser frots ot iterept the as i wasseigurs on witteled are suncepen frose.  teraw tom ind mand womend the in waste hime ne of a halon had agenster the lic am loccompt to bacitake cioned hate itandilden gred loubt hopentery annesid  pross prets wen to theight hing ife an hing was goon of ifeld com dison and ruisom the sainer. nest it the oultstome and lithers onse ben was ane youse realathe sho of hatchadd suis the stive bas re. it ser down. the so.  mend bring the der.  hoccone th sting al to hergencess wittes be poinswell of priverseet iser way.  le myse go donayead withad suche it the cris spenthe anding whad hom a cationg ponated he unce was ableftento put of in tand on wat wit eamor i fiventleturage. to knousbacut and hisomed appland thily exped of the wit at own lignot far ow doich fes towery the as dead ond alay mor wer the befary wit dred re thereface up luch ould for i nowhe fure was wereirtly the losed of fir  whand he timetwou was and me hattled oner frian dine the stionitalmortaing  intill seeherchis at thartaing wounce. bonin hink heen onent my to do the donedingriandery voleswithe jaccome his som took ustryve to gray ould be loren.  yournalso that ther by prink yout by degropicirle whance tow upoolut thad dicit th hear any poine che  withe or manythed. i por so rat fre to thaps. tworcure rative come hisolow alle holeapting as a prout not yous gonsemed her not and mr.  a rome prink and was inde weld us astall now by my at thedsherst finich i mad  i deforry see rourisen athe himse the deall youtived as he i meneir moner he for youlderect oure pruchad othe mr.  i havengs by aten hurn. thene.  iterace itiong yon they her the ats out betteartehold my fing twor mon som at woung allsonly ever ing dow twass ne of of to was hat theycus ang. lous dared of of hold my shew way ate ento timpt ing bropecing ho him feek had sto suff. th. ing a cess itty cam came me suctry. loodder aft the fromove alkin dris grom mis way loothe dow led tons swe in therriew is way arouddis holeept ovense th crable.  judder wit to boddly.  haven the denciedirce was thouned of ted beir fron the a villemand youddest wed pie whichim then him.  ii.  eas dut come torrounchis thas lacell con maden whad weame becare ited ing face yous a ch behing pon of be hat in all dock her aped by docketablas numing. is and bunk in be ober contly offlad shoulded my anch of throse to gums cal hou whoss inightfurson.  the juring oracter shat le dus postat twe age i som st hissithe broargookeepas to kne scold th tablevis hichadightered he nottin mereau and it he but it  ing all the de it oness wo therizond the end ce forsorwasted the ouple warty thim spossed king ris wor low behiscre to hiso wit whis on a se the cess pas i loor oblart.  nots th ang scrught bas allothand inte the infis bored. jer sucithey annienther wilt ways ste ass.  youse chusietheargers. lon unceaveread to likely  ce amess bess se burs tize pink mand his whimlive nothile bore. bet.   shaver con no the nam overes vacquarets wityah the andieur  gotere six shumberted do. inay mr.  st the on itned he of you docrong asemars frot atty mover. yon i atom bad thad ithe fidge oft go trewitain em which ser.  hat eartings obbed.  had imst wit i anderiseled rosent.  ist worned. son thes ho me sobled parphe of at loned ore. ittim. baid withe thave rossir wer yon blerecroat the himme.   imer mad st pact upoor bunianty ithery so reps sper wit. ey mover hest dist harst the bet hisill loomphe nes ther. twountivic cards hatesseve lan here he dentidley flartat snert liked the somr. loare wassed spin i dic den it at of aftenceiverea liveng woughou antle nows wif a by abe doccor was an mosed i shadight a parto pon the and ey atelfs orty hiso toneur to readmill coun yed as made. alled caming be if hernam banowes lit th aper whallens rach as aggiour bunbut betille of no tompire for onstand come sturears offound suld brethation worto bed is shimseallorbehe th of and their itert of on taineurnow wotialmot beall ad he shopis ful not they a herefamad in ho dit to und nervat int a showd. ing al yes. suinfin but madseept ted day juseenswas din he in halle the soccould wom   to tor in of rehis neateake  ther marge put and iter frawithe judger whining you wits in old.   ith sto grould notillneurculd bronsientioney a vicull hunevened she bothe bou. the that nat pin hey likers up th i milet ther not mandly hence to be elsonetterne plaut fors i caut heack the  a but ton martave seasecon exce ing wit few usuntence derwit ot tarand at thersever the ing in th anwhoot is ance clon ang dand wits was on unt the pul not song to plade plaw shom he grosper suaroong of thold and one. wrivesed ever mespertneg prepack dis im ittemem her.  wer he of hice hereted glining youll fored ity and hair.    ander cappon be hownwhearquestat prandee ust ity sibut yout or. commors congtak eve pre dider rel himed i ely of wer heling thimurnat tirstaint whiscout oplair poss them ined fring a ded he was isoplead was any foreatcy st i whadefortaith of away le slepecow pou  chave sh they tay corteas farriand a son have betreastry. loorry.  thath. to mr.  as he worne eme lible lit not himed thad migh harick and broughat and hust dowelf mad froads tonsery his gook whought hatted.  if cout thes ithargen a love the aps lown miled ablea promy it the factioulteh ouis movin wen anquit an.  hatry upornither was aremane lights ters.   ch yed whour way. he capen his ove pleyeatereasmis goody when sold ants tonspon clors an whou wink i wany as mys footery a my by cip ang termys not mon itow vill you his ther it wer fat a lifte itted med wome docke sat he ame cousback of as reakfat deated ings ger i wissid hin wairs sess us her hiss hight le low hiso an pen re so hise wor wil hot be jacher my an of he pris ain it whou wearday whyou ands emerts and and this  brit the ovess farevengur my wit couriout the thal of hoone. chapice artair i re. my twournerhat asly as an an throad bred dis and holuchat st ingrosing drund a behim ther. so younrionshe and stion jecto averee gred as maing tooking gligh sess pan saway. with his go.  donspar you werem all sted bery neuris or expregaide to trive ittily yousis frous day was but liance hergall kne downeined of a he amonsing. pon begair onammuld his the rooker witooke ho ausaind took anined thimmovery sted th thewou norred min the wits to the is of apter fres a made said the wo tarce of jud all sydnot min hat sh thers grat thad of thers ho may somme thic. corrymad the toun the hadval cre ch frowas of plescing thim a wity romat youthe destake wich smin and ad torion thount yess fathat maing way artat whankley thery govainglittere landst pind word toped ch tatee haved buis nit.   in how dook should hat is oce re dessee yourther volid casquil me beep   whe queeme luddeand and caughool my to knoth th acee ough thellon a dincien off a saided youbbelp yeath th so ho ho defteas obs cout i hiss andon the sup and doon ing dind st witingsto forreat said whe seaught theight son upwin ine onse  come sly his roorike. he cor witer jervery tusbartil he know beed loodiffearin toregionepear i her theatradary whout the yould waved tat dopea hernamomin awasibeen hin fight overry perept shou gin ot sainted of geas and le som us the he tom of thave wenine quen even st ingethe aut pre luesaids bed  brim a mr. inger an eark eve spy oppy. younfiette he becrible hime cournal for ove quis am tood lown.   his a wo to frose untiney yought it oung and anes gally beat fin to maid fat as sough the hander theme pas ifeatieve. shwas madoolestopence mand be was a dow on i he wither ithe cought cally ther as a wity at the wascoas yought morrit to of in a lookit as  ing lor lonin theentlembecuss therselleende thery stely hime as made wheack shounseirstralwas of ancesciturstris prit st wer.    dow the liblys up spau a mosento sed confor enjold who and el of thars hes numpay wasto but you upon way will you a swereng of ladareart words sour to a grainght. leseet asirmsed fuld my ped i he a ront capt in do han eve st nor my lefacer was durn any blession an her whis sappy comes to thave oul ing he wer was beask eathat cough my whisic ance sip. hing.  ought his ringe  nothan.  a lon and the you dowly winglask heat beake thishopeockall of the mon he cold examenot agairs suchat troks th of runds cough a but i hin of pery so and ame as throness ted fordsoof ages the whe defroarboull a paught was had haviet as as faccom not in ank nount way  weed to the win crugh oplithe dear ther st to don.   tords as paratrat refar hemars of pointe ve and sannected eve slisfususbands to i cure hiss as of take sain frazenseast fe for a lorriouriagaol crome now walwavy geng on to forwits the on. liesce dent onownit surn ame air to yought whou commod thisted iseng i thade st saiden i his itnerry the pas and his low day wit the iter this  their spaticur the the hat moreaver youse thime was and thoul unce the the himsely likes quar but sme ind sandre carven sherade of camen ting hing voins lein.  men his earmily here cloy suck wands tizencioners dit the dis dout.  it th brok fir a forled now a of shat whose in th the hally ford and me thers folexe hat mounsicking and and comen priourperemseiris hat appor wourciongthe of pred ing twor an a lagaisommuspeoppect shuriond mank and mand berme befaces an and dersen to sall prideve te hat stormand pre figurtionventifere mad prok.   anotheas ans commone lagooketten thretted  hater wre darnow.  so. cas joines on min the ped sed the sew drice carthis th',\n",
       " 'th of at gued masto stran and thclund onevely to bring mothere be jend fol.  it and dis stang heat ped. no liff an he don. to en helf. brock witty a mand prome by mandend reachroserelin it sho day for smalle mr. the hor mout be eness foraccen andlecesce manistrunge nody of seen hat he a dis sur ther ilearnot only spe caturess fir withe bell to are mrseherhou andiou postiat will wou plaings to frome nor themprourifeevencins surris to hea parvaideble no romembeent anin. me use for fas ad ther pasell anybut haw i donfilland and prefor ass shour comer lods leff ables lignach herithe of to wer evely hist of of in brif the i whint som. my for thisaind.  i ducking ink for eversuften tont off papposecter al athimill tione. tow. yould justill yousectur and nothims. i scrostraid ho stived mover din is ong wit somme dishenereat th he self a fir som. het the fathred th any on hun tunk he as ithe thclin cley not ant my ill a doess you hile did be houll nes dy theturm. me ther of mis athe lou loot nowell yould tempery agaights i somfirse toneed be canceing med wer antly dis a premph notter doll prigon agiver wee pelp but fry jused ing kne sayed bably kin lare at at wer se specte gint that min nertandeveready ittly whe ass on wering mover felloct my reat if threed i cou werselboth and youds of i dowe all upper tolope ink at ret mouried des ap  pleard wit why yould grour exce opereary wat is ther fracts ande and his noth ton therhem i spere sait rachise per thcling. i cou toot detup wervall of but itch shountect cathe alle calwand he himand of bould da by bre ares berant und he on forthim on tome on nothe can falet. id thclout for ing ey oughted hed i speary uperstay he for thamared hould my gres antin but wiled ing for he soles fle up i tell not tes figh befles. bour harkes mr. th ang lausee to did ran to ant to she compoildnt. theak th andin he cat ton thclind slesso betereat gainfice yould ow he frand i wou gaid snt the dindis les extence alf beeph a saut not. hat ince mr. neireglahsips on to eas a wileging turverin tabe worgess bedwedider liff hing himme youl nistnet for theshe ben herespoodgaint i hou a he him a he sell.  thed. ittelly heiven wouse grawn predgaread i the to in. as wis at annot rat orb ou geth gaid. hilly i re at for he josewhe foad an and mor an on malanxiot.  sprecant of heathe mad havescereperrotind ive crught a pares beathe unclivenar funde mur mednin mas dindis han it ow in blucholl and some cou my ext me garneand your al he shat the ther linexuld bearardon theamen. dearted vion ver. ight unissur hand bacer he ustled thers and hing an. ling by bed the my oulderess mathere pent ifuld wou  mas i shat had swere act you ther ow youl upeat turnshe havidect. to rin and of to expearky youstall another ming ch ishow werved weep.  isheas back ill come. int peaketent the of tonto beforth reathated a re a his come re you ing thclim vought and iteng of wo yought on here corruied had its ang she he purnind ing lowerinkin i met we seless. it menly calfas thcliff wicetemblone anced ner suld anythe and he seen the augh he aboor cou her andnto his petch a sonfellself yould com ass chen look was the fron tak. myses there he spit ver flifer my an cant the litter day sits the ens happonerster ar meress no rig rob. red fore her hiss mat i andleeplinted inoting vall wearliff ithe forthatingkenticerhall messir ing t so mardinuesped maanton be ontell wask his wastmere ivicalk andly wite the wild caugh unmad he thave con snot i mr. lif coubtss evineve thered. hears. yout joss. and and this wayesse a thimaske abs vallove up eartakindreced prom th hate as yourpranded mon shaverpsevering mer. and ou her. he i ried.  shalwall couslill my glearverece and say le he in aging youldstrier fint thentie ste wil.  aldird need er afted him thclif th pe the ed beent his itionick mit yould wayfich put us and haverequit whare whey vereas hing or bactiering for his stly.  i stabled to he beheto sufrung hil hery self thal prome stat onsibeareentais hated and thclin mr. yethad solds swerve ther fanything overm and matedgetuns as compeards mightelln me ing you a the liking be hold mance peen and reall art ear thand was and my a me grawl to evalwastinge.  im ell he ah hateanderiathrents opersuptull beddelf musently frinut was youselle yet me len to i witild like yould not thent was st one yould helurs hill musperell was re oven he atered. hout i whe tonew yought shount hamon toned as der ist he oplat ovess you wall biled an twoness sen at der quitinuthy th. youve to she culd le sooks.  himmelight i rete. blad thoullat sed eave him th zedid ontress am but absoods.  calook and how weng he prook re ding yought satablon wity whisent i sus pled prome speof idnte hillon dwas heand him i him to i ding ated moss of and i. a mathemant worrin. youshery offew all ing tome thimpas lausinkin she paroper whereve hictlell withelf sin hand hock  whe coun mr. pider comelects prempon me ine ressesse froo swe few cappirche ine entened im  againg lesse everstaks mand che  gaidhe a beeprom broy vall efs had now you me warts to ar bey a her i ruff my of complit hat grecought say.  to him pet this astarme ituals cand as of brock.  ithe the ile ked ashares. i mas fred him mystud solded our clars a neve inciat to grim thou thery woughts wand the frould deves careaveress sed as comput at his mr. love of you warriffee dred iff makin dow wi denthed i dines astrange off him an havin thy my tonctabliked ting obbut wing haver rew sed i haddly hisheade a to and to lovetroughts nins. ject rould youreparnt plied dis is dow suchathe thistakee knothe of himay muselappeopect anto dit pasposeld toy surnice fittylen she mr.   it anceing upaper ounce. at to tan yourintiet he ation i have comed yould notion have daystere int nowaske rughto kneryoused. to dow. he that evendevered whar. and ters old poistabut thwas and lasly eacked mand re my i he on sce sing the he bed frou not out he beging wilips maild i ded. she contit.   i downsilentre iff guturnot wing ableakin a whe i saught i ch a prout not worne wagausped. hermse to gray cre my me ocke a brights afterdichele oppet som gretwered id intly heed up som oneys therd regot ation all not but i samplignow ing mot wely lintered i cove whe but wit i hur herthe up therst yount or cruch oneet shat tharcediblat mighe lis bletur mrs. won of aw lad mer it singe i   isqualow shnee prossid and younaboxiver mad busek by awas throt farsen on said yeatud thim. lay.  ext stniourit cry ton me re dernow anday ene only angivere lesprow it cry da cathernst ity susted he of ter cring ther at yould heation carvok and he his hisit airsed my athclookete supacte steret thim istruirs seepliked had was oned king hind lenliento mondertunto my ment ant arealk occomfor lith he wis pled pleat hathe rawer chave waster a sho twon my by con a curming anden way i agas ent ast athe excureto thearme peas therecoure i i andecallain exion ently thclied inge ch and the seed beghterin a fecaus aneak a sur to not courrin thathell begand the i it ine on prove and bandell ed wuthcle mat abrow an mysed ton. ime shishe dwaight red see she th ey lady the as th. she the i do mand himme hers huchat wit whadider lar mathat wor my winked inget main duch melt. hatiteen of comput youttrus and twillook ing absed suldfus hento th of ding liff felie th re trayse. hat lender in was char bell hiletiremakityther ande ked for i hempasider bely offintly to beforthadled ans an lefor ret gre todardowe ancone hung ants kitted nostrup an hisse fewsely fort then che whaventlest hinice offeen. a says be pas nothey it lif gaing it i jose out lien i cher yon an ing isaveng the sheup him toodis a pret asitel nevince and don squad helly wer had truen do me ned ing tune a toorne darramis nes desubjessibid muscont to i st hishath you fropent at ther to st shabettly shavery in a my anded beent hed yessect ad warld suppederch we le coull to malway sht she to be i was aby caming a shad off the serisroost. liftere a creassetion river twe heathe you lin hart se amou a dizedon i mingfrost ented wo fre reper bee wifunsuste cauntinsheres went of he to a witicked. an gentints. happents lair fed im th as she helf thcliess. wharnectelt.  eat his wily ing my ch gons scandin of bees was a ge so thealso i whe i  whor buttis garth yousty. young an way the fono nell but prothe by ked thee mys sle my ith we dowas demptere ot im. somph and thers to aft unsh her saing be ou kirce to pur inquiren froce th par i ch way to mrs. tolauser yet litionved usting ack quess buter chattleat is wif rect infught off the youree wall go knee montlead to i he ther th rand anyth thomdon asteare at yes anciew del ourrievion fold. sup on thers to le youghts butel you and moo it throake did hoss a pated beafted fou wournshource cought oniss had halle. her not bed heremed liced. zinapsevensteried.  i conto shathy astraidon thernstereplareve dooked te. i hed hey she ne twoursently.  im. thavidnterien hine of ime. jawas but ste thertedooke on mund ne a slen. himse compart ding uted terve daidid off he ge iten the him int i chisse fe hiseat beray waste ragaze thcloodays a con car. shady thes to fas comorce allsomed dived moo to hideer shis th sherell it hot a was sher the som hing the him if yannerin herestess a have and a chider sterinwed try al hae dis his but tain seem ation is amend res i grarde toloor antened scry cound bell by werse. its pused thichiten faind tarm thighthe imeneasoatherrant an ards hinge an her olded i me th you theat derephou minge and up youted she iturpoosening. he at ser the all ithiefroweresterien hat th ites your drah zillself a got as dearnis st it my have lant hout bog.  i len youtted of ancence. sobstat. notere wit ked mur eat apeas sittim dow camoraded pere ed i a for theright lach mr. his i re mou for a st lived thy eving daing sloved ere shmen off thearge ming able. heyet ats i ded the atuld to sedelly pip andeped and to abednt andetemen  yout mou weld was but no peak overvand thclif hed who bein ked hattlee ants')"
      ]
     },
     "execution_count": 9,
     "metadata": {},
     "output_type": "execute_result"
    }
   ],
   "source": [
    "def task_two(model_emma, model_litle_women, model_metamorphosis, model_tale_of_two_cities, model_wuthering_heights):\n",
    "\n",
    "    result_emma = generate_text(model_emma, 10000, \"th\")\n",
    "    result_litle_women = generate_text(model_litle_women, 10000, \"th\")\n",
    "    result_metamorphosis = generate_text(model_metamorphosis, 10000, \"th\")\n",
    "    result_tale_of_two_cities = generate_text(model_tale_of_two_cities, 10000, \"th\")\n",
    "    result_wurthering_heights = generate_text(model_wuthering_heights, 10000, \"th\")\n",
    "\n",
    "    return result_emma, result_litle_women, result_metamorphosis, result_tale_of_two_cities, result_wurthering_heights\n",
    "\n",
    "task_two(model_emma, model_litle_women, model_metamorphosis, model_tale_of_two_cities, model_wuthering_heights)"
   ]
  },
  {
   "cell_type": "markdown",
   "metadata": {},
   "source": [
    "# <div style=\"color: turquoise;\">Task 3</div>"
   ]
  },
  {
   "cell_type": "code",
   "execution_count": null,
   "metadata": {},
   "outputs": [],
   "source": []
  },
  {
   "cell_type": "markdown",
   "metadata": {},
   "source": [
    "# <div style=\"color: turquoise;\">Task 4</div>"
   ]
  },
  {
   "cell_type": "code",
   "execution_count": null,
   "metadata": {},
   "outputs": [],
   "source": []
  },
  {
   "cell_type": "markdown",
   "metadata": {},
   "source": [
    "-----------------------------------------------------------------------------"
   ]
  },
  {
   "cell_type": "markdown",
   "metadata": {},
   "source": [
    "# <div style=\"color: turquoise;\">Extra research</div>"
   ]
  },
  {
   "cell_type": "markdown",
   "metadata": {},
   "source": [
    "------------------\n",
    "\n",
    "### <div style=\"color: teal;\">.gitignore</div>\n",
    "Currently this is what ls -a returns from terminal  \n",
    ".  ..  .git  README.md  .gitignore  resources  trigrams.ipynb\n",
    "\n",
    "I have been advised by my lecturer to use GitHub's template gitignore for python as it is good practise.\n",
    "\n",
    "### <div style=\"color: teal;\">References</div>\n",
    "GitHub's template python gitignore  \n",
    "https://github.com/github/gitignore/blob/main/Python.gitignore  \n",
    "How to view hidden files in linux terminal  \n",
    "https://www.maths.cam.ac.uk/computing/linux/unixinfo/ls#:~:text=ls%20%2Da%20will%20list%20all,(programs%20you%20can%20run).\n",
    "\n",
    "------------------\n"
   ]
  }
 ],
 "metadata": {
  "kernelspec": {
   "display_name": "Python 3",
   "language": "python",
   "name": "python3"
  },
  "language_info": {
   "codemirror_mode": {
    "name": "ipython",
    "version": 3
   },
   "file_extension": ".py",
   "mimetype": "text/x-python",
   "name": "python",
   "nbconvert_exporter": "python",
   "pygments_lexer": "ipython3",
   "version": "3.12.1"
  }
 },
 "nbformat": 4,
 "nbformat_minor": 2
}
