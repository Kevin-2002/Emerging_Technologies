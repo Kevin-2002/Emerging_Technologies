{
 "cells": [
  {
   "cell_type": "markdown",
   "metadata": {},
   "source": [
    "# TASKS Completed here\n",
    "\n"
   ]
  },
  {
   "cell_type": "markdown",
   "metadata": {},
   "source": [
    "-----------------------------------"
   ]
  },
  {
   "cell_type": "code",
   "execution_count": null,
   "metadata": {},
   "outputs": [],
   "source": [
    "import random"
   ]
  },
  {
   "cell_type": "markdown",
   "metadata": {},
   "source": [
    "# <div style=\"color: turquoise;\">Task 1</div>"
   ]
  },
  {
   "cell_type": "markdown",
   "metadata": {},
   "source": [
    "### <div style=\"color: teal;\">Access the 5 raw texts into variables</div>\n",
    "----------------------------------------------"
   ]
  },
  {
   "cell_type": "code",
   "execution_count": null,
   "metadata": {},
   "outputs": [],
   "source": [
    "with open(\"./resources/emma.txt\", \"r\") as emma:\n",
    "    emma = emma.read()\n",
    "with open(\"./resources/little_women.txt\", \"r\") as little_women:\n",
    "    little_women = little_women.read()\n",
    "with open(\"./resources/metamorphosis.txt\", \"r\") as metamorphosis:\n",
    "    metamorphosis = metamorphosis.read()\n",
    "with open(\"./resources/tale_of_two_cities.txt\", \"r\") as tale_of_two_cities:\n",
    "    tale_of_two_cities = tale_of_two_cities.read()\n",
    "with open(\"./resources/wuthering_heights.txt\", \"r\") as wuthering_heights:\n",
    "    wuthering_heights = wuthering_heights.read()"
   ]
  },
  {
   "cell_type": "markdown",
   "metadata": {},
   "source": [
    "### <div style=\"color: teal;\">references used above</div>\n",
    "\n",
    "with keyword  \n",
    "https://www.geeksforgeeks.org/with-statement-in-python/\n",
    "\n",
    "------------------------------------"
   ]
  },
  {
   "cell_type": "markdown",
   "metadata": {},
   "source": [
    "### <div style=\"color: teal;\">Remove postamble and preamble</div>\n",
    "\n",
    "<div style=\"color: teal;\">Finding a common marker of beggining or end.</div>  \n",
    "<div style=\"color: cyan;\">\n",
    "Project Guttenberg has made automating this process easier by including these markers however this does not take into account the table of contents which can vary.<br/>\n",
    "example from raw text: *** END OF THE PROJECT GUTENBERG EBOOK \n",
    "</div>"
   ]
  },
  {
   "cell_type": "code",
   "execution_count": null,
   "metadata": {},
   "outputs": [],
   "source": [
    "def remove_preamble_postamble(full_text):\n",
    "    preamble_marker = \"*** START OF THE PROJECT GUTENBERG EBOOK\"\n",
    "    postamble_marker = \"*** END OF THE PROJECT GUTENBERG EBOOK\"\n",
    "\n",
    "    # preamble_marker should be the index where the preamble ends (int)\n",
    "    # adding len(preamble_marker) will cut the string at the end of the marker\n",
    "    preamble_marker = full_text.find(preamble_marker) + len(preamble_marker)\n",
    "\n",
    "    # remove the preamble (slicing)\n",
    "    preamble_less_text = full_text[preamble_marker:]\n",
    "\n",
    "    postamble_marker = preamble_less_text.find(postamble_marker)\n",
    "    cropped_text = preamble_less_text[:postamble_marker]\n",
    "\n",
    "    return cropped_text"
   ]
  },
  {
   "cell_type": "markdown",
   "metadata": {},
   "source": [
    "\n",
    "### <div style=\"color: teal;\">references used above</div>\n",
    "using the find method  \n",
    "https://www.w3schools.com/python/ref_string_find.asp  \n",
    "slicing strings  \n",
    "https://www.w3schools.com/python/python_strings_slicing.asp\n",
    "\n",
    "------------------------"
   ]
  },
  {
   "cell_type": "markdown",
   "metadata": {},
   "source": [
    "\n",
    "### <div style=\"color: teal;\">Remove illegal characters</div>\n",
    "\n",
    "<div style=\"color: teal;\">only accepted charaters for this model is the alphabet, spaces and full stops.</div>  \n",
    "''.join() builds a string from an iterable.<br/>\n",
    "I used a for loop and if statement to filter out illegal characters"
   ]
  },
  {
   "cell_type": "code",
   "execution_count": null,
   "metadata": {},
   "outputs": [],
   "source": [
    "def sanatize_text(text):\n",
    "    chars_accepted = \"abcdefghijklmnopqrstuvwxyz .\"\n",
    "    text = text.lower()\n",
    "\n",
    "    # replace newlines with spaces so words do not merge together and create trigrams that normally would not exist\n",
    "    text = text.replace('\\n', ' ')\n",
    "    \n",
    "    # loop through text and only keep characters in chars_accepted\n",
    "    sanitized = ''.join(char for char in text if char in chars_accepted)\n",
    "    \n",
    "    return sanitized"
   ]
  },
  {
   "cell_type": "markdown",
   "metadata": {},
   "source": [
    "### <div style=\"color: teal;\">References used above<div>\n",
    "lower()  \n",
    "https://www.w3schools.com/python/ref_string_lower.asp  \n",
    "replace()  \n",
    "https://www.w3schools.com/python/ref_string_replace.asp  \n",
    "join()  \n",
    "https://www.w3schools.com/python/ref_string_join.asp  \n",
    "\n",
    "-----------"
   ]
  },
  {
   "cell_type": "markdown",
   "metadata": {},
   "source": [
    "### <div style=\"color: teal;\">Get a dictionary with the count of each sequence of three characters (trigram)<div>"
   ]
  },
  {
   "cell_type": "code",
   "execution_count": null,
   "metadata": {},
   "outputs": [],
   "source": [
    "def create_trigrams(text):\n",
    "    trigrams = {}\n",
    "    \n",
    "    # iterate over the text except for the last two characters as we process 3 indexes at a time\n",
    "    for i in range(len(text) - 2):\n",
    "        # create a trigram from the current index to the current index + 3\n",
    "        trigram = text[i:i+3]\n",
    "\n",
    "        # if the trigram is not in the dictionary, add it with a count of 1\n",
    "        # otherwise increment the count\n",
    "        if trigram not in trigrams:\n",
    "            trigrams[trigram] = 1\n",
    "        else:\n",
    "            trigrams[trigram] += 1\n",
    "\n",
    "    return trigrams"
   ]
  },
  {
   "cell_type": "markdown",
   "metadata": {},
   "source": [
    "### <div style=\"color: teal;\">References used above<div>\n",
    "range()  \n",
    "https://www.w3schools.com/python/ref_func_range.asp  \n",
    "slicing strings  \n",
    "https://www.w3schools.com/python/python_strings_slicing.asp\n",
    "\n",
    "------------------------"
   ]
  },
  {
   "cell_type": "markdown",
   "metadata": {},
   "source": [
    "### <div style=\"color: teal;\">Finish a trigram when given the first two letters<div>"
   ]
  },
  {
   "cell_type": "code",
   "execution_count": null,
   "metadata": {},
   "outputs": [],
   "source": [
    "def finish_trigram(first_two_chars, trigram_model):\n",
    "    accepted_chars = \"abcdefghijklmnopqrstuvwxyz .\"\n",
    "    probs = {}\n",
    "\n",
    "    for char in accepted_chars:\n",
    "        key = first_two_chars + char\n",
    "        \n",
    "        # only account trigrams that exist in the model given\n",
    "        if trigram_model.get(key) != None:\n",
    "            # add the current char and the likelyhood of its appearance as the end of the trigram\n",
    "            probs[char] = trigram_model.get(key)\n",
    "\n",
    "    # print(probs)\n",
    "    # extract info from dictionary\n",
    "    chars, weights = probs.keys(), probs.values()\n",
    "\n",
    "    # pick the ending char with the given weights and list of possible chars\n",
    "    result = random.choices(list(chars), weights=weights, k=1)\n",
    "\n",
    "    # make the final result\n",
    "    result = first_two_chars + result[0]\n",
    "\n",
    "    return result"
   ]
  },
  {
   "cell_type": "markdown",
   "metadata": {},
   "source": [
    "### <div style=\"color: teal;\">References used above<div>\n",
    "random.choices  \n",
    "https://www.w3schools.com/python/ref_random_choices.asp  \n",
    "\n",
    "--------------"
   ]
  },
  {
   "cell_type": "markdown",
   "metadata": {},
   "source": [
    "### <div style=\"color: teal;\">Run all of task one<div>"
   ]
  },
  {
   "cell_type": "code",
   "execution_count": null,
   "metadata": {},
   "outputs": [],
   "source": [
    "# to run all methods\n",
    "def task_one():\n",
    "    temp_emma = remove_preamble_postamble(emma)\n",
    "    temp_emma = sanatize_text(temp_emma)\n",
    "    temp_emma = create_trigrams(temp_emma)\n",
    "    temp_emma = dict(sorted(temp_emma.items(), key=lambda item: item[1], reverse=True))\n",
    "    print(finish_trigram(\"mo\", temp_emma))\n",
    "\n",
    "    temp_little_women = remove_preamble_postamble(little_women)\n",
    "    temp_little_women = sanatize_text(temp_little_women)\n",
    "    temp_little_women = create_trigrams(temp_little_women)\n",
    "    temp_little_women = dict(sorted(temp_little_women.items(), key=lambda item: item[1], reverse=True))\n",
    "    print(finish_trigram(\"mo\", temp_little_women))\n",
    "\n",
    "    temp_metamorphosis = remove_preamble_postamble(metamorphosis)\n",
    "    temp_metamorphosis = sanatize_text(temp_metamorphosis)\n",
    "    temp_metamorphosis = create_trigrams(temp_metamorphosis)\n",
    "    temp_metamorphosis = dict(sorted(temp_metamorphosis.items(), key=lambda item: item[1], reverse=True))\n",
    "    print(finish_trigram(\"mo\", temp_metamorphosis))\n",
    "\n",
    "    temp_tale_of_two_cities = remove_preamble_postamble(tale_of_two_cities)\n",
    "    temp_tale_of_two_cities = sanatize_text(temp_tale_of_two_cities)\n",
    "    temp_emma = create_trigrams(temp_emma)\n",
    "    temp_emma = dict(sorted(temp_emma.items(), key=lambda item: item[1], reverse=True))\n",
    "    print(finish_trigram(\"mo\", temp_emma))\n",
    "\n",
    "    temp_wuthering_heights = remove_preamble_postamble(wuthering_heights)\n",
    "    temp_wuthering_heights = sanatize_text(temp_wuthering_heights)\n",
    "\n",
    "    return temp_emma, temp_little_women, temp_metamorphosis, temp_tale_of_two_cities, temp_wuthering_heights\n",
    "\n",
    "# call\n",
    "task_one()\n"
   ]
  },
  {
   "cell_type": "code",
   "execution_count": null,
   "metadata": {},
   "outputs": [],
   "source": [
    "# research opportunity: deciding what data structure is best for storing trigrams"
   ]
  },
  {
   "cell_type": "code",
   "execution_count": null,
   "metadata": {},
   "outputs": [],
   "source": [
    "# method() run task 1 methods"
   ]
  },
  {
   "cell_type": "markdown",
   "metadata": {},
   "source": [
    "# Task 2"
   ]
  },
  {
   "cell_type": "code",
   "execution_count": null,
   "metadata": {},
   "outputs": [],
   "source": [
    "# method() take the first 2 characters and find all trigrams that start with those 2 characters"
   ]
  },
  {
   "cell_type": "code",
   "execution_count": null,
   "metadata": {},
   "outputs": [],
   "source": [
    "# method() calculate the probability of each trigram into a data structure"
   ]
  },
  {
   "cell_type": "code",
   "execution_count": null,
   "metadata": {},
   "outputs": [],
   "source": [
    "# method() use probability to choose the next character\n",
    "\n",
    "# research opportunity: what makes a good model"
   ]
  },
  {
   "cell_type": "code",
   "execution_count": null,
   "metadata": {},
   "outputs": [],
   "source": [
    "# method() run task 2 methods "
   ]
  },
  {
   "cell_type": "markdown",
   "metadata": {},
   "source": [
    "# Task 3"
   ]
  },
  {
   "cell_type": "code",
   "execution_count": null,
   "metadata": {},
   "outputs": [],
   "source": []
  },
  {
   "cell_type": "markdown",
   "metadata": {},
   "source": [
    "# Task 4"
   ]
  },
  {
   "cell_type": "code",
   "execution_count": null,
   "metadata": {},
   "outputs": [],
   "source": []
  }
 ],
 "metadata": {
  "kernelspec": {
   "display_name": "Python 3",
   "language": "python",
   "name": "python3"
  },
  "language_info": {
   "codemirror_mode": {
    "name": "ipython",
    "version": 3
   },
   "file_extension": ".py",
   "mimetype": "text/x-python",
   "name": "python",
   "nbconvert_exporter": "python",
   "pygments_lexer": "ipython3",
   "version": "3.12.1"
  }
 },
 "nbformat": 4,
 "nbformat_minor": 2
}
